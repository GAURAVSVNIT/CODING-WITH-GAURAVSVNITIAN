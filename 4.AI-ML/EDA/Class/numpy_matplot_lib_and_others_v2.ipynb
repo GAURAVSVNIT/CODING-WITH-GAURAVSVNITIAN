{
 "cells": [
  {
   "cell_type": "code",
   "execution_count": 1,
   "metadata": {
    "id": "r9ZWM2MmI88E"
   },
   "outputs": [],
   "source": [
    "# Include examples from numpy, scipy, sklearn, pandas, matplotlib, pyplot\n",
    "# simple classifiers such as logistic regression and regression such as linear regression\n",
    "# Created by Nita Jadhav, PhD Scholar, DoAI, SVNIT, Surat\n",
    "# Dr. Pruthwik Mishra, Assitant Professor, DoAI, SVNIT, Surat\n"
   ]
  },
  {
   "cell_type": "markdown",
   "metadata": {
    "id": "SliCj_dAfjw0"
   },
   "source": [
    "#**Mathematical computing with numpy**"
   ]
  },
  {
   "cell_type": "code",
   "execution_count": 2,
   "metadata": {
    "id": "-7aJUrh9HWKd"
   },
   "outputs": [],
   "source": [
    "# Importing numpy package\n",
    "import numpy as np"
   ]
  },
  {
   "cell_type": "code",
   "execution_count": 3,
   "metadata": {
    "colab": {
     "base_uri": "https://localhost:8080/"
    },
    "id": "WeWIa_KdKRTi",
    "outputId": "c51b3096-912d-4a03-ace7-181d8c2fc61c"
   },
   "outputs": [
    {
     "name": "stdout",
     "output_type": "stream",
     "text": [
      "[25.         13.33333333 15.        ]\n"
     ]
    }
   ],
   "source": [
    "# numpy arrays example\n",
    "# calculating speed based on distance and time using simple arithmetic operation\n",
    "distance = np.array([10, 20, 30])\n",
    "time = np.array([0.4, 1.5, 2])\n",
    "speed = distance / time\n",
    "print(speed)"
   ]
  },
  {
   "cell_type": "code",
   "execution_count": 4,
   "metadata": {
    "colab": {
     "base_uri": "https://localhost:8080/"
    },
    "id": "YCP5hPcFKfEi",
    "outputId": "94017dc5-4d19-4ceb-ae96-852e38f2eda7"
   },
   "outputs": [
    {
     "name": "stdout",
     "output_type": "stream",
     "text": [
      "[10. 20. 30.]\n"
     ]
    }
   ],
   "source": [
    "distance = speed * time\n",
    "print(distance)"
   ]
  },
  {
   "cell_type": "code",
   "execution_count": 5,
   "metadata": {
    "colab": {
     "base_uri": "https://localhost:8080/"
    },
    "id": "yLLhioVvKhsr",
    "outputId": "e6c71047-1b04-439e-b0fa-ff87b7701f0f"
   },
   "outputs": [
    {
     "data": {
      "text/plain": [
       "np.float64(94.0)"
      ]
     },
     "execution_count": 5,
     "metadata": {},
     "output_type": "execute_result"
    }
   ],
   "source": [
    "# as both are single dimensional arrays dot operator is the sum of element wise multiplications of the arrays\n",
    "distance.dot(time)"
   ]
  },
  {
   "cell_type": "code",
   "execution_count": 6,
   "metadata": {
    "colab": {
     "base_uri": "https://localhost:8080/"
    },
    "id": "z0N4lvZIkoJc",
    "outputId": "937ac973-34c0-4688-9fe1-58ebafcb9afb"
   },
   "outputs": [
    {
     "data": {
      "text/plain": [
       "np.float64(94.0)"
      ]
     },
     "execution_count": 6,
     "metadata": {},
     "output_type": "execute_result"
    }
   ],
   "source": [
    "# the above is same as\n",
    "np.sum(distance * time)"
   ]
  },
  {
   "cell_type": "code",
   "execution_count": 3,
   "metadata": {},
   "outputs": [
    {
     "name": "stdout",
     "output_type": "stream",
     "text": [
      "[0 1 2 3 4]\n",
      "[1 2 3 4 5]\n"
     ]
    },
    {
     "data": {
      "text/plain": [
       "array([1., 2., 3., 4., 5.])"
      ]
     },
     "execution_count": 3,
     "metadata": {},
     "output_type": "execute_result"
    }
   ],
   "source": [
    "a = np.arange(5)\n",
    "print(a)\n",
    "print(a + 1) # broadcasting\n",
    "# same as below\n",
    "b = np.ones(5)\n",
    "a + b"
   ]
  },
  {
   "cell_type": "code",
   "execution_count": 4,
   "metadata": {},
   "outputs": [
    {
     "name": "stdout",
     "output_type": "stream",
     "text": [
      "[0 2 4 6 8]\n"
     ]
    },
    {
     "data": {
      "text/plain": [
       "array([0, 2, 4, 6, 8])"
      ]
     },
     "execution_count": 4,
     "metadata": {},
     "output_type": "execute_result"
    }
   ],
   "source": [
    "a = np.arange(5)\n",
    "print(a * 2) # broadcasting\n",
    "# same as below\n",
    "b = np.array([2, 2, 2, 2, 2])\n",
    "a * b"
   ]
  },
  {
   "cell_type": "code",
   "execution_count": 5,
   "metadata": {
    "colab": {
     "base_uri": "https://localhost:8080/"
    },
    "id": "PO2nWStUKjlS",
    "outputId": "2db0e3cf-d4a5-4ea4-881d-2d2a73be4802"
   },
   "outputs": [
    {
     "name": "stdout",
     "output_type": "stream",
     "text": [
      "(2, 3)\n",
      "6\n",
      "2\n"
     ]
    }
   ],
   "source": [
    "# shape manipulation, 2-D or higher dimensional arrays\n",
    "a = np.array([[1, 2, 3], [4, 5, 6]])\n",
    "print(a.shape)\n",
    "print(a.size)\n",
    "a.size == a.shape[0] * a.shape[1]\n",
    "print(a.ndim)"
   ]
  },
  {
   "cell_type": "code",
   "execution_count": 6,
   "metadata": {
    "colab": {
     "base_uri": "https://localhost:8080/"
    },
    "id": "fnDwhdtCNbJV",
    "outputId": "f0a9fc3c-3820-4953-e214-649b3907da73"
   },
   "outputs": [
    {
     "name": "stdout",
     "output_type": "stream",
     "text": [
      "(3, 2)\n",
      "[[1 2]\n",
      " [3 4]\n",
      " [5 6]]\n"
     ]
    },
    {
     "data": {
      "text/plain": [
       "array([[1, 2, 3, 4, 5, 6]])"
      ]
     },
     "execution_count": 6,
     "metadata": {},
     "output_type": "execute_result"
    }
   ],
   "source": [
    "b = np.reshape(a, (3, 2)) # reshape function changes the shape of the array, but the size of the whole array should remain unchanged\n",
    "print(b.shape) # (2, 3) sized array can be reshaped as (3, 2), size is intact i.e 6\n",
    "print(b)\n",
    "b.reshape((6, 1))\n",
    "b.reshape((1, 6))"
   ]
  },
  {
   "cell_type": "code",
   "execution_count": 7,
   "metadata": {
    "colab": {
     "base_uri": "https://localhost:8080/"
    },
    "id": "RlnTr5v3NeKp",
    "outputId": "f138a5d4-4931-4a26-d8af-404491dc7de8"
   },
   "outputs": [
    {
     "data": {
      "text/plain": [
       "array([1, 2, 3, 4, 5, 6])"
      ]
     },
     "execution_count": 7,
     "metadata": {},
     "output_type": "execute_result"
    }
   ],
   "source": [
    "b.ravel() # flattern a 2-D/higher dimensional array into 1-D"
   ]
  },
  {
   "cell_type": "code",
   "execution_count": 8,
   "metadata": {},
   "outputs": [
    {
     "name": "stdout",
     "output_type": "stream",
     "text": [
      "(5,)\n",
      "[0 1 2 3 4]\n"
     ]
    },
    {
     "data": {
      "text/plain": [
       "array([[0, 1, 2, 3, 4]])"
      ]
     },
     "execution_count": 8,
     "metadata": {},
     "output_type": "execute_result"
    }
   ],
   "source": [
    "a = np.arange(5)\n",
    "print(a.shape)\n",
    "print(a)\n",
    "a.reshape((1, 5))"
   ]
  },
  {
   "cell_type": "code",
   "execution_count": 10,
   "metadata": {
    "colab": {
     "base_uri": "https://localhost:8080/"
    },
    "id": "X19ok1mkNpgo",
    "outputId": "d9abf8b5-f921-4df0-fff4-72bef6690458"
   },
   "outputs": [
    {
     "name": "stdout",
     "output_type": "stream",
     "text": [
      "Before Split\n",
      "[[1 2]\n",
      " [3 4]\n",
      " [5 6]]\n",
      "After Split\n",
      "[[1]\n",
      " [3]\n",
      " [5]]\n",
      "[[2]\n",
      " [4]\n",
      " [6]]\n"
     ]
    }
   ],
   "source": [
    "print(\"Before Split\")\n",
    "print(b)\n",
    "x, y = np.hsplit(b, 2) # array split horizontally or column wise split, the second argument = number of columns\n",
    "# same as\n",
    "x, y = np.hsplit(b, b.shape[1])\n",
    "print(\"After Split\")\n",
    "print(x) # 1st column\n",
    "print(y) # 2nd column"
   ]
  },
  {
   "cell_type": "code",
   "execution_count": 13,
   "metadata": {
    "colab": {
     "base_uri": "https://localhost:8080/"
    },
    "id": "DPcWUIucmCZH",
    "outputId": "4139c6a0-6d5b-40e4-e679-98813708f70a"
   },
   "outputs": [
    {
     "name": "stdout",
     "output_type": "stream",
     "text": [
      "Before Split\n",
      "[[1 2]\n",
      " [3 4]\n",
      " [5 6]]\n",
      "After Split\n",
      "[[1 2]]\n",
      "[[3 4]]\n",
      "[[5 6]]\n"
     ]
    }
   ],
   "source": [
    "# refer https://note.nkmk.me/en/python-numpy-split/\n",
    "print(\"Before Split\")\n",
    "print(b)\n",
    "x, y, z = np.vsplit(b, 3) # array split vertically or row wise split, the second argument = number of rows\n",
    "# same as\n",
    "x, y, z = np.vsplit(b, b.shape[0])\n",
    "print(\"After Split\")\n",
    "print(x) # 1st row\n",
    "print(y) # 2nd row\n",
    "print(z) # 3rd row"
   ]
  },
  {
   "cell_type": "code",
   "execution_count": 14,
   "metadata": {
    "colab": {
     "base_uri": "https://localhost:8080/"
    },
    "id": "RywozznfnZVD",
    "outputId": "97d29720-417e-4fa3-d727-65e522e4ccc3"
   },
   "outputs": [
    {
     "name": "stdout",
     "output_type": "stream",
     "text": [
      "[[0. 0. 0.]\n",
      " [0. 0. 0.]\n",
      " [0. 0. 0.]]\n",
      "[0. 0. 0.]\n"
     ]
    }
   ],
   "source": [
    "# arrays of zeros\n",
    "y_1 = np.zeros((3,3)) # 3*3\n",
    "y_2 = np.zeros(3) # 1*3\n",
    "print(y_1)\n",
    "print(y_2)"
   ]
  },
  {
   "cell_type": "code",
   "execution_count": 15,
   "metadata": {
    "colab": {
     "base_uri": "https://localhost:8080/"
    },
    "id": "LykqJR4SrEDQ",
    "outputId": "087253b9-3b39-4fb4-d5ca-9fe391d667c6"
   },
   "outputs": [
    {
     "name": "stdout",
     "output_type": "stream",
     "text": [
      "[[1. 1. 1.]\n",
      " [1. 1. 1.]\n",
      " [1. 1. 1.]]\n",
      "[1. 1. 1.]\n"
     ]
    }
   ],
   "source": [
    "# arrays of ones\n",
    "y_1 = np.ones((3,3)) # 3*3\n",
    "y_2 = np.ones(3) # 1*3\n",
    "print(y_1)\n",
    "print(y_2)"
   ]
  },
  {
   "cell_type": "code",
   "execution_count": 13,
   "metadata": {},
   "outputs": [
    {
     "name": "stdout",
     "output_type": "stream",
     "text": [
      "[ 0  1  2  3  4  5  6  7  8  9 10 11 12 13 14 15 16 17]\n",
      "[[[ 0  1  2]\n",
      "  [ 3  4  5]\n",
      "  [ 6  7  8]]\n",
      "\n",
      " [[ 9 10 11]\n",
      "  [12 13 14]\n",
      "  [15 16 17]]]\n",
      "[[[ 0  9]\n",
      "  [ 3 12]\n",
      "  [ 6 15]]\n",
      "\n",
      " [[ 1 10]\n",
      "  [ 4 13]\n",
      "  [ 7 16]]\n",
      "\n",
      " [[ 2 11]\n",
      "  [ 5 14]\n",
      "  [ 8 17]]]\n"
     ]
    }
   ],
   "source": [
    "b=np.arange(18)\n",
    "print(b) # 1-D array\n",
    "b=b.reshape(2,3,3)\n",
    " # 2*3*3 array\n",
    "print(b)\n",
    "print(b.transpose()) # transpose of the array"
   ]
  },
  {
   "cell_type": "code",
   "execution_count": null,
   "metadata": {},
   "outputs": [
    {
     "name": "stdout",
     "output_type": "stream",
     "text": [
      "[0 1 2 3 4 5 6 7 8 9]\n",
      "[[0 1 2 3 4]\n",
      " [5 6 7 8 9]]\n",
      "[[0 5]\n",
      " [1 6]\n",
      " [2 7]\n",
      " [3 8]\n",
      " [4 9]]\n",
      "(2, 5)\n"
     ]
    }
   ],
   "source": [
    "b=np.arange(10)\n",
    "print(b) # 1-D array\n",
    "b=b.reshape(2,5)\n",
    " # 2*5 array\n",
    "print(b)\n",
    "print(b.transpose()) # transpose of the array\n",
    "print(b.shape) # transpose of the array\n",
    "\n",
    "# transpose of array by reversing the tuple of the shape\n",
    "b=np.arange(10)\n",
    "print(b) # 1-D array\n",
    "b=b.reshape(2,5)\n",
    " # 2*5 array\n",
    "# print(b.transpose(,,)) # transpose of the array"
   ]
  },
  {
   "cell_type": "code",
   "execution_count": 16,
   "metadata": {
    "colab": {
     "base_uri": "https://localhost:8080/"
    },
    "id": "vNx2pCRirYLI",
    "outputId": "e8b6e4d1-ac9e-45ef-9f5b-5b0ea7ac1b67"
   },
   "outputs": [
    {
     "data": {
      "text/plain": [
       "array([ 2.,  8., 14., 20.])"
      ]
     },
     "execution_count": 16,
     "metadata": {},
     "output_type": "execute_result"
    }
   ],
   "source": [
    "# array with given interval with custom number of elements\n",
    "# Linearly separate or create equal divisions between two end points\n",
    "# np.linspace(a, b, c) creates equal divisions of size (b - a) / (c - 1)\n",
    "np.linspace(2, 20, 4)"
   ]
  },
  {
   "cell_type": "code",
   "execution_count": 66,
   "metadata": {},
   "outputs": [
    {
     "data": {
      "text/plain": [
       "array([ 0. ,  2.5,  5. ,  7.5, 10. ])"
      ]
     },
     "execution_count": 66,
     "metadata": {},
     "output_type": "execute_result"
    }
   ],
   "source": [
    "np.linspace(0, 10, 5)"
   ]
  },
  {
   "cell_type": "code",
   "execution_count": 17,
   "metadata": {
    "colab": {
     "base_uri": "https://localhost:8080/"
    },
    "id": "lr8GRAODlsWE",
    "outputId": "408db5c0-aee1-427a-f400-a6fa18f0f167"
   },
   "outputs": [
    {
     "name": "stdout",
     "output_type": "stream",
     "text": [
      "[ 2.  8. 14. 20.]\n"
     ]
    }
   ],
   "source": [
    "# linspace can be implemented as below\n",
    "a, b, c = 2, 20, 4\n",
    "linear_data = np.zeros(c)\n",
    "start = a\n",
    "linear_data[0] = start\n",
    "division_value = (b - a) / (c - 1)\n",
    "for i in range(1, linear_data.shape[0]):\n",
    "  start += division_value\n",
    "  linear_data[i] = start\n",
    "print(linear_data)"
   ]
  },
  {
   "cell_type": "code",
   "execution_count": 18,
   "metadata": {
    "colab": {
     "base_uri": "https://localhost:8080/"
    },
    "id": "5ozOe7mare55",
    "outputId": "6ee22e5e-b671-4350-a113-54852d5318d1"
   },
   "outputs": [
    {
     "data": {
      "text/plain": [
       "array([[1., 0., 0.],\n",
       "       [0., 1., 0.],\n",
       "       [0., 0., 1.]])"
      ]
     },
     "execution_count": 18,
     "metadata": {},
     "output_type": "execute_result"
    }
   ],
   "source": [
    "# creates identity matrix\n",
    "np.eye(3)"
   ]
  },
  {
   "cell_type": "code",
   "execution_count": 19,
   "metadata": {
    "colab": {
     "base_uri": "https://localhost:8080/"
    },
    "id": "KmuWYhb2rkFV",
    "outputId": "9c6c70e5-7b31-4488-cd49-1dd31a49fb94"
   },
   "outputs": [
    {
     "data": {
      "text/plain": [
       "array([0.59117794, 0.36566595, 0.12154392, 0.98914594, 0.01099961])"
      ]
     },
     "execution_count": 19,
     "metadata": {},
     "output_type": "execute_result"
    }
   ],
   "source": [
    "# use of random with custom positive elements from 0 to 1\n",
    "np.random.rand(5)"
   ]
  },
  {
   "cell_type": "code",
   "execution_count": 20,
   "metadata": {
    "colab": {
     "base_uri": "https://localhost:8080/"
    },
    "id": "-g30n-D7royf",
    "outputId": "8592bf1e-552b-467a-fc8b-4128a0c6135b"
   },
   "outputs": [
    {
     "data": {
      "text/plain": [
       "array([ 0.57887746, -0.37965891,  0.65506239,  0.88577434, -0.31206443])"
      ]
     },
     "execution_count": 20,
     "metadata": {},
     "output_type": "execute_result"
    }
   ],
   "source": [
    "# use of random with custom elements with negatives under normal distribution\n",
    "np.random.randn(5)"
   ]
  },
  {
   "cell_type": "code",
   "execution_count": 21,
   "metadata": {
    "colab": {
     "base_uri": "https://localhost:8080/"
    },
    "id": "GYqCHLGhro1y",
    "outputId": "20210f6c-8604-4a82-e482-b11696ea0401"
   },
   "outputs": [
    {
     "data": {
      "text/plain": [
       "array([71, 22, 62, 54, 21, 59, 31, 98, 87, 27])"
      ]
     },
     "execution_count": 21,
     "metadata": {},
     "output_type": "execute_result"
    }
   ],
   "source": [
    "#use of random integer in range with given no of elements\n",
    "np.random.randint(1,100,10)"
   ]
  },
  {
   "cell_type": "code",
   "execution_count": 22,
   "metadata": {
    "colab": {
     "base_uri": "https://localhost:8080/"
    },
    "id": "Hb-BplhXro9m",
    "outputId": "93e119ac-c2c5-4dac-b44c-088c3cbb32b0"
   },
   "outputs": [
    {
     "name": "stdout",
     "output_type": "stream",
     "text": [
      "[ 0  1  2  3  4  5  6  7  8  9 10 11 12 13 14 15 16 17 18 19 20 21 22 23\n",
      " 24]\n"
     ]
    },
    {
     "data": {
      "text/plain": [
       "array([32, 33,  4, 46, 40, 12, 45, 32, 49, 36])"
      ]
     },
     "execution_count": 22,
     "metadata": {},
     "output_type": "execute_result"
    }
   ],
   "source": [
    "#random array/number sequence generator where randint(low, high, size) -> low is included but high is excluded\n",
    "a = np.arange(25)\n",
    "print(a)\n",
    "r_a = np.random.randint(0, 50, 10)\n",
    "r_a"
   ]
  },
  {
   "cell_type": "code",
   "execution_count": 23,
   "metadata": {
    "colab": {
     "base_uri": "https://localhost:8080/"
    },
    "id": "5X94C_1trpFk",
    "outputId": "041cf95a-7627-41aa-c13b-374b987bb1b4"
   },
   "outputs": [
    {
     "name": "stdout",
     "output_type": "stream",
     "text": [
      "enter integer values 1\n",
      "enter integer values 2\n",
      "enter integer values 3\n",
      "enter integer values 4\n"
     ]
    },
    {
     "data": {
      "text/plain": [
       "array([[1, 2],\n",
       "       [3, 4]])"
      ]
     },
     "execution_count": 23,
     "metadata": {},
     "output_type": "execute_result"
    }
   ],
   "source": [
    "#Task1 :create a list with 4 elements. Take inputs from the user in a list and convert it into (2, 2) array\n",
    "\n",
    "import numpy as np\n",
    "l=[]\n",
    "for i in range(4):\n",
    "    x=(int)(input(\"enter integer values\"))\n",
    "    l.append(x)\n",
    "\n",
    "my_a=np.array(l)\n",
    "my_a.reshape(2, 2)\n"
   ]
  },
  {
   "cell_type": "code",
   "execution_count": 24,
   "metadata": {
    "colab": {
     "base_uri": "https://localhost:8080/"
    },
    "id": "CcR2WaznN29A",
    "outputId": "68a01af6-1e72-42db-8d0d-be5081664c40"
   },
   "outputs": [
    {
     "data": {
      "text/plain": [
       "array([1, 2, 3, 4])"
      ]
     },
     "execution_count": 24,
     "metadata": {},
     "output_type": "execute_result"
    }
   ],
   "source": [
    "my_a.transpose()"
   ]
  },
  {
   "cell_type": "code",
   "execution_count": 25,
   "metadata": {
    "colab": {
     "base_uri": "https://localhost:8080/"
    },
    "id": "HfPE783dXIas",
    "outputId": "acb37922-61f5-4889-ab52-f152964a4f3f"
   },
   "outputs": [
    {
     "data": {
      "text/plain": [
       "array([[-2. ,  1. ],\n",
       "       [ 1.5, -0.5]])"
      ]
     },
     "execution_count": 25,
     "metadata": {},
     "output_type": "execute_result"
    }
   ],
   "source": [
    "#linear algebra for inverse matrix\n",
    "a = np.array([[1,2],[3,4]])\n",
    "np.linalg.inv(a)"
   ]
  },
  {
   "cell_type": "code",
   "execution_count": 21,
   "metadata": {},
   "outputs": [
    {
     "data": {
      "text/plain": [
       "array([ 1,  8, 27, 64])"
      ]
     },
     "execution_count": 21,
     "metadata": {},
     "output_type": "execute_result"
    }
   ],
   "source": [
    "# applying function over a set of values\n",
    "# 3 ways\n",
    "# 1st is to use map\n",
    "def func(x):\n",
    "    return x * x * x\n",
    "\n",
    "\n",
    "x = [1, 2, 3, 4]\n",
    "y = np.array(list(map(lambda x: x*x*x, x)))\n",
    "y"
   ]
  },
  {
   "cell_type": "code",
   "execution_count": 53,
   "metadata": {},
   "outputs": [
    {
     "data": {
      "text/plain": [
       "array([ 1,  8, 27, 64])"
      ]
     },
     "execution_count": 53,
     "metadata": {},
     "output_type": "execute_result"
    }
   ],
   "source": [
    "# 2nd one is using vectorize\n",
    "func_vectorize = np.vectorize(func)\n",
    "func_vectorize(x)"
   ]
  },
  {
   "cell_type": "code",
   "execution_count": 54,
   "metadata": {},
   "outputs": [
    {
     "data": {
      "text/plain": [
       "array([ 1,  8, 27, 64])"
      ]
     },
     "execution_count": 54,
     "metadata": {},
     "output_type": "execute_result"
    }
   ],
   "source": [
    "# 3rd way\n",
    "x = np.array(x)\n",
    "func(x)"
   ]
  },
  {
   "cell_type": "markdown",
   "metadata": {
    "id": "mYw-y2pdgE1m"
   },
   "source": [
    "# **Scientific computing with scipy**\n",
    "\n"
   ]
  },
  {
   "cell_type": "code",
   "execution_count": 26,
   "metadata": {
    "colab": {
     "base_uri": "https://localhost:8080/"
    },
    "id": "DaHOmTpnZciH",
    "outputId": "6e60ef13-c4c1-4526-f061-163179d8de86"
   },
   "outputs": [
    {
     "name": "stdout",
     "output_type": "stream",
     "text": [
      "Result of the integration: 2.3333333333333335\n",
      "Estimated error: 2.590520390792032e-14\n"
     ]
    }
   ],
   "source": [
    "#quadratic integration\n",
    "import numpy as np\n",
    "from scipy.integrate import quad\n",
    "\n",
    "# Define the quadratic function\n",
    "def quadratic_function(x):\n",
    "    return x**2 + 2*x + 1\n",
    "\n",
    "# Perform the integration over the interval [0, 1]\n",
    "result, error = quad(quadratic_function, 0, 1)\n",
    "\n",
    "# Output the result and the estimated error\n",
    "print(\"Result of the integration:\", result)\n",
    "print(\"Estimated error:\", error)\n"
   ]
  },
  {
   "cell_type": "code",
   "execution_count": 45,
   "metadata": {
    "colab": {
     "base_uri": "https://localhost:8080/"
    },
    "id": "ndpbS4Lvbm8i",
    "outputId": "2d7a8771-771c-48da-f61b-eec5cbfd3a35"
   },
   "outputs": [
    {
     "data": {
      "image/png": "[encoded data removed]",
      "text/plain": [
       "<Figure size 640x480 with 1 Axes>"
      ]
     },
     "metadata": {},
     "output_type": "display_data"
    },
    {
     "data": {
      "image/png": "[encoded data removed]",
      "text/plain": [
       "<Figure size 640x480 with 1 Axes>"
      ]
     },
     "metadata": {},
     "output_type": "display_data"
    },
    {
     "name": "stdout",
     "output_type": "stream",
     "text": [
      "Optimal value of a: 1.8588377500855626\n",
      "Optimal value of b: 3.846370523242623\n"
     ]
    }
   ],
   "source": [
    "#Optimization problem: curve fitting with scipy optimization\n",
    "import numpy as np\n",
    "from scipy.optimize import curve_fit\n",
    "import matplotlib.pyplot as plt\n",
    "# Let's assume we have some data points with noise, and we want to fit a line to it\n",
    "# equation y = 2x + 3 + noise , True parameters: a = 2, b = 3\n",
    "np.random.seed(0)\n",
    "x_data = np.linspace(0, 10, 50)\n",
    "y_data = 2 * x_data + 3 + np.random.normal(size=x_data.size)\n",
    "plt.scatter(x_data, y_data)\n",
    "plt.show()\n",
    "plt.plot(x_data, y_data)\n",
    "plt.show()\n",
    "# Step 2: Define the model function (linear in this case)\n",
    "def model(x, a, b):\n",
    "    return a * x + b\n",
    "\n",
    "#  Use `curve_fit` to perform the curve fitting\n",
    "params_opt, params_cov = curve_fit(model, x_data, y_data)\n",
    "\n",
    "# Extract the optimal parameters (a and b)\n",
    "a_opt, b_opt = params_opt\n",
    "\n",
    "# Print the optimal parameters\n",
    "print(f\"Optimal value of a: {a_opt}\")\n",
    "print(f\"Optimal value of b: {b_opt}\")"
   ]
  },
  {
   "cell_type": "markdown",
   "metadata": {
    "id": "VEGTLyfAgwX9"
   },
   "source": [
    "# **Visualizing with matplotlib, pyplot**"
   ]
  },
  {
   "cell_type": "code",
   "execution_count": 28,
   "metadata": {
    "colab": {
     "base_uri": "https://localhost:8080/",
     "height": 472
    },
    "id": "8Ji-f9Aidmoi",
    "outputId": "a5a9230c-8820-4394-eafc-27c84606b62b"
   },
   "outputs": [
    {
     "data": {
      "image/png": "[encoded data removed]",
      "text/plain": [
       "<Figure size 640x480 with 1 Axes>"
      ]
     },
     "metadata": {},
     "output_type": "display_data"
    }
   ],
   "source": [
    "#visualizing the curve fitting problem\n",
    "import matplotlib.pyplot as plt\n",
    "plt.scatter(x_data, y_data, label='Data', color='blue')\n",
    "plt.plot(x_data, model(x_data, *params_opt), label=f'Fitted curve: y = {a_opt:.2f}x + {b_opt:.2f}', color='red', alpha=.5)\n",
    "plt.title(\"Curve Fitting\")\n",
    "plt.annotate('Sample_data', ha='center', va='bottom', xytext=(8,10), xy=(6,13), arrowprops={'facecolor':'green'})\n",
    "plt.xlabel('x')\n",
    "plt.ylabel('y')\n",
    "plt.legend()\n",
    "plt.show()"
   ]
  },
  {
   "cell_type": "code",
   "execution_count": 29,
   "metadata": {
    "colab": {
     "base_uri": "https://localhost:8080/",
     "height": 469
    },
    "id": "qXhu9LaOeFZq",
    "outputId": "b57482a3-e307-4729-d9ec-0e089ba02535"
   },
   "outputs": [
    {
     "data": {
      "text/plain": [
       "[<matplotlib.lines.Line2D at 0x71064c8f6bd0>]"
      ]
     },
     "execution_count": 29,
     "metadata": {},
     "output_type": "execute_result"
    },
    {
     "data": {
      "image/png": "[encoded data removed]",
      "text/plain": [
       "<Figure size 640x480 with 2 Axes>"
      ]
     },
     "metadata": {},
     "output_type": "display_data"
    }
   ],
   "source": [
    "#subplots\n",
    "plt.subplot(1,2,1)\n",
    "plt.title('1')\n",
    "plt.plot(0.4,0.4,'b*-')\n",
    "plt.subplot(1,2,2)\n",
    "plt.title('2')\n",
    "plt.plot(0.4,0.4,'g*-')"
   ]
  },
  {
   "cell_type": "code",
   "execution_count": 46,
   "metadata": {
    "colab": {
     "base_uri": "https://localhost:8080/",
     "height": 486
    },
    "id": "zUAf9Mk5m-_4",
    "outputId": "c3cb5c48-57da-413c-801e-a0fb9b801554"
   },
   "outputs": [
    {
     "data": {
      "image/png": "[encoded data removed]",
      "text/plain": [
       "<Figure size 640x480 with 2 Axes>"
      ]
     },
     "metadata": {},
     "output_type": "display_data"
    }
   ],
   "source": [
    "#adding two plots\n",
    "\n",
    "x = np.linspace(0,5,11)\n",
    "y = x**2\n",
    "\n",
    "#for creating empty canvas\n",
    "fig = plt.figure()\n",
    "\n",
    "axes1 = fig.add_axes([0.1, 0.1, 0.8, 0.8]) # main axes (left, bottom, width, height)\n",
    "axes2 = fig.add_axes([0.2, 0.5, 0.4, 0.3]) # inset axes\n",
    "\n",
    "# Larger Figure Axes 1\n",
    "axes1.plot(x, y, 'b')\n",
    "axes1.set_xlabel('X_label_axes2')\n",
    "axes1.set_ylabel('Y_label_axes2')\n",
    "axes1.set_title('Axes 2 Title')\n",
    "\n",
    "#Insert Figure Axes 2\n",
    "axes2.plot(y, x, 'r')\n",
    "axes2.set_xlabel('X_label_axes2')\n",
    "axes2.set_ylabel('Y_label_axes2')\n",
    "axes2.set_title('Axes 2 Title');"
   ]
  },
  {
   "cell_type": "code",
   "execution_count": 49,
   "metadata": {},
   "outputs": [
    {
     "data": {
      "image/png": "[encoded data removed]",
      "text/plain": [
       "<Figure size 640x480 with 2 Axes>"
      ]
     },
     "metadata": {},
     "output_type": "display_data"
    }
   ],
   "source": [
    "\n",
    "# Implementation of matplotlib function\n",
    "# reference https://www.geeksforgeeks.org/matplotlib-figure-figure-add_axes-in-python/\n",
    "import numpy as np\n",
    "import matplotlib.pyplot as plt\n",
    " \n",
    " \n",
    "fig = plt.figure()\n",
    "fig.subplots_adjust(top=0.8)\n",
    "ax1 = fig.add_subplot(211)\n",
    " \n",
    "t = np.arange(0.0, 1.0, 0.01)\n",
    "s = np.sin(2 * np.pi * t)\n",
    "line, = ax1.plot(t, s, color='green', lw=2)\n",
    " \n",
    "np.random.seed(19680801)\n",
    " \n",
    "ax2 = fig.add_axes([0.15, 0.1, 0.7, 0.3])\n",
    "n, bins, patches = ax2.hist(np.random.randn(1000), 50,\n",
    "                            facecolor='yellow',\n",
    "                            edgecolor='yellow')\n",
    " \n",
    "fig.suptitle('matplotlib.figure.Figure.add_axes() \\\n",
    "function Example\\n\\n', fontweight='bold')\n",
    " \n",
    "plt.show()\n"
   ]
  },
  {
   "cell_type": "code",
   "execution_count": 31,
   "metadata": {
    "colab": {
     "base_uri": "https://localhost:8080/",
     "height": 437
    },
    "id": "jwQD6OGlnM02",
    "outputId": "f341585a-bd05-45ec-8738-494c011709b8"
   },
   "outputs": [
    {
     "data": {
      "image/png": "[encoded data removed]",
      "text/plain": [
       "<Figure size 640x480 with 1 Axes>"
      ]
     },
     "metadata": {},
     "output_type": "display_data"
    }
   ],
   "source": [
    "# importing mplot3d toolkits, numpy and matplotlib\n",
    "from mpl_toolkits import mplot3d\n",
    "import numpy as np\n",
    "import matplotlib.pyplot as plt\n",
    "\n",
    "fig = plt.figure()\n",
    "\n",
    "# syntax for 3-D projection\n",
    "ax = plt.axes(projection ='3d')\n",
    "\n",
    "# defining all 3 axes\n",
    "z = np.linspace(0, 1, 1000)\n",
    "x = z * np.sin(25 * z)\n",
    "y = z * np.cos(25 * z)\n",
    "\n",
    "# plotting\n",
    "ax.plot3D(x, y, z, 'green')\n",
    "ax.set_title('3D line plot')\n",
    "plt.show()\n"
   ]
  },
  {
   "cell_type": "code",
   "execution_count": null,
   "metadata": {
    "id": "ZNZNyFDcolKm"
   },
   "outputs": [],
   "source": []
  },
  {
   "cell_type": "markdown",
   "metadata": {
    "id": "YmC-VtOIo0fU"
   },
   "source": [
    "# **Data Manipulation with Pandas**"
   ]
  },
  {
   "cell_type": "code",
   "execution_count": 32,
   "metadata": {
    "colab": {
     "base_uri": "https://localhost:8080/",
     "height": 147
    },
    "id": "_-Uv7zBGpP3U",
    "outputId": "03635e30-79fe-4baa-a6a4-2dba6c21cd93"
   },
   "outputs": [
    {
     "data": {
      "text/plain": [
       "0    a\n",
       "x    1\n",
       "dtype: object"
      ]
     },
     "execution_count": 32,
     "metadata": {},
     "output_type": "execute_result"
    }
   ],
   "source": [
    "# Series from a dictionary\n",
    "import pandas as pd\n",
    "d = {0:'a','x':1}\n",
    "pd.Series(d)"
   ]
  },
  {
   "cell_type": "code",
   "execution_count": 33,
   "metadata": {
    "colab": {
     "base_uri": "https://localhost:8080/",
     "height": 206
    },
    "id": "Jioo_rrus3B8",
    "outputId": "75715583-a8ca-4136-da11-9c7b6df7530f"
   },
   "outputs": [
    {
     "data": {
      "text/html": [
       "<div>\n",
       "<style scoped>\n",
       "    .dataframe tbody tr th:only-of-type {\n",
       "        vertical-align: middle;\n",
       "    }\n",
       "\n",
       "    .dataframe tbody tr th {\n",
       "        vertical-align: top;\n",
       "    }\n",
       "\n",
       "    .dataframe thead th {\n",
       "        text-align: right;\n",
       "    }\n",
       "</style>\n",
       "<table border=\"1\" class=\"dataframe\">\n",
       "  <thead>\n",
       "    <tr style=\"text-align: right;\">\n",
       "      <th></th>\n",
       "      <th>w</th>\n",
       "      <th>x</th>\n",
       "      <th>y</th>\n",
       "      <th>z</th>\n",
       "      <th>new</th>\n",
       "    </tr>\n",
       "  </thead>\n",
       "  <tbody>\n",
       "    <tr>\n",
       "      <th>a</th>\n",
       "      <td>2.706850</td>\n",
       "      <td>0.628133</td>\n",
       "      <td>0.907969</td>\n",
       "      <td>0.503826</td>\n",
       "      <td>3.210676</td>\n",
       "    </tr>\n",
       "    <tr>\n",
       "      <th>b</th>\n",
       "      <td>0.651118</td>\n",
       "      <td>-0.319318</td>\n",
       "      <td>-0.848077</td>\n",
       "      <td>0.605965</td>\n",
       "      <td>1.257083</td>\n",
       "    </tr>\n",
       "    <tr>\n",
       "      <th>c</th>\n",
       "      <td>-2.018168</td>\n",
       "      <td>0.740122</td>\n",
       "      <td>0.528813</td>\n",
       "      <td>-0.589001</td>\n",
       "      <td>-2.607169</td>\n",
       "    </tr>\n",
       "    <tr>\n",
       "      <th>d</th>\n",
       "      <td>0.188695</td>\n",
       "      <td>-0.758872</td>\n",
       "      <td>-0.933237</td>\n",
       "      <td>0.955057</td>\n",
       "      <td>1.143752</td>\n",
       "    </tr>\n",
       "    <tr>\n",
       "      <th>e</th>\n",
       "      <td>0.190794</td>\n",
       "      <td>1.978757</td>\n",
       "      <td>2.605967</td>\n",
       "      <td>0.683509</td>\n",
       "      <td>0.874303</td>\n",
       "    </tr>\n",
       "  </tbody>\n",
       "</table>\n",
       "</div>"
      ],
      "text/plain": [
       "          w         x         y         z       new\n",
       "a  2.706850  0.628133  0.907969  0.503826  3.210676\n",
       "b  0.651118 -0.319318 -0.848077  0.605965  1.257083\n",
       "c -2.018168  0.740122  0.528813 -0.589001 -2.607169\n",
       "d  0.188695 -0.758872 -0.933237  0.955057  1.143752\n",
       "e  0.190794  1.978757  2.605967  0.683509  0.874303"
      ]
     },
     "execution_count": 33,
     "metadata": {},
     "output_type": "execute_result"
    }
   ],
   "source": [
    "# DataFrame\n",
    "from numpy.random import randn\n",
    "np.random.seed(101) # use seed for reproducibility\n",
    "df = pd.DataFrame(randn(5,4),index='a b c d e'.split(), columns='w x y z'.split())\n",
    "df['new'] = df['w'] + df['z']\n",
    "df"
   ]
  },
  {
   "cell_type": "code",
   "execution_count": 34,
   "metadata": {
    "colab": {
     "base_uri": "https://localhost:8080/",
     "height": 206
    },
    "id": "7hS4Cr3zs5JT",
    "outputId": "e09e24a9-e564-42fa-bc45-b21e836d76cc"
   },
   "outputs": [
    {
     "data": {
      "text/html": [
       "<div>\n",
       "<style scoped>\n",
       "    .dataframe tbody tr th:only-of-type {\n",
       "        vertical-align: middle;\n",
       "    }\n",
       "\n",
       "    .dataframe tbody tr th {\n",
       "        vertical-align: top;\n",
       "    }\n",
       "\n",
       "    .dataframe thead th {\n",
       "        text-align: right;\n",
       "    }\n",
       "</style>\n",
       "<table border=\"1\" class=\"dataframe\">\n",
       "  <thead>\n",
       "    <tr style=\"text-align: right;\">\n",
       "      <th></th>\n",
       "      <th>w</th>\n",
       "      <th>x</th>\n",
       "      <th>y</th>\n",
       "      <th>z</th>\n",
       "    </tr>\n",
       "  </thead>\n",
       "  <tbody>\n",
       "    <tr>\n",
       "      <th>a</th>\n",
       "      <td>2.706850</td>\n",
       "      <td>0.628133</td>\n",
       "      <td>0.907969</td>\n",
       "      <td>0.503826</td>\n",
       "    </tr>\n",
       "    <tr>\n",
       "      <th>b</th>\n",
       "      <td>0.651118</td>\n",
       "      <td>-0.319318</td>\n",
       "      <td>-0.848077</td>\n",
       "      <td>0.605965</td>\n",
       "    </tr>\n",
       "    <tr>\n",
       "      <th>c</th>\n",
       "      <td>-2.018168</td>\n",
       "      <td>0.740122</td>\n",
       "      <td>0.528813</td>\n",
       "      <td>-0.589001</td>\n",
       "    </tr>\n",
       "    <tr>\n",
       "      <th>d</th>\n",
       "      <td>0.188695</td>\n",
       "      <td>-0.758872</td>\n",
       "      <td>-0.933237</td>\n",
       "      <td>0.955057</td>\n",
       "    </tr>\n",
       "    <tr>\n",
       "      <th>e</th>\n",
       "      <td>0.190794</td>\n",
       "      <td>1.978757</td>\n",
       "      <td>2.605967</td>\n",
       "      <td>0.683509</td>\n",
       "    </tr>\n",
       "  </tbody>\n",
       "</table>\n",
       "</div>"
      ],
      "text/plain": [
       "          w         x         y         z\n",
       "a  2.706850  0.628133  0.907969  0.503826\n",
       "b  0.651118 -0.319318 -0.848077  0.605965\n",
       "c -2.018168  0.740122  0.528813 -0.589001\n",
       "d  0.188695 -0.758872 -0.933237  0.955057\n",
       "e  0.190794  1.978757  2.605967  0.683509"
      ]
     },
     "execution_count": 34,
     "metadata": {},
     "output_type": "execute_result"
    }
   ],
   "source": [
    "df.drop('new', axis=1) # dropping a column"
   ]
  },
  {
   "cell_type": "code",
   "execution_count": 35,
   "metadata": {
    "colab": {
     "base_uri": "https://localhost:8080/",
     "height": 241
    },
    "id": "Esfwftfrs75F",
    "outputId": "c2b102b3-9740-43a9-a3c7-fa62da19adcf"
   },
   "outputs": [
    {
     "data": {
      "text/plain": [
       "w      2.706850\n",
       "x      0.628133\n",
       "y      0.907969\n",
       "z      0.503826\n",
       "new    3.210676\n",
       "Name: a, dtype: float64"
      ]
     },
     "execution_count": 35,
     "metadata": {},
     "output_type": "execute_result"
    }
   ],
   "source": [
    "df.loc['a'] # access via index"
   ]
  },
  {
   "cell_type": "code",
   "execution_count": 36,
   "metadata": {
    "colab": {
     "base_uri": "https://localhost:8080/",
     "height": 112
    },
    "id": "_qglF16ABXuG",
    "outputId": "45944eb7-39c0-4c0c-8349-5b1ec8c52310"
   },
   "outputs": [
    {
     "data": {
      "text/html": [
       "<div>\n",
       "<style scoped>\n",
       "    .dataframe tbody tr th:only-of-type {\n",
       "        vertical-align: middle;\n",
       "    }\n",
       "\n",
       "    .dataframe tbody tr th {\n",
       "        vertical-align: top;\n",
       "    }\n",
       "\n",
       "    .dataframe thead th {\n",
       "        text-align: right;\n",
       "    }\n",
       "</style>\n",
       "<table border=\"1\" class=\"dataframe\">\n",
       "  <thead>\n",
       "    <tr style=\"text-align: right;\">\n",
       "      <th></th>\n",
       "      <th>w</th>\n",
       "      <th>x</th>\n",
       "    </tr>\n",
       "  </thead>\n",
       "  <tbody>\n",
       "    <tr>\n",
       "      <th>a</th>\n",
       "      <td>2.706850</td>\n",
       "      <td>0.628133</td>\n",
       "    </tr>\n",
       "    <tr>\n",
       "      <th>b</th>\n",
       "      <td>0.651118</td>\n",
       "      <td>-0.319318</td>\n",
       "    </tr>\n",
       "  </tbody>\n",
       "</table>\n",
       "</div>"
      ],
      "text/plain": [
       "          w         x\n",
       "a  2.706850  0.628133\n",
       "b  0.651118 -0.319318"
      ]
     },
     "execution_count": 36,
     "metadata": {},
     "output_type": "execute_result"
    }
   ],
   "source": [
    "df.loc[['a','b'],['w','x']] # using index and column index"
   ]
  },
  {
   "cell_type": "code",
   "execution_count": 37,
   "metadata": {
    "id": "8PC5tJjYs9xu"
   },
   "outputs": [],
   "source": [
    "#reset to default index\n",
    "df=df.reset_index()"
   ]
  },
  {
   "cell_type": "code",
   "execution_count": 38,
   "metadata": {
    "colab": {
     "base_uri": "https://localhost:8080/"
    },
    "id": "kLYpNh84s_1D",
    "outputId": "a80e0bec-4124-4066-dcef-4ed09a97edba"
   },
   "outputs": [
    {
     "data": {
      "text/plain": [
       "MultiIndex([('G1', 1),\n",
       "            ('G1', 2),\n",
       "            ('G1', 3),\n",
       "            ('G2', 1),\n",
       "            ('G2', 2),\n",
       "            ('G2', 3)],\n",
       "           )"
      ]
     },
     "execution_count": 38,
     "metadata": {},
     "output_type": "execute_result"
    }
   ],
   "source": [
    "#Multi- index and Index Hierarchy\n",
    "os = ['G1','G1','G1','G2','G2','G2']\n",
    "ins = [1,2,3,1,2,3]\n",
    "hi_in = list(zip(os,ins))\n",
    "hi_in = pd. MultiIndex.from_tuples(hi_in)\n",
    "hi_in"
   ]
  },
  {
   "cell_type": "code",
   "execution_count": 39,
   "metadata": {
    "colab": {
     "base_uri": "https://localhost:8080/",
     "height": 238
    },
    "id": "Hp1SWaZTtDaQ",
    "outputId": "e6bbe1c1-3bea-488b-a051-9ac7a133b575"
   },
   "outputs": [
    {
     "data": {
      "text/html": [
       "<div>\n",
       "<style scoped>\n",
       "    .dataframe tbody tr th:only-of-type {\n",
       "        vertical-align: middle;\n",
       "    }\n",
       "\n",
       "    .dataframe tbody tr th {\n",
       "        vertical-align: top;\n",
       "    }\n",
       "\n",
       "    .dataframe thead th {\n",
       "        text-align: right;\n",
       "    }\n",
       "</style>\n",
       "<table border=\"1\" class=\"dataframe\">\n",
       "  <thead>\n",
       "    <tr style=\"text-align: right;\">\n",
       "      <th></th>\n",
       "      <th></th>\n",
       "      <th>A</th>\n",
       "      <th>B</th>\n",
       "    </tr>\n",
       "  </thead>\n",
       "  <tbody>\n",
       "    <tr>\n",
       "      <th rowspan=\"3\" valign=\"top\">G1</th>\n",
       "      <th>1</th>\n",
       "      <td>0.302665</td>\n",
       "      <td>1.693723</td>\n",
       "    </tr>\n",
       "    <tr>\n",
       "      <th>2</th>\n",
       "      <td>-1.706086</td>\n",
       "      <td>-1.159119</td>\n",
       "    </tr>\n",
       "    <tr>\n",
       "      <th>3</th>\n",
       "      <td>-0.134841</td>\n",
       "      <td>0.390528</td>\n",
       "    </tr>\n",
       "    <tr>\n",
       "      <th rowspan=\"3\" valign=\"top\">G2</th>\n",
       "      <th>1</th>\n",
       "      <td>0.166905</td>\n",
       "      <td>0.184502</td>\n",
       "    </tr>\n",
       "    <tr>\n",
       "      <th>2</th>\n",
       "      <td>0.807706</td>\n",
       "      <td>0.072960</td>\n",
       "    </tr>\n",
       "    <tr>\n",
       "      <th>3</th>\n",
       "      <td>0.638787</td>\n",
       "      <td>0.329646</td>\n",
       "    </tr>\n",
       "  </tbody>\n",
       "</table>\n",
       "</div>"
      ],
      "text/plain": [
       "             A         B\n",
       "G1 1  0.302665  1.693723\n",
       "   2 -1.706086 -1.159119\n",
       "   3 -0.134841  0.390528\n",
       "G2 1  0.166905  0.184502\n",
       "   2  0.807706  0.072960\n",
       "   3  0.638787  0.329646"
      ]
     },
     "execution_count": 39,
     "metadata": {},
     "output_type": "execute_result"
    }
   ],
   "source": [
    "df = pd.DataFrame(np.random.randn(6,2),index=hi_in, columns=['A','B'])\n",
    "df"
   ]
  },
  {
   "cell_type": "code",
   "execution_count": 40,
   "metadata": {
    "colab": {
     "base_uri": "https://localhost:8080/",
     "height": 178
    },
    "id": "10S2aTlXtNcB",
    "outputId": "c9d60fd0-d0ba-48dc-b20f-1a40adccc609"
   },
   "outputs": [
    {
     "data": {
      "text/plain": [
       "1    0.302665\n",
       "2   -1.706086\n",
       "3   -0.134841\n",
       "Name: A, dtype: float64"
      ]
     },
     "execution_count": 40,
     "metadata": {},
     "output_type": "execute_result"
    }
   ],
   "source": [
    "df.loc['G1']['A']"
   ]
  },
  {
   "cell_type": "code",
   "execution_count": 50,
   "metadata": {
    "colab": {
     "base_uri": "https://localhost:8080/",
     "height": 143
    },
    "id": "yaIDuw_7tTpF",
    "outputId": "b168acd7-0df2-4f86-9ac6-15d023869b3e"
   },
   "outputs": [
    {
     "data": {
      "text/html": [
       "<div>\n",
       "<style scoped>\n",
       "    .dataframe tbody tr th:only-of-type {\n",
       "        vertical-align: middle;\n",
       "    }\n",
       "\n",
       "    .dataframe tbody tr th {\n",
       "        vertical-align: top;\n",
       "    }\n",
       "\n",
       "    .dataframe thead th {\n",
       "        text-align: right;\n",
       "    }\n",
       "</style>\n",
       "<table border=\"1\" class=\"dataframe\">\n",
       "  <thead>\n",
       "    <tr style=\"text-align: right;\">\n",
       "      <th></th>\n",
       "      <th>A</th>\n",
       "      <th>B</th>\n",
       "      <th>C</th>\n",
       "    </tr>\n",
       "  </thead>\n",
       "  <tbody>\n",
       "    <tr>\n",
       "      <th>0</th>\n",
       "      <td>1.0</td>\n",
       "      <td>2.0</td>\n",
       "      <td>NaN</td>\n",
       "    </tr>\n",
       "    <tr>\n",
       "      <th>1</th>\n",
       "      <td>5.0</td>\n",
       "      <td>3.0</td>\n",
       "      <td>4.0</td>\n",
       "    </tr>\n",
       "    <tr>\n",
       "      <th>2</th>\n",
       "      <td>1.0</td>\n",
       "      <td>NaN</td>\n",
       "      <td>5.0</td>\n",
       "    </tr>\n",
       "  </tbody>\n",
       "</table>\n",
       "</div>"
      ],
      "text/plain": [
       "     A    B    C\n",
       "0  1.0  2.0  NaN\n",
       "1  5.0  3.0  4.0\n",
       "2  1.0  NaN  5.0"
      ]
     },
     "execution_count": 50,
     "metadata": {},
     "output_type": "execute_result"
    }
   ],
   "source": [
    "#data with missing values\n",
    "df=pd.DataFrame({'A':[1.0,5.0,1],'B':[2,3,np.nan],'C':[np.nan,4,5]})\n",
    "df"
   ]
  },
  {
   "cell_type": "code",
   "execution_count": null,
   "metadata": {
    "colab": {
     "base_uri": "https://localhost:8080/",
     "height": 143
    },
    "id": "icqyv-EZtVnM",
    "outputId": "a90b1183-8853-4ab2-b678-1f25e5e192d0"
   },
   "outputs": [],
   "source": [
    "#fill missing values with zero\n",
    "df.fillna(0)"
   ]
  },
  {
   "cell_type": "code",
   "execution_count": null,
   "metadata": {
    "colab": {
     "base_uri": "https://localhost:8080/",
     "height": 143
    },
    "id": "NzeygXjEmPPR",
    "outputId": "5436b87d-218e-4459-fdfe-31010de92711"
   },
   "outputs": [],
   "source": [
    "#joining\n",
    "left = pd.DataFrame({'key1': ['K0', 'K0', 'K1', 'K2'],\n",
    "                     'key2': ['K0', 'K1', 'K0', 'K1'],\n",
    "                        'A': ['A0', 'A1', 'A2', 'A3'],\n",
    "                        'B': ['B0', 'B1', 'B2', 'B3']})\n",
    "\n",
    "right = pd.DataFrame({'key1': ['K0', 'K1', 'K1', 'K2'],\n",
    "                               'key2': ['K0', 'K0', 'K0', 'K0'],\n",
    "                                  'C': ['C0', 'C1', 'C2', 'C3'],\n",
    "                                  'D': ['D0', 'D1', 'D2', 'D3']})\n",
    "\n",
    "pd.merge(left,right, on=['key1', 'key2'])"
   ]
  },
  {
   "cell_type": "code",
   "execution_count": null,
   "metadata": {
    "colab": {
     "base_uri": "https://localhost:8080/"
    },
    "id": "4OvlMwDPvZtc",
    "outputId": "ad42dc30-4255-463e-f8c4-1e686c02b9a3"
   },
   "outputs": [],
   "source": [
    "#working with data file\n",
    "\n",
    "# Load the dataset into a DataFrame\n",
    "# diabetes.csv dataset can be downloaded from https://archive.ics.uci.edu/dataset/34/diabetes\n",
    "df = pd.read_csv('/content/diabetes.csv')\n",
    "# Display the first few rows of the DataFrame\n",
    "print(df.head())"
   ]
  },
  {
   "cell_type": "code",
   "execution_count": null,
   "metadata": {
    "colab": {
     "base_uri": "https://localhost:8080/"
    },
    "id": "6ozgBSKeyB-Y",
    "outputId": "2dfd52d5-9778-409e-e1ad-981dd4405fc5"
   },
   "outputs": [],
   "source": [
    "\n",
    "# Display information about the dataset (e.g., data types, non-null counts)\n",
    "print(df.info())\n"
   ]
  },
  {
   "cell_type": "code",
   "execution_count": null,
   "metadata": {
    "colab": {
     "base_uri": "https://localhost:8080/"
    },
    "id": "V-B42dz_yNhD",
    "outputId": "dc40b6cb-2789-4a76-e186-2835e60a87d7"
   },
   "outputs": [],
   "source": [
    "# Summary statistics for numerical columns\n",
    "print(df.describe())"
   ]
  },
  {
   "cell_type": "code",
   "execution_count": null,
   "metadata": {
    "colab": {
     "base_uri": "https://localhost:8080/"
    },
    "id": "883IO5lLyVDa",
    "outputId": "e0261481-8fd9-47d9-a448-c237af921b05"
   },
   "outputs": [],
   "source": [
    "# Checking for missing values\n",
    "print(df.isnull().sum())"
   ]
  },
  {
   "cell_type": "code",
   "execution_count": null,
   "metadata": {
    "id": "KtlrX9OkyWMi"
   },
   "outputs": [],
   "source": [
    "#Data Preprocessing\n",
    "# Remove duplicates (if any)\n",
    "df = df.drop_duplicates()\n"
   ]
  },
  {
   "cell_type": "code",
   "execution_count": null,
   "metadata": {
    "colab": {
     "base_uri": "https://localhost:8080/"
    },
    "id": "QCbLGr5OyrTJ",
    "outputId": "f7f75a3a-91f6-4088-b220-e153ef6607e3"
   },
   "outputs": [],
   "source": [
    "# Select specific columns (e.g., only 'Product' and 'Revenue')\n",
    "df_selected = df[['BMI', 'Age']]\n",
    "print(df_selected)\n"
   ]
  },
  {
   "cell_type": "code",
   "execution_count": null,
   "metadata": {
    "colab": {
     "base_uri": "https://localhost:8080/"
    },
    "id": "xwSYsuyKy2pL",
    "outputId": "6e19e41c-587e-4868-a397-b0d443e1dcf8"
   },
   "outputs": [],
   "source": [
    "# Filter rows where 'Age' is greater than 30\n",
    "df_filtered = df[df['Age'] > 30]\n",
    "print(df_filtered)\n",
    "\n",
    "#Task: Filter data for a specific value(e.g., BMI = 43)\n",
    "# df_product_a = df[df[______]\n",
    "# print(df_product_a)\n"
   ]
  },
  {
   "cell_type": "code",
   "execution_count": null,
   "metadata": {
    "colab": {
     "base_uri": "https://localhost:8080/",
     "height": 521
    },
    "id": "_d1naqPczZlo",
    "outputId": "775b011d-a81b-4bbb-9396-97ec0022e62c"
   },
   "outputs": [],
   "source": [
    "#Analysis of data with visualization\n",
    "import matplotlib.pyplot as plt\n",
    "outcome_counts = df['Outcome'].value_counts()\n",
    "plt.figure(figsize=(8, 6))\n",
    "plt.pie(outcome_counts, labels=['No Diabetes', 'Diabetes'], autopct='%1.1f%%', startangle=90, colors=['skyblue', 'salmon'])\n",
    "plt.title('Pie Chart of Outcome')\n",
    "plt.show()\n",
    "\n"
   ]
  },
  {
   "cell_type": "markdown",
   "metadata": {
    "id": "tvRTLCs-0_pZ"
   },
   "source": [
    "# **Machine Learning with Sklearn**"
   ]
  },
  {
   "cell_type": "code",
   "execution_count": null,
   "metadata": {
    "id": "7JO4zrO_1NQw"
   },
   "outputs": [],
   "source": [
    "#Supervised Learning: Linear Regression with toy dataset\n",
    "import numpy as np\n",
    "import pandas as pd\n",
    "import matplotlib.pyplot as plt\n",
    "from sklearn.datasets import load_diabetes\n",
    "from sklearn.model_selection import train_test_split\n",
    "from sklearn.linear_model import LinearRegression, LogisticRegression\n",
    "from sklearn.metrics import mean_squared_error\n",
    "\n",
    "# Step 1: Load the Diabetes dataset\n",
    "diabetes = load_diabetes()\n",
    "\n",
    "# The data is stored in a dictionary-like object\n",
    "# diabetes.data contains the feature variables, diabetes.target contains the target variable\n",
    "X = diabetes.data\n",
    "y = diabetes.target\n"
   ]
  },
  {
   "cell_type": "code",
   "execution_count": null,
   "metadata": {
    "colab": {
     "base_uri": "https://localhost:8080/",
     "height": 489
    },
    "id": "VPVUBkWZ3sq6",
    "outputId": "0a65fd92-6aa0-404c-ba1f-68bea40070eb"
   },
   "outputs": [],
   "source": [
    "# Step 2: Split the data into training and testing sets\n",
    "X_train, X_test, y_train, y_test = train_test_split(X, y, test_size=0.2, random_state=42)\n",
    "\n",
    "# Step 3: Create the Linear Regression model\n",
    "\n",
    "model = LinearRegression()\n",
    "\n",
    "# Step 4: Train the model on the training data\n",
    "model.fit(X_train, y_train)\n",
    "\n",
    "# Step 5: Make predictions on the testing set\n",
    "y_pred = model.predict(X_test)\n",
    "\n",
    "# Step 6: Evaluate the model\n",
    "# Calculate Mean Squared Error (MSE)\n",
    "mse = mean_squared_error(y_test, y_pred)\n",
    "\n",
    "\n",
    "# Print the evaluation metrics\n",
    "print(f\"Mean Squared Error (MSE): {mse}\")\n",
    "\n",
    "# Step 7: Plot the results (Optional - Only for visualizing predictions)\n",
    "plt.scatter(y_test, y_pred)\n",
    "plt.plot([y_test.min(), y_test.max()], [y_test.min(), y_test.max()], color='red', linestyle='--')\n",
    "plt.xlabel('Actual values')\n",
    "plt.ylabel('Predicted values')\n",
    "plt.title('Actual vs Predicted Diabetes Progression')\n",
    "plt.show()\n"
   ]
  },
  {
   "cell_type": "code",
   "execution_count": null,
   "metadata": {
    "colab": {
     "base_uri": "https://localhost:8080/",
     "height": 206
    },
    "id": "NL4wTgYp6IQo",
    "outputId": "3e49ad24-b434-48a5-82db-cdf1c0f7bdfa"
   },
   "outputs": [],
   "source": [
    "# Text Classification using Logistic Regression\n",
    "from sklearn.datasets import fetch_20newsgroups\n",
    "import pandas as pd\n",
    "\n",
    "# Load dataset\n",
    "extracted_categories = fetch_20newsgroups(subset='all', categories=['rec.sport.baseball', 'alt.atheism'], shuffle=True, random_state=42)\n",
    "data = extracted_categories.data\n",
    "target = extracted_categories.target\n",
    "\n",
    "# Create a DataFrame for easy manipulation\n",
    "df = pd.DataFrame({'text': data, 'label': target})\n",
    "df.head()"
   ]
  },
  {
   "cell_type": "code",
   "execution_count": null,
   "metadata": {
    "id": "lr5muni68T5F"
   },
   "outputs": [],
   "source": [
    "from sklearn.feature_extraction.text import TfidfVectorizer\n",
    "\n",
    "# Initialize TF-IDF Vectorizer\n",
    "vectorizer = TfidfVectorizer()\n",
    "\n",
    "# Transform the text data to feature vectors\n",
    "X = vectorizer.fit_transform(df['text'])\n",
    "\n",
    "# Labels\n",
    "y = df['label']"
   ]
  },
  {
   "cell_type": "code",
   "execution_count": null,
   "metadata": {
    "id": "2gH6BvHa8Xx-"
   },
   "outputs": [],
   "source": [
    "# Different Classifiers\n",
    "from sklearn.linear_model import LogisticRegression\n",
    "from sklearn.svm import SVC"
   ]
  },
  {
   "cell_type": "code",
   "execution_count": null,
   "metadata": {
    "id": "5l0Tgub3-n7t"
   },
   "outputs": [],
   "source": [
    "# Split the dataset into training and testing sets\n",
    "X_train, X_test, y_train, y_test = train_test_split(X, y, test_size=0.2, random_state=42)"
   ]
  },
  {
   "cell_type": "code",
   "execution_count": null,
   "metadata": {
    "colab": {
     "base_uri": "https://localhost:8080/",
     "height": 80
    },
    "id": "TlKgWpsv-tbr",
    "outputId": "6d7f1745-7ee2-4fb8-cf5b-3d2ad5489fe6"
   },
   "outputs": [],
   "source": [
    "# Fit the data into the classifier\n",
    "# Create SVM classifier\n",
    "svm = SVC(kernel='linear')\n",
    "svm.fit(X_train, y_train)"
   ]
  },
  {
   "cell_type": "code",
   "execution_count": null,
   "metadata": {
    "colab": {
     "base_uri": "https://localhost:8080/"
    },
    "id": "N0Mzi2aT-25J",
    "outputId": "8d9b6711-b2eb-41cd-8be5-b40e18d0e6c0"
   },
   "outputs": [],
   "source": [
    "# Print the classification report\n",
    "from sklearn.metrics import accuracy_score, classification_report\n",
    "\n",
    "# Make Predictions on the Test Set\n",
    "y_pred = svm.predict(X_test)\n",
    "\n",
    "# Use evaluation metrics\n",
    "accuracy_svm = accuracy_score(y_test, y_pred)\n",
    "class_report_svm = classification_report(y_test, y_pred, target_names=extracted_categories.target_names)\n",
    "\n",
    "print('Accuracy: {:.3f}'.format(accuracy_svm))\n",
    "print('Classification Report:')\n",
    "print(class_report_svm)"
   ]
  },
  {
   "cell_type": "code",
   "execution_count": null,
   "metadata": {
    "id": "OlTx8-gw_QSL"
   },
   "outputs": [],
   "source": [
    "# Use Logistic Regression"
   ]
  },
  {
   "cell_type": "code",
   "execution_count": null,
   "metadata": {
    "colab": {
     "base_uri": "https://localhost:8080/",
     "height": 80
    },
    "id": "7SYQeXKz_Zb0",
    "outputId": "63637f6d-a422-45cc-8c5d-81399e5a2065"
   },
   "outputs": [],
   "source": [
    "# Fit the data into the classifier\n",
    "# Create SVM classifier\n",
    "logistic = LogisticRegression()\n",
    "logistic.fit(X_train, y_train)"
   ]
  },
  {
   "cell_type": "code",
   "execution_count": null,
   "metadata": {
    "colab": {
     "base_uri": "https://localhost:8080/"
    },
    "id": "eFdLYwos_u9e",
    "outputId": "47fe0007-3a06-4dd1-e285-ce4f14e11b21"
   },
   "outputs": [],
   "source": [
    "# Print the classification report\n",
    "from sklearn.metrics import accuracy_score, classification_report\n",
    "\n",
    "# Make Predictions on the Test Set\n",
    "y_pred = logistic.predict(X_test)\n",
    "\n",
    "# Use evaluation metrics\n",
    "accuracy_logistic = accuracy_score(y_test, y_pred)\n",
    "class_report_logistic = classification_report(y_test, y_pred, target_names=extracted_categories.target_names)\n",
    "\n",
    "print('Accuracy: {:.3f}'.format(accuracy_logistic))\n",
    "print('Classification Report:')\n",
    "print(class_report_logistic)"
   ]
  },
  {
   "cell_type": "code",
   "execution_count": null,
   "metadata": {
    "id": "yJ5K_WNi_9G8"
   },
   "outputs": [],
   "source": []
  }
 ],
 "metadata": {
  "colab": {
   "provenance": []
  },
  "kernelspec": {
   "display_name": ".venv",
   "language": "python",
   "name": "python3"
  },
  "language_info": {
   "codemirror_mode": {
    "name": "ipython",
    "version": 3
   },
   "file_extension": ".py",
   "mimetype": "text/x-python",
   "name": "python",
   "nbconvert_exporter": "python",
   "pygments_lexer": "ipython3",
   "version": "3.13.1"
  }
 },
 "nbformat": 4,
 "nbformat_minor": 4
}
