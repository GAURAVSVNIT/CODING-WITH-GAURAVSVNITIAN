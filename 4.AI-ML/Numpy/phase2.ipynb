{
 "cells": [
  {
   "cell_type": "markdown",
   "metadata": {},
   "source": [
    "### Numpy Array Operations\n"
   ]
  },
  {
   "cell_type": "code",
   "execution_count": 3,
   "metadata": {},
   "outputs": [],
   "source": [
    "import numpy as np"
   ]
  },
  {
   "cell_type": "code",
   "execution_count": 5,
   "metadata": {},
   "outputs": [
    {
     "name": "stdout",
     "output_type": "stream",
     "text": [
      "Basic Slicing [2 3 4 5]\n",
      "Basic Slicing [5 6 7 8 9]\n",
      "Basic Slicing [1 2 3 4]\n",
      "Basic Slicing [1 3 5 7 9]\n",
      "Basic Slicing [2 4]\n",
      "Basic Slicing [7 8]\n",
      "Basic Slicing [7 8 9]\n"
     ]
    }
   ],
   "source": [
    "arr = np.array([1, 2, 3, 4, 5, 6, 7, 8, 9])\n",
    "print(\"Basic Slicing\", arr[1:5])\n",
    "print(\"Basic Slicing\", arr[4:])\n",
    "print(\"Basic Slicing\", arr[:4])\n",
    "print(\"Basic Slicing\", arr[::2])\n",
    "print(\"Basic Slicing\", arr[1:5:2])\n",
    "print(\"Basic Slicing\", arr[-3:-1])\n",
    "print(\"Basic Slicing\", arr[-3:])"
   ]
  },
  {
   "cell_type": "code",
   "execution_count": null,
   "metadata": {},
   "outputs": [
    {
     "name": "stdout",
     "output_type": "stream",
     "text": [
      "2D Array Slicing [2 3 4]\n",
      "Entire Row [ 6  7  8  9 10]\n",
      "Entire Column [3 8]\n",
      "Entire Row [ 6  7  8  9 10]\n"
     ]
    }
   ],
   "source": [
    "\n",
    "arr_2d = np.array([[1, 2, 3, 4, 5], [6, 7, 8, 9, 10]])  # 2D array\n",
    "print(\"2D Array Slicing\", arr_2d[0, 1:4])\n",
    "print(\"Entire Row\", arr_2d[1])\n",
    "print(\"Entire Column\", arr_2d[:, 2])\n",
    "print(\"Entire Row\", arr_2d[1, :])"
   ]
  },
  {
   "cell_type": "markdown",
   "metadata": {},
   "source": [
    "### Sorting"
   ]
  },
  {
   "cell_type": "code",
   "execution_count": null,
   "metadata": {},
   "outputs": [
    {
     "name": "stdout",
     "output_type": "stream",
     "text": [
      "Sorted Array [0 1 2 3 4 5 6 7 8]\n",
      "Sorted 2D Array Row [[0 1 2 3 5]\n",
      " [4 6 7 8 9]]\n"
     ]
    }
   ],
   "source": [
    "unsorted_arr = np.array([3, 2, 0, 1, 5, 4, 6, 7, 8])\n",
    "arr = np.sort(unsorted_arr)\n",
    "print(\"Sorted Array\", arr)\n",
    "\n",
    "unsorted_2d_arr = np.array([[3, 2, 0, 1, 5], [4, 6, 7, 8, 9]])\n",
    "arr = np.sort(unsorted_2d_arr, axis=1)\n",
    "print(\"Sorted 2D Array Column\", arr)"
   ]
  },
  {
   "cell_type": "markdown",
   "metadata": {},
   "source": [
    "### Filtering"
   ]
  },
  {
   "cell_type": "code",
   "execution_count": null,
   "metadata": {},
   "outputs": [
    {
     "name": "stdout",
     "output_type": "stream",
     "text": [
      "Even Numbers [ 2  4  6  8 10]\n"
     ]
    }
   ],
   "source": [
    "numbers = np.array([1, 2, 3, 4, 5, 6, 7, 8, 9,10])\n",
    "evennumbers = numbers[numbers % 2 == 0]\n",
    "print(\"Even Numbers\", evennumbers)\n",
    "\n"
   ]
  },
  {
   "cell_type": "markdown",
   "metadata": {},
   "source": [
    "### Filter With Mask"
   ]
  },
  {
   "cell_type": "code",
   "execution_count": 10,
   "metadata": {},
   "outputs": [
    {
     "name": "stdout",
     "output_type": "stream",
     "text": [
      "Numbers greater than 5 [ 6  7  8  9 10]\n"
     ]
    }
   ],
   "source": [
    "mask = numbers > 5\n",
    "print(\"Numbers greater than 5\", numbers[mask])"
   ]
  },
  {
   "cell_type": "markdown",
   "metadata": {},
   "source": [
    "### Fancy Indexing V/S np.where()"
   ]
  },
  {
   "cell_type": "code",
   "execution_count": 13,
   "metadata": {},
   "outputs": [
    {
     "name": "stdout",
     "output_type": "stream",
     "text": [
      "Indices of numbers greater than 5 [ 1  2  3  4  5 12 14 16 18 20]\n",
      "Elements at indices [1 3 5]\n"
     ]
    }
   ],
   "source": [
    "where_indices = np.where(numbers > 5,numbers*2,numbers)\n",
    "print(\"Indices of numbers greater than 5\", where_indices)\n",
    "\n",
    "indices = [0,2,4]\n",
    "print(\"Elements at indices\", numbers[indices])\n",
    "\n"
   ]
  },
  {
   "cell_type": "markdown",
   "metadata": {},
   "source": [
    "### Adding and Removing "
   ]
  },
  {
   "cell_type": "code",
   "execution_count": null,
   "metadata": {},
   "outputs": [],
   "source": [
    "arr1 = np.array([1, 2, 3])\n",
    "arr2 = np.array([4, 5, 6])\n",
    "arr = np.concatenate((arr1,arr2))\n",
    "print(\"Concatenated Array\", arr)\n"
   ]
  },
  {
   "cell_type": "markdown",
   "metadata": {},
   "source": [
    "### Array Compatibility"
   ]
  },
  {
   "cell_type": "code",
   "execution_count": 15,
   "metadata": {},
   "outputs": [
    {
     "name": "stdout",
     "output_type": "stream",
     "text": [
      "Compatibilty Check False\n",
      "Compatibilty Check True\n"
     ]
    }
   ],
   "source": [
    "a = np.array([1, 2,3])\n",
    "b = np.array([4, 5, 6,7])\n",
    "c= np.array([7, 8, 9])\n",
    "print(\"Compatibilty Check\", a.shape == b.shape)\n",
    "print(\"Compatibilty Check\", a.shape == c.shape)\n"
   ]
  },
  {
   "cell_type": "code",
   "execution_count": 19,
   "metadata": {},
   "outputs": [
    {
     "name": "stdout",
     "output_type": "stream",
     "text": [
      "New Row Added [[ 1  2  3  4]\n",
      " [ 5  6  7  8]\n",
      " [ 9 10 11 12]]\n",
      "New Column Added [[ 1  2  3  4 13]\n",
      " [ 5  6  7  8 14]]\n"
     ]
    }
   ],
   "source": [
    "original_arr = np.array([[1, 2, 3, 4], [5, 6, 7, 8]])\n",
    "new_row = np.array([9,10, 11, 12])\n",
    "with_new_row = np.vstack((original_arr, new_row))\n",
    "print(\"New Row Added\", with_new_row)\n",
    "\n",
    "new_col = np.array([[13], [14]])\n",
    "with_new_col = np.hstack((original_arr, new_col))\n",
    "print(\"New Column Added\", with_new_col)\n"
   ]
  },
  {
   "cell_type": "code",
   "execution_count": null,
   "metadata": {},
   "outputs": [],
   "source": [
    "arr = np.array([1, 2, 3, 4, 5, 6, 7, 8, 9])\n",
    "delete_arr = np.delete(arr, 1)\n",
    "print(\" Array  after Deletation\", delete_arr)"
   ]
  }
 ],
 "metadata": {
  "kernelspec": {
   "display_name": ".venv",
   "language": "python",
   "name": "python3"
  },
  "language_info": {
   "codemirror_mode": {
    "name": "ipython",
    "version": 3
   },
   "file_extension": ".py",
   "mimetype": "text/x-python",
   "name": "python",
   "nbconvert_exporter": "python",
   "pygments_lexer": "ipython3",
   "version": "3.13.1"
  }
 },
 "nbformat": 4,
 "nbformat_minor": 2
}
