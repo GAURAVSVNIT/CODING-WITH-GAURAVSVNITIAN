{
 "cells": [
  {
   "cell_type": "code",
   "execution_count": 2,
   "metadata": {},
   "outputs": [
    {
     "name": "stdout",
     "output_type": "stream",
     "text": [
      "1D_Array: [1 2 3 4 5]\n",
      "Multipliacation of 1D_Array: [ 2  4  6  8 10]\n",
      "Addition of 1D_Array: [3 4 5 6 7]\n",
      "Execution Time: 0.057103633880615234\n",
      "executuon time: 0.005868673324584961\n"
     ]
    }
   ],
   "source": [
    "import numpy as np\n",
    "arr_1d=np.array([1,2,3,4,5])\n",
    "print(\"1D_Array:\",arr_1d)\n",
    "print(\"Multipliacation of 1D_Array:\",arr_1d*2)\n",
    "print(\"Addition of 1D_Array:\",arr_1d+2)\n",
    "\n",
    "import time\n",
    "start = time.time()\n",
    "py_list = [i*2 for i in range(1,1000000)]\n",
    "end = time.time()\n",
    "print(\"Execution Time:\", end - start)\n",
    "start =time.time()\n",
    "np_array = np.arange(1000000)*2\n",
    "end=time.time()\n",
    "print(\"executuon time:\",end-start)\n"
   ]
  },
  {
   "cell_type": "markdown",
   "metadata": {},
   "source": [
    "# Creating Array From Scratch\n"
   ]
  },
  {
   "cell_type": "code",
   "execution_count": 4,
   "metadata": {},
   "outputs": [
    {
     "name": "stdout",
     "output_type": "stream",
     "text": [
      "Zeros: [[0. 0. 0.]\n",
      " [0. 0. 0.]\n",
      " [0. 0. 0.]]\n",
      "Ones: [[1. 1. 1.]\n",
      " [1. 1. 1.]\n",
      " [1. 1. 1.]]\n",
      "Full: [[5 5 5]\n",
      " [5 5 5]\n",
      " [5 5 5]]\n",
      "Random: [[0.36703483 0.11876286 0.20129752]\n",
      " [0.25106417 0.01164539 0.52464829]\n",
      " [0.94837269 0.18918438 0.11416994]]\n",
      "Sequence: [ 0  2  4  6  8 10]\n"
     ]
    }
   ],
   "source": [
    "zeros = np.zeros((3,3))\n",
    "print(\"Zeros:\",zeros)\n",
    "\n",
    "ones = np.ones((3,3))\n",
    "print(\"Ones:\",ones)\n",
    "\n",
    "full = np.full((3,3),5)\n",
    "print(\"Full:\",full)\n",
    "\n",
    "random = np.random.random((3,3))\n",
    "print(\"Random:\",random)\n",
    "\n",
    "Sequence = np.arange(0,11,2)\n",
    "print(\"Sequence:\",Sequence)\n"
   ]
  },
  {
   "cell_type": "markdown",
   "metadata": {},
   "source": [
    "# Vector Matrix & Tensor"
   ]
  },
  {
   "cell_type": "code",
   "execution_count": 5,
   "metadata": {},
   "outputs": [
    {
     "name": "stdout",
     "output_type": "stream",
     "text": [
      "Vector: [1 2 3]\n",
      "Matrix: [[1 2 3]\n",
      " [4 5 6]\n",
      " [7 8 9]]\n",
      "Tensor: [[[ 1  2  3]\n",
      "  [ 4  5  6]\n",
      "  [ 7  8  9]]\n",
      "\n",
      " [[10 11 12]\n",
      "  [13 14 15]\n",
      "  [16 17 18]]\n",
      "\n",
      " [[19 20 21]\n",
      "  [22 23 24]\n",
      "  [25 26 27]]]\n"
     ]
    }
   ],
   "source": [
    "vector = np.array([1,2,3])\n",
    "print(\"Vector:\",vector)\n",
    "\n",
    "matrix = np.array([[1,2,3],[4,5,6],[7,8,9]])\n",
    "print(\"Matrix:\",matrix)\n",
    "\n",
    "tensor = np.array([[[1,2,3],[4,5,6],[7,8,9]],[[10,11,12],[13,14,15],[16,17,18]],[[19,20,21],[22,23,24],[25,26,27]]])\n",
    "print(\"Tensor:\",tensor)\n",
    "\n"
   ]
  },
  {
   "cell_type": "markdown",
   "metadata": {},
   "source": [
    "### Array Properties\n"
   ]
  },
  {
   "cell_type": "code",
   "execution_count": 7,
   "metadata": {},
   "outputs": [
    {
     "name": "stdout",
     "output_type": "stream",
     "text": [
      "Array: [[1 2 3]\n",
      " [4 5 6]\n",
      " [7 8 9]]\n",
      "Shape: (3, 3)\n",
      "Size: 9\n",
      "Dimension: 2\n",
      "Data Type: int64\n",
      "Item Size: 8\n"
     ]
    }
   ],
   "source": [
    "arr = np.array([[1,2,3],[4,5,6],[7,8,9]])\n",
    "print(\"Array:\",arr)\n",
    "print(\"Shape:\",arr.shape)\n",
    "print(\"Size:\",arr.size)\n",
    "print(\"Dimension:\",arr.ndim)\n",
    "print(\"Data Type:\",arr.dtype)\n",
    "print(\"Item Size:\",arr.itemsize)"
   ]
  },
  {
   "cell_type": "markdown",
   "metadata": {},
   "source": [
    "### Array Reshaping"
   ]
  },
  {
   "cell_type": "code",
   "execution_count": 10,
   "metadata": {},
   "outputs": [
    {
     "name": "stdout",
     "output_type": "stream",
     "text": [
      "Array: [ 0  1  2  3  4  5  6  7  8  9 10 11]\n",
      "Reshaped: [[ 0  1  2  3]\n",
      " [ 4  5  6  7]\n",
      " [ 8  9 10 11]]\n",
      "Flattened: [ 0  1  2  3  4  5  6  7  8  9 10 11]\n",
      "Raveled: [ 0  1  2  3  4  5  6  7  8  9 10 11]\n",
      "Transposed: [[ 0  4  8]\n",
      " [ 1  5  9]\n",
      " [ 2  6 10]\n",
      " [ 3  7 11]]\n"
     ]
    }
   ],
   "source": [
    "arr = np.arange(12)\n",
    "print(\"Array:\",arr)\n",
    "\n",
    "reshaped = arr.reshape((3,4))\n",
    "print(\"Reshaped:\",reshaped)\n",
    "\n",
    "flattened = reshaped.flatten()\n",
    "print(\"Flattened:\",flattened)\n",
    "\n",
    "#Returs View instead of copy\n",
    "raveled = reshaped.ravel()\n",
    "print(\"Raveled:\",raveled)\n",
    "\n",
    "#Transpose\n",
    "transposed = reshaped.T\n",
    "print(\"Transposed:\",transposed)"
   ]
  }
 ],
 "metadata": {
  "kernelspec": {
   "display_name": ".venv",
   "language": "python",
   "name": "python3"
  },
  "language_info": {
   "codemirror_mode": {
    "name": "ipython",
    "version": 3
   },
   "file_extension": ".py",
   "mimetype": "text/x-python",
   "name": "python",
   "nbconvert_exporter": "python",
   "pygments_lexer": "ipython3",
   "version": "3.13.1"
  }
 },
 "nbformat": 4,
 "nbformat_minor": 2
}
