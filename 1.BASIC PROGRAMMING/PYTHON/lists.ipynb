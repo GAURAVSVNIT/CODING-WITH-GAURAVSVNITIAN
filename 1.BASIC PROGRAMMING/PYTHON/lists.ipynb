{
 "cells": [
  {
   "cell_type": "code",
   "execution_count": 5,
   "metadata": {},
   "outputs": [
    {
     "name": "stdout",
     "output_type": "stream",
     "text": [
      "['Green', 'Black', 'White', 'Oolong', 'Chai', 'Chamomile', 'Earl Grey']\n",
      "Oolong\n",
      "Earl Grey\n",
      "['Oolong', 'Chai']\n",
      "['Green', 'Chocolate Mint', 'White', 'Oolong Tea', 'Chai', 'Chamomile', 'Earl Grey']\n",
      "['Green', 'White', 'Oolong Tea', 'Chai', 'Chamomile', 'Earl Grey']\n",
      "Green, White, Oolong Tea, Chai, Chamomile, Earl Grey, "
     ]
    }
   ],
   "source": [
    "tea_varities = [\"Green\", \"Black\", \"White\", \"Oolong\", \"Chai\", \"Chamomile\", \"Earl Grey\"]\n",
    "print(tea_varities)\n",
    "print(tea_varities[3])\n",
    "print(tea_varities[-1])\n",
    "print(tea_varities[3:5])\n",
    "tea_varities[3] = \"Oolong Tea\"\n",
    "# tea_varities[1:2] = \"Chocolate Mint\"\n",
    "# print(tea_varities)\n",
    "tea_varities[1:2] = [\"Chocolate Mint\"]\n",
    "print(tea_varities)\n",
    "tea_varities[1:2]=[]\n",
    "print(tea_varities)\n",
    "for tea in tea_varities:\n",
    "    print(tea,end=\", \")\n"
   ]
  },
  {
   "cell_type": "code",
   "execution_count": null,
   "metadata": {},
   "outputs": [],
   "source": [
    "tea_varities.append(\"New Tea\")\n",
    "print(tea_varities)\n",
    "tea_varities.insert(2,\"Jasmine Tea\")\n",
    "print(tea_varities)\n",
    "tea_varities.pop()\n",
    "print(tea_varities)\n",
    "tea_varities.pop(2)\n",
    "print(tea_varities)"
   ]
  },
  {
   "cell_type": "code",
   "execution_count": null,
   "metadata": {},
   "outputs": [],
   "source": [
    "tea_varities_copy = tea_varities.copy()\n"
   ]
  },
  {
   "cell_type": "code",
   "execution_count": 7,
   "metadata": {},
   "outputs": [
    {
     "name": "stdout",
     "output_type": "stream",
     "text": [
      "[0, 1, 4, 9, 16, 25, 36, 49, 64, 81]\n"
     ]
    }
   ],
   "source": [
    "tea_varities = [ x**2 for x in range(10)]\n",
    "print(tea_varities)"
   ]
  }
 ],
 "metadata": {
  "kernelspec": {
   "display_name": "my_venv",
   "language": "python",
   "name": "python3"
  },
  "language_info": {
   "codemirror_mode": {
    "name": "ipython",
    "version": 3
   },
   "file_extension": ".py",
   "mimetype": "text/x-python",
   "name": "python",
   "nbconvert_exporter": "python",
   "pygments_lexer": "ipython3",
   "version": "3.12.6"
  }
 },
 "nbformat": 4,
 "nbformat_minor": 2
}
