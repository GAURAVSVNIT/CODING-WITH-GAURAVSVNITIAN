{
 "cells": [
  {
   "cell_type": "code",
   "execution_count": 1,
   "metadata": {},
   "outputs": [
    {
     "data": {
      "text/plain": [
       "3"
      ]
     },
     "execution_count": 1,
     "metadata": {},
     "output_type": "execute_result"
    }
   ],
   "source": [
    "\n",
    "import sys\n",
    "sys.getrefcount(24601)\n",
    "#3"
   ]
  },
  {
   "cell_type": "markdown",
   "metadata": {},
   "source": [
    "Difference Between refr() str() & print()\n"
   ]
  },
  {
   "cell_type": "code",
   "execution_count": 3,
   "metadata": {},
   "outputs": [
    {
     "name": "stdout",
     "output_type": "stream",
     "text": [
      "3.141592653589793\n",
      "2.718281828459045\n",
      "98\n",
      "99\n",
      "-98\n",
      "10.0\n",
      "2.0\n",
      "98\n"
     ]
    },
    {
     "data": {
      "text/plain": [
       "16"
      ]
     },
     "execution_count": 3,
     "metadata": {},
     "output_type": "execute_result"
    }
   ],
   "source": [
    "import math\n",
    "print(math.pi)\n",
    "print(math.e)\n",
    "print(math.floor(98.6))\n",
    "print(math.ceil(98.6))\n",
    "print(math.ceil(-98.6))\n",
    "print(math.sqrt(100))\n",
    "print(math.log(100, 10))\n",
    "print(math.trunc(98.6))\n",
    "0o20\n",
    "int('64',8) # convert from octal to decimal\n",
    "x = 1\n",
    "x << 2"
   ]
  },
  {
   "cell_type": "markdown",
   "metadata": {},
   "source": [
    "Number Precision Infinite hoti hai "
   ]
  },
  {
   "cell_type": "code",
   "execution_count": 10,
   "metadata": {},
   "outputs": [
    {
     "name": "stdout",
     "output_type": "stream",
     "text": [
      "0.3917733123264754\n",
      "4\n",
      "3\n",
      "7\n"
     ]
    }
   ],
   "source": [
    "import random\n",
    "print(random.random())\n",
    "OUTPUT: 0.37444887175646646\n",
    "print(random.choice([1, 2, 3, 4]))\n",
    "OUTPUT: 2\n",
    "print(random.choice([1, 2, 3, 4]))\n",
    "OUTPUT: 3\n",
    "print(random.randint(1, 10))\n",
    "OUTPUT: 7"
   ]
  },
  {
   "cell_type": "code",
   "execution_count": null,
   "metadata": {},
   "outputs": [],
   "source": [
    "from decimal import Decimal\n",
    "print(Decimal('0.1') + Decimal('0.1') + Decimal('0.1') - Decimal('0.3'))\n",
    "OUTPUT: 0.0\n",
    "\n",
    "from fractions import Fraction\n",
    "x = Fraction(1, 3)\n",
    "print(x)\n",
    "##OUTPUT: 1/3"
   ]
  },
  {
   "cell_type": "code",
   "execution_count": null,
   "metadata": {},
   "outputs": [],
   "source": [
    "setone = {1, 2, 3, 4}\n",
    "settwo = {3, 4, 5, 6}\n",
    "print(setone | settwo)\n",
    "OUTPUT: {1, 2, 3, 4, 5, 6}\n",
    "print(setone & settwo)\n",
    "OUTPUT: {3, 4}\n",
    "print(setone - settwo)\n",
    "OUTPUT: {1, 2}\n",
    "print(setone ^ settwo)\n",
    "OUTPUT: {1, 2, 5, 6}\n"
   ]
  }
 ],
 "metadata": {
  "kernelspec": {
   "display_name": "Python 3",
   "language": "python",
   "name": "python3"
  },
  "language_info": {
   "codemirror_mode": {
    "name": "ipython",
    "version": 3
   },
   "file_extension": ".py",
   "mimetype": "text/x-python",
   "name": "python",
   "nbconvert_exporter": "python",
   "pygments_lexer": "ipython3",
   "version": "3.13.0"
  }
 },
 "nbformat": 4,
 "nbformat_minor": 2
}
