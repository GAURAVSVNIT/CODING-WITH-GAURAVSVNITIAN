{
 "cells": [
  {
   "cell_type": "code",
   "execution_count": 8,
   "id": "c3d7134a",
   "metadata": {},
   "outputs": [
    {
     "name": "stdout",
     "output_type": "stream",
     "text": [
      "16\n",
      "4\n",
      "60\n",
      "1.6666666666666667\n",
      "1\n",
      "4\n",
      "1000000\n"
     ]
    }
   ],
   "source": [
    "# Define integers\n",
    "a = 10\n",
    "b = 6\n",
    "# addition\n",
    "print(a + b)\n",
    "# subtraction\n",
    "print(a - b)\n",
    "# multiplication\n",
    "print(a * b)\n",
    "# division\n",
    "print(a / b) # usually returns a float\n",
    "# interger division\n",
    "print(a // b) # similar to C if both a and b are intergers\n",
    "# modulus operator or finding the remainder\n",
    "print(a % b)\n",
    "# exponenitial or power of operation\n",
    "print(a ** b)"
   ]
  },
  {
   "cell_type": "code",
   "execution_count": 9,
   "id": "ec9260e0",
   "metadata": {},
   "outputs": [
    {
     "name": "stdout",
     "output_type": "stream",
     "text": [
      "16.0\n",
      "4.0\n",
      "60.0\n",
      "1.6666666666666667\n",
      "1.0\n",
      "4.0\n",
      "2.0999999999999996\n",
      "1000000.0\n"
     ]
    }
   ],
   "source": [
    "# Define floats and all the previously defined operators will work here\n",
    "a = 10. # add just a dot after an integer to make them float 10. is same as 10.0\n",
    "b = 6.\n",
    "# addition\n",
    "print(a + b)\n",
    "# subtraction\n",
    "print(a - b)\n",
    "# multiplication\n",
    "print(a * b)\n",
    "# division\n",
    "print(a / b) # usually returns a float\n",
    "# interger division\n",
    "print(a // b) # similar to C if both a and b are intergers\n",
    "# modulus operator or finding the remainder\n",
    "print(a % b)\n",
    "print(10.5 % 4.2) # modulus operation not defined in C for floats, but works in Python\n",
    "# exponenitial or power of operation\n",
    "print(a ** b)"
   ]
  },
  {
   "cell_type": "code",
   "execution_count": 15,
   "id": "d784d4b8",
   "metadata": {},
   "outputs": [
    {
     "name": "stdout",
     "output_type": "stream",
     "text": [
      "(4+6j)\n",
      "(-2-2j)\n",
      "(-5+10j)\n",
      "(0.44+0.08j)\n",
      "(0.129009594074467+0.03392409290517014j)\n"
     ]
    }
   ],
   "source": [
    "# Define complex numbers\n",
    "a = 1 + 2j # you can not declate 1 + j2\n",
    "b = 3 + 4j\n",
    "# addition\n",
    "print(a + b)\n",
    "# subtraction\n",
    "print(a - b)\n",
    "# multiplication\n",
    "print(a * b)\n",
    "# division\n",
    "print(a / b) # usually returns a float, interger division not possible\n",
    "# exponenitial or power of operation\n",
    "print(a ** b)"
   ]
  },
  {
   "cell_type": "code",
   "execution_count": 16,
   "id": "2dab4773",
   "metadata": {},
   "outputs": [
    {
     "name": "stdout",
     "output_type": "stream",
     "text": [
      "Ravi Kiran\n"
     ]
    }
   ],
   "source": [
    "# Define strings\n",
    "a = \"Ravi \"\n",
    "b = \"Kiran\"\n",
    "# concatenation of strings\n",
    "print(a + b)"
   ]
  },
  {
   "cell_type": "code",
   "execution_count": 18,
   "id": "a214bfd6",
   "metadata": {},
   "outputs": [
    {
     "name": "stdout",
     "output_type": "stream",
     "text": [
      "65\n",
      "A\n"
     ]
    }
   ],
   "source": [
    "# Unicode and character representation\n",
    "a = \"A\" # only works for single characters\n",
    "print(ord(a)) # returns the unicode/ASCII value\n",
    "# returning the (unicode/ASCII) character\n",
    "print(chr(65))"
   ]
  },
  {
   "cell_type": "code",
   "execution_count": null,
   "id": "e934810b",
   "metadata": {},
   "outputs": [],
   "source": []
  }
 ],
 "metadata": {
  "kernelspec": {
   "display_name": "Python 3 (ipykernel)",
   "language": "python",
   "name": "python3"
  },
  "language_info": {
   "codemirror_mode": {
    "name": "ipython",
    "version": 3
   },
   "file_extension": ".py",
   "mimetype": "text/x-python",
   "name": "python",
   "nbconvert_exporter": "python",
   "pygments_lexer": "ipython3",
   "version": "3.10.4"
  }
 },
 "nbformat": 4,
 "nbformat_minor": 5
}
