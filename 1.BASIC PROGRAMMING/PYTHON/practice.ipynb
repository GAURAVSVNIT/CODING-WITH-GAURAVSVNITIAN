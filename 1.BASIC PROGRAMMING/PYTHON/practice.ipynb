{
 "cells": [
  {
   "cell_type": "code",
   "execution_count": 3,
   "id": "9735c02c",
   "metadata": {},
   "outputs": [
    {
     "name": "stdout",
     "output_type": "stream",
     "text": [
      "Hello World\n"
     ]
    }
   ],
   "source": [
    "print(\"Hello\"+\" \"+\"World\")"
   ]
  },
  {
   "cell_type": "code",
   "execution_count": null,
   "id": "5d8437f8",
   "metadata": {},
   "outputs": [
    {
     "name": "stdout",
     "output_type": "stream",
     "text": [
      "False\n",
      "False\n",
      "140721867260968\n",
      "140721867323296\n"
     ]
    },
    {
     "ename": "",
     "evalue": "",
     "output_type": "error",
     "traceback": [
      "\u001b[1;31mThe Kernel crashed while executing code in the current cell or a previous cell. \n",
      "\u001b[1;31mPlease review the code in the cell(s) to identify a possible cause of the failure. \n",
      "\u001b[1;31mClick <a href='https://aka.ms/vscodeJupyterKernelCrash'>here</a> for more info. \n",
      "\u001b[1;31mView Jupyter <a href='command:jupyter.viewOutput'>log</a> for further details."
     ]
    }
   ],
   "source": [
    "a=5\n",
    "b=\"5\"\n",
    "print(a is b)\n",
    "print(a==b)\n",
    "print(id(a))\n",
    "print(id(b))"
   ]
  },
  {
   "cell_type": "code",
   "execution_count": 15,
   "id": "bd7c0964",
   "metadata": {},
   "outputs": [
    {
     "name": "stdout",
     "output_type": "stream",
     "text": [
      "{'Dhoni': 74, 'Kohli': 150}\n",
      "dict_values([{'Dhoni': 74, 'Kohli': 150}, {'Dhoni': 29, 'Sachin': 143}, {'Kohli': 80, 'Sachin': 50, 'Rohit': 60}])\n",
      "{'Dhoni': 103, 'Kohli': 230, 'Sachin': 193, 'Rohit': 60}\n"
     ]
    }
   ],
   "source": [
    "def orange_cap(scores):\n",
    "    if not scores:\n",
    "        print(\"No matches played.\")\n",
    "        return\n",
    "\n",
    "    total_runs = {}\n",
    "\n",
    "    for m in scores.values():\n",
    "        for player, runs in m.items():\n",
    "            total_runs[player] = total_runs.get(player, 0) + runs\n",
    "\n",
    "    print(total_runs)  \n",
    "\n",
    "\n",
    "\n",
    "scores = {\n",
    "    \"test1\": {\"Dhoni\": 74, \"Kohli\": 150},\n",
    "    \"test2\": {\"Dhoni\": 29, \"Sachin\": 143},\n",
    "    \"test3\": {\"Kohli\": 80, \"Sachin\": 50, \"Rohit\": 60}\n",
    "}\n",
    "print(scores.get(\"test1\"))\n",
    "print(scores.values())\n",
    "orange_cap(scores)\n"
   ]
  },
  {
   "cell_type": "code",
   "execution_count": 1,
   "id": "67589c51",
   "metadata": {},
   "outputs": [
    {
     "name": "stdout",
     "output_type": "stream",
     "text": [
      "36\n"
     ]
    }
   ],
   "source": [
    "def cfac(n):\n",
    "    count = 0\n",
    "    for i in range(1, n+1):\n",
    "        if n % i == 0:\n",
    "            count += 1\n",
    "    return count\n",
    "\n",
    "T = int(input())\n",
    "for _ in range(T):\n",
    "    n, m = map(int, input().split())\n",
    "    ans = []\n",
    "    for i in range(1, n+1):\n",
    "        if cfac(i) == m:\n",
    "            ans.append(str(i))\n",
    "    print(\",\".join(ans))\n"
   ]
  },
  {
   "cell_type": "code",
   "execution_count": null,
   "id": "8b43cfea",
   "metadata": {},
   "outputs": [],
   "source": [
    "email = input(\"Enter your email: \")\n",
    "if len(email) >= 6:\n",
    "    if email[0].isalpha():\n",
    "        if (\"@\" in email) and (email.count(\"@\") == 1):\n",
    "            if (email[-4] == \".\") ^ (email[-3] == \".\"):\n",
    "                print(\"Valid Email\")\n",
    "            else:\n",
    "                print(\"Wrong Email 4\")\n",
    "        else:\n",
    "            print(\"Wrong Email 3\")\n",
    "    else:\n",
    "        print(\"Wrong Email 2\")\n",
    "else:\n",
    "    print(\"Wrong Email 1\")"
   ]
  },
  {
   "cell_type": "code",
   "execution_count": null,
   "id": "8eb146e7",
   "metadata": {},
   "outputs": [
    {
     "name": "stdout",
     "output_type": "stream",
     "text": [
      "---- Tech Lead Details ----\n",
      "ID: 102\n",
      "Name: Bob\n",
      "Basic Salary: 50000\n",
      "Bonus: 10000\n",
      "Project Allowance: 8000\n",
      "Total Salary: 68000\n"
     ]
    }
   ],
   "source": [
    "class Employee:\n",
    "    def __init__(self, emp_id, name, basic_salary):\n",
    "        self.emp_id = emp_id\n",
    "        self.name = name\n",
    "        self.basic_salary = basic_salary\n",
    "\n",
    "    def display(self):\n",
    "        print(f\"ID: {self.emp_id}\")\n",
    "        print(f\"Name: {self.name}\")\n",
    "        print(f\"Basic Salary: {self.basic_salary}\")\n",
    "\n",
    "class Manager(Employee):\n",
    "    def __init__(self, emp_id, name, basic_salary, bonus):\n",
    "        super().__init__(emp_id, name, basic_salary)\n",
    "        self.bonus = bonus\n",
    "\n",
    "    def display(self):\n",
    "        super().display()\n",
    "        print(f\"Bonus: {self.bonus}\")\n",
    "\n",
    "class Developer(Employee):\n",
    "    def __init__(self, emp_id, name, basic_salary, project_allowance):\n",
    "        super().__init__(emp_id, name, basic_salary)\n",
    "        self.project_allowance = project_allowance\n",
    "\n",
    "    def display(self):\n",
    "        super().display()\n",
    "        print(f\"Project Allowance: {self.project_allowance}\")\n",
    "\n",
    "class TechLead(Manager, Developer):\n",
    "    def __init__(self, emp_id, name, basic_salary, bonus, project_allowance):\n",
    "        Employee.__init__(self, emp_id, name, basic_salary)  \n",
    "        self.bonus = bonus\n",
    "        self.project_allowance = project_allowance\n",
    "\n",
    "    def get_total_salary(self):\n",
    "        return self.basic_salary + self.bonus + self.project_allowance\n",
    "\n",
    "    def display(self):\n",
    "        print(\"---- Tech Lead Details ----\")\n",
    "        Employee.display(self)  \n",
    "        print(f\"Bonus: {self.bonus}\")\n",
    "        print(f\"Project Allowance: {self.project_allowance}\")\n",
    "        print(f\"Total Salary: {self.get_total_salary()}\")\n",
    "\n",
    "techlead = TechLead(emp_id=103, name=\"Alice\", basic_salary=50000, bonus=10000, project_allowance=8000)\n",
    "techlead.display()\n"
   ]
  },
  {
   "cell_type": "code",
   "execution_count": null,
   "id": "0811e548",
   "metadata": {},
   "outputs": [],
   "source": []
  }
 ],
 "metadata": {
  "kernelspec": {
   "display_name": ".venv",
   "language": "python",
   "name": "python3"
  },
  "language_info": {
   "codemirror_mode": {
    "name": "ipython",
    "version": 3
   },
   "file_extension": ".py",
   "mimetype": "text/x-python",
   "name": "python",
   "nbconvert_exporter": "python",
   "pygments_lexer": "ipython3",
   "version": "3.13.1"
  }
 },
 "nbformat": 4,
 "nbformat_minor": 5
}
