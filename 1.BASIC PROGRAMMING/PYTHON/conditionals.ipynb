{
 "cells": [
  {
   "cell_type": "markdown",
   "metadata": {},
   "source": [
    "Questions On Conditionals\n",
    "\n",
    "1.Age Group Classification\n",
    "2.Movie Ticket Pricing\n",
    "3.Grade Calculator\n",
    "4.Leap Year"
   ]
  },
  {
   "cell_type": "code",
   "execution_count": null,
   "metadata": {},
   "outputs": [
    {
     "ename": "",
     "evalue": "",
     "output_type": "error",
     "traceback": [
      "\u001b[1;31mRunning cells with 'my_venv (Python 3.12.6)' requires the ipykernel package.\n",
      "\u001b[1;31mRun the following command to install 'ipykernel' into the Python environment. \n",
      "\u001b[1;31mCommand: 'd:/CODING/my_venv/Scripts/python.exe -m pip install ipykernel -U --force-reinstall'"
     ]
    }
   ],
   "source": [
    "#1.Age Group Classification\n",
    "input_age = int(input(\"Enter your age: \"))\n",
    "if input_age < 0:\n",
    "    print(\"Invalid age\")\n",
    "elif input_age < 13:\n",
    "    print(\"Child\")\n",
    "elif input_age < 19:\n",
    "    print(\"Teen\")\n",
    "elif input_age < 59:\n",
    "    print(\"Adult\")\n",
    "else:\n",
    "    print(\"Senior Citizen\")\n"
   ]
  },
  {
   "cell_type": "code",
   "execution_count": 1,
   "metadata": {},
   "outputs": [
    {
     "ename": "ValueError",
     "evalue": "invalid literal for int() with base 10: ''",
     "output_type": "error",
     "traceback": [
      "\u001b[1;31m---------------------------------------------------------------------------\u001b[0m",
      "\u001b[1;31mValueError\u001b[0m                                Traceback (most recent call last)",
      "Cell \u001b[1;32mIn[1], line 2\u001b[0m\n\u001b[0;32m      1\u001b[0m \u001b[38;5;66;03m#2.Movie Ticket Pricing\u001b[39;00m\n\u001b[1;32m----> 2\u001b[0m input_age \u001b[38;5;241m=\u001b[39m \u001b[38;5;28;43mint\u001b[39;49m\u001b[43m(\u001b[49m\u001b[38;5;28;43minput\u001b[39;49m\u001b[43m(\u001b[49m\u001b[38;5;124;43m\"\u001b[39;49m\u001b[38;5;124;43mEnter your age: \u001b[39;49m\u001b[38;5;124;43m\"\u001b[39;49m\u001b[43m)\u001b[49m\u001b[43m)\u001b[49m\n\u001b[0;32m      3\u001b[0m input_day \u001b[38;5;241m=\u001b[39m \u001b[38;5;28minput\u001b[39m(\u001b[38;5;124m\"\u001b[39m\u001b[38;5;124mEnter the day: \u001b[39m\u001b[38;5;124m\"\u001b[39m)\n\u001b[0;32m      4\u001b[0m \u001b[38;5;28;01mif\u001b[39;00m input_day \u001b[38;5;241m==\u001b[39m \u001b[38;5;124m\"\u001b[39m\u001b[38;5;124mWednesday\u001b[39m\u001b[38;5;124m\"\u001b[39m:\n",
      "\u001b[1;31mValueError\u001b[0m: invalid literal for int() with base 10: ''"
     ]
    }
   ],
   "source": [
    "#2.Movie Ticket Pricing\n",
    "input_age = int(input(\"Enter your age: \"))\n",
    "input_day = input(\"Enter the day: \")\n",
    "if input_day == \"Wednesday\":\n",
    "    if input_age < 0:\n",
    "        print(\"Invalid age\")\n",
    "    elif input_age < 18:\n",
    "        print(\"Ticket Price: $6\")\n",
    "    else:\n",
    "        print(\"Ticket Price: $10\")\n",
    "\n",
    "else:\n",
    "    if input_age < 0:\n",
    "        print(\"Invalid age\")\n",
    "    elif input_age < 18:\n",
    "        print(\"Ticket Price: $8\")\n",
    "    else:\n",
    "        print(\"Ticket Price: $12\")\n",
    "\n",
    "# OR\n",
    "input_age = int(input(\"Enter your age: \"))\n",
    "input_day = input(\"Enter the day: \")\n",
    "price = 12 if input_age >= 18 else 8\n",
    "\n",
    "if input_day == \"Wednesday\":\n",
    "    price -= 2\n",
    "print(f\"Ticket Price: ${price}\")\n",
    "exit()"
   ]
  },
  {
   "cell_type": "code",
   "execution_count": 1,
   "metadata": {},
   "outputs": [
    {
     "name": "stdout",
     "output_type": "stream",
     "text": [
      "Leap Year\n",
      "Not a Leap Year\n"
     ]
    }
   ],
   "source": [
    "# 4.Leap Year\n",
    "# OR\n",
    "input_year = int(input(\"Enter the year: \"))\n",
    "if input_year % 4 == 0 and (input_year % 100 != 0 or input_year % 400 == 0):\n",
    "    print(\"Leap Year\")  \n",
    "else:\n",
    "    print(\"Not a Leap Year\")"
   ]
  }
 ],
 "metadata": {
  "kernelspec": {
   "display_name": "Python 3",
   "language": "python",
   "name": "python3"
  },
  "language_info": {
   "codemirror_mode": {
    "name": "ipython",
    "version": 3
   },
   "file_extension": ".py",
   "mimetype": "text/x-python",
   "name": "python",
   "nbconvert_exporter": "python",
   "pygments_lexer": "ipython3",
   "version": "3.13.0"
  }
 },
 "nbformat": 4,
 "nbformat_minor": 2
}
