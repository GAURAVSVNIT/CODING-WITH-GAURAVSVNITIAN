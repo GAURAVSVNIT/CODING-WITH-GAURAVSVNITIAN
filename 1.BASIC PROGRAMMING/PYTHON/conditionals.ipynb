{
 "cells": [
  {
   "cell_type": "markdown",
   "metadata": {},
   "source": [
    "Questions On Conditionals\n",
    "\n",
    "1.Age Group Classification\n",
    "2.Movie Ticket Pricing\n",
    "3.Grade Calculator\n",
    "4.Leap Year"
   ]
  },
  {
   "cell_type": "code",
   "execution_count": null,
   "metadata": {},
   "outputs": [],
   "source": [
    "#1.Age Group Classification\n",
    "input_age = int(input(\"Enter your age: \"))\n",
    "if input_age < 0:\n",
    "    print(\"Invalid age\")\n",
    "elif input_age < 13:\n",
    "    print(\"Child\")\n",
    "elif input_age < 19:\n",
    "    print(\"Teen\")\n",
    "elif input_age < 59:\n",
    "    print(\"Adult\")\n",
    "else:\n",
    "    print(\"Senior Citizen\")\n"
   ]
  },
  {
   "cell_type": "code",
   "execution_count": null,
   "metadata": {},
   "outputs": [],
   "source": [
    "#2.Movie Ticket Pricing\n",
    "input_age = int(input(\"Enter your age: \"))\n",
    "input_day = input(\"Enter the day: \")\n",
    "if input_day == \"Wednesday\":\n",
    "    if input_age < 0:\n",
    "        print(\"Invalid age\")\n",
    "    elif input_age < 18:\n",
    "        print(\"Ticket Price: $6\")\n",
    "    else:\n",
    "        print(\"Ticket Price: $10\")\n",
    "\n",
    "else:\n",
    "    if input_age < 0:\n",
    "        print(\"Invalid age\")\n",
    "    elif input_age < 18:\n",
    "        print(\"Ticket Price: $8\")\n",
    "    else:\n",
    "        print(\"Ticket Price: $12\")\n",
    "\n",
    "# OR\n",
    "input_age = int(input(\"Enter your age: \"))\n",
    "input_day = input(\"Enter the day: \")\n",
    "price = 12 if input_age >= 18 else 8\n",
    "\n",
    "if input_day == \"Wednesday\":\n",
    "    price -= 2\n",
    "print(f\"Ticket Price: ${price}\")\n",
    "exit()"
   ]
  },
  {
   "cell_type": "code",
   "execution_count": 1,
   "metadata": {},
   "outputs": [
    {
     "name": "stdout",
     "output_type": "stream",
     "text": [
      "Leap Year\n",
      "Not a Leap Year\n"
     ]
    }
   ],
   "source": [
    "# 4.Leap Year\n",
    "# OR\n",
    "input_year = int(input(\"Enter the year: \"))\n",
    "if input_year % 4 == 0 and (input_year % 100 != 0 or input_year % 400 == 0):\n",
    "    print(\"Leap Year\")  \n",
    "else:\n",
    "    print(\"Not a Leap Year\")"
   ]
  }
 ],
 "metadata": {
  "kernelspec": {
   "display_name": "my_venv",
   "language": "python",
   "name": "python3"
  },
  "language_info": {
   "codemirror_mode": {
    "name": "ipython",
    "version": 3
   },
   "file_extension": ".py",
   "mimetype": "text/x-python",
   "name": "python",
   "nbconvert_exporter": "python",
   "pygments_lexer": "ipython3",
   "version": "3.12.6"
  }
 },
 "nbformat": 4,
 "nbformat_minor": 2
}
