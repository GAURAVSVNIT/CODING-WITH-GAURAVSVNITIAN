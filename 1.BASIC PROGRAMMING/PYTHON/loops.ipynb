{
 "cells": [
  {
   "cell_type": "markdown",
   "metadata": {},
   "source": [
    "Loops in Python\n",
    "\n",
    "\n",
    "1.Counting Positive Number\n",
    "\n",
    "2.Multiplication Table Printer\n",
    "\n",
    "3.Reverse a String\n",
    "\n",
    "4.Find the First Non-Repeated Character\n",
    "\n",
    "5.Factorial Calculator\n",
    "\n",
    "6.Prime Number Checker\n",
    "\n",
    "7.Validate Number \n",
    "\n",
    "8.List Uniqueness Checker\n",
    "\n",
    "9.Exponential Backoff\n"
   ]
  },
  {
   "cell_type": "code",
   "execution_count": 1,
   "metadata": {},
   "outputs": [],
   "source": [
    "a=5\n",
    "b=10\n",
    "a__add__b=15\n",
    "def add(a, b):\n",
    "    return a + b"
   ]
  },
  {
   "cell_type": "code",
   "execution_count": 1,
   "metadata": {},
   "outputs": [
    {
     "name": "stdout",
     "output_type": "stream",
     "text": [
      "[1, 3, 5, 6, 9]\n",
      "24\n"
     ]
    }
   ],
   "source": [
    "# 1.Counting Positive Number\n",
    "numbers = [1, -2, 3, -4, 5, 6,- 7, -8, 9]\n",
    "positive_numbers = list(filter(lambda x: x > 0, numbers))\n",
    "print(positive_numbers)\n",
    "positive_numbers = 0\n",
    "for i in numbers:\n",
    "    \n",
    "    if i > 0:\n",
    "        positive_numbers += i\n",
    "print(positive_numbers)"
   ]
  },
  {
   "cell_type": "code",
   "execution_count": 2,
   "metadata": {},
   "outputs": [
    {
     "ename": "ValueError",
     "evalue": "invalid literal for int() with base 10: ''",
     "output_type": "error",
     "traceback": [
      "\u001b[1;31m---------------------------------------------------------------------------\u001b[0m",
      "\u001b[1;31mValueError\u001b[0m                                Traceback (most recent call last)",
      "Cell \u001b[1;32mIn[2], line 2\u001b[0m\n\u001b[0;32m      1\u001b[0m \u001b[38;5;66;03m# 2.Multiplication Table Printer\u001b[39;00m\n\u001b[1;32m----> 2\u001b[0m number \u001b[38;5;241m=\u001b[39m \u001b[38;5;28;43mint\u001b[39;49m\u001b[43m(\u001b[49m\u001b[38;5;28;43minput\u001b[39;49m\u001b[43m(\u001b[49m\u001b[38;5;124;43m\"\u001b[39;49m\u001b[38;5;124;43mEnter the number: \u001b[39;49m\u001b[38;5;124;43m\"\u001b[39;49m\u001b[43m)\u001b[49m\u001b[43m)\u001b[49m\n\u001b[0;32m      3\u001b[0m \u001b[38;5;28;01mfor\u001b[39;00m i \u001b[38;5;129;01min\u001b[39;00m \u001b[38;5;28mrange\u001b[39m(\u001b[38;5;241m1\u001b[39m, \u001b[38;5;241m11\u001b[39m):\n\u001b[0;32m      4\u001b[0m     \u001b[38;5;28;01mif\u001b[39;00m i \u001b[38;5;241m==\u001b[39m \u001b[38;5;241m5\u001b[39m :\n",
      "\u001b[1;31mValueError\u001b[0m: invalid literal for int() with base 10: ''"
     ]
    }
   ],
   "source": [
    "# 2.Multiplication Table Printer\n",
    "number = int(input(\"Enter the number: \"))\n",
    "for i in range(1, 11):\n",
    "    if i == 5 :\n",
    "        continue\n",
    "    print(number, 'x', i, '=', number*i)"
   ]
  },
  {
   "cell_type": "code",
   "execution_count": null,
   "metadata": {},
   "outputs": [],
   "source": [
    "# 3.Reverse a String\n",
    "string = input(\"Enter the string: \")\n",
    "print(string[::-1])\n",
    "\n",
    "reversed_str = ''\n",
    "for i in string:\n",
    "    reversed_str = i + reversed_str"
   ]
  },
  {
   "cell_type": "code",
   "execution_count": null,
   "metadata": {},
   "outputs": [],
   "source": [
    "# 4.Find the First Non-Repeated Character\n",
    "string = input(\"Enter the string: \")\n",
    "for i in string:\n",
    "    if string.count(i) == 1:\n",
    "        print(\"Char is :\",i)\n",
    "        break\n",
    "\n",
    "    "
   ]
  },
  {
   "cell_type": "code",
   "execution_count": null,
   "metadata": {},
   "outputs": [],
   "source": [
    "# 5. Factorial Finder\n",
    "number = int(input(\"Enter the number: \"))\n",
    "factorial = 1\n",
    "while number > 0:\n",
    "    factorial *= number\n",
    "    number -= 1\n",
    "\n",
    "print(\"Factorial is: \",factorial)"
   ]
  },
  {
   "cell_type": "code",
   "execution_count": null,
   "metadata": {},
   "outputs": [],
   "source": [
    "# 7.Validate Number\n",
    "\n",
    "number = input(\"Enter the number: \")\n",
    "while True:\n",
    "    if number.isdigit():\n",
    "        if 1 <= int(number) <= 10:\n",
    "            print(\"Valid Number\")\n",
    "            break\n",
    "        else:\n",
    "            print(\"Invalid Number\")\n",
    "            number = input(\"Enter the number: \")\n",
    "    else:\n",
    "        print(\"Invalid Number\")\n",
    "        number = input(\"Enter the number: \")\n",
    "\n",
    "        "
   ]
  },
  {
   "cell_type": "code",
   "execution_count": null,
   "metadata": {},
   "outputs": [],
   "source": [
    "# 8.List Uniqueness Checker\n",
    "\n",
    "Fruits = ['Apple', 'Banana', 'Orange', 'Apple', 'Grapes', 'Banana']\n",
    "unique = set()\n",
    "for i in Fruits:\n",
    "    if i in unique:\n",
    "        print(\"Not Unique\")\n",
    "        break\n",
    "    else:\n",
    "        unique.add(i)"
   ]
  },
  {
   "cell_type": "code",
   "execution_count": 2,
   "metadata": {},
   "outputs": [
    {
     "name": "stdout",
     "output_type": "stream",
     "text": [
      "Attempt 1\n",
      "Attempt 2\n",
      "Attempt 3\n",
      "Attempt 4\n",
      "Attempt 5\n"
     ]
    }
   ],
   "source": [
    "# 9.Exponetial Backoff\n",
    "\n",
    "import time\n",
    "\n",
    "wait_time = 1\n",
    "max_retries = 5\n",
    "attempts = 0\n",
    "\n",
    "while attempts < max_retries: \n",
    "        print(\"Attempt\", attempts + 1) , \"Wait Time\", wait_time\n",
    "        attempts += 1\n",
    "        time.sleep(wait_time)\n",
    "        wait_time *= 2"
   ]
  }
 ],
 "metadata": {
  "kernelspec": {
   "display_name": ".venv",
   "language": "python",
   "name": "python3"
  },
  "language_info": {
   "codemirror_mode": {
    "name": "ipython",
    "version": 3
   },
   "file_extension": ".py",
   "mimetype": "text/x-python",
   "name": "python",
   "nbconvert_exporter": "python",
   "pygments_lexer": "ipython3",
   "version": "3.13.1"
  }
 },
 "nbformat": 4,
 "nbformat_minor": 2
}
