{
 "cells": [
  {
   "cell_type": "markdown",
   "metadata": {},
   "source": [
    "Loops in Python\n",
    "\n",
    "\n",
    "1.Counting Positive Number\n",
    "\n",
    "2.Multiplication Table Printer\n",
    "\n",
    "3.Reverse a String\n",
    "\n",
    "4.Find the First Non-Repeated Character\n",
    "\n",
    "5.Factorial Calculator\n",
    "\n",
    "6.Prime Number Checker\n",
    "\n",
    "7.Validate Number \n",
    "\n",
    "8.List Uniqueness Checker\n",
    "\n",
    "9.Exponential Backoff\n"
   ]
  },
  {
   "cell_type": "code",
   "execution_count": null,
   "metadata": {},
   "outputs": [],
   "source": [
    "# 1.Counting Positive Number\n",
    "numbers = [1, -2, 3, -4, 5, 6,- 7, -8, 9]\n",
    "positive_numbers = list(filter(lambda x: x > 0, numbers))\n",
    "print(positive_numbers)\n",
    "positive_numbers = 0\n",
    "for i in numbers:\n",
    "    if i > 0:\n",
    "        positive_numbers += i\n",
    "print(positive_numbers)"
   ]
  },
  {
   "cell_type": "code",
   "execution_count": null,
   "metadata": {},
   "outputs": [],
   "source": [
    "# 2.Multiplication Table Printer\n",
    "number = int(input(\"Enter the number: \"))\n",
    "for i in range(1, 11):\n",
    "    if i == 5 :\n",
    "        continue\n",
    "    print(number, 'x', i, '=', number*i)"
   ]
  },
  {
   "cell_type": "code",
   "execution_count": null,
   "metadata": {},
   "outputs": [],
   "source": [
    "# 3.Reverse a String\n",
    "string = input(\"Enter the string: \")\n",
    "print(string[::-1])\n",
    "\n",
    "reversed_str = ''\n",
    "for i in string:\n",
    "    reversed_str = i + reversed_str"
   ]
  },
  {
   "cell_type": "code",
   "execution_count": null,
   "metadata": {},
   "outputs": [],
   "source": [
    "# 4.Find the First Non-Repeated Character\n",
    "string = input(\"Enter the string: \")\n",
    "for i in string:\n",
    "    if string.count(i) == 1:\n",
    "        print(\"Char is :\",i)\n",
    "        break\n",
    "\n",
    "    "
   ]
  },
  {
   "cell_type": "code",
   "execution_count": null,
   "metadata": {},
   "outputs": [],
   "source": [
    "# 5. Factorial Finder\n",
    "number = int(input(\"Enter the number: \"))\n",
    "factorial = 1\n",
    "while number > 0:\n",
    "    factorial *= number\n",
    "    number -= 1\n",
    "\n",
    "print(\"Factorial is: \",factorial)"
   ]
  },
  {
   "cell_type": "code",
   "execution_count": null,
   "metadata": {},
   "outputs": [],
   "source": [
    "# 7.Validate Number\n",
    "\n",
    "number = input(\"Enter the number: \")\n",
    "while True:\n",
    "    if number.isdigit():\n",
    "        if 1 <= int(number) <= 10:\n",
    "            print(\"Valid Number\")\n",
    "            break\n",
    "        else:\n",
    "            print(\"Invalid Number\")\n",
    "            number = input(\"Enter the number: \")\n",
    "    else:\n",
    "        print(\"Invalid Number\")\n",
    "        number = input(\"Enter the number: \")\n",
    "\n",
    "        "
   ]
  },
  {
   "cell_type": "code",
   "execution_count": null,
   "metadata": {},
   "outputs": [],
   "source": [
    "# 8.List Uniqueness Checker\n",
    "\n",
    "Fruits = ['Apple', 'Banana', 'Orange', 'Apple', 'Grapes', 'Banana']\n",
    "unique = set()\n",
    "for i in Fruits:\n",
    "    if i in unique:\n",
    "        print(\"Not Unique\")\n",
    "        break\n",
    "    else:\n",
    "        unique.add(i)"
   ]
  },
  {
   "cell_type": "code",
   "execution_count": 2,
   "metadata": {},
   "outputs": [
    {
     "name": "stdout",
     "output_type": "stream",
     "text": [
      "Attempt 1\n",
      "Attempt 2\n",
      "Attempt 3\n",
      "Attempt 4\n",
      "Attempt 5\n"
     ]
    }
   ],
   "source": [
    "# 9.Exponetial Backoff\n",
    "\n",
    "import time\n",
    "\n",
    "wait_time = 1\n",
    "max_retries = 5\n",
    "attempts = 0\n",
    "\n",
    "while attempts < max_retries: \n",
    "        print(\"Attempt\", attempts + 1) , \"Wait Time\", wait_time\n",
    "        attempts += 1\n",
    "        time.sleep(wait_time)\n",
    "        wait_time *= 2"
   ]
  }
 ],
 "metadata": {
  "kernelspec": {
   "display_name": "my_venv",
   "language": "python",
   "name": "python3"
  },
  "language_info": {
   "codemirror_mode": {
    "name": "ipython",
    "version": 3
   },
   "file_extension": ".py",
   "mimetype": "text/x-python",
   "name": "python",
   "nbconvert_exporter": "python",
   "pygments_lexer": "ipython3",
   "version": "3.12.6"
  }
 },
 "nbformat": 4,
 "nbformat_minor": 2
}
