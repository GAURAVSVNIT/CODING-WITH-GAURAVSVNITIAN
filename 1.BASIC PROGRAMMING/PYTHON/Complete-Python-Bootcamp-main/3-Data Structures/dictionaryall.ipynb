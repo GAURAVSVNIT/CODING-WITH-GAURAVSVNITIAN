{
 "cells": [
  {
   "cell_type": "markdown",
   "metadata": {},
   "source": [
    "- Dictionary is a data structure in which we store values as pair of key and value \n",
    "- The entire items in a dictionary are enclosed in curly brackets {}.\n",
    "- dictionary_name = {key_1:value_1,key_2:value_2,key_3:value_3} \n",
    "- The dict() create a dictionary directly from sequence of key value pair.\n"
   ]
  },
  {
   "cell_type": "code",
   "execution_count": 3,
   "metadata": {},
   "outputs": [
    {
     "name": "stdout",
     "output_type": "stream",
     "text": [
      "{'Roll_no': '11', 'Name': 'praveen'}\n"
     ]
    }
   ],
   "source": [
    "print(dict([('Roll_no','11'),('Name','praveen')]))"
   ]
  },
  {
   "cell_type": "markdown",
   "metadata": {},
   "source": [
    "- Dictionary comprehension is a syntactic construct which creates a dictionary based on exiting dictionary\n",
    "- D = {expression for variable in sequence [if condition]}"
   ]
  },
  {
   "cell_type": "markdown",
   "metadata": {},
   "source": []
  },
  {
   "cell_type": "code",
   "execution_count": 5,
   "metadata": {},
   "outputs": [
    {
     "name": "stdout",
     "output_type": "stream",
     "text": [
      "{1: 2, 2: 4, 3: 6, 4: 8, 5: 10, 6: 12, 7: 14, 8: 16, 9: 18}\n"
     ]
    }
   ],
   "source": [
    "dict = {x : 2*x for x in range(1,10)}\n",
    "print(dict)"
   ]
  },
  {
   "cell_type": "markdown",
   "metadata": {},
   "source": [
    "# Program to add a new item in the dictionary"
   ]
  },
  {
   "cell_type": "code",
   "execution_count": 3,
   "metadata": {},
   "outputs": [
    {
     "name": "stdout",
     "output_type": "stream",
     "text": [
      "dict[Roll_no] = 16/001\n",
      "Dict[Name] BTech\n",
      "Dict[COURSE] BTech\n",
      "dict[MARKS]= 99\n",
      "{'Roll_no': '16/001', 'Name': 'Praveen', 'Course': 'MTech', 'Marks': 99}\n",
      "{'Roll_no': '16/001', 'Name': 'Praveen', 'Course': 'MTech', 'Marks': 99, 'd': 'd'}\n"
     ]
    }
   ],
   "source": [
    "dict ={'Roll_no':'16/001','Name':'Praveen','Course':'BTech'}\n",
    "print(\"dict[Roll_no] =\",dict['Roll_no'])\n",
    "print(\"Dict[Name]\",dict['Course'])\n",
    "print(\"Dict[COURSE]\",dict['Course'])\n",
    "dict['Marks']=99\n",
    "print(\"dict[MARKS]=\",dict['Marks'])\n",
    "dict['Course']='MTech'\n",
    "print(dict)\n",
    "dict.setdefault('d','d')\n",
    "print(dict)"
   ]
  },
  {
   "cell_type": "markdown",
   "metadata": {},
   "source": [
    "# Sorting items in a Dictionary\n",
    "- The keys() method of dictionry return a list of all  the  keys used in the dictionary in an arbitrary order.\n",
    "- sorted() function is used to sort the keys "
   ]
  },
  {
   "cell_type": "code",
   "execution_count": 15,
   "metadata": {},
   "outputs": [
    {
     "name": "stdout",
     "output_type": "stream",
     "text": [
      "['Course', 'Name', 'Roll_No']\n"
     ]
    }
   ],
   "source": [
    "dict ={'Roll_No':'16/001','Name':'Praveen','Course':'BTech'}\n",
    "print(sorted(dict.keys()))"
   ]
  },
  {
   "cell_type": "markdown",
   "metadata": {},
   "source": [
    "# Looping over a Dictionary"
   ]
  },
  {
   "cell_type": "code",
   "execution_count": 24,
   "metadata": {},
   "outputs": [
    {
     "name": "stdout",
     "output_type": "stream",
     "text": [
      "Keys :Roll_No Name Course \n",
      "Values : 16/001\n",
      "Praveen\n",
      "BTech\n",
      "\n",
      " DICTIONARY : Roll_No 16/001 \t Name Praveen \t Course BTech \t "
     ]
    }
   ],
   "source": [
    "dict ={'Roll_No':'16/001','Name':'Praveen','Course':'BTech'}\n",
    "print(\"Keys :\",end=\"\")\n",
    "for key in dict:\n",
    "    print(key,end=' ') # accessing only keys\n",
    "print(\"\\nValues :\",end=\" \")\n",
    "for val in dict.values():\n",
    "    print(val)\n",
    "print('\\n DICTIONARY :',end=' ')\n",
    "for key,val in dict.items():\n",
    "    print(key,val,\"\\t\",end=' ')"
   ]
  },
  {
   "cell_type": "markdown",
   "metadata": {},
   "source": [
    "# Nested Dictionary"
   ]
  },
  {
   "cell_type": "code",
   "execution_count": 27,
   "metadata": {},
   "outputs": [
    {
     "name": "stdout",
     "output_type": "stream",
     "text": [
      "ankit {'cs': 90, 'ds': 67, 'csa': 92}\n",
      "amit {'cs': 91, 'ds': 89, 'csa': 56}\n"
     ]
    }
   ],
   "source": [
    "student ={ \n",
    "            'ankit': {'cs':90,'ds':67,'csa':92},\n",
    "             'amit': {'cs':91,'ds':89,'csa':56}\n",
    "         }\n",
    "for key,val in student.items():\n",
    "        print(key,val)"
   ]
  },
  {
   "cell_type": "markdown",
   "metadata": {},
   "source": [
    "# Program to that creats a dictionary of radius of circle and its circumference .\n"
   ]
  },
  {
   "cell_type": "code",
   "execution_count": 28,
   "metadata": {},
   "outputs": [
    {
     "name": "stdout",
     "output_type": "stream",
     "text": [
      "Entrer -1 to exit\n",
      "enter radius :6\n",
      "enter radius :6\n",
      "enter radius :7\n",
      "enter radius :9\n",
      "enter radius :0\n",
      "enter radius :-1\n",
      "{6.0: 37.68, 7.0: 43.96, 9.0: 56.52, 0.0: 0.0}\n"
     ]
    }
   ],
   "source": [
    "print(\"Entrer -1 to exit\")\n",
    "circumference={}\n",
    "while True:\n",
    "    r = float(input(\"enter radius :\"))\n",
    "    if r==-1:\n",
    "        break\n",
    "    else :\n",
    "        dict={r:2*3.14*r}\n",
    "        circumference.update(dict)\n",
    "print(circumference)"
   ]
  },
  {
   "cell_type": "code",
   "execution_count": null,
   "metadata": {
    "collapsed": true
   },
   "outputs": [],
   "source": []
  }
 ],
 "metadata": {
  "kernelspec": {
   "display_name": "Python 3",
   "language": "python",
   "name": "python3"
  },
  "language_info": {
   "codemirror_mode": {
    "name": "ipython",
    "version": 3
   },
   "file_extension": ".py",
   "mimetype": "text/x-python",
   "name": "python",
   "nbconvert_exporter": "python",
   "pygments_lexer": "ipython3",
   "version": "3.6.2"
  }
 },
 "nbformat": 4,
 "nbformat_minor": 2
}
