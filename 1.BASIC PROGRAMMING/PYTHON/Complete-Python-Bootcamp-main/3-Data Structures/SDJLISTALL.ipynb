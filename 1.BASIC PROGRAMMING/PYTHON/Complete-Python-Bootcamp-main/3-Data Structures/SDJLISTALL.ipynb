{
 "cells": [
  {
   "cell_type": "markdown",
   "metadata": {},
   "source": [
    "# Program to demostrate the slice operation used to access the elements of the list\n"
   ]
  },
  {
   "cell_type": "code",
   "execution_count": 7,
   "metadata": {},
   "outputs": [
    {
     "name": "stdout",
     "output_type": "stream",
     "text": [
      "Num list is  [1, 2, 3, 4, 5, 6, 7, 8, 9, 10]\n"
     ]
    }
   ],
   "source": [
    "num_list=[1,2,3,4,5,6,7,8,9,10]\n",
    "print(\"Num list is \",num_list)"
   ]
  },
  {
   "cell_type": "code",
   "execution_count": 11,
   "metadata": {},
   "outputs": [
    {
     "name": "stdout",
     "output_type": "stream",
     "text": [
      "First Element in the List    1\n",
      "num list[2:5] [3, 4, 5]\n",
      "Num_list[::2]= [1, 3, 5, 7, 9]\n",
      "Num_list[1::2]= [2, 5, 8]\n"
     ]
    }
   ],
   "source": [
    "print(\"First Element in the List   \",num_list[0])\n",
    "print(\"num list[2:5]\",num_list[2:5])\n",
    "print(\"Num_list[::2]=\",num_list[::2])\n",
    "print(\"Num_list[1::2]=\",num_list[1::3])"
   ]
  },
  {
   "cell_type": "markdown",
   "metadata": {},
   "source": [
    " # Program to illustrate update value in a list"
   ]
  },
  {
   "cell_type": "code",
   "execution_count": 16,
   "metadata": {},
   "outputs": [
    {
     "name": "stdout",
     "output_type": "stream",
     "text": [
      " list is  [1, 2, 3, 4, 5, 6, 7, 8, 9, 10]\n",
      "List after update is  [1, 2, 3, 4, 5, 100, 7, 8, 9, 10]\n",
      "Num list is  [1, 2, 3, 4, 5, 100, 7, 8, 9, 10, 200]\n",
      "List after deleting a value is  [1, 2, 3, 5, 100, 7, 8, 9, 10, 200]\n",
      "List after deleting a value is  [1, 2, 7, 8, 9, 10, 200]\n"
     ]
    }
   ],
   "source": [
    "num_list=[1,2,3,4,5,6,7,8,9,10]\n",
    "print(\" list is \",num_list)\n",
    "num_list[5] =100\n",
    "print(\"List after update is \",num_list)\n",
    "num_list.append(200)\n",
    "print(\"Num list is \",num_list)\n",
    "del num_list[3]\n",
    "print(\"List after deleting a value is \",num_list)\n",
    "del num_list[2:5]  # delete list value for index 2 to 4 not include 5 index value\n",
    "print(\"List after deleting a value is \",num_list)\n"
   ]
  },
  {
   "cell_type": "markdown",
   "metadata": {},
   "source": [
    "# Program illustrate nested list\n"
   ]
  },
  {
   "cell_type": "code",
   "execution_count": 10,
   "metadata": {},
   "outputs": [
    {
     "name": "stdout",
     "output_type": "stream",
     "text": [
      "List1[ 0 ]= [[1, 3, 4, 5], [1, 2]]\n",
      "List1[ 1 ]= [[3, 4, 5, 6], [2, 3, 5, 6]]\n",
      "List1[ 2 ]= [[(1, 3), (3, 5), (7, 8)], [4, 5]]\n",
      "3\n"
     ]
    }
   ],
   "source": [
    "list1=[[[1,3,4,5],[1,2]],[[3,4,5,6],[2,3,5,6]]]\n",
    "list1.append([[(1,3),(3,5),(7,8)],[4,5]])\n",
    "i=0\n",
    "while i<len(list1):\n",
    "    print(\"List1[\",i,\"]=\",list1[i])\n",
    "    i+=1\n",
    "print(len(list1[2][0]))"
   ]
  },
  {
   "cell_type": "markdown",
   "metadata": {},
   "source": [
    " # Program to  create a copy as well as the clone of the original list"
   ]
  },
  {
   "cell_type": "code",
   "execution_count": 22,
   "metadata": {},
   "outputs": [
    {
     "name": "stdout",
     "output_type": "stream",
     "text": [
      "List1  [1, 2, 3, 4, 5, 6, 7]\n",
      "List2 [1, 2, 3, 4, 5, 6, 7]\n",
      "List3 [3, 4, 5]\n"
     ]
    }
   ],
   "source": [
    "list1=[1,2,3,4,5,6,7]\n",
    "list2 = list1\n",
    "print(\"List1 \",list1)\n",
    "print(\"List2\",list2)\n",
    "list3 = list1[2:5]\n",
    "print(\"List3\",list3)\n"
   ]
  },
  {
   "cell_type": "markdown",
   "metadata": {},
   "source": [
    "# Program to show the sort() list element"
   ]
  },
  {
   "cell_type": "code",
   "execution_count": 2,
   "metadata": {},
   "outputs": [
    {
     "name": "stdout",
     "output_type": "stream",
     "text": [
      "['1', '2', 'B', 'a', 'abc', 'def']\n"
     ]
    }
   ],
   "source": [
    "list1 =['1','a','abc','2','B','def']\n",
    "list1.sort() # sort() method  used ASCII value to sort the values in the list\n",
    "print(list1)"
   ]
  },
  {
   "cell_type": "markdown",
   "metadata": {},
   "source": [
    "# Program to illustrate operation on a stack(using list as stack)\n"
   ]
  },
  {
   "cell_type": "code",
   "execution_count": 39,
   "metadata": {},
   "outputs": [
    {
     "name": "stdout",
     "output_type": "stream",
     "text": [
      "Original Stack is : [100, 200, 300, 400, 500, 600]\n",
      "Stack after push element in  Stack is : [100, 200, 300, 400, 500, 600, 700]\n",
      "Stack after pop element in  Stack is : [100, 200, 300, 400, 500, 600]\n",
      "Value obtained after peep operation is :\n"
     ]
    },
    {
     "data": {
      "text/plain": [
       "600"
      ]
     },
     "execution_count": 39,
     "metadata": {},
     "output_type": "execute_result"
    }
   ],
   "source": [
    "stack=[100,200,300,400,500,600]\n",
    "print(\"Original Stack is :\",stack)\n",
    "stack.append(700)\n",
    "print(\"Stack after push element in  Stack is :\",stack)\n",
    "stack.pop()\n",
    "print(\"Stack after pop element in  Stack is :\",stack)\n",
    "last_element_index = len(stack)-1\n",
    "print(\"Value obtained after peep operation is :\",)\n",
    "stack[last_element_index]\n",
    "\n",
    "\n",
    "#Note :The del statement and the pop() method does the same thing. difference between them is that pop()\n",
    "#return the removed item\n"
   ]
  },
  {
   "cell_type": "markdown",
   "metadata": {},
   "source": [
    "# Program to show the implementation of a queue using list data structure"
   ]
  },
  {
   "cell_type": "markdown",
   "metadata": {},
   "source": [
    "queue=[1,2,3,4,5,6]\n",
    "print(\"Original Queue is \",queue)\n",
    "queue.append(7)\n",
    "print(\"Queue after insertion is\",queue)\n",
    "queue.pop(0)\n",
    "print(\"Queue after delete is :\",queue)\n",
    "print(\"Value  obtained after peep operation is\",queue[(len(queue)-1)])"
   ]
  },
  {
   "cell_type": "markdown",
   "metadata": {},
   "source": [
    "# Program  to combine three lines of code into one(List Compression)\n",
    "# list =[expression for varible in sequence]"
   ]
  },
  {
   "cell_type": "code",
   "execution_count": 43,
   "metadata": {},
   "outputs": [
    {
     "name": "stdout",
     "output_type": "stream",
     "text": [
      "[0, 1, 8, 27, 64, 125, 216, 343, 512, 729, 1000]\n"
     ]
    }
   ],
   "source": [
    "cube=[i**3 for i in range(11)]\n",
    "print(cube)"
   ]
  },
  {
   "cell_type": "markdown",
   "metadata": {},
   "source": [
    "# Program to combine and print elements of two list using list comprehension"
   ]
  },
  {
   "cell_type": "code",
   "execution_count": 44,
   "metadata": {},
   "outputs": [
    {
     "name": "stdout",
     "output_type": "stream",
     "text": [
      "[(10, 30), (10, 40), (20, 30), (20, 10), (20, 40), (30, 10), (30, 40)]\n"
     ]
    }
   ],
   "source": [
    "print([(x,y) for x in [10,20,30] for y in [30,10,40] if x!=y] )"
   ]
  },
  {
   "cell_type": "code",
   "execution_count": 12,
   "metadata": {},
   "outputs": [
    {
     "name": "stdout",
     "output_type": "stream",
     "text": [
      "0\n",
      "1\n",
      "2\n",
      "3\n",
      "4\n",
      "0\n",
      "1\n",
      "2\n",
      "3\n",
      "4\n"
     ]
    }
   ],
   "source": [
    "from array import array\n",
    "listA = list(range(0,5))\n",
    "for item in listA:\n",
    "    print(item)\n",
    "arrayA = array(\"i\", listA)\n",
    "for item in arrayA:\n",
    "    print(item)"
   ]
  },
  {
   "cell_type": "code",
   "execution_count": 30,
   "metadata": {},
   "outputs": [
    {
     "name": "stdout",
     "output_type": "stream",
     "text": [
      "[[[0.44468541, -0.80929881, 0.09252818, 0.61949924, 0.93312086, 0.66265084, -0.06055091, 0.10337879, -0.28301609, 0.78255347]], [[0.40173856, -1.47123106, 0.78252329, 1.09096851, 0.29170062, 1.20907384, 0.59024852, 1.93484774, 1.09650167, -0.06866256]]]\n"
     ]
    }
   ],
   "source": [
    "import numpy as np\n",
    "l=[[[ 0.44468541, -0.80929881,  0.09252818,  0.61949924,  0.93312086,\n",
    "         0.66265084, -0.06055091,  0.10337879, -0.28301609,  0.78255347]],\n",
    "       [[ 0.40173856, -1.47123106,  0.78252329,  1.09096851,  0.29170062,\n",
    "         1.20907384,  0.59024852,  1.93484774,  1.09650167, -0.06866256]]]\n",
    "print(l)"
   ]
  },
  {
   "cell_type": "code",
   "execution_count": 31,
   "metadata": {},
   "outputs": [
    {
     "name": "stdout",
     "output_type": "stream",
     "text": [
      "[[[ 0.44468541 -0.80929881  0.09252818  0.61949924  0.93312086  0.66265084\n",
      "   -0.06055091  0.10337879 -0.28301609  0.78255347]]\n",
      "\n",
      " [[ 0.40173856 -1.47123106  0.78252329  1.09096851  0.29170062  1.20907384\n",
      "    0.59024852  1.93484774  1.09650167 -0.06866256]]]\n",
      "(2, 1, 10)\n"
     ]
    }
   ],
   "source": [
    "ll= np.asarray(l)\n",
    "print(ll)\n",
    "print(ll.shape)"
   ]
  },
  {
   "cell_type": "code",
   "execution_count": 29,
   "metadata": {},
   "outputs": [
    {
     "name": "stdout",
     "output_type": "stream",
     "text": [
      "[[[ 0.  0.  0.]\n",
      "  [ 0.  0.  0.]\n",
      "  [ 0.  0.  0.]]\n",
      "\n",
      " [[ 0.  0.  0.]\n",
      "  [ 0.  0.  0.]\n",
      "  [ 0.  0.  0.]]\n",
      "\n",
      " [[ 0.  0.  0.]\n",
      "  [ 0.  0.  0.]\n",
      "  [ 0.  0.  0.]]]\n"
     ]
    }
   ],
   "source": [
    "lz = np.zeros((3,3,3))\n",
    "print(lz)"
   ]
  },
  {
   "cell_type": "code",
   "execution_count": 38,
   "metadata": {},
   "outputs": [
    {
     "name": "stdout",
     "output_type": "stream",
     "text": [
      "9\n"
     ]
    }
   ],
   "source": [
    "for i in  range(9,8,-1):\n",
    "    print(i)"
   ]
  },
  {
   "cell_type": "code",
   "execution_count": 33,
   "metadata": {},
   "outputs": [
    {
     "name": "stdout",
     "output_type": "stream",
     "text": [
      "range(10, 1, -1)\n"
     ]
    }
   ],
   "source": [
    "print(l)"
   ]
  },
  {
   "cell_type": "code",
   "execution_count": 39,
   "metadata": {},
   "outputs": [
    {
     "name": "stdout",
     "output_type": "stream",
     "text": [
      "[[1, 2, 3], [4, 5, 6]]\n"
     ]
    }
   ],
   "source": [
    "a=[[1,2,3],[4,5,6]]\n",
    "print(a)"
   ]
  },
  {
   "cell_type": "code",
   "execution_count": 40,
   "metadata": {},
   "outputs": [
    {
     "name": "stdout",
     "output_type": "stream",
     "text": [
      "3.5\n"
     ]
    }
   ],
   "source": [
    "print(np.mean(a))"
   ]
  },
  {
   "cell_type": "code",
   "execution_count": null,
   "metadata": {
    "collapsed": true
   },
   "outputs": [],
   "source": []
  }
 ],
 "metadata": {
  "kernelspec": {
   "display_name": "Python 3",
   "language": "python",
   "name": "python3"
  },
  "language_info": {
   "codemirror_mode": {
    "name": "ipython",
    "version": 3
   },
   "file_extension": ".py",
   "mimetype": "text/x-python",
   "name": "python",
   "nbconvert_exporter": "python",
   "pygments_lexer": "ipython3",
   "version": "3.6.2"
  }
 },
 "nbformat": 4,
 "nbformat_minor": 2
}
