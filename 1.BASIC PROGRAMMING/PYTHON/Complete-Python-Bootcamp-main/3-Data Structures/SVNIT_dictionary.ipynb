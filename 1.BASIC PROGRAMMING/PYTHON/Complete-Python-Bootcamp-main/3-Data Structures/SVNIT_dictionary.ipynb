{
 "cells": [
  {
   "cell_type": "markdown",
   "metadata": {},
   "source": [
    "## A dictionary is a collection of key-value pairs, where each key must be unique and immutable (e.g., a string, number, or tuple). Python provides several built-in methods to manipulate dictionaries efficiently.\n",
    "- Python dictionary is an unordered collection of items. \n",
    "- Dictionaries are optimized to retrieve values when the key is known.\n",
    "\n"
   ]
  },
  {
   "cell_type": "code",
   "execution_count": 1,
   "metadata": {},
   "outputs": [
    {
     "name": "stdout",
     "output_type": "stream",
     "text": [
      "{1: 'apple', 2: 'ball'}\n",
      "{'name': 'john', 1: [2, 4, 3]}\n"
     ]
    }
   ],
   "source": [
    "# empyty dictionay\n",
    "my_dict={}\n",
    "#dictionaly with intergar keys\n",
    "my_dict={1:'apple',2:'ball'}\n",
    "print(my_dict)\n",
    "#dictionay with mixed keys\n",
    "my_dict={'name':'john',1:[2,4,3]}\n",
    "print(my_dict)\n",
    "#we can also create a dictionary using the built-in function dict()."
   ]
  },
  {
   "cell_type": "code",
   "execution_count": null,
   "metadata": {},
   "outputs": [],
   "source": []
  },
  {
   "cell_type": "code",
   "execution_count": 19,
   "metadata": {},
   "outputs": [
    {
     "name": "stdout",
     "output_type": "stream",
     "text": [
      "jack\n"
     ]
    }
   ],
   "source": [
    "my_dict={'name':'jack','age':26,'None':'None',None:None}\n",
    "print(my_dict['name'])\n",
    "# print(my_dict['name'])"
   ]
  },
  {
   "cell_type": "code",
   "execution_count": 23,
   "metadata": {},
   "outputs": [
    {
     "name": "stdout",
     "output_type": "stream",
     "text": [
      "None\n",
      "None\n",
      "None\n"
     ]
    }
   ],
   "source": [
    "print(my_dict.get('age1'))\n",
    "print(my_dict.get('None'))\n",
    "print(my_dict.get(None))"
   ]
  },
  {
   "cell_type": "markdown",
   "metadata": {},
   "source": [
    "# how to change or add elements in a dictionary?"
   ]
  },
  {
   "cell_type": "code",
   "execution_count": 25,
   "metadata": {},
   "outputs": [
    {
     "name": "stdout",
     "output_type": "stream",
     "text": [
      "{'name': 'Jack', 'age': 27}\n",
      "{'name': 'Jack', 'age': 27, 'address': 'Jaipur Malviya Nagar'}\n"
     ]
    }
   ],
   "source": [
    "my_dict={'name':'Jack','age':26}\n",
    "my_dict['age']=27\n",
    "print(my_dict)\n",
    "my_dict['address']='Jaipur Malviya Nagar'\n",
    "print(my_dict)"
   ]
  },
  {
   "cell_type": "code",
   "execution_count": 31,
   "metadata": {},
   "outputs": [
    {
     "name": "stdout",
     "output_type": "stream",
     "text": [
      "16\n",
      "{1: 1, 2: 4, 3: 9, 5: 25}\n",
      "(5, 25)\n",
      "{1: 1, 2: 4, 3: 9}\n",
      "{1: 1, 3: 9}\n",
      "{}\n"
     ]
    }
   ],
   "source": [
    "# create a dictionary\n",
    "squares = {1:1, 2:4, 3:9, 4:16, 5:25}  \n",
    "# remove a particular item\n",
    "# Output: 16\n",
    "print(squares.pop(4))  \n",
    "# Output: {1: 1, 2: 4, 3: 9, 5: 25}\n",
    "print(squares)\n",
    "\n",
    "# remove an arbitrary item\n",
    "# Output: (1, 1)\n",
    "print(squares.popitem())\n",
    "# Output: {2: 4, 3: 9, 5: 25}\n",
    "print(squares)\n",
    "# delete a particular item\n",
    "del squares[2]  \n",
    "# Output: {2: 4, 3: 9}\n",
    "print(squares)\n",
    "# remove all items\n",
    "squares.clear()\n",
    "# Output: {}\n",
    "print(squares)\n",
    "# delete the dictionary itself\n",
    "del squares\n",
    "\n",
    "# Throws Error\n",
    "# print(squares)"
   ]
  },
  {
   "cell_type": "markdown",
   "metadata": {},
   "source": [
    "# Python Dictionary Comprehension"
   ]
  },
  {
   "cell_type": "code",
   "execution_count": 12,
   "metadata": {},
   "outputs": [
    {
     "name": "stdout",
     "output_type": "stream",
     "text": [
      "{0: 0, 1: 1, 2: 4, 3: 9, 4: 16, 5: 25}\n",
      "{1: 1, 3: 9, 5: 25, 7: 49, 9: 81}\n"
     ]
    }
   ],
   "source": [
    "squares={x:x*x for x  in range(6)}\n",
    "print(squares)\n",
    "#A dictionary comprehension can optionally contain more for or if statements.\n",
    "odd_squares={x:x*x for x in range(11) if x%2==1}\n",
    "print(odd_squares)"
   ]
  },
  {
   "cell_type": "markdown",
   "metadata": {},
   "source": [
    "# Iterating Through a Dictionary"
   ]
  },
  {
   "cell_type": "code",
   "execution_count": 33,
   "metadata": {},
   "outputs": [
    {
     "name": "stdout",
     "output_type": "stream",
     "text": [
      "1\n",
      "9\n",
      "25\n",
      "49\n",
      "81\n"
     ]
    }
   ],
   "source": [
    "squares = {1: 1, 3: 9, 5: 25, 7: 49, 9: 81}\n",
    "for i in squares:\n",
    "    print(squares[i])"
   ]
  },
  {
   "cell_type": "markdown",
   "metadata": {},
   "source": [
    "# Built-in functions too work with dictionary"
   ]
  },
  {
   "cell_type": "code",
   "execution_count": 41,
   "metadata": {},
   "outputs": [
    {
     "name": "stdout",
     "output_type": "stream",
     "text": [
      "6\n"
     ]
    },
    {
     "ename": "TypeError",
     "evalue": "'<' not supported between instances of 'str' and 'int'",
     "output_type": "error",
     "traceback": [
      "\u001b[1;31m---------------------------------------------------------------------------\u001b[0m",
      "\u001b[1;31mTypeError\u001b[0m                                 Traceback (most recent call last)",
      "\u001b[1;32m~\\AppData\\Local\\Temp\\ipykernel_20276\\4030696753.py\u001b[0m in \u001b[0;36m<module>\u001b[1;34m\u001b[0m\n\u001b[0;32m      5\u001b[0m \u001b[1;33m\u001b[0m\u001b[0m\n\u001b[0;32m      6\u001b[0m \u001b[1;31m# Output: [1, 3, 5, 7, 9]\u001b[0m\u001b[1;33m\u001b[0m\u001b[1;33m\u001b[0m\u001b[1;33m\u001b[0m\u001b[0m\n\u001b[1;32m----> 7\u001b[1;33m \u001b[0mprint\u001b[0m\u001b[1;33m(\u001b[0m\u001b[0msorted\u001b[0m\u001b[1;33m(\u001b[0m\u001b[0msquares\u001b[0m\u001b[1;33m)\u001b[0m\u001b[1;33m)\u001b[0m\u001b[1;33m\u001b[0m\u001b[1;33m\u001b[0m\u001b[0m\n\u001b[0m",
      "\u001b[1;31mTypeError\u001b[0m: '<' not supported between instances of 'str' and 'int'"
     ]
    }
   ],
   "source": [
    "squares = {1: 1, 3: 9, 5: 25, 7: 49, 9: 81,'aad':25}\n",
    "\n",
    "# Output: 5\n",
    "print(len(squares))\n",
    "\n",
    "# Output: [1, 3, 5, 7, 9]\n",
    "print(sorted(squares))"
   ]
  },
  {
   "cell_type": "code",
   "execution_count": 17,
   "metadata": {},
   "outputs": [],
   "source": [
    "import numpy as np\n"
   ]
  },
  {
   "cell_type": "code",
   "execution_count": 24,
   "metadata": {},
   "outputs": [
    {
     "data": {
      "text/plain": [
       "array([[ 0.77713441, -0.46451844, -0.17275475, ..., -0.12725425,\n",
       "         0.22682722,  0.9737008 ],\n",
       "       [-0.96783162,  0.57503328, -0.08126059, ...,  0.69463727,\n",
       "        -0.21325865, -0.13669926],\n",
       "       [-0.77164375,  0.98813432, -0.43235344, ...,  0.1904086 ,\n",
       "        -0.92657851,  0.19254533],\n",
       "       ..., \n",
       "       [ 0.95903463,  0.58777993,  0.03692493, ..., -0.56381142,\n",
       "         0.3254542 , -0.14604584],\n",
       "       [ 0.88518659, -0.80123804,  0.84736895, ...,  0.51219895,\n",
       "         0.69234815,  0.61480321],\n",
       "       [ 0.65254533, -0.95651461, -0.07097656, ...,  0.87854984,\n",
       "        -0.07945068,  0.54916775]])"
      ]
     },
     "execution_count": 24,
     "metadata": {},
     "output_type": "execute_result"
    }
   ],
   "source": [
    "2*np.random.random_sample((100,100))-1"
   ]
  },
  {
   "cell_type": "markdown",
   "metadata": {
    "collapsed": true,
    "jupyter": {
     "outputs_hidden": true
    }
   },
   "source": [
    "# Common Dictionary method\n",
    "# dict.get(key, default_value)\n",
    "# Returns the value for the specified key, or a default value if the key is not found."
   ]
  },
  {
   "cell_type": "code",
   "execution_count": 49,
   "metadata": {},
   "outputs": [
    {
     "name": "stdout",
     "output_type": "stream",
     "text": [
      "Alice\n",
      "Not specified\n",
      "{'name': 'Alice', 'age': 25, 'city': 'New York'}\n",
      "3\n"
     ]
    }
   ],
   "source": [
    "my_dict = {'name': 'Alice', 'age': 25, 'city': 'New York'}\n",
    "print(my_dict.get('name'))  # Alice\n",
    "print(my_dict.get('gender', 'Not specified'))  # Not specified\n",
    "print(my_dict)\n",
    "print(len(my_dict))"
   ]
  },
  {
   "cell_type": "code",
   "execution_count": 55,
   "metadata": {},
   "outputs": [
    {
     "name": "stdout",
     "output_type": "stream",
     "text": [
      "Before  {'name': 'Alice', 'age': 25, 'city': 'New York'}\n",
      "{'name': 'Alice', 'age': 27, 'city': 'New York', 'gender': 'Female', 'country': 'INDIA'}\n"
     ]
    }
   ],
   "source": [
    "# Adding & Updating Elements\n",
    "# dict[key] = value\n",
    "# Adds a new key-value pair or updates an existing key.\n",
    "my_dict = {'name': 'Alice', 'age': 25, 'city': 'New York'}\n",
    "print(\"Before \",my_dict)\n",
    "my_dict['age'] = 26  # Update\n",
    "my_dict['gender'] = 'Female'  # Add\n",
    "# Updates the dictionary with key-value pairs from another dictionary.\n",
    "my_dict.update({'age': 27, 'country': 'INDIA'})\n",
    "print(my_dict)\n"
   ]
  },
  {
   "cell_type": "code",
   "execution_count": 9,
   "metadata": {},
   "outputs": [
    {
     "name": "stdout",
     "output_type": "stream",
     "text": [
      "27\n"
     ]
    }
   ],
   "source": [
    "# Removing Elements\n",
    "# Removes the key and returns its value. If the key is not found, it returns the default value.\n",
    "#dict.pop(key, default_value)\n",
    "age = my_dict.pop('age', 'Not Found')  # Removes 'age'\n",
    "print(age)  # 27\n"
   ]
  },
  {
   "cell_type": "code",
   "execution_count": 17,
   "metadata": {},
   "outputs": [
    {
     "name": "stdout",
     "output_type": "stream",
     "text": [
      "name Alice\n"
     ]
    }
   ],
   "source": [
    "key, value = my_dict.popitem()\n",
    "print(key, value)  # 'country', 'INDIA' (for example)\n"
   ]
  },
  {
   "cell_type": "code",
   "execution_count": 21,
   "metadata": {},
   "outputs": [],
   "source": [
    "my_dict = {'name': 'Alice', 'age': 25, 'city': 'New York'}\n",
    "del my_dict['age']"
   ]
  },
  {
   "cell_type": "code",
   "execution_count": null,
   "metadata": {},
   "outputs": [],
   "source": [
    "# Removes all items from the dictionary.\n",
    "my_dict.clear()\n"
   ]
  },
  {
   "cell_type": "code",
   "execution_count": 57,
   "metadata": {},
   "outputs": [
    {
     "name": "stdout",
     "output_type": "stream",
     "text": [
      "dict_keys(['name', 'age', 'city', 'gender', 'country'])\n",
      "['name', 'age', 'city', 'gender', 'country']\n"
     ]
    }
   ],
   "source": [
    "keys = my_dict.keys()\n",
    "print(keys)\n",
    "print(list(keys))  # ['name', 'gender']\n"
   ]
  },
  {
   "cell_type": "code",
   "execution_count": 23,
   "metadata": {},
   "outputs": [
    {
     "name": "stdout",
     "output_type": "stream",
     "text": [
      "['Alice', 'New York']\n"
     ]
    }
   ],
   "source": [
    "values = my_dict.values()\n",
    "print(list(values))  # ['Alice', 'Female']\n"
   ]
  },
  {
   "cell_type": "code",
   "execution_count": 59,
   "metadata": {},
   "outputs": [
    {
     "name": "stdout",
     "output_type": "stream",
     "text": [
      "dict_items([('name', 'Alice'), ('age', 27), ('city', 'New York'), ('gender', 'Female'), ('country', 'INDIA')])\n",
      "[('name', 'Alice'), ('age', 27), ('city', 'New York'), ('gender', 'Female'), ('country', 'INDIA')]\n"
     ]
    }
   ],
   "source": [
    "items = my_dict.items()\n",
    "print(items)\n",
    "print(list(items))  # [('name', 'Alice'), ('gender', 'Female')]\n"
   ]
  },
  {
   "cell_type": "code",
   "execution_count": null,
   "metadata": {},
   "outputs": [],
   "source": []
  }
 ],
 "metadata": {
  "kernelspec": {
   "display_name": "Python [conda env:NTNU]",
   "language": "python",
   "name": "conda-env-NTNU-py"
  },
  "language_info": {
   "codemirror_mode": {
    "name": "ipython",
    "version": 3
   },
   "file_extension": ".py",
   "mimetype": "text/x-python",
   "name": "python",
   "nbconvert_exporter": "python",
   "pygments_lexer": "ipython3",
   "version": "3.8.16"
  }
 },
 "nbformat": 4,
 "nbformat_minor": 4
}
