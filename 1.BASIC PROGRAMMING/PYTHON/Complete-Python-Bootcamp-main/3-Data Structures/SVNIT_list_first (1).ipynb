{
 "cells": [
  {
   "cell_type": "markdown",
   "metadata": {},
   "source": [
    "# Lists are one of the most versatile data structures in Python. They provide powerful methods to manipulate, search, and iterate through collections of data.\n",
    "Key Features of Lists:\n",
    "* Ordered: Items in a list maintain their order, and each item has an index starting from 0.\n",
    "* Mutable: You can modify, add, or remove elements.\n",
    "* Allows Duplicates: A list can contain multiple items with the same value.\n",
    "* Heterogeneous: Can contain items of different data types.\n"
   ]
  },
  {
   "cell_type": "markdown",
   "metadata": {},
   "source": [
    "# Program to demostrate the slice operation used to access the elements of the list\n"
   ]
  },
  {
   "cell_type": "code",
   "execution_count": 7,
   "metadata": {},
   "outputs": [
    {
     "name": "stdout",
     "output_type": "stream",
     "text": [
      "Num list is  [1, 2, 3, 4, 5, 6, 7, 8, 9, 10]\n"
     ]
    }
   ],
   "source": [
    "num_list=[1,2,3,4,5,6,7,8,9,10]\n",
    "print(\"Num list is \",num_list)"
   ]
  },
  {
   "cell_type": "code",
   "execution_count": 11,
   "metadata": {},
   "outputs": [
    {
     "name": "stdout",
     "output_type": "stream",
     "text": [
      "First Element in the List    1\n",
      "num list[2:5] [3, 4, 5]\n",
      "Num_list[::2]= [1, 3, 5, 7, 9]\n",
      "Num_list[1::2]= [2, 5, 8]\n"
     ]
    }
   ],
   "source": [
    "print(\"First Element in the List   \",num_list[0])\n",
    "print(\"num list[2:5]\",num_list[2:5])\n",
    "print(\"Num_list[::2]=\",num_list[::2])\n",
    "print(\"Num_list[1::2]=\",num_list[1::3])"
   ]
  },
  {
   "cell_type": "markdown",
   "metadata": {},
   "source": [
    " # Program to illustrate update value in a list"
   ]
  },
  {
   "cell_type": "code",
   "execution_count": 16,
   "metadata": {},
   "outputs": [
    {
     "name": "stdout",
     "output_type": "stream",
     "text": [
      " list is  [1, 2, 3, 4, 5, 6, 7, 8, 9, 10]\n",
      "List after update is  [1, 2, 3, 4, 5, 100, 7, 8, 9, 10]\n",
      "Num list is  [1, 2, 3, 4, 5, 100, 7, 8, 9, 10, 200]\n",
      "List after deleting a value is  [1, 2, 3, 5, 100, 7, 8, 9, 10, 200]\n",
      "List after deleting a value is  [1, 2, 7, 8, 9, 10, 200]\n"
     ]
    }
   ],
   "source": [
    "num_list=[1,2,3,4,5,6,7,8,9,10]\n",
    "print(\" list is \",num_list)\n",
    "num_list[5] =100\n",
    "print(\"List after update is \",num_list)\n",
    "num_list.append(200)\n",
    "print(\"Num list is \",num_list)\n",
    "del num_list[3]\n",
    "print(\"List after deleting a value is \",num_list)\n",
    "del num_list[2:5]  # delete list value for index 2 to 4 not include 5 index value\n",
    "print(\"List after deleting a value is \",num_list)\n"
   ]
  },
  {
   "cell_type": "markdown",
   "metadata": {},
   "source": [
    "# Program illustrate nested list\n"
   ]
  },
  {
   "cell_type": "code",
   "execution_count": 10,
   "metadata": {},
   "outputs": [
    {
     "name": "stdout",
     "output_type": "stream",
     "text": [
      "List1[ 0 ]= [[1, 3, 4, 5], [1, 2]]\n",
      "List1[ 1 ]= [[3, 4, 5, 6], [2, 3, 5, 6]]\n",
      "List1[ 2 ]= [[(1, 3), (3, 5), (7, 8)], [4, 5]]\n",
      "3\n"
     ]
    }
   ],
   "source": [
    "list1=[[[1,3,4,5],[1,2]],[[3,4,5,6],[2,3,5,6]]]\n",
    "list1.append([[(1,3),(3,5),(7,8)],[4,5]])\n",
    "i=0\n",
    "while i<len(list1):\n",
    "    print(\"List1[\",i,\"]=\",list1[i])\n",
    "    i+=1\n",
    "print(len(list1[2][0]))"
   ]
  },
  {
   "cell_type": "markdown",
   "metadata": {},
   "source": [
    " # Program to  create a copy as well as the clone of the original list"
   ]
  },
  {
   "cell_type": "code",
   "execution_count": 22,
   "metadata": {},
   "outputs": [
    {
     "name": "stdout",
     "output_type": "stream",
     "text": [
      "List1  [1, 2, 3, 4, 5, 6, 7]\n",
      "List2 [1, 2, 3, 4, 5, 6, 7]\n",
      "List3 [3, 4, 5]\n"
     ]
    }
   ],
   "source": [
    "list1=[1,2,3,4,5,6,7]\n",
    "list2 = list1\n",
    "print(\"List1 \",list1)\n",
    "print(\"List2\",list2)\n",
    "list3 = list1[2:5]\n",
    "print(\"List3\",list3)\n"
   ]
  },
  {
   "cell_type": "markdown",
   "metadata": {},
   "source": [
    "# Program to show the sort() list element"
   ]
  },
  {
   "cell_type": "code",
   "execution_count": 2,
   "metadata": {},
   "outputs": [
    {
     "name": "stdout",
     "output_type": "stream",
     "text": [
      "['1', '2', 'B', 'a', 'abc', 'def']\n"
     ]
    }
   ],
   "source": [
    "list1 =['1','a','abc','2','B','def']\n",
    "list1.sort() # sort() method  used ASCII value to sort the values in the list\n",
    "print(list1)"
   ]
  },
  {
   "cell_type": "code",
   "execution_count": 1,
   "metadata": {},
   "outputs": [
    {
     "name": "stdout",
     "output_type": "stream",
     "text": [
      "[1, 2, 3, 4, 5, 6]\n"
     ]
    }
   ],
   "source": [
    "# Add element (Append)\n",
    "my_list = [1, 2, 3, 4, 5]\n",
    "my_list.append(6)\n",
    "print(my_list)  # Output: [1, 2, 10, 4, 5, 6]"
   ]
  },
  {
   "cell_type": "code",
   "execution_count": 3,
   "metadata": {},
   "outputs": [
    {
     "name": "stdout",
     "output_type": "stream",
     "text": [
      "[1, 15, 2, 3, 4, 5, 6]\n"
     ]
    }
   ],
   "source": [
    "#Insert (adds at a specific position):\n",
    "my_list.insert(1, 15)\n",
    "print(my_list)  # Output: [1, 15, 2, 10, 4, 5, 6]\n"
   ]
  },
  {
   "cell_type": "code",
   "execution_count": 7,
   "metadata": {},
   "outputs": [
    {
     "name": "stdout",
     "output_type": "stream",
     "text": [
      "[1, 2, 3, 4, 5, 6]\n"
     ]
    }
   ],
   "source": [
    "my_list.remove(15)  # Removes the first occurrence of 10\n",
    "print(my_list)  # Output: [1, 15, 2, 4, 5, 6]\n"
   ]
  },
  {
   "cell_type": "code",
   "execution_count": 11,
   "metadata": {},
   "outputs": [
    {
     "name": "stdout",
     "output_type": "stream",
     "text": [
      "[1, 2, 5, 6]\n"
     ]
    }
   ],
   "source": [
    "my_list.pop(2)  # Removes the element at index 2\n",
    "print(my_list)  # Output:[1, 2, 4, 5, 6]\n"
   ]
  },
  {
   "cell_type": "code",
   "execution_count": 17,
   "metadata": {},
   "outputs": [
    {
     "name": "stdout",
     "output_type": "stream",
     "text": [
      "4\n"
     ]
    }
   ],
   "source": [
    "#len(): Returns the number of elements.\n",
    "print(len(my_list))  # Output: 5"
   ]
  },
  {
   "cell_type": "markdown",
   "metadata": {},
   "source": [
    "# Program to illustrate operation on a stack(using list as stack)\n"
   ]
  },
  {
   "cell_type": "code",
   "execution_count": 21,
   "metadata": {},
   "outputs": [
    {
     "name": "stdout",
     "output_type": "stream",
     "text": [
      "[1, 2, 5, 6]\n"
     ]
    }
   ],
   "source": [
    "print(sorted(my_list))  # Output: [10, 15, 25, 50, 60]\n"
   ]
  },
  {
   "cell_type": "code",
   "execution_count": 27,
   "metadata": {},
   "outputs": [
    {
     "name": "stdout",
     "output_type": "stream",
     "text": [
      "[6, 5, 2, 1]\n"
     ]
    }
   ],
   "source": [
    "my_list.reverse() # Reverses the list in place.\n",
    "print(my_list)  # Output: [6, 5, 2, 1]\n"
   ]
  },
  {
   "cell_type": "code",
   "execution_count": 29,
   "metadata": {},
   "outputs": [
    {
     "name": "stdout",
     "output_type": "stream",
     "text": [
      "[6, 5, 2, 1, 70, 80]\n"
     ]
    }
   ],
   "source": [
    "my_list.extend([70, 80]) #Adds elements from another list.\n",
    "print(my_list)  # Output: [60, 50, 15, 25, 10, 70, 80]\n"
   ]
  },
  {
   "cell_type": "code",
   "execution_count": 32,
   "metadata": {},
   "outputs": [
    {
     "name": "stdout",
     "output_type": "stream",
     "text": [
      "Element at index  0 is: 11\n",
      "Element at index  1 is: 12\n",
      "Element at index  2 is: 13\n",
      "Element at index  3 is: 14\n",
      "Element at index  4 is: 15\n"
     ]
    }
   ],
   "source": [
    "# Using  an iterator   \n",
    "#The iterator fetches the value and then automatically points to the next element in the list when it is used with the next() method\n",
    "num_list=[11,12,13,14,15]\n",
    "it  = iter(num_list)\n",
    "for i in range(len(num_list)):\n",
    "    print(\"Element at index \",i,\"is:\",next(it))"
   ]
  },
  {
   "cell_type": "code",
   "execution_count": null,
   "metadata": {},
   "outputs": [],
   "source": [
    "# filter() function\n",
    "#The filter() function constructs a list from those element of the list for which a function return True.\n",
    "# Syntax of the filter() function\n",
    "#    filter(function,sequence)\n",
    "#\n",
    "def check(x):\n",
    "    if(x%3==0):\n",
    "        return 1\n",
    "# call check() for every value between 2 to 100\n",
    "divthree = list(filter(check,range(2,50)))\n",
    "print(divthree)"
   ]
  },
  {
   "cell_type": "markdown",
   "metadata": {},
   "source": [
    "# Map() function applies a particular to evey element of a list \n",
    "```\n",
    "map(function,sequence)\n",
    "```"
   ]
  },
  {
   "cell_type": "code",
   "execution_count": 40,
   "metadata": {},
   "outputs": [
    {
     "name": "stdout",
     "output_type": "stream",
     "text": [
      "Original List is  [11, 22, 33, 44, 55]\n",
      "Modified List is : [13, 24, 35, 46, 57]\n"
     ]
    }
   ],
   "source": [
    "def add_2(x):\n",
    "    x+=2\n",
    "    return x\n",
    "num_list=[11,22,33,44,55]\n",
    "print(\"Original List is \",num_list)\n",
    "new_list = list(map(add_2,num_list))\n",
    "print(\"Modified List is :\",new_list)"
   ]
  },
  {
   "cell_type": "code",
   "execution_count": 42,
   "metadata": {},
   "outputs": [
    {
     "name": "stdout",
     "output_type": "stream",
     "text": [
      "Sum of  [11, 22, 33, 44, 55] and  [100, 200, 300, 400, 500] = [111, 222, 333, 444, 555]\n"
     ]
    }
   ],
   "source": [
    "def add_2(x,y):\n",
    "    return x+y\n",
    "num_list1=[11,22,33,44,55]\n",
    "num_list2=[100,200,300,400,500]\n",
    "new_list = list(map(add_2,num_list1,num_list2))\n",
    "print(\"Sum of \",num_list1,\"and \",num_list2,\"=\",new_list)"
   ]
  },
  {
   "cell_type": "code",
   "execution_count": 39,
   "metadata": {},
   "outputs": [
    {
     "name": "stdout",
     "output_type": "stream",
     "text": [
      "Original Stack is : [100, 200, 300, 400, 500, 600]\n",
      "Stack after push element in  Stack is : [100, 200, 300, 400, 500, 600, 700]\n",
      "Stack after pop element in  Stack is : [100, 200, 300, 400, 500, 600]\n",
      "Value obtained after peep operation is :\n"
     ]
    },
    {
     "data": {
      "text/plain": [
       "600"
      ]
     },
     "execution_count": 39,
     "metadata": {},
     "output_type": "execute_result"
    }
   ],
   "source": [
    "stack=[100,200,300,400,500,600]\n",
    "print(\"Original Stack is :\",stack)\n",
    "stack.append(700)\n",
    "print(\"Stack after push element in  Stack is :\",stack)\n",
    "stack.pop()\n",
    "print(\"Stack after pop element in  Stack is :\",stack)\n",
    "last_element_index = len(stack)-1\n",
    "print(\"Value obtained after peep operation is :\",)\n",
    "stack[last_element_index]\n",
    "\n",
    "\n",
    "#Note :The del statement and the pop() method does the same thing. difference between them is that pop()\n",
    "#return the removed item\n"
   ]
  },
  {
   "cell_type": "markdown",
   "metadata": {},
   "source": [
    "# Program to show the implementation of a queue using list data structure"
   ]
  },
  {
   "cell_type": "markdown",
   "metadata": {},
   "source": [
    "queue=[1,2,3,4,5,6]\n",
    "print(\"Original Queue is \",queue)\n",
    "queue.append(7)\n",
    "print(\"Queue after insertion is\",queue)\n",
    "queue.pop(0)\n",
    "print(\"Queue after delete is :\",queue)\n",
    "print(\"Value  obtained after peep operation is\",queue[(len(queue)-1)])"
   ]
  },
  {
   "cell_type": "markdown",
   "metadata": {},
   "source": [
    "# Program  to combine three lines of code into one(List Compression)\n",
    "# list =[expression for varible in sequence]"
   ]
  },
  {
   "cell_type": "code",
   "execution_count": 43,
   "metadata": {},
   "outputs": [
    {
     "name": "stdout",
     "output_type": "stream",
     "text": [
      "[0, 1, 8, 27, 64, 125, 216, 343, 512, 729, 1000]\n"
     ]
    }
   ],
   "source": [
    "cube=[i**3 for i in range(11)]\n",
    "print(cube)"
   ]
  },
  {
   "cell_type": "markdown",
   "metadata": {},
   "source": [
    "# Program to combine and print elements of two list using list comprehension"
   ]
  },
  {
   "cell_type": "code",
   "execution_count": null,
   "metadata": {},
   "outputs": [],
   "source": [
    "print([(x,y) for x in [10,20,30] for y in [30,10,40] if x!=y] )"
   ]
  },
  {
   "cell_type": "markdown",
   "metadata": {},
   "source": [
    "### Assignment\n",
    "## Assignment 1: WAP that create a list of numbers from 1-20 that are either  divisible by 2 or divisible by 4 without using the filter function.\n",
    "## Assignment 2:  WAP using filter function to a list of sequence of numbers from 1-10. Then use the for ... in construct to sum the element in the list generetor.\n",
    "## Assignment 3: WAP  to create a list of numbers in the range 1 to 10. Then delete all the even number from the list and print the final list.\n",
    "#  Assignment 4:  WAP to print index at which a particular value exists. if the value exists multiple location in the  list, then print  all the indices. Also ,count the number  of times that value is repeated in the list.\n",
    "# Assignment 4: WAP that has a list of both positive and negative numbers. Create another list using filter() that has only positive values.\n",
    "# Assignment 5: WAP to find largest value in a list using reduce() function.\n",
    "# Assignment 6: WAP to combine values in two lists using list comprehension. combine only those values of a list that are multiples of values in the first list."
   ]
  }
 ],
 "metadata": {
  "kernelspec": {
   "display_name": "Python [conda env:NTNU]",
   "language": "python",
   "name": "conda-env-NTNU-py"
  },
  "language_info": {
   "codemirror_mode": {
    "name": "ipython",
    "version": 3
   },
   "file_extension": ".py",
   "mimetype": "text/x-python",
   "name": "python",
   "nbconvert_exporter": "python",
   "pygments_lexer": "ipython3",
   "version": "3.8.16"
  }
 },
 "nbformat": 4,
 "nbformat_minor": 4
}
