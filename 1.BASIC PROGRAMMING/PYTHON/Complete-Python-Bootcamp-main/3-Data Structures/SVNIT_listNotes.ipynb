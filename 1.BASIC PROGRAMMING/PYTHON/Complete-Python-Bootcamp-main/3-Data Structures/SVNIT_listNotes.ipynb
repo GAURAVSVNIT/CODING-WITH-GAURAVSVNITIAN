{
 "cells": [
  {
   "cell_type": "markdown",
   "metadata": {},
   "source": [
    "## list is a built-in data type that allows you to store multiple items in a single variable. Lists are ordered, mutable, and allow duplicate values."
   ]
  },
  {
   "cell_type": "code",
   "execution_count": 2,
   "metadata": {},
   "outputs": [
    {
     "name": "stdout",
     "output_type": "stream",
     "text": [
      "Sum of elements in the list = 155\n",
      "Average of element in the list= 15.5\n"
     ]
    }
   ],
   "source": [
    "num_list=[11,12,13,14,15,16,17,18,19,20]\n",
    "sum =0\n",
    "for i in num_list:\n",
    "    sum+=i\n",
    "print(\"Sum of elements in the list =\",sum)\n",
    "print(\"Average of element in the list=\",float(sum/float(len(num_list))))"
   ]
  },
  {
   "cell_type": "markdown",
   "metadata": {},
   "source": [
    "# Using the enumerate() function\n",
    "This is used when you want to print both index as well as an item in the list"
   ]
  },
  {
   "cell_type": "code",
   "execution_count": 4,
   "metadata": {},
   "outputs": [
    {
     "name": "stdout",
     "output_type": "stream",
     "text": [
      "11 is at index 0\n",
      "12 is at index 1\n",
      "13 is at index 2\n",
      "14 is at index 3\n",
      "15 is at index 4\n"
     ]
    }
   ],
   "source": [
    "num_list=[11,12,13,14,15]\n",
    "for index,i in enumerate(num_list):\n",
    "    print(i,\"is at index\",index)"
   ]
  },
  {
   "cell_type": "markdown",
   "metadata": {},
   "source": [
    "# Using the range() function"
   ]
  },
  {
   "cell_type": "code",
   "execution_count": 7,
   "metadata": {},
   "outputs": [
    {
     "name": "stdout",
     "output_type": "stream",
     "text": [
      "0 is at value  11\n",
      "1 is at value  12\n",
      "2 is at value  13\n",
      "3 is at value  14\n",
      "4 is at value  15\n"
     ]
    }
   ],
   "source": [
    "num_list=[11,12,13,14,15]\n",
    "for i in range(len(num_list)):\n",
    "    print(i,\"is at value \",num_list[i])"
   ]
  },
  {
   "cell_type": "markdown",
   "metadata": {},
   "source": [
    "# Using  an iterator   \n",
    "The iterator fetches the value and then automatically points to the next element in the list when it is used with the next() method\n"
   ]
  },
  {
   "cell_type": "code",
   "execution_count": 10,
   "metadata": {},
   "outputs": [
    {
     "name": "stdout",
     "output_type": "stream",
     "text": [
      "Element at index  0 is: 11\n",
      "Element at index  1 is: 12\n",
      "Element at index  2 is: 13\n",
      "Element at index  3 is: 14\n",
      "Element at index  4 is: 15\n"
     ]
    }
   ],
   "source": [
    "num_list=[11,12,13,14,15]\n",
    "it  = iter(num_list) #  iter() function converts the list num_list into an iterator object it.\n",
    "for i in range(len(num_list)):\n",
    "    print(\"Element at index \",i,\"is:\",next(it))"
   ]
  },
  {
   "cell_type": "code",
   "execution_count": 2,
   "metadata": {},
   "outputs": [
    {
     "name": "stdout",
     "output_type": "stream",
     "text": [
      "[1, 2, 3, 4]\n"
     ]
    }
   ],
   "source": [
    "# append\n",
    "my_list = [1, 2, 3]\n",
    "my_list.append(4)\n",
    "print(my_list)  # Output: [1, 2, 3, 4]\n"
   ]
  },
  {
   "cell_type": "markdown",
   "metadata": {},
   "source": [
    "# filter() function\n",
    "The filter() function constructs a list from those element of the list for which a function return True.\n",
    "``` Syntax of the filter() function\n",
    "    filter(function,sequence)\n",
    "```\n",
    "\n"
   ]
  },
  {
   "cell_type": "code",
   "execution_count": 2,
   "metadata": {},
   "outputs": [
    {
     "name": "stdout",
     "output_type": "stream",
     "text": [
      "[4, 5, 6, 1, 2, 3]\n"
     ]
    }
   ],
   "source": [
    "# extend() – Adds elements of another iterable (list, tuple, set, etc.) to the end of the list\n",
    "list1 = [1, 2, 3]\n",
    "list2 = [4, 5, 6]\n",
    "#list1.extend(list2)\n",
    "#print(list1)  # Output: [1, 2, 3, 4, 5, 6]\n",
    "list2.extend(list1)\n",
    "print(list2)"
   ]
  },
  {
   "cell_type": "code",
   "execution_count": 3,
   "metadata": {},
   "outputs": [
    {
     "name": "stdout",
     "output_type": "stream",
     "text": [
      "[1, 2, 333, 4]\n"
     ]
    }
   ],
   "source": [
    "# insert() – Inserts an element at a specific position\n",
    "my_list = [1, 2, 4]\n",
    "my_list.insert(2, 333)  # Insert 3 at index 2\n",
    "print(my_list)  # Output: [1, 2, 3, 4]\n"
   ]
  },
  {
   "cell_type": "code",
   "execution_count": 4,
   "metadata": {},
   "outputs": [
    {
     "name": "stdout",
     "output_type": "stream",
     "text": [
      "[1, 3, 2, 4]\n"
     ]
    },
    {
     "ename": "ValueError",
     "evalue": "list.remove(x): x not in list",
     "output_type": "error",
     "traceback": [
      "\u001b[1;31m---------------------------------------------------------------------------\u001b[0m",
      "\u001b[1;31mValueError\u001b[0m                                Traceback (most recent call last)",
      "\u001b[1;32m~\\AppData\\Local\\Temp\\ipykernel_7136\\2285718193.py\u001b[0m in \u001b[0;36m<module>\u001b[1;34m\u001b[0m\n\u001b[0;32m      3\u001b[0m \u001b[0mmy_list\u001b[0m\u001b[1;33m.\u001b[0m\u001b[0mremove\u001b[0m\u001b[1;33m(\u001b[0m\u001b[1;36m2\u001b[0m\u001b[1;33m)\u001b[0m\u001b[1;33m\u001b[0m\u001b[1;33m\u001b[0m\u001b[0m\n\u001b[0;32m      4\u001b[0m \u001b[0mprint\u001b[0m\u001b[1;33m(\u001b[0m\u001b[0mmy_list\u001b[0m\u001b[1;33m)\u001b[0m  \u001b[1;31m# Output: [1, 3, 2, 4]\u001b[0m\u001b[1;33m\u001b[0m\u001b[1;33m\u001b[0m\u001b[0m\n\u001b[1;32m----> 5\u001b[1;33m \u001b[0mmy_list\u001b[0m\u001b[1;33m.\u001b[0m\u001b[0mremove\u001b[0m\u001b[1;33m(\u001b[0m\u001b[1;36m244\u001b[0m\u001b[1;33m)\u001b[0m\u001b[1;33m\u001b[0m\u001b[1;33m\u001b[0m\u001b[0m\n\u001b[0m",
      "\u001b[1;31mValueError\u001b[0m: list.remove(x): x not in list"
     ]
    }
   ],
   "source": [
    "# remove() – Removes the first occurrence of a specified element\n",
    "my_list = [1, 2, 3, 2, 4]\n",
    "my_list.remove(2)\n",
    "print(my_list)  # Output: [1, 3, 2, 4]\n",
    "my_list.remove(244)"
   ]
  },
  {
   "cell_type": "code",
   "execution_count": 9,
   "metadata": {},
   "outputs": [
    {
     "name": "stdout",
     "output_type": "stream",
     "text": [
      "Pop elemenet  3\n",
      "[1, 2, 4]\n"
     ]
    },
    {
     "ename": "IndexError",
     "evalue": "pop from empty list",
     "output_type": "error",
     "traceback": [
      "\u001b[1;31m---------------------------------------------------------------------------\u001b[0m",
      "\u001b[1;31mIndexError\u001b[0m                                Traceback (most recent call last)",
      "\u001b[1;32m~\\AppData\\Local\\Temp\\ipykernel_7136\\4243263374.py\u001b[0m in \u001b[0;36m<module>\u001b[1;34m\u001b[0m\n\u001b[0;32m      5\u001b[0m \u001b[0mprint\u001b[0m\u001b[1;33m(\u001b[0m\u001b[0mmy_list\u001b[0m\u001b[1;33m)\u001b[0m  \u001b[1;31m# Output: [1, 2, 4]\u001b[0m\u001b[1;33m\u001b[0m\u001b[1;33m\u001b[0m\u001b[0m\n\u001b[0;32m      6\u001b[0m \u001b[0mmy_list1\u001b[0m \u001b[1;33m=\u001b[0m \u001b[1;33m[\u001b[0m\u001b[1;33m]\u001b[0m\u001b[1;33m\u001b[0m\u001b[1;33m\u001b[0m\u001b[0m\n\u001b[1;32m----> 7\u001b[1;33m \u001b[0mpopped_element1\u001b[0m \u001b[1;33m=\u001b[0m \u001b[0mmy_list1\u001b[0m\u001b[1;33m.\u001b[0m\u001b[0mpop\u001b[0m\u001b[1;33m(\u001b[0m\u001b[1;33m)\u001b[0m  \u001b[1;31m# Removes element at index 2\u001b[0m\u001b[1;33m\u001b[0m\u001b[1;33m\u001b[0m\u001b[0m\n\u001b[0m\u001b[0;32m      8\u001b[0m \u001b[0mprint\u001b[0m\u001b[1;33m(\u001b[0m\u001b[0mpopped_element1\u001b[0m\u001b[1;33m)\u001b[0m\u001b[1;33m\u001b[0m\u001b[1;33m\u001b[0m\u001b[0m\n",
      "\u001b[1;31mIndexError\u001b[0m: pop from empty list"
     ]
    }
   ],
   "source": [
    "#pop() – Removes and returns an element at a specific index (default is the last element)\n",
    "my_list = [1, 2, 3, 4]\n",
    "popped_element = my_list.pop(2)  # Removes element at index 2\n",
    "print(\"Pop elemenet \",popped_element)  # Output: 3\n",
    "print(my_list)  # Output: [1, 2, 4]\n",
    "my_list1 = []\n",
    "popped_element1 = my_list1.pop()  # Removes element at index 2\n",
    "print(popped_element1)"
   ]
  },
  {
   "cell_type": "code",
   "execution_count": 8,
   "metadata": {},
   "outputs": [
    {
     "name": "stdout",
     "output_type": "stream",
     "text": [
      "2\n"
     ]
    },
    {
     "ename": "ValueError",
     "evalue": "307 is not in list",
     "output_type": "error",
     "traceback": [
      "\u001b[1;31m---------------------------------------------------------------------------\u001b[0m",
      "\u001b[1;31mValueError\u001b[0m                                Traceback (most recent call last)",
      "\u001b[1;32m~\\AppData\\Local\\Temp\\ipykernel_7136\\1622475310.py\u001b[0m in \u001b[0;36m<module>\u001b[1;34m\u001b[0m\n\u001b[0;32m      3\u001b[0m \u001b[0mindex\u001b[0m \u001b[1;33m=\u001b[0m \u001b[0mmy_list\u001b[0m\u001b[1;33m.\u001b[0m\u001b[0mindex\u001b[0m\u001b[1;33m(\u001b[0m\u001b[1;36m30\u001b[0m\u001b[1;33m)\u001b[0m\u001b[1;33m\u001b[0m\u001b[1;33m\u001b[0m\u001b[0m\n\u001b[0;32m      4\u001b[0m \u001b[0mprint\u001b[0m\u001b[1;33m(\u001b[0m\u001b[0mindex\u001b[0m\u001b[1;33m)\u001b[0m  \u001b[1;31m# Output: 2\u001b[0m\u001b[1;33m\u001b[0m\u001b[1;33m\u001b[0m\u001b[0m\n\u001b[1;32m----> 5\u001b[1;33m \u001b[0mindex1\u001b[0m \u001b[1;33m=\u001b[0m \u001b[0mmy_list\u001b[0m\u001b[1;33m.\u001b[0m\u001b[0mindex\u001b[0m\u001b[1;33m(\u001b[0m\u001b[1;36m307\u001b[0m\u001b[1;33m)\u001b[0m\u001b[1;33m\u001b[0m\u001b[1;33m\u001b[0m\u001b[0m\n\u001b[0m\u001b[0;32m      6\u001b[0m \u001b[0mprint\u001b[0m\u001b[1;33m(\u001b[0m\u001b[0mindex\u001b[0m\u001b[1;33m)\u001b[0m  \u001b[1;31m# Output: 2\u001b[0m\u001b[1;33m\u001b[0m\u001b[1;33m\u001b[0m\u001b[0m\n",
      "\u001b[1;31mValueError\u001b[0m: 307 is not in list"
     ]
    }
   ],
   "source": [
    "# index() – Returns the index of the first occurrence of a specified element\n",
    "my_list = [10, 20, 30, 40]\n",
    "index = my_list.index(30)\n",
    "print(index)  # Output: 2\n",
    "index1 = my_list.index(307)\n",
    "print(index)  # Output: 2\n"
   ]
  },
  {
   "cell_type": "code",
   "execution_count": 8,
   "metadata": {},
   "outputs": [
    {
     "name": "stdout",
     "output_type": "stream",
     "text": [
      "3\n"
     ]
    }
   ],
   "source": [
    "#count() – Returns the count of a specified element in the list\n",
    "my_list = [1, 2, 2, 3, 2, 4]\n",
    "count = my_list.count(2)\n",
    "print(count)  # Output: 3\n"
   ]
  },
  {
   "cell_type": "code",
   "execution_count": 9,
   "metadata": {},
   "outputs": [
    {
     "name": "stdout",
     "output_type": "stream",
     "text": [
      "[1, 2, 5, 9]\n",
      "[9, 5, 2, 1]\n"
     ]
    }
   ],
   "source": [
    "# sort() – Sorts the list in ascending order (default) or descending order\n",
    "my_list = [5, 2, 9, 1]\n",
    "my_list.sort()\n",
    "print(my_list)  # Output: [1, 2, 5, 9]\n",
    "\n",
    "# Sorting in descending order\n",
    "my_list.sort(reverse=True)\n",
    "print(my_list)  # Output: [9, 5, 2, 1]\n"
   ]
  },
  {
   "cell_type": "code",
   "execution_count": 10,
   "metadata": {},
   "outputs": [
    {
     "name": "stdout",
     "output_type": "stream",
     "text": [
      "[4, 3, 2, 1]\n"
     ]
    }
   ],
   "source": [
    "#reverse() – Reverses the elements of the list\n",
    "my_list = [1, 2, 3, 4]\n",
    "my_list.reverse()\n",
    "print(my_list)  # Output: [4, 3, 2, 1]\n"
   ]
  },
  {
   "cell_type": "code",
   "execution_count": 11,
   "metadata": {},
   "outputs": [
    {
     "name": "stdout",
     "output_type": "stream",
     "text": [
      "[1, 2, 3]\n"
     ]
    }
   ],
   "source": [
    "#copy() – Returns a shallow copy of the list\n",
    "my_list = [1, 2, 3]\n",
    "new_list = my_list.copy()\n",
    "print(new_list)  # Output: [1, 2, 3]\n"
   ]
  },
  {
   "cell_type": "code",
   "execution_count": 12,
   "metadata": {},
   "outputs": [
    {
     "name": "stdout",
     "output_type": "stream",
     "text": [
      "[]\n"
     ]
    }
   ],
   "source": [
    "#clear() – Removes all elements from the list\n",
    "my_list = [1, 2, 3]\n",
    "my_list.clear()\n",
    "print(my_list)  # Output: []\n"
   ]
  },
  {
   "cell_type": "code",
   "execution_count": 13,
   "metadata": {},
   "outputs": [
    {
     "name": "stdout",
     "output_type": "stream",
     "text": [
      "[0, 1, 4, 9, 16]\n"
     ]
    }
   ],
   "source": [
    "#List Comprehension – A shorthand way to create a new list\n",
    "squares = [x**2 for x in range(5)]\n",
    "print(squares)  # Output: [0, 1, 4, 9, 16]\n"
   ]
  },
  {
   "cell_type": "code",
   "execution_count": 1,
   "metadata": {},
   "outputs": [
    {
     "name": "stdout",
     "output_type": "stream",
     "text": [
      "[3, 6, 9, 12, 15, 18, 21, 24, 27, 30, 33, 36, 39, 42, 45, 48, 51, 54, 57, 60, 63, 66, 69, 72, 75, 78, 81, 84, 87, 90, 93, 96, 99]\n"
     ]
    }
   ],
   "source": [
    "def check(x):\n",
    "    if(x%3==0):\n",
    "        return 1\n",
    "# call check() for every value between 2 to 100\n",
    "divthree = list(filter(check,range(2,100)))\n",
    "'''\n",
    "The filter() function works by keeping only the elements for which the function returns True.\n",
    "Since check() returns 1 (which is truthy)  for divisible numbers and None (which is falsy) \n",
    "for non-divisible numbers.\n",
    "'''\n",
    "print(divthree)\n",
    "#divthree = list(filter(lambda x: x % 3 == 0, range(2, 100)))"
   ]
  },
  {
   "cell_type": "markdown",
   "metadata": {},
   "source": [
    "# Map() function applies a particular to evey element of a list \n",
    "```\n",
    "map(function,sequence)\n",
    "```"
   ]
  },
  {
   "cell_type": "code",
   "execution_count": 1,
   "metadata": {},
   "outputs": [
    {
     "name": "stdout",
     "output_type": "stream",
     "text": [
      "Original List is  [11, 22, 33, 44, 55]\n",
      "Modified List is : [13, 24, 35, 46, 57]\n"
     ]
    }
   ],
   "source": [
    "def add_2(x):\n",
    "    x+=2\n",
    "    return x\n",
    "num_list=[11,22,33,44,55]\n",
    "print(\"Original List is \",num_list)\n",
    "new_list = list(map(add_2,num_list))\n",
    "'''\n",
    "The map() function applies the add_2() function to each element of num_list.\n",
    "It returns an iterator that produces the transformed values.\n",
    "'''\n",
    "print(\"Modified List is :\",new_list) #  list() function converts the iterator into a list.\n",
    "#new_list = list(map(lambda x: x + 2, num_list))"
   ]
  },
  {
   "cell_type": "code",
   "execution_count": 16,
   "metadata": {},
   "outputs": [
    {
     "name": "stdout",
     "output_type": "stream",
     "text": [
      "Sum of  [11, 22, 33, 44, 55] and  [100, 200, 300, 400, 500] = [111, 222, 333, 444, 555]\n"
     ]
    }
   ],
   "source": [
    "def add_2(x,y):\n",
    "    return x+y\n",
    "num_list1=[11,22,33,44,55]\n",
    "num_list2=[100,200,300,400,500]\n",
    "new_list = list(map(add_2,num_list1,num_list2))\n",
    "print(\"Sum of \",num_list1,\"and \",num_list2,\"=\",new_list)"
   ]
  },
  {
   "cell_type": "markdown",
   "metadata": {},
   "source": [
    "# reduce() Function\n",
    "The reduce () function with syntax as given below return a single value generated by calling the function on the first two items of the sequence, then  on the next item and so no.\n",
    "```\n",
    "reduce(fuction,sequence)\n",
    "```"
   ]
  },
  {
   "cell_type": "code",
   "execution_count": 1,
   "metadata": {},
   "outputs": [
    {
     "name": "stdout",
     "output_type": "stream",
     "text": [
      "Sum of value in list=\n",
      "65\n"
     ]
    }
   ],
   "source": [
    "import functools # functools is module that contains the function reduce()\n",
    "\n",
    "def add(x,y):\n",
    "    return(x+y)\n",
    "num_list=[11,12,13,14,15]\n",
    "print(\"Sum of value in list=\")\n",
    "print(functools.reduce(add,num_list))\n",
    "'''\n",
    "reduce() function applies the add() function cumulatively to the elements of num_list.\n",
    "It starts by taking the first two elements, applies the function, then takes the result and the next element, \n",
    "and so on, until the list is reduced to a single value.\n",
    "Step 1: add(11, 12) → 23\n",
    "\n",
    "Step 2: add(23, 13) → 36\n",
    "\n",
    "Step 3: add(36, 14) → 50\n",
    "\n",
    "Step 4: add(50, 15) → 65\n",
    "'''"
   ]
  },
  {
   "cell_type": "code",
   "execution_count": 17,
   "metadata": {},
   "outputs": [
    {
     "name": "stdout",
     "output_type": "stream",
     "text": [
      "[('Ram', 90), ('Mohamad', 75), ('Amit', 80)]\n"
     ]
    }
   ],
   "source": [
    "#Sorting with sorted() and Custom Key\n",
    "#Sort a list based on a custom function.\n",
    "students = [(\"Amit\", 80), (\"Ram\", 90), (\"Mohamad\", 75)]\n",
    "#sorted(iterable, key=None, reverse=False)\n",
    "sorted_students = sorted(students, key=lambda x: x[1], reverse=True)\n",
    "#sorted_students = sorted(students, key=lambda x: x[0], reverse=True)\n",
    "'''\n",
    "The sorted() function is used to sort the list.\n",
    "It takes three arguments:\n",
    "students: The list to be sorted.\n",
    "key=lambda x: x[1]: A lambda function that specifies the sorting key. \n",
    "Here, x[1] refers to the second element of each tuple (the score).\n",
    "reverse=True: This argument sorts the list in descending order \n",
    "(from highest to lowest). If reverse=False or omitted, the list would be sorted in ascending order.\n",
    "'''\n",
    "print(sorted_students)  \n",
    "# Output: [('Ram', 90), ('Amit', 80), ('Mohamad', 75)]\n"
   ]
  },
  {
   "cell_type": "code",
   "execution_count": 15,
   "metadata": {},
   "outputs": [
    {
     "name": "stdout",
     "output_type": "stream",
     "text": [
      "[1, 2, 3, 4, 5, 6, 7, 8]\n"
     ]
    }
   ],
   "source": [
    "#List Flattening (Nested Lists)\n",
    "nested_list = [[1, 2, 3], [4, 5], [6, 7, 8]]\n",
    "flattened = [item for sublist in nested_list for item in sublist]\n",
    "print(flattened)  # Output: [1, 2, 3, 4, 5, 6, 7, 8]\n"
   ]
  },
  {
   "cell_type": "code",
   "execution_count": 16,
   "metadata": {},
   "outputs": [
    {
     "name": "stdout",
     "output_type": "stream",
     "text": [
      "[1, 2, 3, 4, 5]\n"
     ]
    }
   ],
   "source": [
    "#Remove Duplicates from a List\n",
    "my_list = [1, 2, 2, 3, 4, 4, 5]\n",
    "unique_list = list(set(my_list))\n",
    "print(unique_list)  # Output: [1, 2, 3, 4, 5]\n"
   ]
  },
  {
   "cell_type": "markdown",
   "metadata": {},
   "source": [
    "# Key points to remeber\n",
    "    -if there is only one item in the sequence, them it value is returned.\n",
    "    -if the sequence is empyt, an excption is raised.\n",
    "    -Creating a list in a very extensive range will generated a MemoryError or Overflow error\n",
    "## list = [5*i for i in range(100**100)]\n",
    "    "
   ]
  },
  {
   "cell_type": "markdown",
   "metadata": {
    "collapsed": true
   },
   "source": [
    "# Assignment\n",
    "## Assignment1 : WAP that create a list of numbers from 1-20 that are either  divisible by 2 or divisible by 4 without using the filter function.\n",
    "## Assignment2 :  WAP using filter function to a list of sequence of numbers from 1-10. Then use the for ... in construct to sum the element in the list generetor.\n",
    "## Assignment3: WAP  to create a list of numbers in the range 1 to 10. Then delete all the even number from the list and print the final list."
   ]
  },
  {
   "cell_type": "markdown",
   "metadata": {
    "collapsed": true
   },
   "source": [
    " # Program :  WAP to print index at which a particular value exists. if the value exists multiple location in the  list, then print  all the indices. Also ,count the number  of times that value is repeated in the list."
   ]
  },
  {
   "cell_type": "code",
   "execution_count": 2,
   "metadata": {},
   "outputs": [
    {
     "name": "stdout",
     "output_type": "stream",
     "text": [
      "Enter the value to be searched4\n",
      "4 found at location 3\n",
      "4 found at location 7\n",
      "4 appears 2 times in the  list\n"
     ]
    }
   ],
   "source": [
    "num_list=[1,2,3,4,5,6,3,4,2,9,10]\n",
    "num=int(input(\"Enter the value to be searched\"))\n",
    "i=0\n",
    "count=0\n",
    "while(i<len(num_list)):\n",
    "    if num==num_list[i]:\n",
    "        print(num,\"found at location\",i)\n",
    "        count+=1\n",
    "    i+=1\n",
    "print(num,\"appears\",count,\"times in the  list\")"
   ]
  },
  {
   "cell_type": "markdown",
   "metadata": {},
   "source": [
    "# Assignment 4 WAP that has a list of both positive and negative numbers. Create another list using filter() that has only positive values.\n",
    "# Assignment 5 WAP to find largest value in a list using reduce() function.\n",
    "\n",
    "# Program : WAP to combine values in two lists using list comprehension. combine only those values of a list that are multiples of values in the first list."
   ]
  },
  {
   "cell_type": "code",
   "execution_count": 3,
   "metadata": {},
   "outputs": [
    {
     "name": "stdout",
     "output_type": "stream",
     "text": [
      "[(10, 40), (10, 60), (20, 40), (20, 60), (30, 60)]\n"
     ]
    }
   ],
   "source": [
    "print([(x,y) for x in [10,20,30,50] for y in [35,40,55,60] if y%x==0 or  x%y==0])"
   ]
  },
  {
   "cell_type": "code",
   "execution_count": null,
   "metadata": {
    "collapsed": true
   },
   "outputs": [],
   "source": []
  }
 ],
 "metadata": {
  "kernelspec": {
   "display_name": "Python 3 (ipykernel)",
   "language": "python",
   "name": "python3"
  },
  "language_info": {
   "codemirror_mode": {
    "name": "ipython",
    "version": 3
   },
   "file_extension": ".py",
   "mimetype": "text/x-python",
   "name": "python",
   "nbconvert_exporter": "python",
   "pygments_lexer": "ipython3",
   "version": "3.8.16"
  }
 },
 "nbformat": 4,
 "nbformat_minor": 2
}
