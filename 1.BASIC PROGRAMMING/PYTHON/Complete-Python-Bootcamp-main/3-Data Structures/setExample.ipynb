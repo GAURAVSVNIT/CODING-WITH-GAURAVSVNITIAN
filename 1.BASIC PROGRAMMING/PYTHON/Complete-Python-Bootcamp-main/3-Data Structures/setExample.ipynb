{
 "cells": [
  {
   "cell_type": "markdown",
   "metadata": {},
   "source": [
    "# WAP that  generates as et of prime numbers and another set of prime numbers and another set of odd numbers.  Demonstrate the result of union,intersection,difference, and symmetric difference operations on these sets."
   ]
  },
  {
   "cell_type": "code",
   "execution_count": 6,
   "metadata": {},
   "outputs": [
    {
     "name": "stdout",
     "output_type": "stream",
     "text": [
      "{3, 5, 7, 9, 11, 13, 15, 17, 19}\n",
      "{2, 3, 4, 5, 7, 11, 13, 17, 19}\n",
      "UNION  {2, 3, 4, 5, 7, 9, 11, 13, 15, 17, 19}\n",
      "Intersection : {3, 5, 7, 11, 13, 17, 19}\n",
      "Symmetric Difference : {2, 4, 9, 15}\n",
      "DIFFERENCE : {9, 15}\n"
     ]
    }
   ],
   "source": [
    "odd=set([x*2+1 for x in range(1,10)])\n",
    "print(odd)\n",
    "primes = set()\n",
    "for i in range(2,20):\n",
    "    j=2\n",
    "    flag =0\n",
    "    while j<i/2:\n",
    "        if i%j==0:\n",
    "            flag=1\n",
    "        j+=1\n",
    "    if flag==0:\n",
    "        primes.add(i)\n",
    "print(primes)\n",
    "print(\"UNION \",odd.union(primes))\n",
    "print(\"Intersection :\",odd.intersection(primes))\n",
    "print(\"Symmetric Difference :\",odd.symmetric_difference(primes))\n",
    "print(\"DIFFERENCE :\",odd.difference(primes))"
   ]
  },
  {
   "cell_type": "markdown",
   "metadata": {},
   "source": [
    "# WAP a Program that creates two sets. one of even number in range 1-10 and other has all composite numbers in range 1-20 . Demonstrate the use all(),issuperset(),len(), and sum() function on the sets."
   ]
  },
  {
   "cell_type": "code",
   "execution_count": 15,
   "metadata": {},
   "outputs": [
    {
     "name": "stdout",
     "output_type": "stream",
     "text": [
      "{2, 4, 6, 8, 10, 12, 14, 16, 18}\n",
      "Composite : {4, 6, 8, 9, 10, 12, 14, 15, 16, 18}\n",
      "Superset : False\n",
      "All : True\n",
      "Length of Composites set : 10\n",
      "Sum of all numbers in even set: 90\n"
     ]
    }
   ],
   "source": [
    "evens = set([x*2 for x in range(1,10)])\n",
    "print(evens)\n",
    "composites =set()\n",
    "for i in range(2,20):\n",
    "    j=2\n",
    "    flag=0\n",
    "    while(j<=i/2):\n",
    "        if i%j ==0:\n",
    "            composites.add(i)\n",
    "        j+=1\n",
    "print(\"Composite :\",composites)\n",
    "print(\"Superset :\",evens.issuperset(composites))\n",
    "print(\"All :\",all(evens))\n",
    "print(\"Length of Composites set :\",len(composites))\n",
    "print(\"Sum of all numbers in even set:\",sum(evens))\n",
    "    "
   ]
  },
  {
   "cell_type": "code",
   "execution_count": null,
   "metadata": {
    "collapsed": true
   },
   "outputs": [],
   "source": []
  }
 ],
 "metadata": {
  "kernelspec": {
   "display_name": "Python 3",
   "language": "python",
   "name": "python3"
  },
  "language_info": {
   "codemirror_mode": {
    "name": "ipython",
    "version": 3
   },
   "file_extension": ".py",
   "mimetype": "text/x-python",
   "name": "python",
   "nbconvert_exporter": "python",
   "pygments_lexer": "ipython3",
   "version": "3.6.2"
  }
 },
 "nbformat": 4,
 "nbformat_minor": 2
}
