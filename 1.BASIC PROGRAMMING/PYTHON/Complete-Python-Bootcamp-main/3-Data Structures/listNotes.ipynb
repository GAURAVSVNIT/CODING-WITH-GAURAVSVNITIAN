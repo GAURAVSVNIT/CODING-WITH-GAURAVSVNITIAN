{
 "cells": [
  {
   "cell_type": "markdown",
   "metadata": {},
   "source": [
    "# Looping in List\n",
    "   ```Python Syntax :\n",
    "   for i in list:\n",
    "      print(i)\n",
    "    ```"
   ]
  },
  {
   "cell_type": "code",
   "execution_count": 2,
   "metadata": {},
   "outputs": [
    {
     "name": "stdout",
     "output_type": "stream",
     "text": [
      "Sum of elements in the list = 155\n",
      "Average of element in the list= 15.5\n"
     ]
    }
   ],
   "source": [
    "num_list=[11,12,13,14,15,16,17,18,19,20]\n",
    "sum =0\n",
    "for i in num_list:\n",
    "    sum+=i\n",
    "print(\"Sum of elements in the list =\",sum)\n",
    "print(\"Average of element in the list=\",float(sum/float(len(num_list))))"
   ]
  },
  {
   "cell_type": "markdown",
   "metadata": {},
   "source": [
    "# Using the enumerate() function\n",
    "This is used when you want to print both index as well as an item in the list"
   ]
  },
  {
   "cell_type": "code",
   "execution_count": 4,
   "metadata": {},
   "outputs": [
    {
     "name": "stdout",
     "output_type": "stream",
     "text": [
      "11 is at index 0\n",
      "12 is at index 1\n",
      "13 is at index 2\n",
      "14 is at index 3\n",
      "15 is at index 4\n"
     ]
    }
   ],
   "source": [
    "num_list=[11,12,13,14,15]\n",
    "for index,i in enumerate(num_list):\n",
    "    print(i,\"is at index\",index)"
   ]
  },
  {
   "cell_type": "markdown",
   "metadata": {},
   "source": [
    "# Using the range() function"
   ]
  },
  {
   "cell_type": "code",
   "execution_count": 7,
   "metadata": {},
   "outputs": [
    {
     "name": "stdout",
     "output_type": "stream",
     "text": [
      "0 is at value  11\n",
      "1 is at value  12\n",
      "2 is at value  13\n",
      "3 is at value  14\n",
      "4 is at value  15\n"
     ]
    }
   ],
   "source": [
    "num_list=[11,12,13,14,15]\n",
    "for i in range(len(num_list)):\n",
    "    print(i,\"is at value \",num_list[i])"
   ]
  },
  {
   "cell_type": "markdown",
   "metadata": {},
   "source": [
    "# Using  an iterator   \n",
    "The iterator fetches the value and then automatically points to the next element in the list when it is used with the next() method\n"
   ]
  },
  {
   "cell_type": "code",
   "execution_count": 10,
   "metadata": {},
   "outputs": [
    {
     "name": "stdout",
     "output_type": "stream",
     "text": [
      "Element at index  0 is: 11\n",
      "Element at index  1 is: 12\n",
      "Element at index  2 is: 13\n",
      "Element at index  3 is: 14\n",
      "Element at index  4 is: 15\n"
     ]
    }
   ],
   "source": [
    "num_list=[11,12,13,14,15]\n",
    "it  = iter(num_list)\n",
    "for i in range(len(num_list)):\n",
    "    print(\"Element at index \",i,\"is:\",next(it))"
   ]
  },
  {
   "cell_type": "markdown",
   "metadata": {},
   "source": [
    "# filter() function\n",
    "The filter() function constructs a list from those element of the list for which a function return True.\n",
    "``` Syntax of the filter() function\n",
    "    filter(function,sequence)\n",
    "```\n",
    "\n"
   ]
  },
  {
   "cell_type": "code",
   "execution_count": 1,
   "metadata": {},
   "outputs": [
    {
     "name": "stdout",
     "output_type": "stream",
     "text": [
      "[3, 6, 9, 12, 15, 18, 21, 24, 27, 30, 33, 36, 39, 42, 45, 48, 51, 54, 57, 60, 63, 66, 69, 72, 75, 78, 81, 84, 87, 90, 93, 96, 99]\n"
     ]
    }
   ],
   "source": [
    "def check(x):\n",
    "    if(x%3==0):\n",
    "        return 1\n",
    "# call check() for every value between 2 to 100\n",
    "divthree = list(filter(check,range(2,100)))\n",
    "print(divthree)\n"
   ]
  },
  {
   "cell_type": "markdown",
   "metadata": {},
   "source": [
    "# Map() function applies a particular to evey element of a list \n",
    "```\n",
    "map(function,sequence)\n",
    "```"
   ]
  },
  {
   "cell_type": "code",
   "execution_count": 12,
   "metadata": {},
   "outputs": [
    {
     "name": "stdout",
     "output_type": "stream",
     "text": [
      "Original List is  [11, 22, 33, 44, 55]\n",
      "Modified List is : [13, 24, 35, 46, 57]\n"
     ]
    }
   ],
   "source": [
    "def add_2(x):\n",
    "    x+=2\n",
    "    return x\n",
    "num_list=[11,22,33,44,55]\n",
    "print(\"Original List is \",num_list)\n",
    "new_list = list(map(add_2,num_list))\n",
    "print(\"Modified List is :\",new_list)"
   ]
  },
  {
   "cell_type": "code",
   "execution_count": 16,
   "metadata": {},
   "outputs": [
    {
     "name": "stdout",
     "output_type": "stream",
     "text": [
      "Sum of  [11, 22, 33, 44, 55] and  [100, 200, 300, 400, 500] = [111, 222, 333, 444, 555]\n"
     ]
    }
   ],
   "source": [
    "def add_2(x,y):\n",
    "    return x+y\n",
    "num_list1=[11,22,33,44,55]\n",
    "num_list2=[100,200,300,400,500]\n",
    "new_list = list(map(add_2,num_list1,num_list2))\n",
    "print(\"Sum of \",num_list1,\"and \",num_list2,\"=\",new_list)"
   ]
  },
  {
   "cell_type": "markdown",
   "metadata": {},
   "source": [
    "# reduce() Function\n",
    "The reduce () function with syntax as given below return a single value generated by calling the function on the first two items of the sequence, then  on the next item and so no.\n",
    "```\n",
    "reduce(fuction,sequence)\n",
    "```"
   ]
  },
  {
   "cell_type": "code",
   "execution_count": 1,
   "metadata": {},
   "outputs": [
    {
     "name": "stdout",
     "output_type": "stream",
     "text": [
      "Sum of value in list=\n",
      "65\n"
     ]
    }
   ],
   "source": [
    "import functools # functools is module that contains the function reduce()\n",
    "\n",
    "def add(x,y):\n",
    "    return(x+y)\n",
    "num_list=[11,12,13,14,15]\n",
    "print(\"Sum of value in list=\")\n",
    "print(functools.reduce(add,num_list))"
   ]
  },
  {
   "cell_type": "markdown",
   "metadata": {},
   "source": [
    "# Key points to remeber\n",
    "    -if there is only one item in the sequence, them it value is returned.\n",
    "    -if the sequence is empyt, an excption is raised.\n",
    "    -Creating a list in a very extensive range will generated a MemoryError or Overflow error\n",
    "## list = [5*i for i in range(100**100)]\n",
    "    "
   ]
  },
  {
   "cell_type": "markdown",
   "metadata": {
    "collapsed": true
   },
   "source": [
    "# Assignment\n",
    "## Assignment1 : WAP that create a list of numbers from 1-20 that are either  divisible by 2 or divisible by 4 without using the filter function.\n",
    "## Assignment2 :  WAP using filter function to a list of sequence of numbers from 1-10. Then use the for ... in construct to sum the element in the list generetor.\n",
    "## Assignment3: WAP  to create a list of numbers in the range 1 to 10. Then delete all the even number from the list and print the final list."
   ]
  },
  {
   "cell_type": "markdown",
   "metadata": {
    "collapsed": true
   },
   "source": [
    " # Program :  WAP to print index at which a particular value exists. if the value exists multiple location in the  list, then print  all the indices. Also ,count the number  of times that value is repeated in the list."
   ]
  },
  {
   "cell_type": "code",
   "execution_count": 2,
   "metadata": {},
   "outputs": [
    {
     "name": "stdout",
     "output_type": "stream",
     "text": [
      "Enter the value to be searched4\n",
      "4 found at location 3\n",
      "4 found at location 7\n",
      "4 appears 2 times in the  list\n"
     ]
    }
   ],
   "source": [
    "num_list=[1,2,3,4,5,6,3,4,2,9,10]\n",
    "num=int(input(\"Enter the value to be searched\"))\n",
    "i=0\n",
    "count=0\n",
    "while(i<len(num_list)):\n",
    "    if num==num_list[i]:\n",
    "        print(num,\"found at location\",i)\n",
    "        count+=1\n",
    "    i+=1\n",
    "print(num,\"appears\",count,\"times in the  list\")"
   ]
  },
  {
   "cell_type": "markdown",
   "metadata": {},
   "source": [
    "# Assignment 4 WAP that has a list of both positive and negative numbers. Create another list using filter() that has only positive values.\n",
    "# Assignment 5 WAP to find largest value in a list using reduce() function.\n",
    "\n",
    "# Program : WAP to combine values in two lists using list comprehension. combine only those values of a list that are multiples of values in the first list."
   ]
  },
  {
   "cell_type": "code",
   "execution_count": 3,
   "metadata": {},
   "outputs": [
    {
     "name": "stdout",
     "output_type": "stream",
     "text": [
      "[(10, 40), (10, 60), (20, 40), (20, 60), (30, 60)]\n"
     ]
    }
   ],
   "source": [
    "print([(x,y) for x in [10,20,30,50] for y in [35,40,55,60] if y%x==0 or  x%y==0])"
   ]
  },
  {
   "cell_type": "code",
   "execution_count": null,
   "metadata": {
    "collapsed": true
   },
   "outputs": [],
   "source": []
  }
 ],
 "metadata": {
  "kernelspec": {
   "display_name": "Python 3",
   "language": "python",
   "name": "python3"
  },
  "language_info": {
   "codemirror_mode": {
    "name": "ipython",
    "version": 3
   },
   "file_extension": ".py",
   "mimetype": "text/x-python",
   "name": "python",
   "nbconvert_exporter": "python",
   "pygments_lexer": "ipython3",
   "version": "3.6.2"
  }
 },
 "nbformat": 4,
 "nbformat_minor": 2
}
