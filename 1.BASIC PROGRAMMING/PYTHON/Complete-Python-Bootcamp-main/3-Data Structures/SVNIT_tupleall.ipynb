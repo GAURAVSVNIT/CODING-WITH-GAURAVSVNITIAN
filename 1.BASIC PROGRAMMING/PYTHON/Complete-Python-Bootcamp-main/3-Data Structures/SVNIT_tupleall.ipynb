{
 "cells": [
  {
   "cell_type": "markdown",
   "metadata": {},
   "source": [
    "# TUPLE\n",
    "- a tuple is a sequence of immutable objects. This means that while you can change the value of one or more items in a list you cannot change the value in tuple.\n",
    "- tuple use parentheses to define its elements whereas lists use square brackets.\n",
    "    "
   ]
  },
  {
   "cell_type": "code",
   "execution_count": 1,
   "metadata": {},
   "outputs": [
    {
     "name": "stdout",
     "output_type": "stream",
     "text": [
      "()\n"
     ]
    }
   ],
   "source": [
    "tup1 =() # creates a empty tuple \n",
    "print(tup1)"
   ]
  },
  {
   "cell_type": "code",
   "execution_count": 3,
   "metadata": {},
   "outputs": [
    {
     "name": "stdout",
     "output_type": "stream",
     "text": [
      "(5,)\n",
      "<class 'tuple'>\n"
     ]
    }
   ],
   "source": [
    "tup1=(5,)\n",
    "print(tup1)\n",
    "print(type(tup1))"
   ]
  },
  {
   "cell_type": "code",
   "execution_count": 5,
   "metadata": {},
   "outputs": [
    {
     "name": "stdout",
     "output_type": "stream",
     "text": [
      "(1, 'python', 'java', 34.5, '4', 'p')\n"
     ]
    }
   ],
   "source": [
    "tup1=(1,\"python\",\"java\",34.5,'4','p') # create tuple with mixed value\n",
    "print(tup1)"
   ]
  },
  {
   "cell_type": "code",
   "execution_count": 7,
   "metadata": {},
   "outputs": [
    {
     "name": "stdout",
     "output_type": "stream",
     "text": [
      "a praveen p 3 4.5\n"
     ]
    }
   ],
   "source": [
    "print('a',\"praveen\",\"p\",3,4.5) # Tuple with parentheses\n"
   ]
  },
  {
   "cell_type": "code",
   "execution_count": 7,
   "metadata": {},
   "outputs": [
    {
     "name": "stdout",
     "output_type": "stream",
     "text": [
      "10 20\n"
     ]
    }
   ],
   "source": [
    "a,b=10,20   # Default tuple without parentheses\n",
    "print(a,b)"
   ]
  },
  {
   "cell_type": "code",
   "execution_count": 9,
   "metadata": {},
   "outputs": [
    {
     "name": "stdout",
     "output_type": "stream",
     "text": [
      "<class 'tuple'>\n"
     ]
    }
   ],
   "source": [
    "tup =(10,)\n",
    "print(type(tup))"
   ]
  },
  {
   "cell_type": "code",
   "execution_count": 10,
   "metadata": {},
   "outputs": [
    {
     "name": "stdout",
     "output_type": "stream",
     "text": [
      "<class 'int'>\n"
     ]
    }
   ],
   "source": [
    "tup =(10)\n",
    "print(type(tup))"
   ]
  },
  {
   "cell_type": "markdown",
   "metadata": {},
   "source": [
    "# Utility of  Tuple"
   ]
  },
  {
   "cell_type": "code",
   "execution_count": 9,
   "metadata": {},
   "outputs": [
    {
     "name": "stdout",
     "output_type": "stream",
     "text": [
      "Quotient= 33\n",
      "Remainder= 1\n"
     ]
    }
   ],
   "source": [
    "quo,rem = divmod(100,3)\n",
    "print(\"Quotient=\",quo)\n",
    "print(\"Remainder=\",rem)"
   ]
  },
  {
   "cell_type": "markdown",
   "metadata": {},
   "source": [
    "# Accessing value in Tuple"
   ]
  },
  {
   "cell_type": "code",
   "execution_count": 13,
   "metadata": {},
   "outputs": [
    {
     "name": "stdout",
     "output_type": "stream",
     "text": [
      "Tup[3:6]= (4, 5, 6)\n",
      "Tup[:4]= (1, 2, 3, 4)\n",
      "Tup[4:]= (5, 6, 7, 8, 9, 10)\n",
      "Tup[:]= (1, 2, 3, 4, 5, 6, 7, 8, 9, 10)\n"
     ]
    }
   ],
   "source": [
    "tup1=(1,2,3,4,5,6,7,8,9,10)\n",
    "print(\"Tup[3:6]=\",tup1[3:6])\n",
    "print(\"Tup[:4]=\",tup1[:4])\n",
    "print(\"Tup[4:]=\",tup1[4:])\n",
    "print(\"Tup[:]=\",tup1[:])\n"
   ]
  },
  {
   "cell_type": "markdown",
   "metadata": {},
   "source": [
    "# Updating Tuple\n",
    "- tuple is immutlable and so, the value(s) in the tuple cannot be changed.we can only extract values from a tuple to from another tuple\n",
    "- unlike lists , tuple do not support remove(),pop(),append(),sort(),reverse(),  and insert() methods"
   ]
  },
  {
   "cell_type": "code",
   "execution_count": 14,
   "metadata": {},
   "outputs": [
    {
     "name": "stdout",
     "output_type": "stream",
     "text": [
      "(1, 2, 3, 4, 5, 6, 7, 8, 9, 10)\n"
     ]
    }
   ],
   "source": [
    "# Concatenating Tuples\n",
    "tup1=(1,2,3,4,5)\n",
    "tup2=(6,7,8,9,10)\n",
    "tup3 = tup1 + tup2\n",
    "print(tup3)"
   ]
  },
  {
   "cell_type": "code",
   "execution_count": 22,
   "metadata": {},
   "outputs": [
    {
     "ename": "TypeError",
     "evalue": "'tuple' object doesn't support item deletion",
     "output_type": "error",
     "traceback": [
      "\u001b[1;31m---------------------------------------------------------------------------\u001b[0m",
      "\u001b[1;31mTypeError\u001b[0m                                 Traceback (most recent call last)",
      "\u001b[1;32m<ipython-input-22-e80471baed0c>\u001b[0m in \u001b[0;36m<module>\u001b[1;34m()\u001b[0m\n\u001b[0;32m      1\u001b[0m \u001b[0mtup4\u001b[0m \u001b[1;33m=\u001b[0m  \u001b[1;33m(\u001b[0m\u001b[1;36m11\u001b[0m\u001b[1;33m,\u001b[0m\u001b[1;36m22\u001b[0m\u001b[1;33m,\u001b[0m\u001b[1;36m33\u001b[0m\u001b[1;33m,\u001b[0m\u001b[1;36m44\u001b[0m\u001b[1;33m,\u001b[0m\u001b[1;36m55\u001b[0m\u001b[1;33m)\u001b[0m\u001b[1;33m\u001b[0m\u001b[0m\n\u001b[1;32m----> 2\u001b[1;33m \u001b[1;32mdel\u001b[0m \u001b[0mtup4\u001b[0m\u001b[1;33m[\u001b[0m\u001b[1;36m2\u001b[0m\u001b[1;33m]\u001b[0m\u001b[1;33m\u001b[0m\u001b[0m\n\u001b[0m\u001b[0;32m      3\u001b[0m \u001b[0mprint\u001b[0m\u001b[1;33m(\u001b[0m\u001b[0mtup4\u001b[0m\u001b[1;33m)\u001b[0m  \u001b[1;31m# tuple  immutable so we can not preform delete operation\u001b[0m\u001b[1;33m\u001b[0m\u001b[0m\n",
      "\u001b[1;31mTypeError\u001b[0m: 'tuple' object doesn't support item deletion"
     ]
    }
   ],
   "source": [
    "tup4 =  (11,22,33,44,55)\n",
    "del tup4[2]\n",
    "print(tup4)  # tuple  immutable so we can not preform delete operation"
   ]
  },
  {
   "cell_type": "markdown",
   "metadata": {},
   "source": [
    "# Tuple Assignment"
   ]
  },
  {
   "cell_type": "code",
   "execution_count": 25,
   "metadata": {},
   "outputs": [
    {
     "name": "stdout",
     "output_type": "stream",
     "text": [
      "1 2 3\n",
      "(100, 200, 300)\n",
      "6 5.666666666666667 3\n"
     ]
    }
   ],
   "source": [
    "(val1,val2,val3)=(1,2,3)\n",
    "print(val1,val2,val3)\n",
    "tup1 =(100,200,300)\n",
    "(val1,val2,val3)=tup1 # tuple assigned to another tuple\n",
    "print(tup1)\n",
    "#expression are evaluated before assignment \n",
    "(val1,val2,val3)=(2+4,5/3+4,9%6)\n",
    "print(val1,val2,val3)"
   ]
  },
  {
   "cell_type": "markdown",
   "metadata": {},
   "source": [
    "# Nested  tuples"
   ]
  },
  {
   "cell_type": "code",
   "execution_count": 26,
   "metadata": {},
   "outputs": [
    {
     "name": "stdout",
     "output_type": "stream",
     "text": [
      "('Virat', 'Test Avg', 54.4)\n",
      "('Dhoni', 'Test Avg ', 45.5)\n",
      "('Sachin', 'Test Avg', 56.4)\n"
     ]
    }
   ],
   "source": [
    "player=((\"Virat\",\"Test Avg\",54.4),(\"Dhoni\",\"Test Avg \",45.5),(\"Sachin\",\"Test Avg\",56.4))\n",
    "for i in player:\n",
    "    print(i)"
   ]
  },
  {
   "cell_type": "code",
   "execution_count": 31,
   "metadata": {},
   "outputs": [
    {
     "name": "stdout",
     "output_type": "stream",
     "text": [
      "('Virat', 'All Formate', [54.4, 50.4, 59.5])\n",
      "('Dhoni', 'All Formate', [52.4, 45.4, 51.5])\n",
      "('Sachin', 'All Formate', [58.4, 48.4, 42.4])\n",
      "Best Avg in Test ('Virat', 'All Formate', [54.4, 50.4, 59.5])\n",
      "Count  0\n"
     ]
    }
   ],
   "source": [
    "player=((\"Virat\",\"All Formate\",[54.4,50.4,59.5]),(\"Dhoni\",\"All Formate\",[52.4,45.4,51.5]),(\"Sachin\",\"All Formate\",[58.4,48.4,42.4]))\n",
    "for i in player:\n",
    "    print(i)\n",
    "\n",
    "print(\"Best Avg in Test\",player[0])\n"
   ]
  },
  {
   "cell_type": "markdown",
   "metadata": {},
   "source": [
    "# Variable-lenght Argument Tuples"
   ]
  },
  {
   "cell_type": "code",
   "execution_count": 33,
   "metadata": {},
   "outputs": [
    {
     "name": "stdout",
     "output_type": "stream",
     "text": [
      "((1, 2, 3, 4, 5, 6),)\n"
     ]
    }
   ],
   "source": [
    "def display(*args):\n",
    "    print(args)\n",
    "tup1 =(1,2,3,4,5,6)\n",
    "display(tup1)"
   ]
  },
  {
   "cell_type": "markdown",
   "metadata": {},
   "source": [
    "# Zip() function"
   ]
  },
  {
   "cell_type": "code",
   "execution_count": 35,
   "metadata": {},
   "outputs": [
    {
     "name": "stdout",
     "output_type": "stream",
     "text": [
      "[(1, 'a'), (2, 'b'), (3, 'c'), (4, 'd'), (5, 'e')]\n"
     ]
    }
   ],
   "source": [
    "tup1 =(1,2,3,4,5)\n",
    "list1 =['a','b','c','d','e']\n",
    "print(list((zip(tup1,list1))))"
   ]
  },
  {
   "cell_type": "code",
   "execution_count": 5,
   "metadata": {},
   "outputs": [
    {
     "name": "stdout",
     "output_type": "stream",
     "text": [
      "[(1, 'a'), (2, 'b'), (3, 'c'), (6, 'd'), (7, 'e')]\n"
     ]
    }
   ],
   "source": [
    "tup1 =(1,2,3,6,7,8,7)\n",
    "list1 =['a','b','c','d','e']\n",
    "print(list((zip(tup1,list1))))  # zip()function is variable lenght squence"
   ]
  },
  {
   "cell_type": "markdown",
   "metadata": {
    "collapsed": true,
    "jupyter": {
     "outputs_hidden": true
    }
   },
   "source": [
    "# Program to print element in a tuple using for loop"
   ]
  },
  {
   "cell_type": "code",
   "execution_count": 6,
   "metadata": {},
   "outputs": [
    {
     "name": "stdout",
     "output_type": "stream",
     "text": [
      "1 a p\n",
      "2 b w\n",
      "3 c r\n"
     ]
    }
   ],
   "source": [
    "tup =((1,'a','p'),(2,'b','w'),(3,'c','r'))\n",
    "for i,char,ch in tup:\n",
    "    print(i,char,ch)"
   ]
  },
  {
   "cell_type": "code",
   "execution_count": 3,
   "metadata": {},
   "outputs": [
    {
     "name": "stdout",
     "output_type": "stream",
     "text": [
      "0 p\n",
      "1 y\n",
      "2 t\n",
      "3 h\n",
      "4 o\n",
      "5 n\n",
      "6 p\n",
      "7 a\n",
      "8 d\n",
      "9 h\n",
      "10 o\n"
     ]
    }
   ],
   "source": [
    "for index,element in enumerate('pythonpadho'):\n",
    "    print(index,element)"
   ]
  },
  {
   "cell_type": "markdown",
   "metadata": {},
   "source": [
    "# Key Points to remember\n",
    "- tuple can be converted into lists, and  vice versa using the build-in tuple() funtion.\n",
    "- we  cannot divide and subtract tuples\n",
    "- tuples are immutable\n",
    "- tuples are faseter than lists,but they cannot be changed\n"
   ]
  },
  {
   "cell_type": "markdown",
   "metadata": {},
   "source": [
    "# Advatages of Tuple over List"
   ]
  },
  {
   "cell_type": "markdown",
   "metadata": {},
   "source": [
    "- Tuples are used to store values of different data types.List can however,store data of similar data types.\n",
    "- Tuple are immutable ,iterating through tuples is faster than iterating over a list. This means that a tuple perform better than a list.\n",
    "- Tuples can be used as key for dictionary but list cannot be used as keys.\n",
    "- Tuples are best suited for storing data that  is write protected.\n",
    "- Tuples can be used in place of list where the number of values is known and small.\n",
    "- multiple values from a function can be returned using a tuple\n",
    "- Tuples are used to format string\n"
   ]
  },
  {
   "cell_type": "markdown",
   "metadata": {},
   "source": [
    "# Program : WAP using a function that return the area and circumference of  a circle whose radius is passed as an argument."
   ]
  },
  {
   "cell_type": "code",
   "execution_count": 6,
   "metadata": {},
   "outputs": [
    {
     "name": "stdout",
     "output_type": "stream",
     "text": [
      "Enter the radius :5\n",
      "Area of the circle with radius  5.0 = 78.5\n",
      "Circumference of the circle with radius  5.0 = 31.400000000000002\n"
     ]
    }
   ],
   "source": [
    "PI=3.14\n",
    "def cal_area_circum(r):\n",
    "    return(PI*r*r,2*PI*r)\n",
    "radius  = float(input(\"Enter the radius :\"))\n",
    "(area,circumference) = cal_area_circum(radius)\n",
    "print(\"Area of the circle with radius \",radius ,\"=\",area)\n",
    "print(\"Circumference of the circle with radius \",radius ,\"=\",circumference)"
   ]
  },
  {
   "cell_type": "markdown",
   "metadata": {},
   "source": [
    "# WAP that has a nested list to store topper details. Edit the details and reprint the details"
   ]
  },
  {
   "cell_type": "code",
   "execution_count": 9,
   "metadata": {},
   "outputs": [
    {
     "name": "stdout",
     "output_type": "stream",
     "text": [
      "('Arav', 'Bsc', 92.0)\n",
      "('Chaitanya', 'B.Tech', 98.0)\n",
      "('Dhuruvika', 'Btech', 96)\n",
      "Do you want to edi the details:y\n",
      "Enter the name of the students whose details are to be editedArav\n",
      "Enter the correct namePraveen\n",
      "Enter the correct courseMTech\n",
      "Enter the correct aggregate78\n",
      "PraveenMTech78ChaitanyaB.Tech98.0DhuruvikaBtech96"
     ]
    }
   ],
   "source": [
    "topper = ((\"Arav\",\"Bsc\",92.0),(\"Chaitanya\",\"B.Tech\",98.0),(\"Dhuruvika\",\"Btech\",96))\n",
    "for  i in topper:\n",
    "     print(i)\n",
    "choice = input(\"Do you want to edi the details:\")\n",
    "if choice=='y':\n",
    "    name = input(\"Enter the name of the students whose details are to be edited\")\n",
    "    new_name = input(\"Enter the correct name\")\n",
    "    new_course = input(\"Enter the correct course\")\n",
    "    new_aggr = input(\"Enter the correct aggregate\")\n",
    "    i=0\n",
    "    new_topper=()\n",
    "    while i<len(topper):\n",
    "        if (topper[i][0]==name):\n",
    "            new_topper+=(new_name,new_course,new_aggr)\n",
    "        else:\n",
    "            new_topper+= topper[i]\n",
    "        i+=1\n",
    "for i in new_topper:\n",
    "    print(i,end='')"
   ]
  },
  {
   "cell_type": "code",
   "execution_count": 1,
   "metadata": {},
   "outputs": [
    {
     "name": "stdout",
     "output_type": "stream",
     "text": [
      "2\n"
     ]
    }
   ],
   "source": [
    "my_tuple = (1, 2, 2, 3)\n",
    "print(my_tuple.count(2))  # Output: 2"
   ]
  },
  {
   "cell_type": "code",
   "execution_count": 2,
   "metadata": {},
   "outputs": [
    {
     "name": "stdout",
     "output_type": "stream",
     "text": [
      "1\n"
     ]
    }
   ],
   "source": [
    "my_tuple = (1, 2, 3, 2)\n",
    "print(my_tuple.index(2))  # Output: 1"
   ]
  },
  {
   "cell_type": "code",
   "execution_count": 4,
   "metadata": {},
   "outputs": [
    {
     "name": "stdout",
     "output_type": "stream",
     "text": [
      "1 2 3\n"
     ]
    }
   ],
   "source": [
    "# Unpacking a Tuple into variables\n",
    "my_tuple = (1, 2, 3)\n",
    "a, b, c = my_tuple\n",
    "print(a, b, c)  # Output: 1 2 3"
   ]
  },
  {
   "cell_type": "code",
   "execution_count": null,
   "metadata": {},
   "outputs": [],
   "source": []
  }
 ],
 "metadata": {
  "kernelspec": {
   "display_name": "Python [conda env:NTNU]",
   "language": "python",
   "name": "conda-env-NTNU-py"
  },
  "language_info": {
   "codemirror_mode": {
    "name": "ipython",
    "version": 3
   },
   "file_extension": ".py",
   "mimetype": "text/x-python",
   "name": "python",
   "nbconvert_exporter": "python",
   "pygments_lexer": "ipython3",
   "version": "3.8.16"
  }
 },
 "nbformat": 4,
 "nbformat_minor": 4
}
