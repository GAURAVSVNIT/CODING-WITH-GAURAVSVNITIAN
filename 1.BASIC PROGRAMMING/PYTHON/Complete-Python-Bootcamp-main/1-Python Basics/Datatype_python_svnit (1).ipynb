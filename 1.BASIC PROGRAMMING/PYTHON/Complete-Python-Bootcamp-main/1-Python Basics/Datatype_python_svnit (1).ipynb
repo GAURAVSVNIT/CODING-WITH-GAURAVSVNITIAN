{
 "cells": [
  {
   "cell_type": "markdown",
   "id": "0e9ca0e4",
   "metadata": {},
   "source": [
    "# Python Core Data Type\n",
    "Python is purely object-oriented language.it referes to everythings as an object including\n",
    "numbers and strings. ## Integer"
   ]
  },
  {
   "cell_type": "code",
   "execution_count": 4,
   "id": "c63f56f3",
   "metadata": {},
   "outputs": [
    {
     "name": "stdout",
     "output_type": "stream",
     "text": [
      "Decimal  10\n",
      "<class 'int'>\n",
      "Octal 8\n",
      "<class 'int'>\n",
      "Hexadical 16\n",
      "<class 'int'>\n"
     ]
    }
   ],
   "source": [
    "a =10\n",
    "print('Decimal ',a)\n",
    "print(type(a))\n",
    "b = 0o10\n",
    "print('Octal',b)\n",
    "print(type(b))\n",
    "c =0x10\n",
    "print(\"Hexadical\",c)\n",
    "print(type(c))"
   ]
  },
  {
   "cell_type": "markdown",
   "id": "c5e996c5",
   "metadata": {},
   "source": [
    "# Note : Integer in Python 2.6 (int and long):\n",
    "1. In Python 2.6 there are two types of integetes. One of 32 bits and another having unlimited precession. Python 2.6 automatically convert integers to long integers if the value of the integer overfloaws 32 bits\n",
    "2. Integer in Python 3.0 (Only int type) - In Python 3.0 the normal int and long integer have been merged.there is only one type called intger"
   ]
  },
  {
   "cell_type": "code",
   "execution_count": null,
   "id": "defe1278",
   "metadata": {},
   "outputs": [],
   "source": [
    "# int Function\n",
    "# int function convert a String or number into a whole number to integer.\n",
    "int(12.234)\n",
    "age = int(input(\"Enter thw age of student\"))"
   ]
  },
  {
   "cell_type": "code",
   "execution_count": 7,
   "id": "12be1391",
   "metadata": {},
   "outputs": [
    {
     "name": "stdout",
     "output_type": "stream",
     "text": [
      "33.0\n",
      "3.7\n"
     ]
    }
   ],
   "source": [
    "# Floating Point\n",
    "print(3.3e1) # Scientific Notation\n",
    "print(3.7) # Decimal Notation"
   ]
  },
  {
   "cell_type": "code",
   "execution_count": null,
   "id": "0acff7ca",
   "metadata": {},
   "outputs": [],
   "source": [
    "#float funciton\n",
    "float('14.55')\n",
    "type(float('14.55'))\n"
   ]
  },
  {
   "cell_type": "code",
   "execution_count": 11,
   "id": "4706006d",
   "metadata": {},
   "outputs": [
    {
     "name": "stdout",
     "output_type": "stream",
     "text": [
      "(5+9j)\n",
      "<class 'complex'>\n"
     ]
    }
   ],
   "source": [
    "# Complex Number\n",
    "#7.1 Complex number that can be expresses in the form a+bj, where a and b are real number and j is an imaginary unit.\n",
    "a = 2 +4j\n",
    "b = 3 + 5j\n",
    "c = a+b\n",
    "print(c)\n",
    "print(type(c))"
   ]
  },
  {
   "cell_type": "code",
   "execution_count": null,
   "id": "a0743a02",
   "metadata": {},
   "outputs": [],
   "source": [
    "#Boolean Type\n",
    "#Boolean data type represent in Python as type bool\n",
    "b=True\n",
    "type(b)"
   ]
  },
  {
   "cell_type": "code",
   "execution_count": 18,
   "id": "820d9138",
   "metadata": {},
   "outputs": [
    {
     "name": "stdout",
     "output_type": "stream",
     "text": [
      "Praveen\n",
      "Jain\n",
      "c\n",
      "        cpp\n",
      "        java\n",
      "\n",
      "python\n"
     ]
    }
   ],
   "source": [
    "#String type \n",
    "# A string literal or String in Python can be creted using single,double and triple quotes\n",
    "str1='Praveen'\n",
    "print(str1)\n",
    "str2 = \"Jain\"\n",
    "print(str2)\n",
    "str3 = '''c\n",
    "        cpp\n",
    "        java\n",
    "\n",
    "python''' # Triple single quotes are used to write a multiline\n",
    "print(str3)\n"
   ]
  },
  {
   "cell_type": "code",
   "execution_count": 21,
   "id": "97057cb8",
   "metadata": {},
   "outputs": [
    {
     "data": {
      "text/plain": [
       "'12.3'"
      ]
     },
     "execution_count": 21,
     "metadata": {},
     "output_type": "execute_result"
    }
   ],
   "source": [
    "#str function\n",
    "str(12.3)\n"
   ]
  },
  {
   "cell_type": "code",
   "execution_count": 22,
   "id": "76204fb7",
   "metadata": {},
   "outputs": [
    {
     "name": "stdout",
     "output_type": "stream",
     "text": [
      "Hello World ,\" Hello world\"\n",
      "Hello Python Python "
     ]
    }
   ],
   "source": [
    "# Escape Sequence\n",
    "print(\"Hello World ,\\\" Hello world\\\"\")\n",
    "#Hello World ,\" Hello world\"\n",
    "print(\"Hello\",end=\" \")\n",
    "print(\"Python\",end=\" \")\n",
    "print(\"Python\",end=\" \")\n"
   ]
  },
  {
   "cell_type": "code",
   "execution_count": 28,
   "id": "32d6eba4",
   "metadata": {},
   "outputs": [
    {
     "name": "stdout",
     "output_type": "stream",
     "text": [
      "Roll_no =37\n",
      "College=SVNIT\n",
      "Code=234\n",
      "Number of Studnet 40000\n",
      "Name of Stundet Amit Kumar\n"
     ]
    }
   ],
   "source": [
    "#Program to disaply data of different types using variables and literal constant.\n",
    "roll_no =37\n",
    "college = \"SVNIT\"\n",
    "code=234\n",
    "number_of_student=40000\n",
    "name_of_student=\"Amit Kumar\"\n",
    "print(\"Roll_no =\"+str(roll_no))\n",
    "print(\"College=\"+str(college))\n",
    "print(\"Code=\"+str(code))\n",
    "print(\"Number of Studnet\",str(number_of_student))\n",
    "print(\"Name of Stundet\",str(name_of_student))"
   ]
  },
  {
   "cell_type": "code",
   "execution_count": 36,
   "id": "6fcb64e0",
   "metadata": {},
   "outputs": [
    {
     "name": "stdout",
     "output_type": "stream",
     "text": [
      "Enter the radius of Circle566\n",
      "Radius  566\n",
      "Area of Circle 1006814.84\n",
      "Area of Circle: 1006814.84\n"
     ]
    }
   ],
   "source": [
    "#Formatting Number and String\n",
    "#format(item,format-specifier)\n",
    "radius= int(input(\"Enter the radius of Circle\"))\n",
    "print(\"Radius \",radius)\n",
    "PI =3.1428\n",
    "area = PI * radius * radius\n",
    "print(\"Area of Circle\",format(area,'3.2f')) # 3.2f ==> 3 =>Field Widht 2=>Precision \n",
    "\n",
    "print(\"Area of Circle: {:<6.2f}\".format(area))\n",
    "\n",
    "#Explanation:\n",
    "#<: Left-aligns the content.\n",
    "#6.2f: Reserves at least 6 spaces and formats the float to 2 decimal places. Adjust the width (e.g., 6) as needed.\n"
   ]
  },
  {
   "cell_type": "code",
   "execution_count": 38,
   "id": "a470129a",
   "metadata": {},
   "outputs": [
    {
     "name": "stdout",
     "output_type": "stream",
     "text": [
      "        14\n"
     ]
    }
   ],
   "source": [
    "#Integer Formatting\n",
    "#• In case of integer formatting , you can make use of conversion code d (integer formatting) and x(hexadecimal integer).\n",
    "print(format(20,\"10x\")) # Right formatted to Hexdecimal Integer\n"
   ]
  },
  {
   "cell_type": "code",
   "execution_count": 39,
   "id": "9c1c134e",
   "metadata": {},
   "outputs": [
    {
     "name": "stdout",
     "output_type": "stream",
     "text": [
      "14        \n"
     ]
    }
   ],
   "source": [
    "print(format(20,\"<10x\"))"
   ]
  },
  {
   "cell_type": "code",
   "execution_count": 44,
   "id": "c7545b49",
   "metadata": {},
   "outputs": [
    {
     "data": {
      "text/plain": [
       "'5.33'"
      ]
     },
     "execution_count": 44,
     "metadata": {},
     "output_type": "execute_result"
    }
   ],
   "source": [
    "# Formating with Float\n",
    "float(16/(float(3))) # Without # Without using the formatting\n",
    "\n"
   ]
  },
  {
   "cell_type": "code",
   "execution_count": 45,
   "id": "c746e5e0",
   "metadata": {},
   "outputs": [
    {
     "data": {
      "text/plain": [
       "'5.33'"
      ]
     },
     "execution_count": 45,
     "metadata": {},
     "output_type": "execute_result"
    }
   ],
   "source": [
    "format(float(16/float(3)),'.2f')"
   ]
  },
  {
   "cell_type": "code",
   "execution_count": 46,
   "id": "d21a466d",
   "metadata": {},
   "outputs": [
    {
     "name": "stdout",
     "output_type": "stream",
     "text": [
      "Hello World!             \n",
      "             Hello World!\n"
     ]
    }
   ],
   "source": [
    "#Formatting String\n",
    "print(format(\"Hello World!\",\"25s\")) # Left justify\n",
    "print(format(\"Hello World!\",\">25s\")) # Right Justify"
   ]
  },
  {
   "cell_type": "code",
   "execution_count": 47,
   "id": "27ecf717",
   "metadata": {},
   "outputs": [
    {
     "name": "stdout",
     "output_type": "stream",
     "text": [
      "    31.46%\n",
      "   310.00%\n"
     ]
    }
   ],
   "source": [
    "#Formatting as a Percentage\n",
    "print(format(0.31456,\"10.2%\")) # number multipled by 100\n",
    "print(format(3.1,\"10.2%\")) # number multipled by 100"
   ]
  },
  {
   "cell_type": "code",
   "execution_count": 54,
   "id": "df0ffd68",
   "metadata": {},
   "outputs": [
    {
     "name": "stdout",
     "output_type": "stream",
     "text": [
      "0\n",
      "0\n",
      "0\n",
      "0\n",
      "0\n",
      "3\n",
      "5\n",
      "Welcome in Python Course\n"
     ]
    }
   ],
   "source": [
    "#Multiple Assignment\n",
    "sum = flag=a=b=0\n",
    "print(sum)\n",
    "print(flag)\n",
    "print(a)\n",
    "print(b)\n",
    "sum,a,b,mesg=0,3,5,'Welcome in Python Course'\n",
    "print(sum)\n",
    "print(a)\n",
    "print(b)\n",
    "print(mesg)"
   ]
  },
  {
   "cell_type": "code",
   "execution_count": 59,
   "id": "891c15c7",
   "metadata": {},
   "outputs": [
    {
     "name": "stdout",
     "output_type": "stream",
     "text": [
      "[1, 2, 3, 4, 5]\n",
      "[2]\n",
      "[2, 4]\n",
      "[1, 3, 5]\n",
      "5\n",
      "[1, 333, 3, 4, 5]\n"
     ]
    }
   ],
   "source": [
    "# list Data type\n",
    "list=[1,2,3,4,5]\n",
    "print(list) # Mutable Data Type\n",
    "print(list[1:2])\n",
    "print(list[1:5:2])\n",
    "print(list[::2])\n",
    "print(list[-1])\n",
    "list[1]=333\n",
    "print(list)"
   ]
  },
  {
   "cell_type": "code",
   "execution_count": 60,
   "id": "b3262d73",
   "metadata": {},
   "outputs": [
    {
     "name": "stdout",
     "output_type": "stream",
     "text": [
      "(1, 2, 3, 3, 4)\n",
      "2\n",
      "(2, 3)\n",
      "(2,)\n",
      "(1, 2, 3, 3, 4)\n"
     ]
    },
    {
     "ename": "TypeError",
     "evalue": "'tuple' object does not support item assignment",
     "output_type": "error",
     "traceback": [
      "\u001b[1;31m---------------------------------------------------------------------------\u001b[0m",
      "\u001b[1;31mTypeError\u001b[0m                                 Traceback (most recent call last)",
      "\u001b[1;32m~\\AppData\\Local\\Temp\\ipykernel_18336\\3963274223.py\u001b[0m in \u001b[0;36m<module>\u001b[1;34m\u001b[0m\n\u001b[0;32m      6\u001b[0m \u001b[0mprint\u001b[0m\u001b[1;33m(\u001b[0m\u001b[0mtuple\u001b[0m\u001b[1;33m[\u001b[0m\u001b[1;36m1\u001b[0m\u001b[1;33m:\u001b[0m\u001b[1;36m3\u001b[0m\u001b[1;33m:\u001b[0m\u001b[1;36m2\u001b[0m\u001b[1;33m]\u001b[0m\u001b[1;33m)\u001b[0m\u001b[1;33m\u001b[0m\u001b[1;33m\u001b[0m\u001b[0m\n\u001b[0;32m      7\u001b[0m \u001b[0mprint\u001b[0m\u001b[1;33m(\u001b[0m\u001b[0mtuple\u001b[0m\u001b[1;33m[\u001b[0m\u001b[1;33m:\u001b[0m\u001b[1;33m]\u001b[0m\u001b[1;33m)\u001b[0m\u001b[1;33m\u001b[0m\u001b[1;33m\u001b[0m\u001b[0m\n\u001b[1;32m----> 8\u001b[1;33m \u001b[0mtuple\u001b[0m\u001b[1;33m[\u001b[0m\u001b[1;36m1\u001b[0m\u001b[1;33m]\u001b[0m\u001b[1;33m=\u001b[0m\u001b[1;36m333\u001b[0m\u001b[1;33m\u001b[0m\u001b[1;33m\u001b[0m\u001b[0m\n\u001b[0m\u001b[0;32m      9\u001b[0m \u001b[0mprint\u001b[0m\u001b[1;33m(\u001b[0m\u001b[0mtuple\u001b[0m\u001b[1;33m)\u001b[0m\u001b[1;33m\u001b[0m\u001b[1;33m\u001b[0m\u001b[0m\n",
      "\u001b[1;31mTypeError\u001b[0m: 'tuple' object does not support item assignment"
     ]
    }
   ],
   "source": [
    "#Tuple Data Type\n",
    "tuple=(1,2,3,3,4)\n",
    "print(tuple) # Immutable Data Type\n",
    "print(tuple[1])\n",
    "print(tuple[1:3])\n",
    "print(tuple[1:3:2])\n",
    "print(tuple[:])\n",
    "tuple[1]=333\n",
    "print(tuple)"
   ]
  },
  {
   "cell_type": "code",
   "execution_count": 3,
   "id": "8fae90e1",
   "metadata": {},
   "outputs": [
    {
     "name": "stdout",
     "output_type": "stream",
     "text": [
      "{'a': 1, 'b': 3, 'c': 4, 8: 100}\n",
      "1\n",
      "dict_values([1, 3, 4, 100])\n",
      "dict_items([('a', 1), ('b', 3), ('c', 4), (8, 100)])\n"
     ]
    }
   ],
   "source": [
    "#Dictionary\n",
    "dict1 ={'a':1,'b':3,'c':4,8:100}\n",
    "print(dict1) # mutable data type\n",
    "print(dict1['a'])\n",
    "print(dict1.values())\n",
    "print(dict1.items())"
   ]
  },
  {
   "cell_type": "code",
   "execution_count": 61,
   "id": "736c4f7c",
   "metadata": {},
   "outputs": [
    {
     "name": "stdout",
     "output_type": "stream",
     "text": [
      "{1, 2, 3}\n"
     ]
    }
   ],
   "source": [
    "#Set\n",
    "set1 = set([1,2,3,3])\n",
    "print(set1) # mutable data type"
   ]
  }
 ],
 "metadata": {
  "kernelspec": {
   "display_name": "Python [conda env:base] *",
   "language": "python",
   "name": "conda-base-py"
  },
  "language_info": {
   "codemirror_mode": {
    "name": "ipython",
    "version": 3
   },
   "file_extension": ".py",
   "mimetype": "text/x-python",
   "name": "python",
   "nbconvert_exporter": "python",
   "pygments_lexer": "ipython3",
   "version": "3.9.7"
  }
 },
 "nbformat": 4,
 "nbformat_minor": 5
}
