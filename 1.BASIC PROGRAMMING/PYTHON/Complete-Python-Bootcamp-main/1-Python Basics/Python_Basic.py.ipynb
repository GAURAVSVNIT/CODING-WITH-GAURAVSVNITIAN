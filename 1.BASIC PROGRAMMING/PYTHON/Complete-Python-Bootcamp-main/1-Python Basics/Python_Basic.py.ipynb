{
 "cells": [
  {
   "cell_type": "code",
   "execution_count": 2,
   "id": "94a62dec",
   "metadata": {},
   "outputs": [
    {
     "name": "stdout",
     "output_type": "stream",
     "text": [
      "30\n"
     ]
    }
   ],
   "source": [
    "a=10\n",
    "b=20\n",
    "sum = a+b\n",
    "print(sum)"
   ]
  },
  {
   "cell_type": "code",
   "execution_count": 3,
   "id": "31a4fe55",
   "metadata": {},
   "outputs": [
    {
     "data": {
      "text/plain": [
       "5.333333333333333"
      ]
     },
     "execution_count": 3,
     "metadata": {},
     "output_type": "execute_result"
    }
   ],
   "source": [
    "# Without using format\n",
    "float(16/(float(3)))\n"
   ]
  },
  {
   "cell_type": "code",
   "execution_count": 5,
   "id": "ef975949",
   "metadata": {},
   "outputs": [
    {
     "data": {
      "text/plain": [
       "'5.33'"
      ]
     },
     "execution_count": 5,
     "metadata": {},
     "output_type": "execute_result"
    }
   ],
   "source": [
    "# Without using format\n",
    "format(float(16/(float(3))),'.2f')"
   ]
  },
  {
   "cell_type": "code",
   "execution_count": 6,
   "id": "355601e4",
   "metadata": {},
   "outputs": [
    {
     "data": {
      "text/plain": [
       "'1,234'"
      ]
     },
     "execution_count": 6,
     "metadata": {},
     "output_type": "execute_result"
    }
   ],
   "source": [
    "format(1234,',')"
   ]
  },
  {
   "cell_type": "code",
   "execution_count": 8,
   "id": "76a8b037",
   "metadata": {},
   "outputs": [
    {
     "data": {
      "text/plain": [
       "15"
      ]
     },
     "execution_count": 8,
     "metadata": {},
     "output_type": "execute_result"
    }
   ],
   "source": [
    "78//5\n"
   ]
  },
  {
   "cell_type": "code",
   "execution_count": 10,
   "id": "5ae02d24",
   "metadata": {},
   "outputs": [
    {
     "data": {
      "text/plain": [
       "15"
      ]
     },
     "execution_count": 10,
     "metadata": {},
     "output_type": "execute_result"
    }
   ],
   "source": [
    "78//5"
   ]
  },
  {
   "cell_type": "code",
   "execution_count": 14,
   "id": "17b63a2f",
   "metadata": {},
   "outputs": [
    {
     "data": {
      "text/plain": [
       "'Hello\\n   World\\n'"
      ]
     },
     "execution_count": 14,
     "metadata": {},
     "output_type": "execute_result"
    }
   ],
   "source": [
    "'''Hello\n",
    "   World\n",
    "'''"
   ]
  },
  {
   "cell_type": "code",
   "execution_count": 15,
   "id": "1e0f2525",
   "metadata": {},
   "outputs": [
    {
     "name": "stdout",
     "output_type": "stream",
     "text": [
      "Num=7\n",
      "Amount=123.45\n",
      "Code=A\n",
      "Code=113333310\n",
      "Message =Hi\n"
     ]
    }
   ],
   "source": [
    "# Program to display  data of different types using variables and literal constants\n",
    "num =7\n",
    "amt = 123.45\n",
    "code='A'\n",
    "pi= 3.144443\n",
    "population_of_india=113333310\n",
    "msg =\"Hi\"\n",
    "print(\"Num=\"+str(num))\n",
    "print(\"Amount=\"+str(amt))\n",
    "print(\"Code=\"+str(code))\n",
    "print(\"Code=\"+str(population_of_india))\n",
    "print(\"Message =\"+str(msg))\n"
   ]
  },
  {
   "cell_type": "code",
   "execution_count": 17,
   "id": "1b7b8920",
   "metadata": {},
   "outputs": [
    {
     "name": "stdout",
     "output_type": "stream",
     "text": [
      "10\n",
      "10\n",
      "10\n",
      "10\n"
     ]
    }
   ],
   "source": [
    "# Multiple Assignment\n",
    "sum=flag=a=b=10\n",
    "print(sum)\n",
    "print(flag)\n",
    "print(a)\n",
    "print(b)\n"
   ]
  },
  {
   "cell_type": "code",
   "execution_count": 20,
   "id": "830dd1fb",
   "metadata": {},
   "outputs": [
    {
     "name": "stdout",
     "output_type": "stream",
     "text": [
      "0\n",
      "3\n",
      "5\n",
      "Result\n"
     ]
    }
   ],
   "source": [
    "sum1,a1,b1,mesg1=0,3,5,\"Result\"\n",
    "print(sum1)\n",
    "print(a1)\n",
    "print(b)\n",
    "print(mesg1)"
   ]
  },
  {
   "cell_type": "code",
   "execution_count": 21,
   "id": "9aecff2f",
   "metadata": {},
   "outputs": [
    {
     "name": "stdout",
     "output_type": "stream",
     "text": [
      "45\n",
      "34\n"
     ]
    }
   ],
   "source": [
    "x=34\n",
    "y=45\n",
    "x,y=y,x\n",
    "print(x)\n",
    "print(y)"
   ]
  },
  {
   "cell_type": "code",
   "execution_count": 1,
   "id": "1910bdab",
   "metadata": {},
   "outputs": [
    {
     "name": "stdout",
     "output_type": "stream",
     "text": [
      "Enter weight in kg56\n",
      "Enter height in meters43\n",
      "BMI is 0.03028664142779881\n"
     ]
    }
   ],
   "source": [
    "# Program to calculate BMI (Body Mass Index) of a person\n",
    "#Body Mass Index is a simple calulation using a person height and weight\n",
    "weight_in_kg = float(input(\"Enter weight in kg\"))\n",
    "height_in_meter = float(input(\"Enter height in meters\"))\n",
    "bmi = weight_in_kg/(height_in_meter*height_in_meter)\n",
    "print(\"BMI is\",bmi)"
   ]
  },
  {
   "cell_type": "code",
   "execution_count": null,
   "id": "b830ae1f",
   "metadata": {},
   "outputs": [],
   "source": []
  }
 ],
 "metadata": {
  "kernelspec": {
   "display_name": "Python 3 (ipykernel)",
   "language": "python",
   "name": "python3"
  },
  "language_info": {
   "codemirror_mode": {
    "name": "ipython",
    "version": 3
   },
   "file_extension": ".py",
   "mimetype": "text/x-python",
   "name": "python",
   "nbconvert_exporter": "python",
   "pygments_lexer": "ipython3",
   "version": "3.9.7"
  }
 },
 "nbformat": 4,
 "nbformat_minor": 5
}
