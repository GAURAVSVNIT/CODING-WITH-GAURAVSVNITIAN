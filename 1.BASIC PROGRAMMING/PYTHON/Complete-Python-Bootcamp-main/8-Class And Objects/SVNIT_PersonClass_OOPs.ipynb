{
 "cells": [
  {
   "cell_type": "code",
   "execution_count": 7,
   "id": "ca00cc90",
   "metadata": {},
   "outputs": [
    {
     "name": "stdout",
     "output_type": "stream",
     "text": [
      "Amit  4.841269841269841\n",
      "Kiran  7.370786516853932\n"
     ]
    }
   ],
   "source": [
    "class Person:\n",
    "    age=\"\"\n",
    "    weight=\"\"\n",
    "    height=\"\"\n",
    "    name=\"\" \n",
    "    def runSpeed(self,age,weight,height):\n",
    "        return((age*height)/weight)\n",
    "    \n",
    "amit= Person()\n",
    "amit.age=45\n",
    "amit.weight=56.7\n",
    "amit.height=6.1\n",
    "amit.name=\"Amit Kumar\"\n",
    "speed= amit.runSpeed(amit.age,amit.weight,amit.height)\n",
    "print(\"Amit \",speed)\n",
    "\n",
    "kiran= Person()\n",
    "kiran.age=48\n",
    "kiran.weight=26.7\n",
    "kiran.height=4.1\n",
    "kiran.name=\"Kiran Raja\"\n",
    "kspeed= kiran.runSpeed(kiran.age,kiran.weight,kiran.height)\n",
    "print(\"Kiran \",kspeed)\n"
   ]
  },
  {
   "cell_type": "code",
   "execution_count": 12,
   "id": "7ec7551e",
   "metadata": {},
   "outputs": [
    {
     "name": "stdout",
     "output_type": "stream",
     "text": [
      "Amit  4.841269841269841\n",
      "Kiran  7.370786516853932\n"
     ]
    }
   ],
   "source": [
    "class Person:\n",
    "    age=\"\"\n",
    "    weight=\"\"\n",
    "    height=\"\"\n",
    "    name=\"\" \n",
    "    def __init__(self,age,weight,height):\n",
    "        self.age  = age\n",
    "        self.weight = weight\n",
    "        self.height= height\n",
    "    def runSpeed(self):\n",
    "        return((self.age*self.height)/self.weight)\n",
    "    \n",
    "amit= Person(45,56.7,6.1)\n",
    "speed= amit.runSpeed()\n",
    "print(\"Amit \",speed)\n",
    "kiran= Person(48,26.7,4.1)\n",
    "kspeed= kiran.runSpeed()\n",
    "print(\"Kiran \",kspeed)\n"
   ]
  },
  {
   "cell_type": "code",
   "execution_count": 9,
   "id": "ad93d3b7",
   "metadata": {},
   "outputs": [
    {
     "name": "stdout",
     "output_type": "stream",
     "text": [
      "Amit Running Speed 40.679911699779254\n",
      "Kiran Running Speed 38.73286052009457\n"
     ]
    }
   ],
   "source": [
    "class Person:\n",
    "    age=\"\"\n",
    "    weight=\"\"\n",
    "    height=\"\"\n",
    "    def runSpeed(self,age,weight,height):\n",
    "        return((age*height)/weight)\n",
    "if __name__== \"__main__\":\n",
    "    kumar =  Person()\n",
    "    kumar.age=34\n",
    "    kumar.weight=45.3\n",
    "    kumar.height=54.2\n",
    "    speed= kumar.runSpeed(kumar.age,kumar.weight,kumar.height)\n",
    "    print(\"Amit Running Speed\",speed)\n",
    "    kumar1 =  Person()\n",
    "    kumar1.age=32\n",
    "    kumar1.weight=42.3\n",
    "    kumar1.height=51.2\n",
    "    speed1= kumar1.runSpeed(kumar1.age,kumar1.weight,kumar1.height)\n",
    "    print(\"Kiran Running Speed\",speed1)"
   ]
  },
  {
   "cell_type": "code",
   "execution_count": null,
   "id": "1fca4f24",
   "metadata": {},
   "outputs": [],
   "source": []
  },
  {
   "cell_type": "code",
   "execution_count": 11,
   "id": "2b2a37ca",
   "metadata": {},
   "outputs": [
    {
     "name": "stdout",
     "output_type": "stream",
     "text": [
      "Speed 40.679911699779254\n",
      "Speed 38.73286052009457\n",
      "<class '__main__.Person'>\n"
     ]
    }
   ],
   "source": [
    "class Person:\n",
    "    age=\"\"\n",
    "    weight=\"\"\n",
    "    height=\"\"\n",
    "    def __init__(self,a,w,h): #Method (Initializer)\n",
    "        self.age = a\n",
    "        self.weight = w\n",
    "        self.height = h\n",
    "        \n",
    "    def runSpeed(self,age,weight,height):\n",
    "        return((age*height)/weight)\n",
    "if __name__== \"__main__\":\n",
    "    kumar =  Person(34,45.3,54.2)\n",
    "    speed= kumar.runSpeed(kumar.age,kumar.weight,kumar.height)\n",
    "    print(\"Speed\",speed)\n",
    "    kumar1 =  Person(32,42.3,51.2)\n",
    "    speed1= kumar1.runSpeed(kumar1.age,kumar1.weight,kumar1.height)\n",
    "    print(\"Speed\",speed1)\n",
    "    print(kumar.__class__)"
   ]
  },
  {
   "cell_type": "code",
   "execution_count": 10,
   "id": "de00d33f",
   "metadata": {},
   "outputs": [
    {
     "name": "stdout",
     "output_type": "stream",
     "text": [
      "Speed 40.679911699779254\n",
      "Speed 38.73286052009457\n"
     ]
    }
   ],
   "source": [
    "class Person:\n",
    "    age=\"\"\n",
    "    weight=\"\"\n",
    "    height=\"\"\n",
    "    def __init__(self,age,weight,height):\n",
    "        self.age = age\n",
    "        self.weight = weight\n",
    "        self.height = height\n",
    "        \n",
    "    def runSpeed(self,age,weight,height):\n",
    "        return((age*height)/weight)\n",
    "if __name__== \"__main__\":\n",
    "    kumar =  Person(34,45.3,54.2)\n",
    "    speed= kumar.runSpeed(kumar.age,kumar.weight,kumar.height)\n",
    "    print(\"Speed\",speed)\n",
    "    kumar1 =  Person(32,42.3,51.2)\n",
    "    speed1= kumar1.runSpeed(kumar1.age,kumar1.weight,kumar1.height)\n",
    "    print(\"Speed\",speed1)"
   ]
  },
  {
   "cell_type": "code",
   "execution_count": 17,
   "id": "bf9fa8b6",
   "metadata": {},
   "outputs": [
    {
     "name": "stdout",
     "output_type": "stream",
     "text": [
      "Defaut MEthod initilizer\n"
     ]
    }
   ],
   "source": [
    "class Student:\n",
    "    def __init__(self):\n",
    "        print(\"Defaut MEthod initilizer\")\n",
    "s = Student()\n",
    "    "
   ]
  },
  {
   "cell_type": "code",
   "execution_count": 13,
   "id": "1bd7fb5b",
   "metadata": {},
   "outputs": [
    {
     "name": "stdout",
     "output_type": "stream",
     "text": [
      "Defaut MEthod initilizer 10\n"
     ]
    }
   ],
   "source": [
    "class Student:\n",
    "    def __init__(self,a):\n",
    "        print(\"Defaut MEthod initilizer\",a)\n",
    "s = Student(10)\n",
    "    "
   ]
  },
  {
   "cell_type": "code",
   "execution_count": 14,
   "id": "e26c5958",
   "metadata": {},
   "outputs": [
    {
     "ename": "TypeError",
     "evalue": "__init__() missing 2 required positional arguments: 'a' and 'b'",
     "output_type": "error",
     "traceback": [
      "\u001b[1;31m---------------------------------------------------------------------------\u001b[0m",
      "\u001b[1;31mTypeError\u001b[0m                                 Traceback (most recent call last)",
      "\u001b[1;32m~\\AppData\\Local\\Temp\\ipykernel_14560\\2167653788.py\u001b[0m in \u001b[0;36m<module>\u001b[1;34m\u001b[0m\n\u001b[0;32m      6\u001b[0m     \u001b[1;32mdef\u001b[0m \u001b[0m__init__\u001b[0m\u001b[1;33m(\u001b[0m\u001b[0mself\u001b[0m\u001b[1;33m,\u001b[0m\u001b[0ma\u001b[0m\u001b[1;33m,\u001b[0m\u001b[0mb\u001b[0m\u001b[1;33m)\u001b[0m\u001b[1;33m:\u001b[0m\u001b[1;33m\u001b[0m\u001b[1;33m\u001b[0m\u001b[0m\n\u001b[0;32m      7\u001b[0m         \u001b[0mprint\u001b[0m\u001b[1;33m(\u001b[0m\u001b[0ma\u001b[0m\u001b[1;33m+\u001b[0m\u001b[0mb\u001b[0m\u001b[1;33m)\u001b[0m\u001b[1;33m\u001b[0m\u001b[1;33m\u001b[0m\u001b[0m\n\u001b[1;32m----> 8\u001b[1;33m \u001b[0ms\u001b[0m \u001b[1;33m=\u001b[0m \u001b[0mStudent\u001b[0m\u001b[1;33m(\u001b[0m\u001b[1;33m)\u001b[0m \u001b[1;31m#Error: missing required arguments\u001b[0m\u001b[1;33m\u001b[0m\u001b[1;33m\u001b[0m\u001b[0m\n\u001b[0m\u001b[0;32m      9\u001b[0m \u001b[0ms1\u001b[0m \u001b[1;33m=\u001b[0m \u001b[0mStudent\u001b[0m\u001b[1;33m(\u001b[0m\u001b[1;36m3\u001b[0m\u001b[1;33m,\u001b[0m\u001b[1;36m4\u001b[0m\u001b[1;33m)\u001b[0m \u001b[1;31m# fine\u001b[0m\u001b[1;33m\u001b[0m\u001b[1;33m\u001b[0m\u001b[0m\n\u001b[0;32m     10\u001b[0m \u001b[1;31m# n Python, a class cannot have multiple __init__ methods\u001b[0m\u001b[1;33m\u001b[0m\u001b[1;33m\u001b[0m\u001b[1;33m\u001b[0m\u001b[0m\n",
      "\u001b[1;31mTypeError\u001b[0m: __init__() missing 2 required positional arguments: 'a' and 'b'"
     ]
    }
   ],
   "source": [
    "# Python code has an error because of multiple __init__ methods \n",
    "# in the Student class\n",
    "class Student:\n",
    "    def __init__(self):\n",
    "        print(\"Defaut MEthod initilizer\")\n",
    "    def __init__(self,a,b):\n",
    "        print(a+b)\n",
    "s = Student() #Error: missing required arguments\n",
    "s1 = Student(3,4) # fine\n",
    "# n Python, a class cannot have multiple __init__ methods\n",
    "# because the second __init__ method overwrites the first one."
   ]
  },
  {
   "cell_type": "markdown",
   "id": "4b3e5449",
   "metadata": {},
   "source": [
    "# Solution 1: Use Default Arguments\n",
    "- A simple way to fix this issue is by using default values for the parameters:"
   ]
  },
  {
   "cell_type": "code",
   "execution_count": 21,
   "id": "0e5f7a23",
   "metadata": {},
   "outputs": [
    {
     "name": "stdout",
     "output_type": "stream",
     "text": [
      "Default Method Initializer\n",
      "7\n"
     ]
    }
   ],
   "source": [
    "class Student:\n",
    "    def __init__(self, a=0, b=0):\n",
    "        if a == 0 and b == 0:\n",
    "            print(\"Default Method Initializer\")\n",
    "        else:\n",
    "            print(a + b)\n",
    "\n",
    "s = Student()      # Prints: Default Method Initializer\n",
    "s1 = Student(3, 4) # Prints: 7\n"
   ]
  },
  {
   "cell_type": "markdown",
   "id": "6f644297",
   "metadata": {},
   "source": [
    "# Solution 2: Use *args to Handle Multiple Cases\n",
    "- You can use *args to handle variable-length arguments:"
   ]
  },
  {
   "cell_type": "code",
   "execution_count": 22,
   "id": "029dac34",
   "metadata": {},
   "outputs": [
    {
     "name": "stdout",
     "output_type": "stream",
     "text": [
      "Default Method Initializer\n",
      "7\n",
      "Invalid number of arguments\n"
     ]
    }
   ],
   "source": [
    "class Student:\n",
    "    def __init__(self, *args):\n",
    "        if len(args) == 0:\n",
    "            print(\"Default Method Initializer\")\n",
    "        elif len(args) == 2:\n",
    "            print(args[0] + args[1])\n",
    "        else:\n",
    "            print(\"Invalid number of arguments\")\n",
    "\n",
    "s = Student()      # Prints: Default Method Initializer\n",
    "s1 = Student(3, 4) # Prints: 7\n",
    "s2 = Student(5)    # Prints: Invalid number of arguments\n"
   ]
  },
  {
   "cell_type": "markdown",
   "id": "31d1d130",
   "metadata": {},
   "source": [
    "\n",
    "# Decorator:  change the exiting function \n",
    "<href>https://www.youtube.com/watch?v=rq8cL2XMM5M</href>"
   ]
  },
  {
   "cell_type": "code",
   "execution_count": 22,
   "id": "890c58a4",
   "metadata": {},
   "outputs": [
    {
     "name": "stdout",
     "output_type": "stream",
     "text": [
      "5.0\n",
      "0.2\n"
     ]
    }
   ],
   "source": [
    "\n",
    "def div(a,b):\n",
    "    print(a/b)\n",
    "div(10,2)\n",
    "\n",
    "def div(a,b):\n",
    "    print(a/b)\n",
    "div(2,10)\n"
   ]
  },
  {
   "cell_type": "code",
   "execution_count": 16,
   "id": "cf67c92b",
   "metadata": {},
   "outputs": [
    {
     "name": "stdout",
     "output_type": "stream",
     "text": [
      "5.0\n",
      "5.0\n"
     ]
    }
   ],
   "source": [
    "def div(a,b):\n",
    "    print(a/b)\n",
    "\n",
    "def smart_div(func): # smart_div is a decorator function. It takes a function func as an argument.\n",
    "    def inner(a,b):\n",
    "        if(a<b):\n",
    "            a,b=b,a\n",
    "        return func(a,b)\n",
    "    return inner\n",
    "div  = smart_div(div)\n",
    "div(2,10)\n",
    "div(10,2)"
   ]
  },
  {
   "cell_type": "markdown",
   "id": "60c6ad88",
   "metadata": {},
   "source": [
    "# Solution 3: Use Method Overloading via @classmethod\n",
    "- Python does not support method overloading like Java or C++, but you can achieve similar behavior using class methods:\n",
    "- Python does not support multiple constructors (__init__ methods). Using a @classmethod like with_values\n",
    "- Decorators allow us to modify or extend the behavior of a function without changing its actual code."
   ]
  },
  {
   "cell_type": "code",
   "execution_count": 26,
   "id": "6c696b0c",
   "metadata": {},
   "outputs": [
    {
     "name": "stdout",
     "output_type": "stream",
     "text": [
      "Default Method Initializer\n",
      "Default Method Initializer\n",
      "7\n"
     ]
    }
   ],
   "source": [
    "# Class Decorator (@classmethod)\n",
    "class Student:\n",
    "    def __init__(self):\n",
    "        print(\"Default Method Initializer\")\n",
    "    #@classmethod decorator makes with_values a class method, meaning it does not require an instance (self)\n",
    "    # but instead works with the class itself (cls).\n",
    "    @classmethod\n",
    "    def with_values(cls, a, b): \n",
    "        #cls refers to the Student class\n",
    "        #Calls cls(), which means Student(), triggering the __init__ method\n",
    "        #obj = Student()\n",
    "        obj = cls() # Create a default using the default constructor (__init__)\n",
    "        print(a + b)\n",
    "        return obj\n",
    "s = Student()                # Prints: Default Method Initializer\n",
    "s1 = Student.with_values(3,4) # Prints: Default Method Initializer, then 7\n"
   ]
  },
  {
   "cell_type": "code",
   "execution_count": null,
   "id": "66dafa9d",
   "metadata": {},
   "outputs": [],
   "source": []
  },
  {
   "cell_type": "code",
   "execution_count": 3,
   "id": "48cb5cce",
   "metadata": {},
   "outputs": [
    {
     "name": "stdout",
     "output_type": "stream",
     "text": [
      "No parameters\n",
      "One parameter: 10\n",
      "Two parameters: 10, 20\n"
     ]
    }
   ],
   "source": [
    "class Example:\n",
    "    @classmethod\n",
    "    def overloaded_method(cls, a=None, b=None):\n",
    "        if a is not None and b is not None:\n",
    "            return f\"Two parameters: {a}, {b}\"\n",
    "        elif a is not None:\n",
    "            return f\"One parameter: {a}\"\n",
    "        else:\n",
    "            return \"No parameters\"\n",
    "\n",
    "print(Example.overloaded_method())       # No parameters\n",
    "print(Example.overloaded_method(10))     # One parameter: 10\n",
    "print(Example.overloaded_method(10, 20)) # Two parameters: 10, 20\n"
   ]
  },
  {
   "cell_type": "markdown",
   "id": "5721b849",
   "metadata": {},
   "source": [
    "# Example: Method Overloading via @classmethod"
   ]
  },
  {
   "cell_type": "code",
   "execution_count": 1,
   "id": "3ff5c011",
   "metadata": {},
   "outputs": [
    {
     "name": "stdout",
     "output_type": "stream",
     "text": [
      "5\n",
      "10\n"
     ]
    }
   ],
   "source": [
    "#The @classmethod decorator allows us to define a method that belongs to the class rather than an instance.\n",
    "class Calculator:\n",
    "    def __init__(self, value=0):\n",
    "        self.value = value\n",
    "\n",
    "    @classmethod\n",
    "    def add(cls, a, b=None):\n",
    "        \"\"\"Overloaded method to add one or two numbers.\"\"\"\n",
    "        if b is None:\n",
    "            return cls(a)  # If one argument, return instance with value set\n",
    "        return cls(a + b)  # If two arguments, return instance with sum\n",
    "\n",
    "    def get_value(self):\n",
    "        return self.value\n",
    "\n",
    "# Using the overloaded method\n",
    "calc1 = Calculator.add(5)  # Single argument\n",
    "print(calc1.get_value())  # Output: 5\n",
    "\n",
    "calc2 = Calculator.add(3, 7)  # Two arguments\n",
    "print(calc2.get_value())  # Output: 10\n"
   ]
  },
  {
   "cell_type": "markdown",
   "id": "dbac8491",
   "metadata": {},
   "source": [
    "# Property Decorator (@property)\n",
    "- A custom getter and setter using @property."
   ]
  },
  {
   "cell_type": "code",
   "execution_count": null,
   "id": "3f591b4d",
   "metadata": {},
   "outputs": [],
   "source": [
    "class Circle:\n",
    "    def __init__(self, radius):\n",
    "        self._radius = radius # self._radius (with an underscore) is used as a private attribute to store the radius\n",
    "\n",
    "    @property  # The @property decorator makes radius a getter method. \n",
    "    def radius(self):  # This allows us to access radius as an attribute instead of calling a method\n",
    "        return self._radius  # # Instead of c.radius()\n",
    "\n",
    "    @radius.setter  # The @radius.setter decorator allows controlled modification of radius.\n",
    "    def radius(self, value):\n",
    "        if value < 0:\n",
    "            raise ValueError(\"Radius cannot be negative!\")\n",
    "        self._radius = value\n",
    "\n",
    "    @property  # area is defined as a property, so we can call c.area without parentheses.\n",
    "    def area(self):\n",
    "        return 3.14159 * self._radius ** 2\n",
    "\n",
    "c = Circle(5)\n",
    "print(c.area)  # 78.53975\n",
    "c.radius = 10\n",
    "print(c.area)  # 314.159\n"
   ]
  },
  {
   "cell_type": "markdown",
   "id": "237833e3",
   "metadata": {},
   "source": [
    "# Basic Function Decorator"
   ]
  },
  {
   "cell_type": "code",
   "execution_count": 2,
   "id": "37cb1f2e",
   "metadata": {},
   "outputs": [
    {
     "name": "stdout",
     "output_type": "stream",
     "text": [
      "Function executed\n",
      "Executed slow_function in 2.0102 seconds\n"
     ]
    }
   ],
   "source": [
    "import time # The time module provides various functions to handle time-related operation\n",
    "\n",
    "def timing_decorator(func):  # Defining the Decorator (timing_decorator)\n",
    "    def wrapper(*args, **kwargs):\n",
    "        start_time = time.time() # time.time() to get the current time in seconds (Unix timestamp)\n",
    "        result = func(*args, **kwargs) # # Execute the original function\n",
    "        end_time = time.time() # # Capture end time\n",
    "        print(f\"Executed {func.__name__} in {end_time - start_time:.4f} seconds\")\n",
    "        return result\n",
    "    return wrapper\n",
    "\n",
    "# Applying the Decorator (@timing_decorator)\n",
    "# slow_function = timing_decorator(slow_function)\n",
    "#This means slow_function is wrapped inside wrapper, which measures its execution time.\n",
    "@timing_decorator    \n",
    "def slow_function():\n",
    "    time.sleep(2)  # # Simulates a delay of 2 seconds\n",
    "    print(\"Function executed\")\n",
    "\n",
    "slow_function()\n",
    "# When called, slow_function is actually wrapper(), which\n",
    "# Starts the timer.\n",
    "# Runs slow_function(), which sleeps for 2 seconds and prints \"Function executed\"\n",
    "# Stops the timer.\n",
    "# Prints the execution time.\n"
   ]
  },
  {
   "cell_type": "markdown",
   "id": "8a13a644",
   "metadata": {},
   "source": [
    "#  Static Method Decorator (@staticmethod)\n",
    "- A static method that doesn’t depend on instance or class variables."
   ]
  },
  {
   "cell_type": "code",
   "execution_count": 7,
   "id": "45f6da5f",
   "metadata": {},
   "outputs": [
    {
     "name": "stdout",
     "output_type": "stream",
     "text": [
      "7\n",
      "15\n"
     ]
    }
   ],
   "source": [
    "class MathUtils:\n",
    "    c=10\n",
    "    @staticmethod\n",
    "    def add(a, b):\n",
    "        #print(MathUtils.c)\n",
    "        return a + b\n",
    "\n",
    "print(MathUtils.add(5, 10))  # Output: 15\n",
    "\n",
    "m  = MathUtils()\n",
    "print(m.add(3,4)); # MathUtils.add(5, 10)"
   ]
  },
  {
   "cell_type": "code",
   "execution_count": 8,
   "id": "34b27f2e",
   "metadata": {},
   "outputs": [
    {
     "data": {
      "text/plain": [
       "['__class__',\n",
       " '__delattr__',\n",
       " '__dict__',\n",
       " '__dir__',\n",
       " '__doc__',\n",
       " '__eq__',\n",
       " '__format__',\n",
       " '__ge__',\n",
       " '__getattribute__',\n",
       " '__gt__',\n",
       " '__hash__',\n",
       " '__init__',\n",
       " '__init_subclass__',\n",
       " '__le__',\n",
       " '__lt__',\n",
       " '__module__',\n",
       " '__ne__',\n",
       " '__new__',\n",
       " '__reduce__',\n",
       " '__reduce_ex__',\n",
       " '__repr__',\n",
       " '__setattr__',\n",
       " '__sizeof__',\n",
       " '__str__',\n",
       " '__subclasshook__',\n",
       " '__weakref__',\n",
       " 'add',\n",
       " 'c']"
      ]
     },
     "execution_count": 8,
     "metadata": {},
     "output_type": "execute_result"
    }
   ],
   "source": [
    "# Display Class Attribute and method\n",
    "dir(MathUtils)"
   ]
  },
  {
   "cell_type": "markdown",
   "id": "6d5666a4",
   "metadata": {},
   "source": [
    "# Accessibility\n",
    "- In python there are no keywors like public,protected or private. All attribute and methods are public by default"
   ]
  },
  {
   "cell_type": "code",
   "execution_count": 20,
   "id": "ae7e9728",
   "metadata": {},
   "outputs": [
    {
     "name": "stdout",
     "output_type": "stream",
     "text": [
      "From class method var1 = 10\n",
      "From class method var2= 20\n",
      "From main module var1= 10\n",
      "From main module var2= 20\n",
      "20\n"
     ]
    }
   ],
   "source": [
    "# PUBLIC and Private Data members\n",
    "class ABC:\n",
    "    def __init__(self,var1,var2):\n",
    "        self.var1 = var1\n",
    "        self.__var2= var2\n",
    "    def display(self):\n",
    "        print(\"From class method var1 =\",self.var1)\n",
    "        print(\"From class method var2=\",self.__var2)\n",
    "    def getVar2(self):\n",
    "        return self.__var2\n",
    "obj = ABC(10,20)\n",
    "obj.display()\n",
    "print(\"From main module var1=\",obj.var1)\n",
    "#print(\"From main module var2=\",obj.__var2)\n",
    "# private member is not access aforementiontioned programming\n",
    "# objectname._classname__privatevariable\n",
    "print(\"From main module var2=\",obj._ABC__var2)\n",
    "print(obj.getVar2())"
   ]
  },
  {
   "cell_type": "markdown",
   "id": "37a506f7",
   "metadata": {},
   "source": [
    "# del(Destructor method)"
   ]
  },
  {
   "cell_type": "code",
   "execution_count": 21,
   "id": "92170474",
   "metadata": {},
   "outputs": [
    {
     "name": "stdout",
     "output_type": "stream",
     "text": [
      "Welcome\n",
      "Id of obj1= 1153058100416\n",
      "Id of obj2= 1153058100416\n",
      "Id of obj3= 1153058100416\n",
      "Bye\n"
     ]
    }
   ],
   "source": [
    "class Demo:\n",
    "    def __init__(self):\n",
    "        print(\"Welcome\")\n",
    "    def __del__(self):\n",
    "        print(\"Bye\")\n",
    "obj1 = Demo()\n",
    "obj2 = obj1\n",
    "obj3 = obj1\n",
    "print(\"Id of obj1=\",id(obj1))\n",
    "print(\"Id of obj2=\",id(obj2))\n",
    "print(\"Id of obj3=\",id(obj3))\n",
    "del obj1\n",
    "del obj2\n",
    "del obj3 \n",
    "# __del__ (Destructor)\n",
    "#Automatically called when no references to the object remain.\n",
    "#Prints \"Bye\" when del obj3 is executed.\n",
    "#gc.collect()  # Forces garbage collection, ensuring __del__ runs"
   ]
  },
  {
   "cell_type": "code",
   "execution_count": null,
   "id": "cbe23952",
   "metadata": {},
   "outputs": [],
   "source": [
    "import gc\n",
    "\n",
    "class Demo:\n",
    "    def __init__(self):\n",
    "        print(\"Welcome\")\n",
    "\n",
    "    def __del__(self):\n",
    "        print(\"Bye\")\n",
    "\n",
    "obj1 = Demo()\n",
    "obj2 = obj1\n",
    "obj3 = obj1\n",
    "\n",
    "print(\"Id of obj1=\", id(obj1))\n",
    "print(\"Id of obj2=\", id(obj2))\n",
    "print(\"Id of obj3=\", id(obj3))\n",
    "\n",
    "del obj1\n",
    "del obj2\n",
    "del obj3\n",
    "\n",
    "# Python uses automatic garbage collection, the __del__ method might not run \n",
    "# immediately when you del an object. \n",
    "# Instead, you can use gc.collect() to force garbage collection:\n",
    "gc.collect()  # Forces garbage collection, ensuring __del__ runs\n"
   ]
  },
  {
   "cell_type": "code",
   "execution_count": 35,
   "id": "347b088a",
   "metadata": {},
   "outputs": [
    {
     "name": "stdout",
     "output_type": "stream",
     "text": [
      "Welcome\n",
      "Reference count before deletion: 3\n",
      "Bye\n"
     ]
    }
   ],
   "source": [
    "# Checking Reference Count\n",
    "# To explicitly check how many references exist to\n",
    "# the object before deletion, use sys.getrefcount():\n",
    "import sys\n",
    "\n",
    "class Demo:\n",
    "    def __init__(self):\n",
    "        print(\"Welcome\")\n",
    "\n",
    "    def __del__(self):\n",
    "        print(\"Bye\")\n",
    "\n",
    "obj1 = Demo()\n",
    "obj2 = obj1\n",
    "obj3 = obj1\n",
    "\n",
    "print(\"Reference count before deletion:\", sys.getrefcount(obj1) - 1)  # Subtract 1 due to function argument\n",
    "\n",
    "del obj1\n",
    "del obj2\n",
    "del obj3\n"
   ]
  },
  {
   "cell_type": "markdown",
   "id": "d4d91000",
   "metadata": {},
   "source": [
    "- In Python, __init__ is often referred to as a constructor, but technically, it is not the actual constructor.\n",
    "- Constructor in Python\n",
    "- The actual constructor in Python is the __new__ method.\n",
    "- __new__ is called before __init__ and is responsible for creating the instance.\n",
    "- __new__ is responsible for creating a new instance of the class.\n",
    "- It is a static method that returns a new instance of the class.\n",
    "- __new__ is a special method responsible for creating a new instance of a class before __init__ initializes it. It is typically used when customizing instance creation, such as implementing singletons, immutable objects, or metaclasses.\n"
   ]
  },
  {
   "cell_type": "code",
   "execution_count": 9,
   "id": "3810c80a",
   "metadata": {},
   "outputs": [
    {
     "name": "stdout",
     "output_type": "stream",
     "text": [
      "Creating instance...\n",
      "Initializing instance...\n",
      "Creating instance...\n",
      "Initializing instance...\n"
     ]
    }
   ],
   "source": [
    "class MyClass:\n",
    "    def __new__(cls):\n",
    "        print(\"Creating instance...\") # calls the default object creator (object.__new__).\n",
    "        instance = super().__new__(cls)  # Call object.__new__ to create instance \n",
    "        return instance  # Return the created instance\n",
    "\n",
    "    def __init__(self):\n",
    "        print(\"Initializing instance...\")\n",
    "\n",
    "obj = MyClass()\n",
    "obj = MyClass()\n"
   ]
  },
  {
   "cell_type": "markdown",
   "id": "d01f974a",
   "metadata": {},
   "source": [
    "# Question: Singleton Pattern using"
   ]
  },
  {
   "cell_type": "markdown",
   "id": "10e02112",
   "metadata": {},
   "source": [
    "#__init__ Method (Initializer)\n",
    "    - __init__ is called after the instance is created (by __new__).\n",
    "    - It is used to initialize the attributes of the instance.\n",
    "    - It does not create the object but simply prepares it for use."
   ]
  },
  {
   "cell_type": "code",
   "execution_count": 37,
   "id": "2e69eea6",
   "metadata": {},
   "outputs": [
    {
     "name": "stdout",
     "output_type": "stream",
     "text": [
      "21 is odd\n",
      "22 is even\n"
     ]
    }
   ],
   "source": [
    "class Number:\n",
    "    even =0\n",
    "    def check(self,num):\n",
    "        if num%2==0:\n",
    "            self.even=1\n",
    "    def even_odd(self,num):\n",
    "        self.check(num)\n",
    "        if self.even==1:\n",
    "            print(num,\"is even\")\n",
    "        else:\n",
    "            print(num,\"is odd\")\n",
    "n = Number()\n",
    "n.even_odd(21)\n",
    "n1 = Number()\n",
    "n1.even_odd(22)"
   ]
  },
  {
   "cell_type": "code",
   "execution_count": 15,
   "id": "55f8e859",
   "metadata": {},
   "outputs": [
    {
     "name": "stdout",
     "output_type": "stream",
     "text": [
      "Inside __new__\n",
      "Inside __init__\n"
     ]
    }
   ],
   "source": [
    "class Example:\n",
    "    def __new__(cls):\n",
    "        print(\"Inside __new__\")\n",
    "        instance = super().__new__(cls)\n",
    "        return instance\n",
    "\n",
    "    def __init__(self):\n",
    "        print(\"Inside __init__\")\n",
    "\n",
    "obj = Example()\n",
    "\n",
    "# Conclusion\n",
    "# __new__ is the constructor in Python, responsible for creating the object.\n",
    "# __init__ is the initializer, used for setting up instance attributes.\n",
    "# Normally, you don’t need to override __new__, unless you are implementing singleton patterns or working with metaclasses."
   ]
  },
  {
   "cell_type": "markdown",
   "id": "48fc308f",
   "metadata": {},
   "source": [
    "- Inheritence\n",
    "<href>https://www.youtube.com/watch?v=RSl87lqOXDE</href>"
   ]
  },
  {
   "cell_type": "code",
   "execution_count": 2,
   "id": "5b6a435d",
   "metadata": {},
   "outputs": [
    {
     "ename": "TypeError",
     "evalue": "add() missing 1 required positional argument: 'c'",
     "output_type": "error",
     "traceback": [
      "\u001b[1;31m---------------------------------------------------------------------------\u001b[0m",
      "\u001b[1;31mTypeError\u001b[0m                                 Traceback (most recent call last)",
      "\u001b[1;32m~\\AppData\\Local\\Temp\\ipykernel_18852\\1442910841.py\u001b[0m in \u001b[0;36m<module>\u001b[1;34m\u001b[0m\n\u001b[0;32m      5\u001b[0m         \u001b[1;32mreturn\u001b[0m\u001b[1;33m(\u001b[0m\u001b[0ma\u001b[0m\u001b[1;33m+\u001b[0m\u001b[0mb\u001b[0m\u001b[1;33m+\u001b[0m\u001b[0mc\u001b[0m\u001b[1;33m)\u001b[0m\u001b[1;33m\u001b[0m\u001b[1;33m\u001b[0m\u001b[0m\n\u001b[0;32m      6\u001b[0m \u001b[0mp\u001b[0m  \u001b[1;33m=\u001b[0m \u001b[0mOverloadDemo\u001b[0m\u001b[1;33m(\u001b[0m\u001b[1;33m)\u001b[0m\u001b[1;33m\u001b[0m\u001b[1;33m\u001b[0m\u001b[0m\n\u001b[1;32m----> 7\u001b[1;33m \u001b[0mprint\u001b[0m\u001b[1;33m(\u001b[0m\u001b[0mp\u001b[0m\u001b[1;33m.\u001b[0m\u001b[0madd\u001b[0m\u001b[1;33m(\u001b[0m\u001b[1;36m20\u001b[0m\u001b[1;33m,\u001b[0m\u001b[1;36m30\u001b[0m\u001b[1;33m)\u001b[0m\u001b[1;33m)\u001b[0m\u001b[1;33m\u001b[0m\u001b[1;33m\u001b[0m\u001b[0m\n\u001b[0m\u001b[0;32m      8\u001b[0m \u001b[0mprint\u001b[0m\u001b[1;33m(\u001b[0m\u001b[0mp\u001b[0m\u001b[1;33m.\u001b[0m\u001b[0madd\u001b[0m\u001b[1;33m(\u001b[0m\u001b[1;36m20\u001b[0m\u001b[1;33m,\u001b[0m\u001b[1;36m3.40\u001b[0m\u001b[1;33m,\u001b[0m\u001b[1;36m40.0\u001b[0m\u001b[1;33m)\u001b[0m\u001b[1;33m)\u001b[0m\u001b[1;33m\u001b[0m\u001b[1;33m\u001b[0m\u001b[0m\n",
      "\u001b[1;31mTypeError\u001b[0m: add() missing 1 required positional argument: 'c'"
     ]
    }
   ],
   "source": [
    "class OverloadDemo:\n",
    "    def add(self,a,b):\n",
    "        return(a+b)\n",
    "    def add(self,a,b,c):\n",
    "        return(a+b+c)\n",
    "p  = OverloadDemo()\n",
    "print(p.add(20,30))\n",
    "print(p.add(20,3.40,40.0))"
   ]
  },
  {
   "cell_type": "code",
   "execution_count": 10,
   "id": "e89784ef",
   "metadata": {},
   "outputs": [
    {
     "ename": "TypeError",
     "evalue": "add() missing 1 required positional argument: 'c'",
     "output_type": "error",
     "traceback": [
      "\u001b[1;31m---------------------------------------------------------------------------\u001b[0m",
      "\u001b[1;31mTypeError\u001b[0m                                 Traceback (most recent call last)",
      "\u001b[1;32m~\\AppData\\Local\\Temp\\ipykernel_17044\\1442910841.py\u001b[0m in \u001b[0;36m<module>\u001b[1;34m\u001b[0m\n\u001b[0;32m      5\u001b[0m         \u001b[1;32mreturn\u001b[0m\u001b[1;33m(\u001b[0m\u001b[0ma\u001b[0m\u001b[1;33m+\u001b[0m\u001b[0mb\u001b[0m\u001b[1;33m+\u001b[0m\u001b[0mc\u001b[0m\u001b[1;33m)\u001b[0m\u001b[1;33m\u001b[0m\u001b[1;33m\u001b[0m\u001b[0m\n\u001b[0;32m      6\u001b[0m \u001b[0mp\u001b[0m  \u001b[1;33m=\u001b[0m \u001b[0mOverloadDemo\u001b[0m\u001b[1;33m(\u001b[0m\u001b[1;33m)\u001b[0m\u001b[1;33m\u001b[0m\u001b[1;33m\u001b[0m\u001b[0m\n\u001b[1;32m----> 7\u001b[1;33m \u001b[0mprint\u001b[0m\u001b[1;33m(\u001b[0m\u001b[0mp\u001b[0m\u001b[1;33m.\u001b[0m\u001b[0madd\u001b[0m\u001b[1;33m(\u001b[0m\u001b[1;36m20\u001b[0m\u001b[1;33m,\u001b[0m\u001b[1;36m30\u001b[0m\u001b[1;33m)\u001b[0m\u001b[1;33m)\u001b[0m\u001b[1;33m\u001b[0m\u001b[1;33m\u001b[0m\u001b[0m\n\u001b[0m\u001b[0;32m      8\u001b[0m \u001b[0mprint\u001b[0m\u001b[1;33m(\u001b[0m\u001b[0mp\u001b[0m\u001b[1;33m.\u001b[0m\u001b[0madd\u001b[0m\u001b[1;33m(\u001b[0m\u001b[1;36m20\u001b[0m\u001b[1;33m,\u001b[0m\u001b[1;36m3.40\u001b[0m\u001b[1;33m,\u001b[0m\u001b[1;36m40.0\u001b[0m\u001b[1;33m)\u001b[0m\u001b[1;33m)\u001b[0m\u001b[1;33m\u001b[0m\u001b[1;33m\u001b[0m\u001b[0m\n",
      "\u001b[1;31mTypeError\u001b[0m: add() missing 1 required positional argument: 'c'"
     ]
    }
   ],
   "source": [
    "class OverloadDemo:\n",
    "    def add(self,a,b):\n",
    "        return(a+b)\n",
    "    def add(self,a,b,c):\n",
    "        return(a+b+c)\n",
    "p  = OverloadDemo()\n",
    "print(p.add(20,30))\n",
    "print(p.add(20,3.40,40.0))"
   ]
  },
  {
   "cell_type": "code",
   "execution_count": 4,
   "id": "51c03967",
   "metadata": {},
   "outputs": [
    {
     "name": "stdout",
     "output_type": "stream",
     "text": [
      "50\n",
      "63.4\n"
     ]
    }
   ],
   "source": [
    "class OverloadDemo:\n",
    "    def add(self,a,b,c=0):\n",
    "        return(a+b+c)\n",
    "   \n",
    "p  = OverloadDemo()\n",
    "print(p.add(20,30))\n",
    "print(p.add(20,3.40,40.0))"
   ]
  },
  {
   "cell_type": "code",
   "execution_count": 6,
   "id": "59247b8d",
   "metadata": {},
   "outputs": [
    {
     "name": "stdout",
     "output_type": "stream",
     "text": [
      "60\n",
      "80.0\n"
     ]
    }
   ],
   "source": [
    "class OverloadDemo:\n",
    "    def add(self,*args):\n",
    "        num=0\n",
    "        for num in args:\n",
    "            num+=num\n",
    "        return num\n",
    "   \n",
    "p  = OverloadDemo()\n",
    "print(p.add(20,30))\n",
    "print(p.add(20,3.40,40.0))"
   ]
  },
  {
   "cell_type": "code",
   "execution_count": 13,
   "id": "d5f0e33f",
   "metadata": {},
   "outputs": [
    {
     "name": "stdout",
     "output_type": "stream",
     "text": [
      "A show\n",
      "B show\n"
     ]
    }
   ],
   "source": [
    "class A:\n",
    "    def show(self):  # 1 \n",
    "        print(\"A show\")\n",
    "class B(A):\n",
    "    def show(self):  #2\n",
    "        print(\"B show\")\n",
    "    \n",
    "   \n",
    "# Case 1\n",
    "'''\n",
    "a  = A()\n",
    "a.show()\n",
    "b  = B()\n",
    "b.show()\n",
    "''''''\n",
    "# Case 2\n",
    "b = B()\n",
    "b.show()\n"
   ]
  },
  {
   "cell_type": "code",
   "execution_count": 17,
   "id": "7e8e2759",
   "metadata": {},
   "outputs": [
    {
     "name": "stdout",
     "output_type": "stream",
     "text": [
      "A show\n"
     ]
    }
   ],
   "source": [
    "class A:\n",
    "    def show(self):  # 1 \n",
    "        print(\"A show\")\n",
    "class B(A):\n",
    "    pass  # 1\n",
    "    \n",
    "b  = B()\n",
    "b.show()"
   ]
  },
  {
   "cell_type": "code",
   "execution_count": 9,
   "id": "4d183971",
   "metadata": {},
   "outputs": [
    {
     "name": "stdout",
     "output_type": "stream",
     "text": [
      "in show\n"
     ]
    }
   ],
   "source": [
    "class A:\n",
    "    def show(self):\n",
    "        print(\"in show\")\n",
    "class B:\n",
    "    pass\n",
    "a = A()\n",
    "a.show()\n",
    "\n"
   ]
  },
  {
   "cell_type": "code",
   "execution_count": null,
   "id": "a6fbdb1e",
   "metadata": {},
   "outputs": [],
   "source": [
    "class A:\n",
    "    def show(self):\n",
    "        print(\"in show A\")\n",
    "class B(A):\n",
    "    pass\n",
    "a = A()\n",
    "a.show()"
   ]
  },
  {
   "cell_type": "code",
   "execution_count": 11,
   "id": "a6376fa0",
   "metadata": {},
   "outputs": [
    {
     "name": "stdout",
     "output_type": "stream",
     "text": [
      "in show A\n",
      "in show A\n"
     ]
    }
   ],
   "source": [
    "class A:\n",
    "    def show(self):\n",
    "        print(\"in show A\")\n",
    "class B(A):\n",
    "    pass\n",
    "a = A()\n",
    "a.show()\n",
    "b = B()\n",
    "b.show()"
   ]
  },
  {
   "cell_type": "code",
   "execution_count": 13,
   "id": "3d6c7439",
   "metadata": {},
   "outputs": [
    {
     "name": "stdout",
     "output_type": "stream",
     "text": [
      "in show A\n",
      "in show B\n"
     ]
    }
   ],
   "source": [
    "class A:\n",
    "    def show(self):\n",
    "        print(\"in show A\")\n",
    "class B(A):\n",
    "    def show(self):\n",
    "        print(\"in show B\")\n",
    "a = A()\n",
    "a.show()\n",
    "b = B()\n",
    "b.show()"
   ]
  },
  {
   "cell_type": "code",
   "execution_count": 18,
   "id": "6d315c07",
   "metadata": {},
   "outputs": [
    {
     "ename": "TypeError",
     "evalue": "show() missing 1 required positional argument: 'self'",
     "output_type": "error",
     "traceback": [
      "\u001b[1;31m---------------------------------------------------------------------------\u001b[0m",
      "\u001b[1;31mTypeError\u001b[0m                                 Traceback (most recent call last)",
      "\u001b[1;32m~\\AppData\\Local\\Temp\\ipykernel_17044\\2419998469.py\u001b[0m in \u001b[0;36m<module>\u001b[1;34m\u001b[0m\n\u001b[0;32m      8\u001b[0m         \u001b[0mprint\u001b[0m\u001b[1;33m(\u001b[0m\u001b[1;34m\"in show B\"\u001b[0m\u001b[1;33m)\u001b[0m\u001b[1;33m\u001b[0m\u001b[1;33m\u001b[0m\u001b[0m\n\u001b[0;32m      9\u001b[0m \u001b[0mb\u001b[0m \u001b[1;33m=\u001b[0m \u001b[0mB\u001b[0m\u001b[1;33m(\u001b[0m\u001b[1;33m)\u001b[0m\u001b[1;33m\u001b[0m\u001b[1;33m\u001b[0m\u001b[0m\n\u001b[1;32m---> 10\u001b[1;33m \u001b[0mb\u001b[0m\u001b[1;33m.\u001b[0m\u001b[0mshow\u001b[0m\u001b[1;33m(\u001b[0m\u001b[1;33m)\u001b[0m\u001b[1;33m\u001b[0m\u001b[1;33m\u001b[0m\u001b[0m\n\u001b[0m",
      "\u001b[1;32m~\\AppData\\Local\\Temp\\ipykernel_17044\\2419998469.py\u001b[0m in \u001b[0;36mshow\u001b[1;34m(self)\u001b[0m\n\u001b[0;32m      5\u001b[0m     \u001b[1;32mdef\u001b[0m \u001b[0mshow\u001b[0m\u001b[1;33m(\u001b[0m\u001b[0mself\u001b[0m\u001b[1;33m)\u001b[0m\u001b[1;33m:\u001b[0m\u001b[1;33m\u001b[0m\u001b[1;33m\u001b[0m\u001b[0m\n\u001b[0;32m      6\u001b[0m         \u001b[1;31m#super().show()\u001b[0m\u001b[1;33m\u001b[0m\u001b[1;33m\u001b[0m\u001b[1;33m\u001b[0m\u001b[0m\n\u001b[1;32m----> 7\u001b[1;33m         \u001b[0mA\u001b[0m\u001b[1;33m.\u001b[0m\u001b[0mshow\u001b[0m\u001b[1;33m(\u001b[0m\u001b[1;33m)\u001b[0m\u001b[1;33m\u001b[0m\u001b[1;33m\u001b[0m\u001b[0m\n\u001b[0m\u001b[0;32m      8\u001b[0m         \u001b[0mprint\u001b[0m\u001b[1;33m(\u001b[0m\u001b[1;34m\"in show B\"\u001b[0m\u001b[1;33m)\u001b[0m\u001b[1;33m\u001b[0m\u001b[1;33m\u001b[0m\u001b[0m\n\u001b[0;32m      9\u001b[0m \u001b[0mb\u001b[0m \u001b[1;33m=\u001b[0m \u001b[0mB\u001b[0m\u001b[1;33m(\u001b[0m\u001b[1;33m)\u001b[0m\u001b[1;33m\u001b[0m\u001b[1;33m\u001b[0m\u001b[0m\n",
      "\u001b[1;31mTypeError\u001b[0m: show() missing 1 required positional argument: 'self'"
     ]
    }
   ],
   "source": [
    "class A:\n",
    "    def show(self):\n",
    "        print(\"in show A\")\n",
    "class B(A):\n",
    "    def show(self):\n",
    "        #super().show()\n",
    "        #A.show()  Not Poss\n",
    "        print(\"in show B\")\n",
    "b = B()\n",
    "b.show()"
   ]
  },
  {
   "cell_type": "code",
   "execution_count": 43,
   "id": "17c81a6a",
   "metadata": {},
   "outputs": [
    {
     "data": {
      "text/plain": [
       "60"
      ]
     },
     "execution_count": 43,
     "metadata": {},
     "output_type": "execute_result"
    }
   ],
   "source": [
    "class A:\n",
    "    def __init__(self):\n",
    "        self.a = 10\n",
    "        self.b = 20\n",
    "class B(A):\n",
    "    def __init__(self):\n",
    "        super().__init__()\n",
    "        self.c=30\n",
    "    def add(self):\n",
    "        return self.a+self.b+self.c\n",
    "b = B()\n",
    "b.add()\n",
    "\n",
    "    "
   ]
  },
  {
   "cell_type": "code",
   "execution_count": 14,
   "id": "a72dddf1",
   "metadata": {},
   "outputs": [
    {
     "name": "stdout",
     "output_type": "stream",
     "text": [
      "in show A\n",
      "in show B 7\n"
     ]
    }
   ],
   "source": [
    "class A:\n",
    "    def show(self):\n",
    "        print(\"in show A\")\n",
    "class B(A):\n",
    "    def show(self,a,b):\n",
    "        print(\"in show B\",(a+b))\n",
    "a = A()\n",
    "a.show()\n",
    "b = B()\n",
    "b.show(3,4)"
   ]
  },
  {
   "cell_type": "code",
   "execution_count": 25,
   "id": "6648fdfb",
   "metadata": {},
   "outputs": [
    {
     "name": "stdout",
     "output_type": "stream",
     "text": [
      "C2 is greather\n"
     ]
    }
   ],
   "source": [
    "class Greather:\n",
    "    def __init__(self,r):\n",
    "        self.real  = r\n",
    "        \n",
    "    def __gt__(self,other):\n",
    "        if self.real> other.real:\n",
    "            return True\n",
    "        else:\n",
    "            return False\n",
    "        \n",
    "        \n",
    "c1 = Greather(3)\n",
    "c2 = Greather(4)\n",
    "if c1>c2:\n",
    "    print(\"C1 is greather\")\n",
    "else:\n",
    "    print(\"C2 is greather\")"
   ]
  },
  {
   "cell_type": "code",
   "execution_count": null,
   "id": "9ae6891f",
   "metadata": {},
   "outputs": [],
   "source": [
    "class ComplexNumber:\n",
    "    def __init__(self,r,i):\n",
    "        self.real  = r\n",
    "        self.img =i\n",
    "    def __add__(self,other):\n",
    "        self.real+ other.real\n",
    "        self.img + other.img\n",
    "        return f\"{self.real+other.real}+{self.img+other.img}i\"\n",
    "        #return self.real,self.img\n",
    "c1 = ComplexNumber(3,4)\n",
    "c2 = ComplexNumber(4,5)\n",
    "print(c1+c2)"
   ]
  },
  {
   "cell_type": "code",
   "execution_count": 46,
   "id": "b04bef3d",
   "metadata": {},
   "outputs": [
    {
     "name": "stdout",
     "output_type": "stream",
     "text": [
      "B show\n"
     ]
    }
   ],
   "source": [
    "class A:\n",
    "    def show():\n",
    "        pass\n",
    "class B(A):\n",
    "    def show(self):\n",
    "        print(\"B show\")\n",
    "#a = A()\n",
    "#a.show()\n",
    "b = B()\n",
    "b.show()"
   ]
  },
  {
   "cell_type": "code",
   "execution_count": 55,
   "id": "4dd0e709",
   "metadata": {},
   "outputs": [
    {
     "name": "stdout",
     "output_type": "stream",
     "text": [
      "B class\n"
     ]
    }
   ],
   "source": [
    "from abc import abstractmethod\n",
    "class A:\n",
    "    @abstractmethod\n",
    "    def show(self):\n",
    "        pass\n",
    "class B(A):\n",
    "    def show(self):\n",
    "        print(\"B class\")\n",
    "#a = A()\n",
    "#a.show()\n",
    "b = B()\n",
    "b.show()"
   ]
  },
  {
   "cell_type": "code",
   "execution_count": 57,
   "id": "494c7a36",
   "metadata": {},
   "outputs": [
    {
     "name": "stdout",
     "output_type": "stream",
     "text": [
      "Bark\n"
     ]
    }
   ],
   "source": [
    "from abc import ABC, abstractmethod\n",
    "\n",
    "# Define an abstract class\n",
    "class Animal(ABC):\n",
    "    \n",
    "    @abstractmethod\n",
    "    def sound(self):\n",
    "        pass  # This is an abstract method, no implementation here.\n",
    "\n",
    "# Concrete subclass of Animal\n",
    "class Dog(Animal):\n",
    "    \n",
    "    def sound(self):\n",
    "        return \"Bark\"  # Providing the implementation of the abstract method\n",
    "\n",
    "# Create an instance of Dog\n",
    "dog = Dog()\n",
    "print(dog.sound())  # Output: Bark\n"
   ]
  },
  {
   "cell_type": "markdown",
   "id": "2f45fb5e",
   "metadata": {},
   "source": [
    "# Code Explanation:\n",
    "\n",
    "- Abstract Base Class: Animal is an abstract class that inherits from ABC (Abstract Base Class). This class cannot be instantiated directly because it contains an abstract method sound(). The @abstractmethod decorator is used to mark sound() as an abstract method. This means any subclass must implement this method to be instantiated.\n",
    "- Concrete Subclass: Dog is a subclass of Animal that provides an implementation for the sound() method. This allows the Dog class to be instantiated and used.\n",
    "- Instantiation: We create an instance of Dog and call the sound() method, which returns “Bark”.\n"
   ]
  },
  {
   "cell_type": "code",
   "execution_count": null,
   "id": "db5d2064",
   "metadata": {},
   "outputs": [],
   "source": []
  }
 ],
 "metadata": {
  "kernelspec": {
   "display_name": "Python 3 (ipykernel)",
   "language": "python",
   "name": "python3"
  },
  "language_info": {
   "codemirror_mode": {
    "name": "ipython",
    "version": 3
   },
   "file_extension": ".py",
   "mimetype": "text/x-python",
   "name": "python",
   "nbconvert_exporter": "python",
   "pygments_lexer": "ipython3",
   "version": "3.8.16"
  }
 },
 "nbformat": 4,
 "nbformat_minor": 5
}
