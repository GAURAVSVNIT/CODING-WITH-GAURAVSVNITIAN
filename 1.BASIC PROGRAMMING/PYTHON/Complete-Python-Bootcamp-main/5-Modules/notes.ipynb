{
 "cells": [
  {
   "cell_type": "code",
   "execution_count": 6,
   "metadata": {},
   "outputs": [
    {
     "name": "stdout",
     "output_type": "stream",
     "text": [
      "['cde', 'cd']\n"
     ]
    }
   ],
   "source": [
    "x='abcdeabcdab'\n",
    "x1=x.split('ab')\n",
    "arr=[i.strip() for i in x1 if i.strip()]\n",
    "print(arr)"
   ]
  },
  {
   "cell_type": "code",
   "execution_count": 7,
   "metadata": {},
   "outputs": [
    {
     "name": "stdout",
     "output_type": "stream",
     "text": [
      "Original: '  \t\n",
      "  Hello, World!  \n",
      "\t  '\n",
      "Stripped: 'Hello, World!'\n",
      "Original: 'xxxyHello, World!yyy'\n",
      "Stripped: 'Hello, World!'\n"
     ]
    }
   ],
   "source": [
    "def custom_strip(s, chars=None):\n",
    "    if chars is None:\n",
    "        chars = ' \\t\\n\\r\\x0b\\x0c'  # Default whitespace characters\n",
    "\n",
    "    # Remove leading characters\n",
    "    start = 0\n",
    "    while start < len(s) and s[start] in chars:\n",
    "        start += 1\n",
    "\n",
    "    # Remove trailing characters\n",
    "    end = len(s)\n",
    "    while end > start and s[end - 1] in chars:\n",
    "        end -= 1\n",
    "\n",
    "    return s[start:end]\n",
    "\n",
    "# Test the custom_strip function\n",
    "s = \"  \\t\\n  Hello, World!  \\n\\t  \"\n",
    "print(f\"Original: '{s}'\")\n",
    "print(f\"Stripped: '{custom_strip(s)}'\")\n",
    "\n",
    "# Test with specified characters\n",
    "s = \"xxxyHello, World!yyy\"\n",
    "print(f\"Original: '{s}'\")\n",
    "print(f\"Stripped: '{custom_strip(s, 'xy')}'\")"
   ]
  }
 ],
 "metadata": {
  "kernelspec": {
   "display_name": "my_venv",
   "language": "python",
   "name": "python3"
  },
  "language_info": {
   "codemirror_mode": {
    "name": "ipython",
    "version": 3
   },
   "file_extension": ".py",
   "mimetype": "text/x-python",
   "name": "python",
   "nbconvert_exporter": "python",
   "pygments_lexer": "ipython3",
   "version": "3.13.1"
  }
 },
 "nbformat": 4,
 "nbformat_minor": 2
}
