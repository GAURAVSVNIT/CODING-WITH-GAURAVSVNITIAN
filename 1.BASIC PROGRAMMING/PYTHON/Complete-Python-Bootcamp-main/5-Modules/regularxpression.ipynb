{
 "cells": [
  {
   "cell_type": "markdown",
   "metadata": {},
   "source": [
    "# Regular Expressions in Python\n",
    "\n",
    "Regular expressions (regex) are a powerful tool for matching patterns in text. Python provides the `re` module to work with regular expressions. Here are some common operations you can perform with regex in Python:\n",
    "\n",
    "## Importing the `re` Module\n",
    "\n",
    "To use regular expressions in Python, you need to import the `re` module:\n",
    "\n",
    "```python\n",
    "import re\n",
    "```\n",
    "\n",
    "## Basic Functions\n",
    "\n",
    "### `re.search()`\n",
    "\n",
    "Searches for the first occurrence of the pattern in the string.\n",
    "\n",
    "```python\n",
    "match = re.search(r'\\d+', 'The price is 100 dollars')\n",
    "if match:\n",
    "    print(match.group())  # Output: 100\n",
    "```\n",
    "\n",
    "### `re.findall()`\n",
    "\n",
    "Finds all occurrences of the pattern in the string.\n",
    "\n",
    "```python\n",
    "matches = re.findall(r'\\d+', 'There are 3 cats, 4 dogs, and 5 birds')\n",
    "print(matches)  # Output: ['3', '4', '5']\n",
    "```\n",
    "\n",
    "### `re.sub()`\n",
    "\n",
    "Replaces occurrences of the pattern with a replacement string.\n",
    "\n",
    "```python\n",
    "result = re.sub(r'\\d+', 'number', 'There are 3 cats, 4 dogs, and 5 birds')\n",
    "print(result)  # Output: There are number cats, number dogs, and number birds\n",
    "```\n",
    "\n",
    "### `re.split()`\n",
    "\n",
    "Splits the string by occurrences of the pattern.\n",
    "\n",
    "```python\n",
    "result = re.split(r'\\s+', 'Split this sentence into words')\n",
    "print(result)  # Output: ['Split', 'this', 'sentence', 'into', 'words']\n",
    "```\n",
    "\n",
    "## Special Characters\n",
    "\n",
    "- `.`: Matches any character except a newline.\n",
    "- `^`: Matches the start of the string.\n",
    "- `$`: Matches the end of the string.\n",
    "- `*`: Matches 0 or more repetitions of the preceding pattern.\n",
    "- `+`: Matches 1 or more repetitions of the preceding pattern.\n",
    "- `?`: Matches 0 or 1 repetition of the preceding pattern.\n",
    "- `{m,n}`: Matches between m and n repetitions of the preceding pattern.\n",
    "\n",
    "## Character Classes\n",
    "\n",
    "Stop executing after Space\n",
    "\n",
    "- `\\d`: Matches any digit.\n",
    "- `\\D`: Matches any non-digit.\n",
    "- `\\w`: Matches any alphanumeric character.\n",
    "- `\\W`: Matches any non-alphanumeric character.\n",
    "- `\\s`: Matches any whitespace character.\n",
    "- `\\S`: Matches any non-whitespace character.\n",
    "- `\\b`: Defines the Boundry.\n",
    "\n",
    "Regular expressions are a versatile tool for text processing and can be used for tasks such as validation, parsing, and string manipulation."
   ]
  },
  {
   "cell_type": "markdown",
   "metadata": {},
   "source": [
    "```python\n",
    "\n",
    "### Example of `re.match()`\n",
    "\n",
    "The `re.match()` function attempts to match a pattern at the beginning of a string. If the pattern is found at the start of the string, it returns a match object; otherwise, it returns `None`.\n",
    "\n",
    "#### Example\n",
    "\n",
    "```python\n",
    "import re\n",
    "\n",
    "pattern = r'\\d+'\n",
    "string = '123abc456'\n",
    "\n",
    "match = re.match(pattern, string)\n",
    "if match:\n",
    "    print('Match found:', match.group())  # Output: Match found: 123\n",
    "else:\n",
    "    print('No match')\n",
    "```\n",
    "\n",
    "````"
   ]
  },
  {
   "cell_type": "markdown",
   "metadata": {},
   "source": [
    "``` python\n",
    "import re \n",
    "\n",
    "string = \"The quick brown fox jumps over the lazy dog\"\n",
    "pattern = \"quick\"\n",
    "\n",
    "# search for the pattern\n",
    "match = re.search(pattern, string)\n",
    "match1 = re.search(pattern, string, re.IGNORECASE)\n",
    "match2 = re.search(pattern, string, re.IGNORECASE | re.MULTILINE)\n",
    "\n",
    "```"
   ]
  },
  {
   "cell_type": "markdown",
   "metadata": {},
   "source": [
    "``` python\n",
    "\n",
    "import re\n",
    "\n",
    "# Dot (.)\n",
    "pattern = r\"a.b\"\n",
    "text = \"acb aab a.b\"\n",
    "matches = re.findall(pattern, text)\n",
    "print(\"Dot (.) matches:\", matches)  # Output: ['acb', 'aab']\n",
    "\n",
    "# Caret (^)\n",
    "pattern = r\"^Hello\"\n",
    "text = \"Hello world! Hello again!\"\n",
    "matches = re.findall(pattern, text)\n",
    "print(\"Caret (^) matches:\", matches)  # Output: ['Hello']\n",
    "\n",
    "# Dollar ($)\n",
    "pattern = r\"world!$\"\n",
    "text = \"Hello world! Hello again!\"\n",
    "matches = re.findall(pattern, text)\n",
    "print(\"Dollar ($) matches:\", matches)  # Output: ['world!']\n",
    "\n",
    "# Asterisk (*)\n",
    "pattern = r\"ab*\"\n",
    "text = \"a ab abb abbb\"\n",
    "matches = re.findall(pattern, text)\n",
    "print(\"Asterisk (*) matches:\", matches)  # Output: ['a', 'ab', 'abb', 'abbb']\n",
    "\n",
    "# Plus (+)\n",
    "pattern = r\"ab+\"\n",
    "text = \"a ab abb abbb\"\n",
    "matches = re.findall(pattern, text)\n",
    "print(\"Plus (+) matches:\", matches)  # Output: ['ab', 'abb', 'abbb']\n",
    "\n",
    "# Question Mark (?)\n",
    "pattern = r\"ab?\"\n",
    "text = \"a ab abb abbb\"\n",
    "matches = re.findall(pattern, text)\n",
    "print(\"Question Mark (?) matches:\", matches)  # Output: ['a', 'ab', 'ab', 'ab']\n",
    "\n",
    "# Braces ({})\n",
    "pattern = r\"ab{2,3}\"\n",
    "text = \"a ab abb abbb abbbb\"\n",
    "matches = re.findall(pattern, text)\n",
    "print(\"Braces ({}) matches:\", matches)  # Output: ['abb', 'abbb']\n",
    "\n",
    "# Square Brackets ([])\n",
    "pattern = r\"[aeiou]\"\n",
    "text = \"hello world\"\n",
    "matches = re.findall(pattern, text)\n",
    "print(\"Square Brackets ([]) matches:\", matches)  # Output: ['e', 'o', 'o']\n",
    "\n",
    "# Backslash (\\)\n",
    "pattern = r\"\\d\"\n",
    "text = \"There are 2 apples and 5 oranges.\"\n",
    "matches = re.findall(pattern, text)\n",
    "print(\"Backslash (\\\\) matches:\", matches)  # Output: ['2', '5']\n",
    "\n",
    "# Pipe (|)\n",
    "pattern = r\"cat|dog\"\n",
    "text = \"I have a cat and a dog.\"\n",
    "matches = re.findall(pattern, text)\n",
    "print(\"Pipe (|) matches:\", matches)  # Output: ['cat', 'dog']\n",
    "\n",
    "# Parentheses (())\n",
    "pattern = r\"(ab)+\"\n",
    "text = \"abab ab ababab\"\n",
    "matches = re.findall(pattern, text)\n",
    "print(\"Parentheses (()) matches:\", matches)  # Output: ['ab', 'ab']\n",
    "\n",
    "````"
   ]
  },
  {
   "cell_type": "markdown",
   "metadata": {},
   "source": [
    "## Common RegEx Patterns\n",
    "\n",
    "Pattern\tDescription\tExample Match\n",
    "\n",
    "\\d\tMatches any digit (0-9)\t\"abc123\" → 123\n",
    "\n",
    "\\D\tMatches any non-digit\t\"abc123\" → abc\n",
    "\n",
    "\\w\tMatches any word character (A-Z, a-z, 0-9, _)\t\"hello_123\" → \"hello_123\"\n",
    "\n",
    "\\W\tMatches any non-word character\t\"hello! world?\" → \"! ?\"\n",
    "\n",
    "\\s\tMatches any whitespace character (space, tab, newline)\t\"Hello World\" → \" \"\n",
    "\n",
    "\\S\tMatches any non-whitespace character\t\"Hello World\" → \"HelloWorld\"\n",
    "\n",
    ".\tMatches any character except a newline\t\"abc\" → \"a\", \"b\", \"c\"\n",
    "\n",
    "^\tMatches the start of the string\t\"Hello\" → Matches \"H\"\n",
    "\n",
    "$\tMatches the end of the string\t\"World!\" → Matches \"!\"\n",
    "\n",
    "*\tMatches 0 or more occurrences\t\"ba*\" matches \"b\", \"ba\", \"baaa\"\n",
    "\n",
    "+\tMatches 1 or more occurrences\t\"ba+\" matches \"ba\", \"baa\" but not \"b\"\n",
    "\n",
    "?\tMatches 0 or 1 occurrence\t\"ba?\" matches \"b\", \"ba\"\n",
    "\n",
    "{n}\tMatches exactly n occurrences\t\"\\d{3}\" matches \"123\"\n",
    "\n",
    "{n,}\tMatches at least n occurrences\t\"\\d{2,}\" matches \"12\", \"123\", \"1234\"\n",
    "\n",
    "{n,m}\tMatches between n and m occurrences\t\"\\d{2,4}\" matches \"12\", \"123\", \"1234\"\n",
    "\n",
    "[...]\tMatches any character inside brackets\t\"[aeiou]\" matches \"a\", \"e\", \"i\"\n",
    "\n",
    "[^...]\tMatches any character not inside brackets\t\"[^aeiou]\" matches any non-vowel\n",
    "\n",
    "`(x\ty)`\tMatches x or y"
   ]
  },
  {
   "cell_type": "code",
   "execution_count": null,
   "metadata": {
    "vscode": {
     "languageId": "markdown"
    }
   },
   "outputs": [],
   "source": [
    "## Greedy and Non-Greedy Expressions\n",
    "\n",
    "### Greedy Expressions\n",
    "\n",
    "Greedy expressions in regular expressions try to match as much text as possible. They expand the match as far as they can go while still allowing the overall pattern to match.\n",
    "\n",
    "#### Example\n"
   ]
  },
  {
   "cell_type": "code",
   "execution_count": null,
   "metadata": {},
   "outputs": [],
   "source": [
    "import re\n",
    "\n",
    "# Greedy expression example\n",
    "greedy_pattern = r'<.*>'\n",
    "text = '<div>Some content</div><div>More content</div>'\n",
    "greedy_matches = re.findall(greedy_pattern, text)\n",
    "print(\"Greedy matches:\", greedy_matches)  # Output: ['<div>Some content</div><div>More content</div>']\n",
    "\n",
    "# Non-greedy expression example\n",
    "non_greedy_pattern = r'<.*?>'\n",
    "non_greedy_matches = re.findall(non_greedy_pattern, text)\n",
    "print(\"Non-greedy matches:\", non_greedy_matches)  # Output: ['<div>', '</div>', '<div>', '</div>']"
   ]
  },
  {
   "cell_type": "code",
   "execution_count": 4,
   "metadata": {},
   "outputs": [
    {
     "name": "stdout",
     "output_type": "stream",
     "text": [
      "['Split', 'this', 'sentence', 'into', 'words']\n",
      "1\n",
      "['3', '4', '5']\n"
     ]
    }
   ],
   "source": [
    "import re \n",
    "\n",
    "result = re.split(r'\\s+', 'Split this sentence into words')\n",
    "print(result)  # Output: ['Split', 'this', 'sentence', 'into', 'words']\n",
    "\n",
    "match = re.search(r'\\d', 'The price is 100 dollars 45 878 78')\n",
    "if match:\n",
    "    print(match.group())  # Output: 100\n",
    "\n",
    "matches = re.findall(r'\\d+', 'There are 3 cats, 4 dogs, and 5 birds')\n",
    "print(matches)    "
   ]
  },
  {
   "cell_type": "code",
   "execution_count": null,
   "metadata": {},
   "outputs": [],
   "source": [
    "import re\n",
    "\n",
    "# List of class names\n",
    "class_names = [\"Alice\", \"Bob\", \"Charlie\", \"David\", \"Eve\", \"Frank\", \"George\",\n",
    "               \"Nancy\", \"Oscar\", \"Paul\", \"Quincy\", \"Rachel\", \"Steve\", \"Tom\", \"Zara\"]\n",
    "\n",
    "# Regex patterns\n",
    "pattern_group1 = r\"^[A-Ma-m]\"  # Names starting with A-M (case insensitive)\n",
    "pattern_group2 = r\"^[N-Zn-z]\"  # Names starting with N-Z (case insensitive)\n",
    "\n",
    "# Divide names using regex\n",
    "group1 = [name for name in class_names if re.match(pattern_group1, name)]\n",
    "group2 = [name for name in class_names if re.match(pattern_group2, name)]\n",
    "\n",
    "# Print the groups\n",
    "print(\"Group 1 (A-M):\", group1)\n",
    "print(\"Group 2 (N-Z):\", group2)"
   ]
  },
  {
   "cell_type": "code",
   "execution_count": null,
   "metadata": {},
   "outputs": [],
   "source": [
    "# Regular Expressionfor any pattern not starting with 'b' or 'c' 'd & not ending with \"rst\" \n",
    "import re\n",
    "\n",
    "# Regular expression pattern\n",
    "pattern = r\"^(?![bcd]).*(?!.*rst$)\"\n",
    "pattern2 = r\"^[^bcd]...[^r-t]$\"\n",
    "# Test strings\n",
    "test_strings = [\n",
    "    \"apple\",    # Should match\n",
    "    \"banana\",   # Should not match (starts with 'b')\n",
    "    \"cherry\",   # Should not match (starts with 'c')\n",
    "    \"date\",     # Should not match (starts with 'd')\n",
    "    \"forest\",   # Should not match (ends with 'rst')\n",
    "    \"grape\",    # Should match\n",
    "    \"mango\",    # Should match\n",
    "    \"orange\",   # Should match\n",
    "    \"pqrst\",    # Should not match (ends with 'rst')\n",
    "    \"strawberry\" # Should match\n",
    "]\n",
    "\n",
    "# Check each string against the pattern\n",
    "for string in test_strings:\n",
    "    if re.match(pattern, string):\n",
    "        print(f\"'{string}' matches the pattern\")\n",
    "    else:\n",
    "        print(f\"'{string}' does not match the pattern\")\n",
    "\n",
    "print(\"\\n\")\n",
    "\n",
    "for string in test_strings:\n",
    "    if re.match(pattern2, string):\n",
    "        print(f\"'{string}' matches the pattern\")\n",
    "    else:\n",
    "        print(f\"'{string}' does not match the pattern\")        "
   ]
  },
  {
   "cell_type": "code",
   "execution_count": null,
   "metadata": {},
   "outputs": [],
   "source": [
    "import re\n",
    "\n",
    "# Regular expression pattern for decimal numbers\n",
    "pattern = r\"[-+]?\\d*(\\.\\d+)?\"\n",
    "pattern2 = r\"/d+space?[.,/]?\\d+\"\n",
    "\n",
    "# Test strings\n",
    "test_strings = [\n",
    "    \"123\",      # Integer\n",
    "    \"-123\",     # Negative integer\n",
    "    \"+123\",     # Positive integer\n",
    "    \"123.456\",  # Floating-point number\n",
    "    \"-123.456\", # Negative floating-point number\n",
    "    \"+123.456\", # Positive floating-point number\n",
    "    \".456\",     # Floating-point number without leading digits\n",
    "    \"-.456\",    # Negative floating-point number without leading digits\n",
    "    \"+.456\",    # Positive floating-point number without leading digits\n",
    "    \"abc\",      # Not a number\n",
    "    \"123abc\",   # Not a number\n",
    "    \"123.\",     # Integer with trailing decimal point\n",
    "    \"-123.\",    # Negative integer with trailing decimal point\n",
    "    \"+123.\",     # Positive integer with trailing decimal point\n",
    "    \"1 3/4\",\n",
    "    \"1,255,2,5,7\"\n",
    "]\n",
    "\n",
    "# Check each string against the pattern\n",
    "# for string in test_strings:\n",
    "#     if re.fullmatch(pattern, string):\n",
    "#         print(f\"'{string}' matches the pattern\")\n",
    "#     else:\n",
    "#         print(f\"'{string}' does not match the pattern\")\n",
    "\n",
    "print(\"\\n\")        \n",
    "\n",
    "for string in test_strings:\n",
    "    if re.fullmatch(pattern, string):\n",
    "        print(f\"'{string}' matches the pattern\")\n",
    "    else:\n",
    "        print(f\"'{string}' does not match the pattern\")        "
   ]
  },
  {
   "cell_type": "markdown",
   "metadata": {},
   "source": [
    "\"\"\"\n",
    "This function uses the `re` module to perform regular expression operations.\n",
    "\n",
    "The `re.group` method is used to return one or more subgroups of the match. \n",
    "If there are multiple groups in the pattern, `re.group` can be called with multiple arguments to return a tuple of matched subgroups. \n",
    "If no arguments are passed, it returns the entire match.\n",
    "\n",
    "Parameters:\n",
    "- `group1, group2, ...`: The specific groups to return from the match. Groups are numbered starting from 1. Group 0 refers to the entire match.\n",
    "\n",
    "Returns:\n",
    "- A string or a tuple of strings representing the matched subgroups.\n",
    "\"\"\"\n",
    "```python\n",
    "# Example usage of re.group with the matches variable\n",
    "if matches:\n",
    "    print(\"Entire match:\", matches.group(0))  # Output: I am Going Home\n",
    "    print(\"First word:\", matches.group(1))    # Output: I\n",
    "    print(\"Second word:\", matches.group(2))   # Output: am\n",
    "    print(\"Third word:\", matches.group(3))    # Output: Going\n",
    "    print(\"Fourth word:\", matches.group(4))   # Output: Home\n",
    "```"
   ]
  },
  {
   "cell_type": "code",
   "execution_count": null,
   "metadata": {},
   "outputs": [],
   "source": [
    "import re \n",
    "\n",
    "s=\"aditya gupta\"\n",
    "p1=r\"^a\\w+?a$\"\n",
    "p2=r\"^a.*?a\"\n",
    "#p3=r\"^a^\\s?a$\"\"\n",
    "matches = re.match(p2,s)\n",
    "print(matches) #finds aditya\n",
    "\n",
    "#s1=\"I am Going Home\"    \n"
   ]
  },
  {
   "cell_type": "code",
   "execution_count": null,
   "metadata": {},
   "outputs": [],
   "source": [
    "import re\n",
    "\n",
    "def is_valid_email(email):\n",
    "    \n",
    "    pattern = r'^[a-zA-Z0-9._%+-]+@[a-zA-Z0-9.-]+\\.[a-zA-Z]{2,}$'\n",
    "    return re.match(pattern, email) is not None\n"
   ]
  },
  {
   "cell_type": "code",
   "execution_count": null,
   "metadata": {},
   "outputs": [],
   "source": [
    "import re \n",
    "\n",
    "s=\"I am Going Home\"\n",
    "p1=r\"^\\w+\\s\\w+\\s\\w+\\s\\w+$\"\n",
    "matches1=re.split('\\W+',s)\n",
    "print(matches1)\n",
    "\n",
    "matches = re.match(p1,s)\n",
    "print(matches) \n"
   ]
  },
  {
   "cell_type": "code",
   "execution_count": 13,
   "metadata": {},
   "outputs": [
    {
     "name": "stdout",
     "output_type": "stream",
     "text": [
      "('abc_xyz', 'aid.svnit.ac', 'in')\n",
      "Username: abc_xyz\n",
      "Domain: aid.svnit.ac\n",
      "Top Level Domain: in\n",
      "{'username': 'abc_xyz', 'domain': 'aid.svnit.ac', 'tld': 'in'}\n"
     ]
    }
   ],
   "source": [
    "import re\n",
    "\n",
    "email = \"abc_xyz@aid.svnit.ac.in\"\n",
    "pattern = r'(\\w+)@([\\w.]+)\\.(\\w+)$'\n",
    "match = re.match(pattern, email)\n",
    "if match:\n",
    "    print(match.groups())\n",
    "\n",
    "    pattern_named = r'(?P<username>\\w+)@(?P<domain>[\\w.]+)\\.(?P<tld>\\w+)$'\n",
    "    match_named = re.match(pattern_named, email)\n",
    "    if match_named:\n",
    "        print(\"Username:\", match_named.group('username'))\n",
    "        print(\"Domain:\", match_named.group('domain'))\n",
    "        print(\"Top Level Domain:\", match_named.group('tld'))\n",
    "        d = match_named.groupdict()\n",
    "print(d)"
   ]
  },
  {
   "cell_type": "code",
   "execution_count": 6,
   "metadata": {},
   "outputs": [
    {
     "name": "stdout",
     "output_type": "stream",
     "text": [
      "[('abc', 'def'), ('abc', 'def')]\n"
     ]
    }
   ],
   "source": [
    "import re \n",
    "st=\"(abc def abc def ghi pqr)\"\n",
    "matches=re.findall(r'(abc)\\s(def)',st)\n",
    "print(matches)\n"
   ]
  },
  {
   "cell_type": "code",
   "execution_count": null,
   "metadata": {},
   "outputs": [],
   "source": [
    "import re\n",
    "\n",
    "# Positive lookahead example: Match 'foo' only if it is followed by 'bar'\n",
    "pattern_lookahead = r'foo(?=bar)'\n",
    "text = \"foobar foo bar foo\"\n",
    "matches_lookahead = re.findall(pattern_lookahead, text)\n",
    "print(\"Positive lookahead matches:\", matches_lookahead)  # Output: ['foo']\n",
    "\n",
    "# Negative lookahead example: Match 'foo' only if it is not followed by 'bar'\n",
    "pattern_neg_lookahead = r'foo(?!bar)'\n",
    "matches_neg_lookahead = re.findall(pattern_neg_lookahead, text)\n",
    "print(\"Negative lookahead matches:\", matches_neg_lookahead)  # Output: ['foo', 'foo']\n",
    "\n",
    "# Positive lookbehind example: Match 'bar' only if it is preceded by 'foo'\n",
    "pattern_lookbehind = r'(?<=foo)bar'\n",
    "matches_lookbehind = re.findall(pattern_lookbehind, text)\n",
    "print(\"Positive lookbehind matches:\", matches_lookbehind)  # Output: ['bar']\n",
    "\n",
    "# Negative lookbehind example: Match 'bar' only if it is not preceded by 'foo'\n",
    "pattern_neg_lookbehind = r'(?<!foo)bar'\n",
    "matches_neg_lookbehind = re.findall(pattern_neg_lookbehind, text)\n",
    "print(\"Negative lookbehind matches:\", matches_neg_lookbehind)  # Output: ['bar']"
   ]
  },
  {
   "cell_type": "code",
   "execution_count": null,
   "metadata": {},
   "outputs": [],
   "source": []
  },
  {
   "cell_type": "code",
   "execution_count": 9,
   "metadata": {},
   "outputs": [
    {
     "name": "stdout",
     "output_type": "stream",
     "text": [
      "['I', ' ', 'am', ' ', 'going', ' ', 'home']\n"
     ]
    }
   ],
   "source": [
    "\n",
    "\n",
    "import re \n",
    "str=\"I am going home\"\n",
    "matches=re.split(r'(\\W)',str)\n",
    "print(matches)"
   ]
  },
  {
   "cell_type": "markdown",
   "metadata": {},
   "source": [
    "## `re.sub` and `re.subn`\n",
    "\n",
    "The `re.sub` and `re.subn` functions in Python's `re` module are used for substituting occurrences of a pattern in a string with a replacement string.\n",
    "\n",
    "### `re.sub`\n",
    "\n",
    "The `re.sub` function replaces all occurrences of the pattern in the string with the replacement string.\n",
    "\n",
    "**Syntax:**\n",
    "```python\n",
    "re.sub(pattern, replacement, string, count=0, flags=0)\n",
    "```\n",
    "\n",
    "- `pattern`: The regular expression pattern to search for.\n",
    "- `replacement`: The string to replace the pattern with.\n",
    "- `string`: The input string.\n",
    "- `count`: The maximum number of pattern occurrences to replace. Default is 0, which means replace all occurrences.\n",
    "- `flags`: Optional flags to modify the matching behavior.\n",
    "\n",
    "**Example:**\n",
    "```python\n",
    "import re\n",
    "\n",
    "text = \"The rain in Spain stays mainly in the plain.\"\n",
    "pattern = r\"ain\"\n",
    "replacement = \"XYZ\"\n",
    "result = re.sub(pattern, replacement, text)\n",
    "print(result)  # Output: The rXYZ in SpXYZ stays mXYZly in the plXYZ.\n",
    "```\n",
    "\n",
    "### `re.subn`\n",
    "\n",
    "The `re.subn` function is similar to `re.sub`, but it returns a tuple containing the new string and the number of substitutions made.\n",
    "\n",
    "**Syntax:**\n",
    "```python\n",
    "re.subn(pattern, replacement, string, count=0, flags=0)\n",
    "```\n",
    "\n",
    "- `pattern`: The regular expression pattern to search for.\n",
    "- `replacement`: The string to replace the pattern with.\n",
    "- `string`: The input string.\n",
    "- `count`: The maximum number of pattern occurrences to replace. Default is 0, which means replace all occurrences.\n",
    "- `flags`: Optional flags to modify the matching behavior.\n",
    "\n",
    "**Example:**\n",
    "```python\n",
    "import re\n",
    "\n",
    "text = \"The rain in Spain stays mainly in the plain.\"\n",
    "pattern = r\"ain\"\n",
    "replacement = \"XYZ\"\n",
    "result, count = re.subn(pattern, replacement, text)\n",
    "print(result)  # Output: The rXYZ in SpXYZ stays mXYZly in the plXYZ.\n",
    "print(\"Number of substitutions:\", count)  # Output: 4\n",
    "```\n",
    "### Flags\n",
    "\n",
    "Flags are optional parameters that modify the behavior of the pattern matching. They can be combined using the bitwise OR operator (`|`). Some common flags include:\n",
    "\n",
    "- `re.IGNORECASE` or `re.I`: Ignore case when matching.\n",
    "- `re.MULTILINE` or `re.M`: Treat the input string as consisting of multiple lines.\n",
    "- `re.DOTALL` or `re.S`: Make the `.` special character match any character, including a newline.\n",
    "- `re.VERBOSE` or `re.X`: Allow the use of whitespace and comments within the pattern for better readability.\n",
    "- `re.ASCII` or `re.A`: Perform ASCII-only matching instead of Unicode matching.\n",
    "\n",
    "These flags can be passed as the `flags` argument in the `re.sub` and `re.subn` functions to alter their matching behavior."
   ]
  },
  {
   "cell_type": "code",
   "execution_count": 1,
   "metadata": {},
   "outputs": [
    {
     "name": "stdout",
     "output_type": "stream",
     "text": [
      "Result using re.sub: The rXYZ in SpXYZ stays mXYZly in the plXYZ.\n",
      "Result using re.subn: The rXYZ in SpXYZ stays mXYZly in the plXYZ.\n",
      "Number of substitutions: 4\n"
     ]
    }
   ],
   "source": [
    "import re\n",
    "\n",
    "# Example using re.sub\n",
    "text = \"The rain in Spain stays mainly in the plain.\"\n",
    "pattern = r\"ain\"\n",
    "replacement = \"XYZ\"\n",
    "result = re.sub(pattern, replacement, text)\n",
    "print(\"Result using re.sub:\", result)  # Output: The rXYZ in SpXYZ stays mXYZly in the plXYZ.\n",
    "\n",
    "# Example using re.subn\n",
    "result, count = re.subn(pattern, replacement, text)\n",
    "print(\"Result using re.subn:\", result)  # Output: The rXYZ in SpXYZ stays mXYZly in the plXYZ.\n",
    "print(\"Number of substitutions:\", count)  # Output: 4"
   ]
  },
  {
   "cell_type": "code",
   "execution_count": 3,
   "metadata": {},
   "outputs": [
    {
     "name": "stdout",
     "output_type": "stream",
     "text": [
      "abcdef\n",
      "abc desf f\n"
     ]
    }
   ],
   "source": [
    "import re\n",
    "s=\"abcdef\"\n",
    "p=r\"g\"\n",
    "replace=\"z\"\n",
    "result=re.sub(p,replace,s)\n",
    "print(result)\n",
    "s1=\"abc----def\"\n",
    "p1=r\"\\-+\"\n",
    "replace1=\" \"\n",
    "result1=re.sub(p1,replace1,s1)\n",
    "\n",
    "def custom_sub(pattern, replacement, string):\n",
    "    compiled_pattern = re.compile(pattern)\n",
    "    match = compiled_pattern.search(string)\n",
    "    while match:\n",
    "        string = string[:match.start()] + replacement + string[match.end():]\n",
    "        match = compiled_pattern.search(string)\n",
    "    return string\n",
    "\n",
    "s2 = \"abc---desf--f\"\n",
    "p2 = r\"\\-+\"\n",
    "replace2 = \" \"\n",
    "result2 = custom_sub(p2, replace2, s2)\n",
    "print(result2)  # Output: abc desf f"
   ]
  },
  {
   "cell_type": "code",
   "execution_count": 4,
   "metadata": {},
   "outputs": [
    {
     "name": "stdout",
     "output_type": "stream",
     "text": [
      "abc def\n"
     ]
    }
   ],
   "source": [
    "import re\n",
    "\n",
    "s1 = \"abc----def\"\n",
    "p1 = r\"(\\-+)\"\n",
    "replace1 = r\" \"\n",
    "\n",
    "# Find all matches\n",
    "matches = re.finditer(p1, s1)\n",
    "\n",
    "# Replace matches manually\n",
    "result1 = s1\n",
    "for match in matches:\n",
    "    start, end = match.span()\n",
    "    result1 = result1[:start] + replace1 + result1[end:]\n",
    "\n",
    "print(result1)  # Output: abc\\ndef"
   ]
  },
  {
   "cell_type": "code",
   "execution_count": null,
   "metadata": {},
   "outputs": [
    {
     "name": "stdout",
     "output_type": "stream",
     "text": [
      "abc def gh i\n"
     ]
    }
   ],
   "source": [
    "s=\"abc---def--gh-----i\"\n",
    "result=re.sub(r\"(\\-{1,})\",r\" \",s)\n",
    "result1=re.sub(r\"(\\-+)\",r\" \",s)\n",
    "print(result)"
   ]
  },
  {
   "cell_type": "code",
   "execution_count": null,
   "metadata": {},
   "outputs": [],
   "source": [
    "\n",
    "def replace_func(match_obj):\n",
    "    if match_obj.group(0) == \"-\":\n",
    "        return \" \"\n",
    "    elif len(match_obj.group(0)) > 1:\n",
    "        return \" \"\n",
    "    else:\n",
    "        return None\n",
    "    \n",
    "s = \"abc---def--gh-----i\"\n",
    "result = re.sub(r\"(-+)\", replace_func, s)\n",
    "print(result)  # Output: abc def gh i\n",
    "\n"
   ]
  },
  {
   "cell_type": "code",
   "execution_count": 3,
   "metadata": {},
   "outputs": [
    {
     "name": "stdout",
     "output_type": "stream",
     "text": [
      "['<ul> abc </ul>', '<ul> efg </ul>']\n"
     ]
    }
   ],
   "source": [
    "import re \n",
    "text = \"<p> <ul> abc </ul> <ul> efg </ul> </p>\"\n",
    "pattern = \"<ul>.*?</ul>\"\n",
    "matches = re.findall(pattern, text)\n",
    "print(matches)  # Output: ['<ul> abc </ul>', '<ul> efg </ul>']"
   ]
  },
  {
   "cell_type": "code",
   "execution_count": 5,
   "metadata": {},
   "outputs": [
    {
     "name": "stdout",
     "output_type": "stream",
     "text": [
      "{'a': 6, 'd': 4, 'f': 3, 'g': 1, 'c': 1, 'h': 3, 's': 1, 'u': 1, 'k': 2, 'x': 1, 'y': 1, 'r': 1}\n"
     ]
    }
   ],
   "source": [
    "# find the occurence of each character in the string and store its value and character in dictionary\n",
    "\n",
    "st=\"adfagchshudhkafaxafdayrdk\"\n",
    "dict1={}\n",
    "for char in st:\n",
    "    dict1[char] = dict1.get(char, 0) + 1\n",
    "\n",
    "print(dict1)\n"
   ]
  },
  {
   "cell_type": "code",
   "execution_count": 6,
   "metadata": {},
   "outputs": [
    {
     "name": "stdout",
     "output_type": "stream",
     "text": [
      "{'h': 1, 'e': 1, 'l': 2, 'o': 1}\n"
     ]
    }
   ],
   "source": [
    "st = \"hello\"\n",
    "dict1 = {}\n",
    "\n",
    "for char in st:\n",
    "    if char in dict1:\n",
    "        dict1[char] += 1\n",
    "    else:\n",
    "        dict1[char] = 1\n",
    "\n",
    "print(dict1)"
   ]
  }
 ],
 "metadata": {
  "kernelspec": {
   "display_name": "Python 3",
   "language": "python",
   "name": "python3"
  },
  "language_info": {
   "codemirror_mode": {
    "name": "ipython",
    "version": 3
   },
   "file_extension": ".py",
   "mimetype": "text/x-python",
   "name": "python",
   "nbconvert_exporter": "python",
   "pygments_lexer": "ipython3",
   "version": "3.13.1"
  }
 },
 "nbformat": 4,
 "nbformat_minor": 2
}
