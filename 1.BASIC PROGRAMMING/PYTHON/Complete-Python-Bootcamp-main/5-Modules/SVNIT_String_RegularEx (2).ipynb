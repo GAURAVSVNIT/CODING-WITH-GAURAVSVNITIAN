{
 "cells": [
  {
   "cell_type": "code",
   "execution_count": 109,
   "metadata": {},
   "outputs": [
    {
     "name": "stdout",
     "output_type": "stream",
     "text": [
      "Requirement already satisfied: pandoc in c:\\users\\hi\\anaconda3\\envs\\ntnu\\lib\\site-packages (2.4)\n",
      "Requirement already satisfied: ply in c:\\users\\hi\\anaconda3\\envs\\ntnu\\lib\\site-packages (from pandoc) (3.11)\n",
      "Requirement already satisfied: plumbum in c:\\users\\hi\\anaconda3\\envs\\ntnu\\lib\\site-packages (from pandoc) (1.9.0)\n",
      "Requirement already satisfied: importlib-resources in c:\\users\\hi\\anaconda3\\envs\\ntnu\\lib\\site-packages (from plumbum->pandoc) (5.2.0)\n",
      "Requirement already satisfied: pywin32 in c:\\users\\hi\\anaconda3\\envs\\ntnu\\lib\\site-packages (from plumbum->pandoc) (305.1)\n",
      "Requirement already satisfied: zipp>=3.1.0 in c:\\users\\hi\\anaconda3\\envs\\ntnu\\lib\\site-packages (from importlib-resources->plumbum->pandoc) (3.11.0)\n"
     ]
    }
   ],
   "source": [
    "! pip install pandoc"
   ]
  },
  {
   "cell_type": "markdown",
   "metadata": {},
   "source": [
    "### Python String and Regular Expression "
   ]
  },
  {
   "cell_type": "code",
   "execution_count": 16,
   "metadata": {},
   "outputs": [
    {
     "name": "stdout",
     "output_type": "stream",
     "text": [
      "Message[ 0 ] P\n",
      "Message[ 1 ] y\n",
      "Message[ 2 ] t\n",
      "Message[ 3 ] h\n",
      "Message[ 4 ] o\n",
      "Message[ 5 ] n\n",
      "Message[ 6 ]  \n",
      "Message[ 7 ] P\n",
      "Message[ 8 ] r\n",
      "Message[ 9 ] o\n",
      "Message[ 10 ] g\n",
      "Message[ 11 ] r\n",
      "Message[ 12 ] a\n",
      "Message[ 13 ] m\n",
      "Message[ 14 ] m\n",
      "Message[ 15 ] i\n",
      "Message[ 16 ] n\n",
      "Message[ 17 ] g\n"
     ]
    }
   ],
   "source": [
    "message =\"Python Programming\"\n",
    "index =0\n",
    "for i in message:\n",
    "    print(\"Message[\",index,\"]\",i)\n",
    "    index+=1"
   ]
  },
  {
   "cell_type": "markdown",
   "metadata": {},
   "source": [
    "# Program to Concate and append String"
   ]
  },
  {
   "cell_type": "code",
   "execution_count": 17,
   "metadata": {},
   "outputs": [
    {
     "name": "stdout",
     "output_type": "stream",
     "text": [
      "PythonMachine Learning\n"
     ]
    }
   ],
   "source": [
    "str1 =\"Python\"\n",
    "str2 = \"Machine Learning\"\n",
    "print(str1+str2)"
   ]
  },
  {
   "cell_type": "code",
   "execution_count": 18,
   "metadata": {},
   "outputs": [
    {
     "name": "stdout",
     "output_type": "stream",
     "text": [
      "PythonPythonPython\n"
     ]
    }
   ],
   "source": [
    "str1 = \"Python\"\n",
    "print(str1*3)"
   ]
  },
  {
   "cell_type": "code",
   "execution_count": 1,
   "metadata": {},
   "outputs": [
    {
     "name": "stdout",
     "output_type": "stream",
     "text": [
      "Python5\n"
     ]
    }
   ],
   "source": [
    "str1 = \"Python\"\n",
    "count1 =5\n",
    "fstr =  str1 + str(count1)\n",
    "print(fstr)"
   ]
  },
  {
   "cell_type": "markdown",
   "metadata": {},
   "source": [
    "# Print String are immutable"
   ]
  },
  {
   "cell_type": "code",
   "execution_count": 3,
   "metadata": {},
   "outputs": [
    {
     "name": "stdout",
     "output_type": "stream",
     "text": [
      "str1 is Hello\n",
      "IdD  of str1 2770283834416\n",
      "str2 is World\n",
      "Id  of str2 2770283846960\n",
      "str1 after concatenation is HelloWorld\n",
      "str3= HelloWorld\n",
      "ID of str3 is : 2770283840496\n"
     ]
    }
   ],
   "source": [
    "str1=  \"Hello\"\n",
    "print(\"str1 is\",str1)\n",
    "print(\"IdD  of str1\",id(str1)) # Prints the unique memory address (object ID) of str1. Each object in Python has a unique ID\n",
    "str2 = \"World\"\n",
    "print(\"str2 is\",str2)\n",
    "print(\"Id  of str2\",id(str2))\n",
    "str1+=str2\n",
    "print(\"str1 after concatenation is\",str1)\n",
    "str3  = str1\n",
    "print(\"str3=\",str3)\n",
    "print(\"ID of str3 is :\",id(str3))\n"
   ]
  },
  {
   "cell_type": "code",
   "execution_count": 5,
   "metadata": {},
   "outputs": [
    {
     "ename": "TypeError",
     "evalue": "'str' object does not support item assignment",
     "output_type": "error",
     "traceback": [
      "\u001b[1;31m---------------------------------------------------------------------------\u001b[0m",
      "\u001b[1;31mTypeError\u001b[0m                                 Traceback (most recent call last)",
      "\u001b[1;32m~\\AppData\\Local\\Temp\\ipykernel_6220\\1808823905.py\u001b[0m in \u001b[0;36m<module>\u001b[1;34m\u001b[0m\n\u001b[0;32m      1\u001b[0m \u001b[0mstr1\u001b[0m\u001b[1;33m=\u001b[0m \u001b[1;34m\"Python\"\u001b[0m\u001b[1;33m\u001b[0m\u001b[1;33m\u001b[0m\u001b[0m\n\u001b[1;32m----> 2\u001b[1;33m \u001b[0mstr1\u001b[0m\u001b[1;33m[\u001b[0m\u001b[1;36m0\u001b[0m\u001b[1;33m]\u001b[0m\u001b[1;33m=\u001b[0m\u001b[1;34m\"J\"\u001b[0m \u001b[1;31m# We cannot declare or remove character\u001b[0m\u001b[1;33m\u001b[0m\u001b[1;33m\u001b[0m\u001b[0m\n\u001b[0m\u001b[0;32m      3\u001b[0m \u001b[0mprint\u001b[0m\u001b[1;33m(\u001b[0m\u001b[0mstr1\u001b[0m\u001b[1;33m)\u001b[0m\u001b[1;33m\u001b[0m\u001b[1;33m\u001b[0m\u001b[0m\n",
      "\u001b[1;31mTypeError\u001b[0m: 'str' object does not support item assignment"
     ]
    }
   ],
   "source": [
    "str1= \"Python\"\n",
    "str1[0]=\"J\" # We cannot declare or remove character\n",
    "print(str1)"
   ]
  },
  {
   "cell_type": "markdown",
   "metadata": {},
   "source": [
    "# String formater"
   ]
  },
  {
   "cell_type": "code",
   "execution_count": 7,
   "metadata": {},
   "outputs": [
    {
     "name": "stdout",
     "output_type": "stream",
     "text": [
      "Name =Praveen and Age =32\n",
      "Name =Anwesha and Age =5\n"
     ]
    }
   ],
   "source": [
    "name =\"Praveen\"\n",
    "age =32\n",
    "print(\"Name =%s and Age =%d\"%(name,age))\n",
    "print(\"Name =%s and Age =%d\"%(\"Anwesha\",5))"
   ]
  },
  {
   "cell_type": "code",
   "execution_count": 35,
   "metadata": {},
   "outputs": [
    {
     "data": {
      "text/plain": [
       "'Python'"
      ]
     },
     "execution_count": 35,
     "metadata": {},
     "output_type": "execute_result"
    }
   ],
   "source": [
    "str1 =\"python\"\n",
    "str1.capitalize()\n"
   ]
  },
  {
   "cell_type": "code",
   "execution_count": 36,
   "metadata": {},
   "outputs": [
    {
     "data": {
      "text/plain": [
       "'**python**'"
      ]
     },
     "execution_count": 36,
     "metadata": {},
     "output_type": "execute_result"
    }
   ],
   "source": [
    "str1 =\"python\"\n",
    "str1.center(10,\"*\")\n"
   ]
  },
  {
   "cell_type": "code",
   "execution_count": 48,
   "metadata": {},
   "outputs": [
    {
     "data": {
      "text/plain": [
       "2"
      ]
     },
     "execution_count": 48,
     "metadata": {},
     "output_type": "execute_result"
    }
   ],
   "source": [
    "msg =  \"pythonpython\"\n",
    "msg.count(\"p\",0,len(msg)) # Count number of time String occure"
   ]
  },
  {
   "cell_type": "code",
   "execution_count": 50,
   "metadata": {},
   "outputs": [
    {
     "data": {
      "text/plain": [
       "True"
      ]
     },
     "execution_count": 50,
     "metadata": {},
     "output_type": "execute_result"
    }
   ],
   "source": [
    "msg =  \"pythonpython\"\n",
    "msg.endswith(\"on\",0,len(msg)) # if String end with suffix"
   ]
  },
  {
   "cell_type": "code",
   "execution_count": 51,
   "metadata": {},
   "outputs": [
    {
     "data": {
      "text/plain": [
       "True"
      ]
     },
     "execution_count": 51,
     "metadata": {},
     "output_type": "execute_result"
    }
   ],
   "source": [
    "msg =  \"pythonpython\"\n",
    "msg.startswith(\"py\",0,len(msg)) # if String end with prefix"
   ]
  },
  {
   "cell_type": "code",
   "execution_count": 4,
   "metadata": {},
   "outputs": [
    {
     "data": {
      "text/plain": [
       "-1"
      ]
     },
     "execution_count": 4,
     "metadata": {},
     "output_type": "execute_result"
    }
   ],
   "source": [
    "msg =  \"pythonpython\"\n",
    "msg.find(\"pyttr\",0,len(msg)) # if str is present in string .if found it return the position"
   ]
  },
  {
   "cell_type": "code",
   "execution_count": 2,
   "metadata": {},
   "outputs": [
    {
     "ename": "ValueError",
     "evalue": "substring not found",
     "output_type": "error",
     "traceback": [
      "\u001b[1;31m---------------------------------------------------------------------------\u001b[0m",
      "\u001b[1;31mValueError\u001b[0m                                Traceback (most recent call last)",
      "\u001b[1;32m~\\AppData\\Local\\Temp\\ipykernel_13340\\1894487928.py\u001b[0m in \u001b[0;36m<module>\u001b[1;34m\u001b[0m\n\u001b[0;32m      1\u001b[0m \u001b[0mmsg\u001b[0m \u001b[1;33m=\u001b[0m  \u001b[1;34m\"pythonpython\"\u001b[0m\u001b[1;33m\u001b[0m\u001b[1;33m\u001b[0m\u001b[0m\n\u001b[1;32m----> 2\u001b[1;33m \u001b[0mmsg\u001b[0m\u001b[1;33m.\u001b[0m\u001b[0mindex\u001b[0m\u001b[1;33m(\u001b[0m\u001b[1;34m\"p4545y\"\u001b[0m\u001b[1;33m,\u001b[0m\u001b[1;36m0\u001b[0m\u001b[1;33m,\u001b[0m\u001b[0mlen\u001b[0m\u001b[1;33m(\u001b[0m\u001b[0mmsg\u001b[0m\u001b[1;33m)\u001b[0m\u001b[1;33m)\u001b[0m \u001b[1;31m# if str is present in string .if found it return the position\u001b[0m\u001b[1;33m\u001b[0m\u001b[1;33m\u001b[0m\u001b[0m\n\u001b[0m",
      "\u001b[1;31mValueError\u001b[0m: substring not found"
     ]
    }
   ],
   "source": [
    "msg =  \"pythonpython\"\n",
    "msg.index(\"p4545y\",0,len(msg)) # if str is present in string .if found it return the position"
   ]
  },
  {
   "cell_type": "code",
   "execution_count": 55,
   "metadata": {},
   "outputs": [
    {
     "ename": "ValueError",
     "evalue": "substring not found",
     "output_type": "error",
     "traceback": [
      "\u001b[1;31m---------------------------------------------------------------------------\u001b[0m",
      "\u001b[1;31mValueError\u001b[0m                                Traceback (most recent call last)",
      "\u001b[1;32m<ipython-input-55-6ce2864414d6>\u001b[0m in \u001b[0;36m<module>\u001b[1;34m()\u001b[0m\n\u001b[0;32m      1\u001b[0m \u001b[0mmsg\u001b[0m \u001b[1;33m=\u001b[0m  \u001b[1;34m\"pythonpython\"\u001b[0m\u001b[1;33m\u001b[0m\u001b[0m\n\u001b[1;32m----> 2\u001b[1;33m \u001b[0mmsg\u001b[0m\u001b[1;33m.\u001b[0m\u001b[0mindex\u001b[0m\u001b[1;33m(\u001b[0m\u001b[1;34m\"py1\"\u001b[0m\u001b[1;33m,\u001b[0m\u001b[1;36m0\u001b[0m\u001b[1;33m,\u001b[0m\u001b[0mlen\u001b[0m\u001b[1;33m(\u001b[0m\u001b[0mmsg\u001b[0m\u001b[1;33m)\u001b[0m\u001b[1;33m)\u001b[0m \u001b[1;31m# if str is not present in string .give exception substring not found\u001b[0m\u001b[1;33m\u001b[0m\u001b[0m\n\u001b[0m",
      "\u001b[1;31mValueError\u001b[0m: substring not found"
     ]
    }
   ],
   "source": [
    "msg =  \"pythonpython\"\n",
    "msg.index(\"py1\",0,len(msg)) # if str is not present in string .give exception substring not found"
   ]
  },
  {
   "cell_type": "code",
   "execution_count": 11,
   "metadata": {},
   "outputs": [
    {
     "data": {
      "text/plain": [
       "6"
      ]
     },
     "execution_count": 11,
     "metadata": {},
     "output_type": "execute_result"
    }
   ],
   "source": [
    "msg =  \"pythonpython\"\n",
    "msg.rfind(\"py\",0,len(msg)) # if str is find form right side"
   ]
  },
  {
   "cell_type": "code",
   "execution_count": 9,
   "metadata": {},
   "outputs": [
    {
     "data": {
      "text/plain": [
       "6"
      ]
     },
     "execution_count": 9,
     "metadata": {},
     "output_type": "execute_result"
    }
   ],
   "source": [
    "msg =  \"pythonpython\"\n",
    "msg.rindex(\"py\",0,len(msg)) # if str is not present in string .give exception substring not found"
   ]
  },
  {
   "cell_type": "code",
   "execution_count": 18,
   "metadata": {},
   "outputs": [
    {
     "name": "stdout",
     "output_type": "stream",
     "text": [
      "False\n"
     ]
    }
   ],
   "source": [
    "#msg = \"python3\"\n",
    "msg = \"#\"\n",
    "print(msg.isalnum()) # Return true if String has at least 1 character and every character is either \n",
    "                     # a number or an alphabet "
   ]
  },
  {
   "cell_type": "code",
   "execution_count": 61,
   "metadata": {},
   "outputs": [
    {
     "name": "stdout",
     "output_type": "stream",
     "text": [
      "True\n"
     ]
    }
   ],
   "source": [
    "msg = \"python3\"\n",
    "print(msg.isalpha())"
   ]
  },
  {
   "cell_type": "code",
   "execution_count": 23,
   "metadata": {},
   "outputs": [
    {
     "name": "stdout",
     "output_type": "stream",
     "text": [
      "00042\n",
      "-00042\n",
      "0000\n",
      "Pads each number to have three digits\n",
      "001\n",
      "002\n",
      "003\n",
      "004\n",
      "005\n"
     ]
    }
   ],
   "source": [
    "#The zfill() method in Python is used to pad a string with zeros on the left until it reaches the specified width. It is particularly useful when you need to format numbers or strings with leading zeros.\n",
    "number = \"42\"\n",
    "padded_number = number.zfill(5)\n",
    "print(padded_number)  # Output: 00042\n",
    "\n",
    "number1 = \"-42\"\n",
    "padded_number1 = number1.zfill(6)\n",
    "print(padded_number1)  # Output: -00042\n",
    "\n",
    "empty_string = \"\"\n",
    "padded_empty = empty_string.zfill(4)\n",
    "print(padded_empty)  # Output: 0000\n",
    "print(\"Pads each number to have three digits\")\n",
    "for i in range(1, 6):\n",
    "    print(str(i).zfill(3))  # Pads each number to have 3 digits\n",
    "\n"
   ]
  },
  {
   "cell_type": "code",
   "execution_count": 63,
   "metadata": {},
   "outputs": [
    {
     "name": "stdout",
     "output_type": "stream",
     "text": [
      "Jython Jython Jython\n"
     ]
    }
   ],
   "source": [
    "str1 = \"Python Python Python\"\n",
    "print(str1.replace(\"P\",\"J\"))"
   ]
  },
  {
   "cell_type": "code",
   "execution_count": 67,
   "metadata": {},
   "outputs": [
    {
     "name": "stdout",
     "output_type": "stream",
     "text": [
      "pYTHON pYTHON pYTHON\n"
     ]
    }
   ],
   "source": [
    "str1 = \"Python Python Python\"\n",
    "print(str1.swapcase())"
   ]
  },
  {
   "cell_type": "code",
   "execution_count": 68,
   "metadata": {},
   "outputs": [
    {
     "name": "stdout",
     "output_type": "stream",
     "text": [
      "['Python', 'Python', 'Python']\n"
     ]
    }
   ],
   "source": [
    "str1 = \"Python,Python,Python\"\n",
    "print(str1.split(\",\"))"
   ]
  },
  {
   "cell_type": "code",
   "execution_count": 73,
   "metadata": {},
   "outputs": [
    {
     "name": "stdout",
     "output_type": "stream",
     "text": [
      "Python-Python-Python\n"
     ]
    }
   ],
   "source": [
    "str1 = [\"Python\",\"Python\",\"Python\"]\n",
    "print(\"-\".join(str1))"
   ]
  },
  {
   "cell_type": "code",
   "execution_count": 74,
   "metadata": {},
   "outputs": [
    {
     "name": "stdout",
     "output_type": "stream",
     "text": [
      "[(0, 'P'), (1, 'y'), (2, 't'), (3, 'h'), (4, 'o'), (5, 'n'), (6, ' '), (7, 'M'), (8, 'a'), (9, 'c'), (10, 'h'), (11, 'i'), (12, 'n'), (13, 'e'), (14, ' '), (15, 'L'), (16, 'e'), (17, 'a'), (18, 'r'), (19, 'n'), (20, 'i'), (21, 'n'), (22, 'g')]\n"
     ]
    }
   ],
   "source": [
    "str1 = \"Python Machine Learning\"\n",
    "print(list(enumerate(str1)))"
   ]
  },
  {
   "cell_type": "markdown",
   "metadata": {},
   "source": [
    "## Program  to demostrate format() function"
   ]
  },
  {
   "cell_type": "code",
   "execution_count": 79,
   "metadata": {},
   "outputs": [
    {
     "name": "stdout",
     "output_type": "stream",
     "text": [
      "Sun,Moon and Stars\n",
      "Moon,Sun and Stars\n",
      "Moon,Sun and Stars\n"
     ]
    }
   ],
   "source": [
    "str1=\"{},{} and {}\".format(\"Sun\",\"Moon\",\"Stars\")  # {} place holder\n",
    "print(str1)\n",
    "str1=\"{1},{0} and {2}\".format(\"Sun\",\"Moon\",\"Stars\")  # {} place holder\n",
    "print(str1)\n",
    "str1=\"{b},{a} and {c}\".format(a=\"Sun\",b=\"Moon\",c=\"Stars\")  # {} place holder\n",
    "print(str1)"
   ]
  },
  {
   "cell_type": "markdown",
   "metadata": {},
   "source": [
    "# slicing in String: String slicing in Python is a powerful way to extract and manipulate substrings. It supports positive and negative indexing, step sizes, and even out-of-range indices gracefully.\n",
    "* Out of Range Slicing : If the stop index exceeds the string length, Python gracefully stops at the end without raising an error."
   ]
  },
  {
   "cell_type": "code",
   "execution_count": 33,
   "metadata": {},
   "outputs": [
    {
     "name": "stdout",
     "output_type": "stream",
     "text": [
      "Python\n",
      "Python\n",
      "Programming\n",
      "ing\n",
      "Python Programm\n",
      "Pto rga\n",
      "gnimmargorP nohtyP\n",
      "Python Programming\n"
     ]
    }
   ],
   "source": [
    "text = \"Python Programming\"\n",
    "\n",
    "# Extracting a substring\n",
    "substring = text[0:6]  # From index 0 to 5\n",
    "print(substring)  # Output: Python\n",
    "# Slice from the beginning to index 5\n",
    "substring = text[:6]\n",
    "print(substring)  # Output: Python\n",
    "\n",
    "# Slice from index 7 to the end\n",
    "substring = text[7:]\n",
    "print(substring)  # Output: Programming\n",
    "text = \"Python Programming\"\n",
    "\n",
    "# Slice the last 3 characters\n",
    "substring = text[-3:]\n",
    "print(substring)  # Output: ing\n",
    "\n",
    "# Slice all except the last 3 characters\n",
    "substring = text[:-3]\n",
    "print(substring)  # Output: Python Programm\n",
    "text = \"Python Programming\"\n",
    "\n",
    "# Slice every 2nd character from index 0 to 12\n",
    "substring = text[0:13:2]\n",
    "print(substring)  # Output: Pto rgamn\n",
    "\n",
    "# Reverse the string\n",
    "reversed_text = text[::-1]\n",
    "print(reversed_text)  # Output: gnimmargorP nohtyP\n",
    "\n",
    "# Full string with slicing\n",
    "substring = text[:]\n",
    "print(substring)  # Output: Python Programming"
   ]
  },
  {
   "cell_type": "code",
   "execution_count": null,
   "metadata": {},
   "outputs": [],
   "source": [
    "text = \"Hello, World!\"\n",
    "\n",
    "# Extract every 2nd character\n",
    "result = text[::2]\n",
    "print(result)  # Output: Hlo ol!\n",
    "text = \"Python Programming\"\n",
    "\n",
    "# Reverse 'Programming'\n",
    "reversed_word = text[7:][::-1]\n",
    "print(reversed_word)  # Output: gnimmargorP\n"
   ]
  },
  {
   "cell_type": "code",
   "execution_count": 30,
   "metadata": {},
   "outputs": [
    {
     "name": "stdout",
     "output_type": "stream",
     "text": [
      "80\n"
     ]
    }
   ],
   "source": [
    "ch ='P'\n",
    "print(ord(ch))  # ASCII code"
   ]
  },
  {
   "cell_type": "code",
   "execution_count": 85,
   "metadata": {},
   "outputs": [
    {
     "name": "stdout",
     "output_type": "stream",
     "text": [
      "R\n"
     ]
    }
   ],
   "source": [
    "ch =82\n",
    "print(chr(ch))  # ASCII code"
   ]
  },
  {
   "cell_type": "markdown",
   "metadata": {},
   "source": [
    "# isdigit()\n",
    "# islower()\n",
    "# isupper()\n",
    "# isspace()\n",
    "# len()\n",
    "# ljust() :  left justification\n",
    "# rjust():  right justification\n",
    "# zfill()\n",
    "# lower()\n",
    "# upper()\n",
    "# lstrip() :  remove left white space\n",
    "# rstrip() :  remove right white space\n",
    "# strip() :  remove all leading and tralling whitespace in String\n",
    "# max() : higest ASCII code value\n",
    "# min() : lowest ASCII code value\n",
    "# replace:Relplace all or max occurence of old in String with new\n",
    "# title() : Return string in title case\n",
    "# swapcase()  : Toggles the case of evey character \n",
    "# split(delim)\n",
    "\n"
   ]
  },
  {
   "cell_type": "markdown",
   "metadata": {},
   "source": [
    "## WAP to that takes user's name and PAN card number as input Validate the information using isXXX functiona"
   ]
  },
  {
   "cell_type": "code",
   "execution_count": 91,
   "metadata": {},
   "outputs": [
    {
     "name": "stdout",
     "output_type": "stream",
     "text": [
      "\n",
      " Enter your namePraveen\n",
      "\n",
      " Enter the you pan cardAAA334\n",
      "Please check ,Praveen,you PAN card number is:AAA334\n",
      "\n",
      " Enter your name11\n",
      "Invalid Sorry you cannot proceed\n"
     ]
    }
   ],
   "source": [
    "while(True):\n",
    "    name=input(\"\\n Enter your name\")\n",
    "    if  name.isalpha()==False:\n",
    "        \n",
    "        print(\"Invalid Sorry you cannot proceed\")\n",
    "        break\n",
    "    else:\n",
    "        pan_card_no  = input(\"\\n Enter the you pan card\")\n",
    "        if(pan_card_no.isalnum()==False):\n",
    "            print(\"Invalid Pan Card Number Sorry you can not proceed\")\n",
    "            break\n",
    "    print(\"Please check ,\"+name+\",you PAN card number is:\"+pan_card_no)\n",
    "    "
   ]
  },
  {
   "cell_type": "markdown",
   "metadata": {
    "collapsed": true,
    "jupyter": {
     "outputs_hidden": true
    }
   },
   "source": [
    "# String Module\n",
    "- the string module consists of a number of useful constants,classes,and function"
   ]
  },
  {
   "cell_type": "code",
   "execution_count": 4,
   "metadata": {},
   "outputs": [
    {
     "name": "stdout",
     "output_type": "stream",
     "text": [
      "<class 'str'>\n"
     ]
    }
   ],
   "source": [
    "import string\n",
    "print(type(string.digits))"
   ]
  },
  {
   "cell_type": "code",
   "execution_count": 35,
   "metadata": {},
   "outputs": [
    {
     "name": "stdout",
     "output_type": "stream",
     "text": [
      "<class 'str'>\n"
     ]
    }
   ],
   "source": [
    "import string\n",
    "print(type(string.ascii_letters))"
   ]
  },
  {
   "cell_type": "code",
   "execution_count": 6,
   "metadata": {},
   "outputs": [
    {
     "name": "stdout",
     "output_type": "stream",
     "text": [
      "abcdefghijklmnopqrstuvwxyzABCDEFGHIJKLMNOPQRSTUVWXYZ\n"
     ]
    }
   ],
   "source": [
    "import string\n",
    "print(string.ascii_letters)"
   ]
  },
  {
   "cell_type": "code",
   "execution_count": 7,
   "metadata": {},
   "outputs": [
    {
     "name": "stdout",
     "output_type": "stream",
     "text": [
      "0123456789\n"
     ]
    }
   ],
   "source": [
    "import string\n",
    "print(string.digits)"
   ]
  },
  {
   "cell_type": "code",
   "execution_count": 9,
   "metadata": {},
   "outputs": [
    {
     "name": "stdout",
     "output_type": "stream",
     "text": [
      "!\"#$%&'()*+,-./:;<=>?@[\\]^_`{|}~\n"
     ]
    }
   ],
   "source": [
    "import string\n",
    "print(string.punctuation)"
   ]
  },
  {
   "cell_type": "code",
   "execution_count": 10,
   "metadata": {},
   "outputs": [
    {
     "name": "stdout",
     "output_type": "stream",
     "text": [
      "01234567\n"
     ]
    }
   ],
   "source": [
    "import string\n",
    "print(string.octdigits)"
   ]
  },
  {
   "cell_type": "markdown",
   "metadata": {},
   "source": [
    "### Reqular Expression: \n",
    "'''\n",
    "A regular expression (regex) is a sequence of characters that forms a search pattern. It is used to match strings or parts of strings based on specific patterns. In Python, the re-module is used to work with regular expressions.\n",
    "'''\n",
    "### Key Functions in the re Module\n",
    "* re.match(): Matches the pattern at the beginning of the string.\n",
    "* re.search(): Searches the entire string for a match.\n",
    "* re.findall(): Returns a list of all matches in the string.\n",
    "* re.finditer(): Returns an iterator yielding match objects for all matches.\n",
    "* re.sub(): Replaces matches with a specified string.\n",
    "* re.split(): Splits the string at each match.\n",
    "* re.compile(): Compiles a regular expression into a regex object for reuse.\n",
    "### Basic Syntax of Regular Expressions"
   ]
  },
  {
   "attachments": {
    "270727c0-7b4f-4b1d-aa62-e84e8cf2fff3.jpg": {
     "image/jpeg": "[encoded data removed]"
    }
   },
   "cell_type": "markdown",
   "metadata": {},
   "source": [
    "![Basic_Syntax.jpg](attachment:270727c0-7b4f-4b1d-aa62-e84e8cf2fff3.jpg)"
   ]
  },
  {
   "cell_type": "markdown",
   "metadata": {},
   "source": [
    "# Reqular Expression\n",
    "-  match()function\n",
    "- re.match(pattern,string,flags=0)\n",
    "- Differnt type flag\n",
    "- re.I\n",
    "- re.M\n",
    "- re.X\n",
    "- re.U\n",
    "## Note\n",
    "- In the above program 'sells' is present in the string but still we got the output as match not found\n",
    "- This is because the re.mathc() function find a match only at the beginning of the string."
   ]
  },
  {
   "cell_type": "code",
   "execution_count": 47,
   "metadata": {},
   "outputs": [
    {
     "name": "stdout",
     "output_type": "stream",
     "text": [
      "Match found!\n"
     ]
    }
   ],
   "source": [
    "#Matching the Beginning of a String\n",
    "import re\n",
    "text = \"Python is fun\"\n",
    "pattern = \"^Python\"\n",
    "result = re.match(pattern, text)\n",
    "if result:\n",
    "    print(\"Match found!\")\n",
    "else:\n",
    "    print(\"No match!\")\n",
    "# Output: Match found!\n"
   ]
  },
  {
   "cell_type": "code",
   "execution_count": 51,
   "metadata": {},
   "outputs": [
    {
     "name": "stdout",
     "output_type": "stream",
     "text": [
      "positive is  not present in the string\n"
     ]
    }
   ],
   "source": [
    "import re\n",
    "string =\"Think positive\"\n",
    "pattern1 =\"positive\"\n",
    "if(re.match(pattern1,string)):\n",
    "    print(\"Match Found\")\n",
    "else:\n",
    "    print(pattern1,\"is  not present in the string\")\n",
    "# In the above program 'positive' is present in the string but still we got the output as match not found\n",
    "# This is because the re.mathc() function find a match only at the beginning of the string."
   ]
  },
  {
   "cell_type": "code",
   "execution_count": 14,
   "metadata": {},
   "outputs": [
    {
     "name": "stdout",
     "output_type": "stream",
     "text": [
      "Match Found\n"
     ]
    }
   ],
   "source": [
    "import re\n",
    "string =\"Think positive\"\n",
    "pattern1 =\"Think\"\n",
    "if(re.match(pattern1,string)):\n",
    "    print(\"Match Found\")\n",
    "else:\n",
    "    print(pattern1,\"is  not present in the string\")"
   ]
  },
  {
   "cell_type": "markdown",
   "metadata": {},
   "source": [
    "# Search function\n",
    "- Search the pattern in anywhere"
   ]
  },
  {
   "cell_type": "code",
   "execution_count": 63,
   "metadata": {},
   "outputs": [
    {
     "name": "stdout",
     "output_type": "stream",
     "text": [
      "Match found at index 9\n"
     ]
    }
   ],
   "source": [
    "import re\n",
    "text = \"Learning Python is fun\"\n",
    "pattern = \"Python\"\n",
    "result = re.search(pattern, text)\n",
    "if result:\n",
    "    print(f\"Match found at index {result.start()}\")\n",
    "else:\n",
    "    print(\"No match!\")\n",
    "# Output: Match found at index 9   "
   ]
  },
  {
   "cell_type": "code",
   "execution_count": 73,
   "metadata": {},
   "outputs": [
    {
     "name": "stdout",
     "output_type": "stream",
     "text": [
      "['Python', 'Java', 'and', 'C', 'are', 'programming', 'languages']\n"
     ]
    }
   ],
   "source": [
    "# Finding All Matches\n",
    "import re\n",
    "text = \"Python, Java, and C++ are programming languages\"\n",
    "pattern = r\"\\w+\"\n",
    "'''\n",
    "The pattern \\w+ is a regular expression that matches:\n",
    "    \\w: Any word character (letters, digits, and underscores). It is equivalent to [a-zA-Z0-9_].\n",
    "    +: One or more occurrences of the preceding pattern (in this case, word characters).\n",
    "This means that the pattern matches any sequence of alphanumeric characters and underscores, but stops at spaces or punctuation.\n",
    "'''\n",
    "matches = re.findall(pattern, text)  # This function returns a list of all substrings in the input text that match the regex pattern.\n",
    "print(matches)\n",
    "# Output: ['Python', 'Java', 'and', 'C', 'are', 'programming', 'languages']"
   ]
  },
  {
   "cell_type": "code",
   "execution_count": 75,
   "metadata": {},
   "outputs": [
    {
     "name": "stdout",
     "output_type": "stream",
     "text": [
      "['Python', 'Java', 'and', 'C++', 'are', 'programming', 'languages']\n"
     ]
    }
   ],
   "source": [
    "# Modified Example:If you want to include words like C++ without splitting them, you can modify the pattern to include + (or any desired symbol):\n",
    "# Finding All Matches\n",
    "import re\n",
    "text = \"Python, Java, and C++ are programming languages\"\n",
    "pattern = r\"[\\w+]+\"\n",
    "matches = re.findall(pattern, text)  # This function returns a list of all substrings in the input text that match the regex pattern.\n",
    "print(matches)"
   ]
  },
  {
   "cell_type": "code",
   "execution_count": 57,
   "metadata": {},
   "outputs": [
    {
     "name": "stdout",
     "output_type": "stream",
     "text": [
      "The sky is green\n"
     ]
    }
   ],
   "source": [
    "#  Replacing Substrings\n",
    "import re\n",
    "text = \"The sky is blue\"\n",
    "pattern = \"blue\"\n",
    "result = re.sub(pattern, \"green\", text)\n",
    "print(result)\n",
    "# Output: The sky is green"
   ]
  },
  {
   "cell_type": "code",
   "execution_count": 81,
   "metadata": {},
   "outputs": [
    {
     "name": "stdout",
     "output_type": "stream",
     "text": [
      "['apple', 'orange', 'banana', 'grape']\n"
     ]
    }
   ],
   "source": [
    "# Splitting a String\n",
    "import re\n",
    "text = \"apple,orange;banana:grape\"\n",
    "pattern = r\"[,;:]\"\n",
    "'''\n",
    "Key Explanation of the Pattern:\n",
    "* [ ]: Square brackets define a character class, meaning \"match any one of the characters inside the brackets.\"\n",
    " ,: Matches a comma, ;: Matches a semicolon, and * :: Matches a colon.\n",
    "The r before the string (r\"[,;:]\") makes it a raw string to prevent Python from interpreting backslashes (if any) as escape sequences.\n",
    "'''\n",
    "result = re.split(pattern, text)\n",
    "print(result)\n",
    "# Output: ['apple', 'orange', 'banana', 'grape']"
   ]
  },
  {
   "cell_type": "code",
   "execution_count": 2,
   "metadata": {},
   "outputs": [
    {
     "name": "stdout",
     "output_type": "stream",
     "text": [
      "['apple', ',', 'orange', ';', 'banana', ':', 'grape']\n"
     ]
    }
   ],
   "source": [
    "# Modified Example\n",
    "# Including Delimiters in the Result: If you want to keep the delimiters in the result, you can use capturing groups ( ) in the pattern:\n",
    "import re\n",
    "text = \"apple,orange;banana:grape\"\n",
    "pattern = r\"([,;:])\"\n",
    "result = re.split(pattern, text)\n",
    "print(result)\n",
    "# Output: ['apple', ',', 'orange', ';', 'banana', ':', 'grape']"
   ]
  },
  {
   "cell_type": "code",
   "execution_count": 85,
   "metadata": {},
   "outputs": [
    {
     "name": "stdout",
     "output_type": "stream",
     "text": [
      "Full Match: 123-456-7890\n",
      "Area Code: 123\n",
      "Local Code: 456\n",
      "Line Number: 7890\n"
     ]
    }
   ],
   "source": [
    "import re\n",
    "# The parentheses () in the pattern are capturing groups, which allow you to extract specific parts of the match (e.g., area code, local code, and line number) separately.\n",
    "# Explanation of the Pattern:\n",
    "'''\n",
    "* \\d: Matches any digit (0–9).\n",
    "* {3}: Matches exactly 3 digits.\n",
    "* -: Matches a literal dash (-).\n",
    "* (\\d{3}): Captures the first group of 3 digits (the area code).\n",
    "* (\\d{3}): Captures the second group of 3 digits (the local code).\n",
    "* (\\d{4}): Captures the last group of 4 digits (the line number).\n",
    "'''\n",
    "\n",
    "text = \"My phone number is 123-456-7890\"\n",
    "pattern = r\"(\\d{3})-(\\d{3})-(\\d{4})\"\n",
    "result = re.search(pattern, text)\n",
    "if result:\n",
    "    print(\"Full Match:\", result.group(0)) # Returns the entire matched string\n",
    "    print(\"Area Code:\", result.group(1)) # Returns the first captured group (area code: 123).\n",
    "    print(\"Local Code:\", result.group(2)) # Returns the second captured group (local code: 456).\n",
    "    print(\"Line Number:\", result.group(3)) # Returns the third captured group (line number: 7890).\n",
    "# Output:\n",
    "# Full Match: 123-456-7890\n",
    "# Area Code: 123\n",
    "# Local Code: 456\n",
    "# Line Number: 7890\n",
    "# Note :If the pattern does not match the text, result will be None, and the code will not enter the if block"
   ]
  },
  {
   "cell_type": "code",
   "execution_count": 8,
   "metadata": {},
   "outputs": [
    {
     "name": "stdout",
     "output_type": "stream",
     "text": [
      "['Python', 'Python']\n",
      "0\n"
     ]
    }
   ],
   "source": [
    "# Compiling a Regular Expression\n",
    "import re\n",
    "text = \"Python is fun. Python is powerful.\"\n",
    "pattern = re.compile(\"Python\")\n",
    "# Compiling a regex is useful when you plan to reuse the same pattern multiple times, as it improves performance.\n",
    "# The pattern object can now be reused to perform various operations, like matching, searching, or finding occurrences of the pattern.\n",
    "matches = pattern.findall(text) # The findall() method is called on the compiled regex object pattern.\n",
    "print(matches)  # findall() returns a list of all non-overlapping matches of the pattern in the given string.\n",
    "print(pattern.search(text).start())\n",
    "# Output: ['Python', 'Python']"
   ]
  },
  {
   "cell_type": "code",
   "execution_count": 87,
   "metadata": {},
   "outputs": [],
   "source": [
    "# Assignment: Modified Example: Matching Multiple Formats If phone numbers have different formats (e.g., 123 456 7890 or (123) 456-7890), you can adjust the pattern:\n",
    "# Modified Pattern: pattern = r\"\\(?(\\d{3})\\)?[- ](\\d{3})[- ](\\d{4})\"\n"
   ]
  },
  {
   "cell_type": "markdown",
   "metadata": {},
   "source": [
    "# sub() function\n",
    "- The sub() function in the re module can be used to search a pattern in the string and replace it with another pattern.\n",
    "- re.sub(pattern,repl,string,max=0)"
   ]
  },
  {
   "cell_type": "markdown",
   "metadata": {},
   "source": [
    "# Program to demonstrate the use of sub() function"
   ]
  },
  {
   "cell_type": "code",
   "execution_count": 89,
   "metadata": {},
   "outputs": [
    {
     "name": "stdout",
     "output_type": "stream",
     "text": [
      "She sells ocean shells on the sea shore\n"
     ]
    }
   ],
   "source": [
    "import re\n",
    "string  =\"She sells sea shells on the sea shore\"\n",
    "pattern = \"sea\"\n",
    "repl = \"ocean\"\n",
    "new_string = re.sub(pattern,repl,string,1)\n",
    "print(new_string)"
   ]
  },
  {
   "cell_type": "markdown",
   "metadata": {},
   "source": [
    "# The findall() and finditer() functions\n",
    "-  findall() function is used to search a string and return a list of matches of the pattern in the string\n",
    "- if no match is found , then the returned list is empty.\n",
    "-  matchlist = re.findall(pattern,input_str,flags=0)"
   ]
  },
  {
   "cell_type": "code",
   "execution_count": 91,
   "metadata": {},
   "outputs": [
    {
     "name": "stdout",
     "output_type": "stream",
     "text": [
      "LXI 2013 VXI 2015 VDI 20104 "
     ]
    }
   ],
   "source": [
    "import re\n",
    "pattern =r\"[a-zA-Z]+ \\d+\"\n",
    "'''\n",
    "Explanation of the Pattern:\n",
    "\n",
    "[a-zA-Z]: This matches any alphabetic character, both uppercase (A-Z) and lowercase (a-z).\n",
    "+: The + symbol means \"one or more\" of the preceding element. So, [a-zA-Z]+ matches one or more alphabetic characters.\n",
    "  : The space between [a-zA-Z]+ and \\d+ matches a literal space.\n",
    "\\d: This matches any digit (0–9).\n",
    "\\d+: The + following \\d means \"one or more digits,\" so \\d+ matches a sequence of digits.\n",
    "'''\n",
    "matches= re.findall(pattern,\"LXI 2013, VXI 2015, VDI 20104 Maruti Suzuki Car in India\")\n",
    "for match in matches:\n",
    "    print(match,end=\" \")\n",
    "\n",
    "# the regualr expression, pattern = r\"[a-zA-Z]+ \\d+\" finds all pattern that begin with one or\n",
    "# more character followed by space and the followed by one or more digit"
   ]
  },
  {
   "cell_type": "code",
   "execution_count": 21,
   "metadata": {},
   "outputs": [
    {
     "name": "stdout",
     "output_type": "stream",
     "text": [
      "['VXI 2015']\n"
     ]
    }
   ],
   "source": [
    "# Modified Example (More Complex Matches)\n",
    "pattern = r\"\\w+[-]?\\d+\"  # Matches letters, optional hyphen, and digits\n",
    "'''\n",
    "Explanation of the Pattern:\n",
    "\\w+: This part matches one or more word characters (letters, digits, and underscores). It matches strings of alphabetic characters like \"LXI\" or \"VDI\".\n",
    "\\w matches any alphanumeric character (a-z, A-Z, 0-9, and _).\n",
    "+ indicates that there should be one or more of these characters.\n",
    "[-]?: This part matches an optional hyphen (-).\n",
    "[-] matches a literal hyphen.\n",
    "? means the hyphen is optional, so the regex will match strings with or without a hyphen.\n",
    "\\d+: This part matches one or more digits.\n",
    "\\d matches any digit (0-9).\n",
    "+ means that there should be one or more digits\n",
    "'''\n",
    "matches = re.findall(pattern, \"LXI-2013, VXI 2015, VDI-20104 Maruti Suzuki\")\n",
    "print(matches)\n"
   ]
  },
  {
   "cell_type": "code",
   "execution_count": 10,
   "metadata": {},
   "outputs": [
    {
     "name": "stdout",
     "output_type": "stream",
     "text": [
      "Matched '2013' at (4, 8)\n",
      "Matched '2015' at (14, 18)\n",
      "Matched '20104' at (24, 29)\n",
      "Number of matches: 3\n"
     ]
    }
   ],
   "source": [
    "# Change the pattern to match numbers only:\n",
    "pattern = r\"\\d+\"\n",
    "matches = list(re.finditer(pattern, \"LXI 2013, VXI 2015, VDI 20104 Maruti Suzuki Car in India\"))\n",
    "for match in matches:\n",
    "    print(f\"Matched '{match.group()}' at {match.span()}\")\n",
    "print(\"Number of matches:\", len(matches))\n"
   ]
  },
  {
   "cell_type": "code",
   "execution_count": 11,
   "metadata": {},
   "outputs": [
    {
     "name": "stdout",
     "output_type": "stream",
     "text": [
      "Number of matches: 8\n",
      "Matched 'LXI' at (0, 3)\n",
      "Matched 'VXI' at (10, 13)\n",
      "Matched 'VDI' at (20, 23)\n",
      "Matched 'Maruti' at (30, 36)\n",
      "Matched 'Suzuki' at (37, 43)\n",
      "Matched 'Car' at (44, 47)\n",
      "Matched 'in' at (48, 50)\n",
      "Matched 'India' at (51, 56)\n"
     ]
    }
   ],
   "source": [
    "pattern = r\"[a-zA-Z]+\"\n",
    "matches = list(re.finditer(pattern, \"LXI 2013, VXI 2015, VDI 20104 Maruti Suzuki Car in India\"))\n",
    "print(\"Number of matches:\", len(matches))\n",
    "for match in matches:\n",
    "    print(f\"Matched '{match.group()}' at {match.span()}\")\n"
   ]
  },
  {
   "cell_type": "markdown",
   "metadata": {},
   "source": [
    "# Program to demostrate the use of finditer() function"
   ]
  },
  {
   "cell_type": "code",
   "execution_count": 12,
   "metadata": {},
   "outputs": [
    {
     "name": "stdout",
     "output_type": "stream",
     "text": [
      "Match  {'LXI 2013'} found at starting index :  0\n",
      "Match  {'LXI 2013'} found at ending index :  8\n",
      "Match  {'LXI 2013'} found at starting and ending index :  (0, 8)\n",
      "Match  {'VXI 2015'} found at starting index :  10\n",
      "Match  {'VXI 2015'} found at ending index :  18\n",
      "Match  {'VXI 2015'} found at starting and ending index :  (10, 18)\n",
      "Match  {'VDI 20104'} found at starting index :  20\n",
      "Match  {'VDI 20104'} found at ending index :  29\n",
      "Match  {'VDI 20104'} found at starting and ending index :  (20, 29)\n"
     ]
    }
   ],
   "source": [
    "import re\n",
    "pattern =r\"[a-zA-Z]+ \\d+\"  # This pattern matches strings that consist of a word followed by a space and a number\n",
    "'''\n",
    "* [a-zA-Z]+: Matches one or more (+) letters (both uppercase and lowercase).\n",
    "* (space): Matches a literal space.\n",
    "* \\d+: Matches one or more (+) digits (0–9).\n",
    "'''\n",
    "matches= re.finditer(pattern,\"LXI 2013, VXI 2015, VDI 20104 Maruti Suzuki Car in India\")\n",
    "# The re.finditer() function returns an iterator that produces match objects for all matches of the pattern in the string.\n",
    "for match in matches:\n",
    "    print(\"Match \",{match.group()},\"found at starting index : \",match.start())\n",
    "    print(\"Match \",{match.group()}, \"found at ending index : \",match.end())\n",
    "    print(\"Match \", {match.group()}, \"found at starting and ending index : \",match.span())"
   ]
  },
  {
   "cell_type": "code",
   "execution_count": 19,
   "metadata": {},
   "outputs": [
    {
     "name": "stdout",
     "output_type": "stream",
     "text": [
      "Valid email: test.email@gmail.com\n",
      "Invalid email: hello123@domain\n",
      "Valid email: user@domain.org\n",
      "Invalid email: invalid-email\n"
     ]
    }
   ],
   "source": [
    "import re\n",
    "emails = [\"test.email@gmail.com\", \"hello123@domain\", \"user@domain.org\", \"invalid-email\"]\n",
    "pattern = r\"[a-zA-Z0-9._%+-]+@[a-zA-Z0-9.-]+\\.[a-zA-Z]{2,}\"\n",
    "\n",
    "'''\n",
    "-   r\"\" (raw string): The r before the string denotes a raw string literal, which tells\n",
    "Python not to treat backslashes (\\) as escape characters. This is especially useful in \n",
    "regular expressions.\n",
    "-  [a-zA-Z0-9._%+-]+:\n",
    "    Matches the local part of the email (before the @ symbol).\n",
    "    a-z: Matches lowercase letters.\n",
    "    A-Z: Matches uppercase letters.\n",
    "    0-9: Matches digits.\n",
    "    ._%+-: Matches special characters commonly allowed in email usernames (., _, %, +, -).\n",
    "    +: Ensures that there is at least one or more characters in this part.\n",
    "    \n",
    "-  @: Matches the literal @ symbol, which separates the local part from the domain part in an email.\n",
    "[a-zA-Z0-9.-]+: Matches the domain name (e.g., gmail, yahoo, example).\n",
    "    a-z: Matches lowercase letters.\n",
    "    A-Z: Matches uppercase letters.\n",
    "    0-9: Matches digits.\n",
    "    . and -: Matches valid special characters in domain names (. for subdomains and - for hyphenated domains).\n",
    "    +: Ensures that there is at least one or more characters in this part.\n",
    "\n",
    "\\.: Matches a literal period (.) in the domain name, which is required before the top-level domain (e.g., .com, .org).\n",
    "\n",
    "[a-zA-Z]{2,}: Matches the top-level domain (e.g., com, org, edu).\n",
    "-  [a-zA-Z]: Matches letters only (both uppercase and lowercase).\n",
    "-  {2,}: Ensures that the top-level domain is at least 2 or more characters long.\n",
    "'''\n",
    "for email in emails:\n",
    "    if re.match(pattern, email):\n",
    "        print(f\"Valid email: {email}\")\n",
    "    else:\n",
    "        print(f\"Invalid email: {email}\")\n"
   ]
  },
  {
   "cell_type": "code",
   "execution_count": 15,
   "metadata": {},
   "outputs": [
    {
     "name": "stdout",
     "output_type": "stream",
     "text": [
      "['.99', '.89']\n"
     ]
    }
   ],
   "source": [
    "text = \"The price of the product is 49.99 INR, but after a discount, it is 35.89\"\n",
    "pattern=\"\\d+(\\.\\d+)?\"\n",
    "print(re.findall(pattern,text))"
   ]
  },
  {
   "cell_type": "code",
   "execution_count": null,
   "metadata": {},
   "outputs": [],
   "source": []
  }
 ],
 "metadata": {
  "kernelspec": {
   "display_name": "Python 3 (ipykernel)",
   "language": "python",
   "name": "python3"
  },
  "language_info": {
   "codemirror_mode": {
    "name": "ipython",
    "version": 3
   },
   "file_extension": ".py",
   "mimetype": "text/x-python",
   "name": "python",
   "nbconvert_exporter": "python",
   "pygments_lexer": "ipython3",
   "version": "3.8.16"
  }
 },
 "nbformat": 4,
 "nbformat_minor": 4
}
