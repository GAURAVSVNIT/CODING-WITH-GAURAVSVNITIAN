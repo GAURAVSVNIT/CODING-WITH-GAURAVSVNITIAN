{
 "cells": [
  {
   "cell_type": "markdown",
   "id": "d4736932",
   "metadata": {},
   "source": [
    "# WAP to print first 10 numbers using a while loop\n",
    "i=0\n",
    "while(i<=10):\n",
    "    print(i,end=' ')\n",
    "    i = i+1"
   ]
  },
  {
   "cell_type": "code",
   "execution_count": 8,
   "id": "6abe7687-a61a-4d7e-957b-5553cbdbce21",
   "metadata": {},
   "outputs": [
    {
     "name": "stdin",
     "output_type": "stream",
     "text": [
      "Please enter the number  1234\n"
     ]
    },
    {
     "name": "stdout",
     "output_type": "stream",
     "text": [
      "10\n",
      "0\n"
     ]
    }
   ],
   "source": [
    "# WAP to find the sum of the digits of a given numbe\n",
    "num = int(input(\"Please enter the number \"))\n",
    "#x = num\n",
    "sum =0\n",
    "rem=0\n",
    "while(num!=0):\n",
    "    rem = num%10\n",
    "    sum =sum +rem\n",
    "    num = num//10\n",
    "print(sum)\n",
    "print(num)"
   ]
  },
  {
   "cell_type": "code",
   "execution_count": 10,
   "id": "6c9a4b7b-4229-4f8e-b473-13e09b8cf343",
   "metadata": {},
   "outputs": [
    {
     "name": "stdin",
     "output_type": "stream",
     "text": [
      "Please enter the number  12345\n"
     ]
    },
    {
     "name": "stdout",
     "output_type": "stream",
     "text": [
      "54321\n"
     ]
    }
   ],
   "source": [
    "# WAP a program to display the reverse of the number entered\n",
    "num = int(input(\"Please enter the number \"))\n",
    "x = num\n",
    "sum =0\n",
    "rem=0\n",
    "while(num!=0):\n",
    "    rem = num%10\n",
    "    sum =sum*10 +rem\n",
    "    num = num//10\n",
    "print(sum)"
   ]
  },
  {
   "cell_type": "code",
   "execution_count": 12,
   "id": "450eb9a7-0267-44ef-bd47-4894ff7ea735",
   "metadata": {},
   "outputs": [
    {
     "name": "stdin",
     "output_type": "stream",
     "text": [
      "Please enter the number  67\n"
     ]
    },
    {
     "name": "stdout",
     "output_type": "stream",
     "text": [
      "Sum of Number  50\n"
     ]
    }
   ],
   "source": [
    "num = int(input(\"Please enter the number \"))\n",
    "count=1\n",
    "sum =0\n",
    "while count<=20:\n",
    "    if(count%5==0):\n",
    "        sum = sum +count\n",
    "    count+=1\n",
    "print(\"Sum of Number \",sum)"
   ]
  },
  {
   "cell_type": "code",
   "execution_count": 16,
   "id": "f0785ccf-b010-4bdc-b4b6-f94a06311a51",
   "metadata": {},
   "outputs": [
    {
     "name": "stdout",
     "output_type": "stream",
     "text": [
      "enter -1 for exit\n"
     ]
    },
    {
     "name": "stdin",
     "output_type": "stream",
     "text": [
      "enter the number 67\n",
      "enter the number -9\n",
      "enter the number -7\n",
      "enter the number 54\n",
      "enter the number -1\n"
     ]
    },
    {
     "name": "stdout",
     "output_type": "stream",
     "text": [
      "The average of negative number is -8.0\n",
      "The average of positive number is 60.5\n"
     ]
    }
   ],
   "source": [
    "# WAP to read the number until -1 is encountered.Find the average of positive numbers and negative numbers entered by the user.\n",
    "neg_count=0\n",
    "pos_count=0\n",
    "neg_s=0\n",
    "pos_s=0\n",
    "print(\"enter -1 for exit\")\n",
    "num =int(input(\"enter the number\"))\n",
    "while(num!=-1):\n",
    "    if(num>0):\n",
    "        pos_s = pos_s+ num\n",
    "        pos_count = pos_count+1\n",
    "    else:\n",
    "        neg_s = neg_s+ num\n",
    "        neg_count = neg_count+1\n",
    "    num =int(input(\"enter the number\"))\n",
    "neg_avg = neg_s/neg_count\n",
    "pos_avg = pos_s/neg_count\n",
    "print(\"The average of negative number is\",neg_avg)\n",
    "print(\"The average of positive number is\",pos_avg)"
   ]
  },
  {
   "cell_type": "code",
   "execution_count": null,
   "id": "943aca6e-dd0a-4eb5-a630-9ba994641376",
   "metadata": {},
   "outputs": [],
   "source": [
    "#range function\n",
    "#range(begin,end,step)"
   ]
  },
  {
   "cell_type": "code",
   "execution_count": 20,
   "id": "df60d3b4-99f3-4429-93d5-5be9d4c3ef88",
   "metadata": {},
   "outputs": [
    {
     "name": "stdout",
     "output_type": "stream",
     "text": [
      "range(0, 5)\n",
      "-4\n",
      "-2\n",
      "0\n",
      "2\n"
     ]
    }
   ],
   "source": [
    "print(range(5))\n",
    "# range (1,5)\n",
    "# range(1,5,2)\n",
    "# range(-4,4,2)\n",
    "# range(0,1)\n",
    "# range(1,1)\n",
    "for i in range(-4,4,2):\n",
    "    print(i)"
   ]
  },
  {
   "cell_type": "code",
   "execution_count": 17,
   "id": "c5085803-f341-4f1f-8b9d-3bc5d3dac767",
   "metadata": {},
   "outputs": [
    {
     "name": "stdout",
     "output_type": "stream",
     "text": [
      "A B C D E F G H I J K L M N O P Q R S T U V W X Y Z "
     ]
    }
   ],
   "source": [
    "for i in range(65,91,1):\n",
    "    print(chr(i),end=\" \")"
   ]
  },
  {
   "cell_type": "code",
   "execution_count": 21,
   "id": "d03c495d-3e3f-4597-88b3-4424eefe1da6",
   "metadata": {},
   "outputs": [
    {
     "name": "stdin",
     "output_type": "stream",
     "text": [
      "Enter the num1  3\n",
      "Enter the num2  2\n",
      "Enter the num3  2\n",
      "Enter the num4  32\n"
     ]
    },
    {
     "name": "stdout",
     "output_type": "stream",
     "text": [
      "Largest Number = 3\n"
     ]
    }
   ],
   "source": [
    "#WAP that prompts a user to user to enter four numbers and find the gratest number among the four number entered\n",
    "num1 = int(input(\"Enter the num1 \"))\n",
    "num2 = int(input(\"Enter the num2 \"))\n",
    "num3 = int(input(\"Enter the num3 \"))\n",
    "num4 = int(input(\"Enter the num4 \"))\n",
    "sum = num1 +num2 +num3 +num4\n",
    "for i in range(21):\n",
    "    if i ==num1 or i ==num2 or i==num3 or i ==num4:\n",
    "        large=i\n",
    "print(\"Largest Number =\",large)"
   ]
  },
  {
   "cell_type": "code",
   "execution_count": 22,
   "id": "309fa38a-3446-4978-93a5-d687e9940b28",
   "metadata": {},
   "outputs": [
    {
     "name": "stdout",
     "output_type": "stream",
     "text": [
      "   1    2    3    4    5 \n",
      "   2    4    6    8   10 \n",
      "   3    6    9   12   15 \n",
      "   4    8   12   16   20 \n",
      "   5   10   15   20   25 \n",
      "   6   12   18   24   30 \n",
      "   7   14   21   28   35 \n",
      "   8   16   24   32   40 \n",
      "   9   18   27   36   45 \n",
      "  10   20   30   40   50 \n"
     ]
    }
   ],
   "source": [
    "# WAP to display multiplication table\n",
    "for i in range(1,11,1):\n",
    "    for j in range(1,6,1):\n",
    "        print(format(i*j,\"4d\"),end=\" \")\n",
    "    print()"
   ]
  },
  {
   "cell_type": "code",
   "execution_count": 25,
   "id": "e7fd50dd-821f-4f41-8cdc-15a92f075165",
   "metadata": {},
   "outputs": [
    {
     "name": "stdout",
     "output_type": "stream",
     "text": [
      "Number Pattern\n",
      "1 \n",
      "1 2 \n",
      "1 2 3 \n",
      "1 2 3 4 \n",
      "1 2 3 4 5 \n",
      "1 2 3 4 \n",
      "1 2 3 \n",
      "1 2 \n"
     ]
    }
   ],
   "source": [
    "# WAP to display the pattern of the number given as follows\n",
    "print(\"Number Pattern\")\n",
    "num=2\n",
    "for i in range(1,5,1):\n",
    "    x = i\n",
    "    for j in range(1,num,1):\n",
    "        print(j,end=' ')\n",
    "    print()\n",
    "    num +=1\n",
    "for i in range(5,1,-1):\n",
    "    x = i\n",
    "    for j in range(1,num,1):\n",
    "        print(j,end=' ')\n",
    "    print()\n",
    "    num -=1"
   ]
  },
  {
   "cell_type": "code",
   "execution_count": 33,
   "id": "76366aa1-476a-4d54-92ea-1846f8a9993f",
   "metadata": {},
   "outputs": [
    {
     "name": "stdout",
     "output_type": "stream",
     "text": [
      "          1 \n",
      "        1 2 1 \n",
      "      1 2 3 2 1 \n",
      "    1 2 3 4 3 2 1 \n",
      "  1 2 3 4 5 4 3 2 1 \n"
     ]
    }
   ],
   "source": [
    "# Print the pattern\n",
    "for i in range(1,6):\n",
    "    for j in range(6,i,-1):\n",
    "        print(\" \",end=\" \")\n",
    "    for k in range(1,i+1):\n",
    "        print(k,end=\" \")\n",
    "    for l in range(i-1,0,-1):\n",
    "        print(l,end=\" \")\n",
    "    print(\"\")"
   ]
  },
  {
   "cell_type": "code",
   "execution_count": 1,
   "id": "223d097b-2926-461c-8d38-29a1c037ee8c",
   "metadata": {},
   "outputs": [
    {
     "name": "stdout",
     "output_type": "stream",
     "text": [
      "1 is notnegative so loop did not execute\n"
     ]
    }
   ],
   "source": [
    "# THE else statement used with loops\n",
    "i=1\n",
    "while(i<0):\n",
    "    print(i)\n",
    "    i=i-1\n",
    "else:\n",
    "    print(i,\"is notnegative so loop did not execute\")"
   ]
  },
  {
   "cell_type": "code",
   "execution_count": 22,
   "id": "59713104-4a31-470a-aba6-638e4c871367",
   "metadata": {},
   "outputs": [
    {
     "name": "stdout",
     "output_type": "stream",
     "text": [
      "123\n",
      "123.42\n",
      "(2+4j)\n",
      "12\n",
      "True\n",
      "0b11001\n",
      "0o31\n",
      "0x19\n",
      "65\n",
      "b\n"
     ]
    }
   ],
   "source": [
    "# Type conversion basic\n",
    "x = int('123')\n",
    "a = float('123.42')\n",
    "b = complex('2+4j')\n",
    "c = str(12)\n",
    "d = bool('True')\n",
    "e = bin(25) #Binary\n",
    "f = oct(25)\n",
    "g = hex(25)\n",
    "h = ord('A') # Char to Unicode\n",
    "i = chr(98) # unicode to char\n",
    "print(x,a,b,c,d,e,f,g,h,i,sep=\"\\n\")"
   ]
  },
  {
   "cell_type": "code",
   "execution_count": 24,
   "id": "360ffb8c-c3e4-4107-9ef8-d505843fef6b",
   "metadata": {},
   "outputs": [
    {
     "name": "stdout",
     "output_type": "stream",
     "text": [
      "1 6\n",
      "2 7\n",
      "3 8\n",
      "4 9\n"
     ]
    }
   ],
   "source": [
    "# looping with zip\n",
    "list1 = [1,2,3,4]\n",
    "list2= [6,7,8,9]\n",
    "for i,j in zip(list1,list2):\n",
    "    print(i,j)"
   ]
  },
  {
   "cell_type": "code",
   "execution_count": 6,
   "id": "e7838bbe-7f85-4fe8-880d-6e0564aaa30e",
   "metadata": {},
   "outputs": [
    {
     "name": "stdout",
     "output_type": "stream",
     "text": [
      "0 1\n",
      "1 2\n",
      "2 3\n",
      "3 4\n"
     ]
    }
   ],
   "source": [
    "list1 = [1,2,3,4]\n",
    "list2= [6,7,8,9]\n",
    "for i,j in enumerate(list1):\n",
    "    print(i,j)"
   ]
  },
  {
   "cell_type": "code",
   "execution_count": 28,
   "id": "69d96231-9836-4063-aece-390758e7ce08",
   "metadata": {},
   "outputs": [
    {
     "name": "stdout",
     "output_type": "stream",
     "text": [
      "1 6\n",
      "2 7\n",
      "3 8\n",
      "4 9\n"
     ]
    }
   ],
   "source": [
    "list1 = [1,2,3,4]\n",
    "list2= [6,7,8,9,78,90]\n",
    "for i,j in zip(list1,list2):\n",
    "    print(i,j)"
   ]
  },
  {
   "cell_type": "code",
   "execution_count": 16,
   "id": "1b6ee3a8-a5d7-4636-b1d8-a4f73c246cfb",
   "metadata": {},
   "outputs": [
    {
     "name": "stdout",
     "output_type": "stream",
     "text": [
      "0 a\n",
      "1 b\n",
      "2 c\n",
      "----------------\n",
      "0 d\n",
      "1 e\n",
      "2 f\n"
     ]
    }
   ],
   "source": [
    "dict1={'a':1,'b':2,'c':4}\n",
    "dict2 ={'d':5,'e':6,'f':9}\n",
    "for i,j in enumerate(dict1):\n",
    "    print(i,j)\n",
    "print(\"----------------\")\n",
    "for i,j in enumerate(dict2):\n",
    "    print(i,j)"
   ]
  },
  {
   "cell_type": "code",
   "execution_count": 18,
   "id": "54fbed65-a237-4b35-9b00-84bb627c09cf",
   "metadata": {},
   "outputs": [
    {
     "name": "stdout",
     "output_type": "stream",
     "text": [
      "0 ('a', 'd')\n",
      "1 ('b', 'e')\n",
      "2 ('c', 'f')\n"
     ]
    }
   ],
   "source": [
    "dict1={'a':1,'b':2,'c':4}\n",
    "dict2 ={'d':5,'e':6,'f':9}\n",
    "for i,j in enumerate(zip(dict1,dict2)):\n",
    "    print(i,j)"
   ]
  },
  {
   "cell_type": "code",
   "execution_count": 20,
   "id": "9cf58533-6ea7-4a04-bf0f-3b100fbd6686",
   "metadata": {},
   "outputs": [
    {
     "name": "stdout",
     "output_type": "stream",
     "text": [
      "0 1 2\n",
      "1 3 4\n",
      "2 5 6\n"
     ]
    }
   ],
   "source": [
    "tuples = [(1, 2), (3, 4), (5, 6)]\n",
    "for index, (arg1, arg2) in enumerate(tuples):\n",
    "    print(index, arg1, arg2)    \n",
    "    "
   ]
  },
  {
   "cell_type": "code",
   "execution_count": 22,
   "id": "4ef85712-5369-4a67-ad23-0e1ee34d0079",
   "metadata": {},
   "outputs": [
    {
     "name": "stdout",
     "output_type": "stream",
     "text": [
      "0 a\n",
      "1 b\n",
      "2 c\n",
      "3 d\n",
      "4 e\n",
      "5 f\n",
      "6 g\n"
     ]
    }
   ],
   "source": [
    "letters = [\"a\", \"b\", \"c\", \"d\", \"e\", \"f\", \"g\"]\n",
    "for index in range(len(letters)):\n",
    "    print(index, letters[index])"
   ]
  },
  {
   "cell_type": "code",
   "execution_count": 8,
   "id": "2c0fe929-eec8-495c-97d2-69e06a895d9f",
   "metadata": {},
   "outputs": [
    {
     "name": "stdout",
     "output_type": "stream",
     "text": [
      "count 2\n"
     ]
    }
   ],
   "source": [
    "#Counting the number of occurance of charater string\n",
    "word=\"Programming\"\n",
    "character='g'\n",
    "count=0\n",
    "for i in word:\n",
    "    if i==character:\n",
    "       count=count+1\n",
    "print(\"count\",count)    "
   ]
  },
  {
   "cell_type": "code",
   "execution_count": 16,
   "id": "da841d0b-0e5e-460b-a3a1-18b03fbcfc6b",
   "metadata": {},
   "outputs": [
    {
     "name": "stdout",
     "output_type": "stream",
     "text": [
      "0,1,1,2,3,5,8,13,21,34,55,89\n"
     ]
    }
   ],
   "source": [
    "fib =[0,1]\n",
    "# Range start by default\n",
    "n=10\n",
    "for i in range(n):\n",
    "    fib.append(fib[-1]+ fib[-2])\n",
    "# Convert list into integer\n",
    "print(\",\".join(str(e) for e in fib))"
   ]
  },
  {
   "cell_type": "code",
   "execution_count": 3,
   "id": "4d5220fe-a2f8-49e4-97ec-7aee60b069b7",
   "metadata": {},
   "outputs": [
    {
     "data": {
      "text/plain": [
       "[10, 20, 30, 40, 50, 60]"
      ]
     },
     "execution_count": 3,
     "metadata": {},
     "output_type": "execute_result"
    }
   ],
   "source": [
    "# list comprehension (Square)\n",
    "l=[10,20,30,40,50,60]\n",
    "a=[]\n",
    "for i in l:\n",
    "    a.append(i*i)\n",
    "#print(a)\n",
    "\n",
    "#\n",
    "#[i*i for i in l]\n",
    "[i for i in l if i%2==0]\n"
   ]
  },
  {
   "cell_type": "code",
   "execution_count": 4,
   "id": "d43aa963-dea4-463f-bcec-530f98a3c108",
   "metadata": {},
   "outputs": [
    {
     "name": "stdout",
     "output_type": "stream",
     "text": [
      "[10, 30, 40]\n"
     ]
    }
   ],
   "source": [
    "#list Comprehension\n",
    "iterable=[10,30,40]\n",
    "list_variable = [x for x in iterable]\n",
    "print(list_variable)"
   ]
  },
  {
   "cell_type": "code",
   "execution_count": 32,
   "id": "5383b98f-b76b-47e6-a748-2c7f771ce68e",
   "metadata": {},
   "outputs": [
    {
     "name": "stdout",
     "output_type": "stream",
     "text": [
      "['p', 'r', 'a', 'v', 'e', 'e', 'n']\n"
     ]
    }
   ],
   "source": [
    "#iterable=[10,30,40]\n",
    "list_variable = [x for x in 'praveen']\n",
    "print(list_variable)"
   ]
  },
  {
   "cell_type": "code",
   "execution_count": 20,
   "id": "72fb0302-c6fc-4552-8acd-d9fd32205f05",
   "metadata": {},
   "outputs": [
    {
     "name": "stdout",
     "output_type": "stream",
     "text": [
      "[2, 4, 6, 8, 10, 12, 14, 16, 18]\n",
      "[56, 22, 62, 32, 76, 22]\n"
     ]
    }
   ],
   "source": [
    "# List of even number\n",
    "l1 = [2*e for e in range(1,10)]\n",
    "print(l1)\n",
    "# to create list of even number from given list\n",
    "list=[23,56,65,22,62,32,65,76,22,29]\n",
    "l2=[e for e in list if e%2==0]\n",
    "print(l2)"
   ]
  },
  {
   "cell_type": "code",
   "execution_count": 36,
   "id": "7c212f4f-6eb1-4d20-b8fc-777f0c123287",
   "metadata": {},
   "outputs": [
    {
     "name": "stdout",
     "output_type": "stream",
     "text": [
      "['b', 'c', 'd', 'e', 'f']\n"
     ]
    }
   ],
   "source": [
    "# Using Conditional with list Comprehensions\n",
    "alpha =['a','b','c','d','e','f']\n",
    "re = [s for s in alpha if s!='a' ]\n",
    "print(re)"
   ]
  },
  {
   "cell_type": "code",
   "execution_count": 38,
   "id": "ec00e3ff-0bc0-46c7-93f5-f62bd7630d65",
   "metadata": {},
   "outputs": [
    {
     "name": "stdout",
     "output_type": "stream",
     "text": [
      "[0, 4, 16, 36, 64]\n"
     ]
    }
   ],
   "source": [
    "# mathamitical condation\n",
    "numlist = [x**2 for x in range(10) if x%2==0]\n",
    "print(numlist)"
   ]
  },
  {
   "cell_type": "code",
   "execution_count": 44,
   "id": "567f9042-8719-4a05-af8f-28fa892b4851",
   "metadata": {},
   "outputs": [
    {
     "name": "stdout",
     "output_type": "stream",
     "text": [
      "[0, 36]\n"
     ]
    }
   ],
   "source": [
    "#mathamitical condation with nexted if else\n",
    "numlist = [x**2 for x in range(10) if x%2==0 if x%3==0]\n",
    "print(numlist)"
   ]
  },
  {
   "cell_type": "code",
   "execution_count": 1,
   "id": "16b9f6f9-5522-4a06-ba91-0e2c5cc8f703",
   "metadata": {},
   "outputs": [
    {
     "name": "stdout",
     "output_type": "stream",
     "text": [
      "[20, 30, 40, 40, 60, 80, 60, 90, 120]\n"
     ]
    }
   ],
   "source": [
    "# multiple for loop\n",
    "my_list = [i*j for i in [10,20,30] for j in [2,3,4]]\n",
    "print(my_list)"
   ]
  },
  {
   "cell_type": "code",
   "execution_count": 19,
   "id": "14ecb40b-57e6-4368-a1af-7b231a5f773e",
   "metadata": {},
   "outputs": [
    {
     "name": "stdout",
     "output_type": "stream",
     "text": [
      "[(1, 'a'), (2, 'b'), (3, 'c'), (6, 'd'), (7, 'e'), (9, 'f'), (None, 'g')]\n"
     ]
    },
    {
     "name": "stderr",
     "output_type": "stream",
     "text": [
      "ERROR: Could not find a version that satisfies the requirement itertools (from versions: none)\n",
      "ERROR: No matching distribution found for itertools\n"
     ]
    }
   ],
   "source": [
    "# Data is not equal than\n",
    "# his line uses the `izip_longest` function from the `itertools` module to combine the two lists `a1` and `c1`. It pairs elements from both lists into tuples. If the lists are of unequal length, it fills the shorter list with `None` for the missing values. \n",
    "# The result is converted to a list and stored in the variable `mylist`.\n",
    "!pip install itertools\n",
    "import itertools\n",
    "a1=[1,2,3,6,7,9]\n",
    "c1=['a','b','c','d','e','f','g']\n",
    "mylist = list(itertools.zip_longest(a1,c1))\n",
    "print(mylist)"
   ]
  },
  {
   "cell_type": "code",
   "execution_count": null,
   "id": "84524b8a-ea61-418a-bbcd-17ef96371d32",
   "metadata": {},
   "outputs": [],
   "source": []
  },
  {
   "cell_type": "code",
   "execution_count": null,
   "id": "b3d6faef-a143-4ba4-ab0e-f3667f1c3deb",
   "metadata": {},
   "outputs": [],
   "source": []
  }
 ],
 "metadata": {
  "kernelspec": {
   "display_name": "Python 3 (ipykernel)",
   "language": "python",
   "name": "python3"
  },
  "language_info": {
   "codemirror_mode": {
    "name": "ipython",
    "version": 3
   },
   "file_extension": ".py",
   "mimetype": "text/x-python",
   "name": "python",
   "nbconvert_exporter": "python",
   "pygments_lexer": "ipython3",
   "version": "3.8.16"
  }
 },
 "nbformat": 4,
 "nbformat_minor": 5
}
