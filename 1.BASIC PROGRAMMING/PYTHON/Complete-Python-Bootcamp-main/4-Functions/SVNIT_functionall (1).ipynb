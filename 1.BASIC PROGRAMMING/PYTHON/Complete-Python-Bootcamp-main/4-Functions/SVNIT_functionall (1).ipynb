{
 "cells": [
  {
   "cell_type": "markdown",
   "metadata": {},
   "source": [
    "### Python 3.0 Function All #"
   ]
  },
  {
   "cell_type": "markdown",
   "metadata": {},
   "source": [
    "# Function Syntax\n",
    "'''\n",
    "def function_name(variable1,variable2,....)  # function  header\n",
    "    statement block   #  function Body\n",
    "    return [expression]\n",
    "'''"
   ]
  },
  {
   "cell_type": "markdown",
   "metadata": {},
   "source": [
    "#  To Write a function that display a string repeately\n",
    "\n",
    "      "
   ]
  },
  {
   "cell_type": "code",
   "execution_count": 3,
   "metadata": {},
   "outputs": [
    {
     "name": "stdout",
     "output_type": "stream",
     "text": [
      "Hello World\n",
      "Hello World\n",
      "Hello World\n",
      "Hello World\n"
     ]
    }
   ],
   "source": [
    "def func():\n",
    "    for i in range(4):\n",
    "        print(\"Hello World\")\n",
    "func()"
   ]
  },
  {
   "cell_type": "markdown",
   "metadata": {},
   "source": [
    "#  Simple Calculator\n",
    "'''\n"
   ]
  },
  {
   "cell_type": "code",
   "execution_count": 2,
   "metadata": {},
   "outputs": [
    {
     "name": "stdout",
     "output_type": "stream",
     "text": [
      "\n",
      "__Calculator__\n",
      "\n",
      "\n",
      " Choose the operation you want to perform\n",
      "\n",
      " \t 1.Addition\n",
      "\n",
      " \t 2.Substraction\n",
      "\n",
      " \t 3. Division\n",
      "\n",
      " \t 4 Multiplication\n",
      "\n",
      " \t 4 Square Root\n",
      ">1\n",
      "\n",
      "\n",
      " Enter the two numbers\n",
      "Enter num12\n",
      "Enter num23\n",
      "Addation  5\n",
      "\n",
      "\n",
      " Choose the operation you want to perform\n",
      "\n",
      " \t 1.Addition\n",
      "\n",
      " \t 2.Substraction\n",
      "\n",
      " \t 3. Division\n",
      "\n",
      " \t 4 Multiplication\n",
      "\n",
      " \t 4 Square Root\n",
      ">3\n",
      "\n",
      "\n",
      " Enter the two numbers\n",
      "Enter num14\n",
      "Enter num22\n",
      "Division 2.0\n",
      "\n",
      "\n",
      " Choose the operation you want to perform\n",
      "\n",
      " \t 1.Addition\n",
      "\n",
      " \t 2.Substraction\n",
      "\n",
      " \t 3. Division\n",
      "\n",
      " \t 4 Multiplication\n",
      "\n",
      " \t 4 Square Root\n",
      ">5\n",
      "\n",
      "\n",
      " Enter the one numbers\n",
      "Enter num14\n",
      "Square : 2.0\n",
      "\n",
      "\n",
      " Choose the operation you want to perform\n",
      "\n",
      " \t 1.Addition\n",
      "\n",
      " \t 2.Substraction\n",
      "\n",
      " \t 3. Division\n",
      "\n",
      " \t 4 Multiplication\n",
      "\n",
      " \t 4 Square Root\n",
      ">4\n",
      "\n",
      "\n",
      " Enter the two numbers\n",
      "Enter num16\n",
      "Enter num24\n",
      "Multiplication  24\n",
      "\n",
      "\n",
      " Choose the operation you want to perform\n",
      "\n",
      " \t 1.Addition\n",
      "\n",
      " \t 2.Substraction\n",
      "\n",
      " \t 3. Division\n",
      "\n",
      " \t 4 Multiplication\n",
      "\n",
      " \t 4 Square Root\n",
      ">6\n",
      "\n",
      " You are chose to exit Bye..\n"
     ]
    }
   ],
   "source": [
    "import math\n",
    "print(\"\\n__Calculator__\")\n",
    "def add(a,b):\n",
    "    a+=b\n",
    "    return a\n",
    "def sub(a,b):\n",
    "    if a>=b:\n",
    "        a-=b\n",
    "        return a\n",
    "    else :\n",
    "        b-=a\n",
    "        return b\n",
    "def multi(a,b):\n",
    "    a*=b\n",
    "    return a\n",
    "def div(a,b):\n",
    "    a/=b\n",
    "    return a\n",
    "def sqr(a):\n",
    "    x = math.sqrt(a)\n",
    "    return x\n",
    "while(True):\n",
    "    print(\"\\n\\n Choose the operation you want to perform\")\n",
    "    print(\"\\n \\t 1.Addition\")\n",
    "    print(\"\\n \\t 2.Substraction\")\n",
    "    print(\"\\n \\t 3. Division\")\n",
    "    print(\"\\n \\t 4 Multiplication\")\n",
    "    print(\"\\n \\t 5 Square Root\")\n",
    "    choice = int(input('>'))\n",
    "    if(choice==1):\n",
    "        print(\"\\n\\n Enter the two numbers\")\n",
    "        num1  = int(input(\"Enter num1\"))\n",
    "        num2  = int(input(\"Enter num2\"))\n",
    "        print(\"Addation \",add(num1,num2))\n",
    "    elif(choice==2):\n",
    "        print(\"\\n\\n Enter the two numbers\")\n",
    "        num1  = int(input(\"Enter num1\"))\n",
    "        num2  = int(input(\"Enter num2\"))\n",
    "        print(\"Substraction \",sub(num1,num2))\n",
    "    elif(choice==3):\n",
    "        print(\"\\n\\n Enter the two numbers\")\n",
    "        num1  = int(input(\"Enter num1\"))\n",
    "        num2  = int(input(\"Enter num2\"))\n",
    "        print(\"Division\",div(num1,num2))\n",
    "    elif(choice==4):\n",
    "        print(\"\\n\\n Enter the two numbers\")\n",
    "        num1  = int(input(\"Enter num1\"))\n",
    "        num2  = int(input(\"Enter num2\"))\n",
    "        print(\"Multiplication \",multi(num1,num2))\n",
    "    elif(choice==5):\n",
    "        print(\"\\n\\n Enter the one numbers\")\n",
    "        num1  = int(input(\"Enter num1\"))\n",
    "        print(\"Square :\",sqr(num1))\n",
    "    else:\n",
    "        print(\"\\n You are chose to exit Bye..\")\n",
    "        break\n",
    "    "
   ]
  },
  {
   "cell_type": "markdown",
   "metadata": {},
   "source": [
    "#  Program to understand the difference between local and global variable"
   ]
  },
  {
   "cell_type": "code",
   "execution_count": 1,
   "metadata": {},
   "outputs": [
    {
     "name": "stdout",
     "output_type": "stream",
     "text": [
      "Global varaible num1= 10\n",
      "Local varible value  20\n",
      "Local varible value  30\n",
      "Num1 Again Print 10\n"
     ]
    },
    {
     "ename": "NameError",
     "evalue": "name 'num3' is not defined",
     "output_type": "error",
     "traceback": [
      "\u001b[1;31m---------------------------------------------------------------------------\u001b[0m",
      "\u001b[1;31mNameError\u001b[0m                                 Traceback (most recent call last)",
      "\u001b[1;32m~\\AppData\\Local\\Temp\\ipykernel_8004\\3742276741.py\u001b[0m in \u001b[0;36m<module>\u001b[1;34m\u001b[0m\n\u001b[0;32m      7\u001b[0m \u001b[0mfunc\u001b[0m\u001b[1;33m(\u001b[0m\u001b[1;36m20\u001b[0m\u001b[1;33m)\u001b[0m\u001b[1;33m\u001b[0m\u001b[1;33m\u001b[0m\u001b[0m\n\u001b[0;32m      8\u001b[0m \u001b[0mprint\u001b[0m\u001b[1;33m(\u001b[0m\u001b[1;34m\"Num1 Again Print\"\u001b[0m\u001b[1;33m,\u001b[0m\u001b[0mnum1\u001b[0m\u001b[1;33m)\u001b[0m\u001b[1;33m\u001b[0m\u001b[1;33m\u001b[0m\u001b[0m\n\u001b[1;32m----> 9\u001b[1;33m \u001b[0mprint\u001b[0m\u001b[1;33m(\u001b[0m\u001b[1;34m\"Num3 variable outside function=\"\u001b[0m\u001b[1;33m,\u001b[0m\u001b[0mnum3\u001b[0m\u001b[1;33m)\u001b[0m\u001b[1;33m\u001b[0m\u001b[1;33m\u001b[0m\u001b[0m\n\u001b[0m",
      "\u001b[1;31mNameError\u001b[0m: name 'num3' is not defined"
     ]
    }
   ],
   "source": [
    "num1  = 10\n",
    "print(\"Global varaible num1=\",num1)\n",
    "def func(num2):\n",
    "    print(\"Local varible value \",num2)\n",
    "    num3  = 30\n",
    "    print(\"Local varible value \",num3)\n",
    "func(20)\n",
    "print(\"Num1 Again Print\",num1)\n",
    "print(\"Num3 variable outside function=\",num3)"
   ]
  },
  {
   "cell_type": "code",
   "execution_count": 8,
   "metadata": {},
   "outputs": [
    {
     "name": "stdout",
     "output_type": "stream",
     "text": [
      "Global varaible num1= 10\n",
      "Local varible value  20\n",
      "Local varible value  40\n",
      "Num1 Again Print 10\n",
      "Num3 variable outside function= 40\n"
     ]
    }
   ],
   "source": [
    "num1  = 10\n",
    "print(\"Global varaible num1=\",num1)\n",
    "def func(num2):\n",
    "    print(\"Local varible value \",num2)\n",
    "    global num3  # global variable declaration\n",
    "    num3=40   # global variable not initilize at the time of declaration\n",
    "    print(\"Local varible value \",num3)\n",
    "func(20)\n",
    "print(\"Num1 Again Print\",num1)\n",
    "print(\"Num3 variable outside function=\",num3)"
   ]
  },
  {
   "cell_type": "markdown",
   "metadata": {
    "collapsed": true,
    "jupyter": {
     "outputs_hidden": true
    }
   },
   "source": [
    "#  Program to demostrate modifying a gloabl variable"
   ]
  },
  {
   "cell_type": "code",
   "execution_count": 1,
   "metadata": {},
   "outputs": [
    {
     "name": "stdout",
     "output_type": "stream",
     "text": [
      "In Function var is Morning\n",
      "Outside function var is  Morning\n",
      "Outside function  Fantastic\n"
     ]
    }
   ],
   "source": [
    "var =\"Good\"\n",
    "def show():\n",
    "    global var\n",
    "    var = \"Morning\"\n",
    "    print(\"In Function var is\",var)\n",
    "show()\n",
    "print(\"Outside function var is \",var)\n",
    "var =\"Fantastic\"\n",
    "print(\"Outside function \",var)"
   ]
  },
  {
   "cell_type": "markdown",
   "metadata": {},
   "source": [
    "# Program to demostrate access of variable in inner and outer function"
   ]
  },
  {
   "cell_type": "code",
   "execution_count": 2,
   "metadata": {},
   "outputs": [
    {
     "name": "stdout",
     "output_type": "stream",
     "text": [
      "Outer Variable= 10\n",
      "Inner Variable= 20\n",
      "Outer Variable = 10\n"
     ]
    },
    {
     "ename": "NameError",
     "evalue": "name 'inner_var' is not defined",
     "output_type": "error",
     "traceback": [
      "\u001b[1;31m---------------------------------------------------------------------------\u001b[0m",
      "\u001b[1;31mNameError\u001b[0m                                 Traceback (most recent call last)",
      "\u001b[1;32m<ipython-input-2-3b836f51449d>\u001b[0m in \u001b[0;36m<module>\u001b[1;34m()\u001b[0m\n\u001b[0;32m      8\u001b[0m     \u001b[0mprint\u001b[0m\u001b[1;33m(\u001b[0m\u001b[1;34m\"Outer Variable =\"\u001b[0m\u001b[1;33m,\u001b[0m\u001b[0mouter_var\u001b[0m\u001b[1;33m)\u001b[0m\u001b[1;33m\u001b[0m\u001b[0m\n\u001b[0;32m      9\u001b[0m     \u001b[0mprint\u001b[0m\u001b[1;33m(\u001b[0m\u001b[1;34m\"Inner Variable=\"\u001b[0m\u001b[1;33m,\u001b[0m\u001b[0minner_var\u001b[0m\u001b[1;33m)\u001b[0m\u001b[1;33m\u001b[0m\u001b[0m\n\u001b[1;32m---> 10\u001b[1;33m \u001b[0mouter_fun\u001b[0m\u001b[1;33m(\u001b[0m\u001b[1;33m)\u001b[0m\u001b[1;33m\u001b[0m\u001b[0m\n\u001b[0m",
      "\u001b[1;32m<ipython-input-2-3b836f51449d>\u001b[0m in \u001b[0;36mouter_fun\u001b[1;34m()\u001b[0m\n\u001b[0;32m      7\u001b[0m     \u001b[0minner_func\u001b[0m\u001b[1;33m(\u001b[0m\u001b[1;33m)\u001b[0m\u001b[1;33m\u001b[0m\u001b[0m\n\u001b[0;32m      8\u001b[0m     \u001b[0mprint\u001b[0m\u001b[1;33m(\u001b[0m\u001b[1;34m\"Outer Variable =\"\u001b[0m\u001b[1;33m,\u001b[0m\u001b[0mouter_var\u001b[0m\u001b[1;33m)\u001b[0m\u001b[1;33m\u001b[0m\u001b[0m\n\u001b[1;32m----> 9\u001b[1;33m     \u001b[0mprint\u001b[0m\u001b[1;33m(\u001b[0m\u001b[1;34m\"Inner Variable=\"\u001b[0m\u001b[1;33m,\u001b[0m\u001b[0minner_var\u001b[0m\u001b[1;33m)\u001b[0m\u001b[1;33m\u001b[0m\u001b[0m\n\u001b[0m\u001b[0;32m     10\u001b[0m \u001b[0mouter_fun\u001b[0m\u001b[1;33m(\u001b[0m\u001b[1;33m)\u001b[0m\u001b[1;33m\u001b[0m\u001b[0m\n",
      "\u001b[1;31mNameError\u001b[0m: name 'inner_var' is not defined"
     ]
    }
   ],
   "source": [
    "def outer_fun():\n",
    "    outer_var=10\n",
    "    def inner_func():\n",
    "        inner_var = 20\n",
    "        print(\"Outer Variable=\",outer_var)\n",
    "        print(\"Inner Variable=\",inner_var)\n",
    "    inner_func()\n",
    "    print(\"Outer Variable =\",outer_var)\n",
    "    print(\"Inner Variable=\",inner_var)\n",
    "outer_fun()"
   ]
  },
  {
   "cell_type": "code",
   "execution_count": 4,
   "metadata": {},
   "outputs": [
    {
     "name": "stdout",
     "output_type": "stream",
     "text": [
      "Outer Variable= 10\n",
      "Inner Variable= 20\n",
      "Outer Variable = 10\n",
      "Inner Variable= 20\n"
     ]
    }
   ],
   "source": [
    "def outer_fun():\n",
    "    outer_var=10\n",
    "    def inner_func():\n",
    "        global inner_var\n",
    "        inner_var=20\n",
    "        print(\"Outer Variable=\",outer_var)\n",
    "        print(\"Inner Variable=\",inner_var)\n",
    "    inner_func()\n",
    "    print(\"Outer Variable =\",outer_var)\n",
    "    print(\"Inner Variable=\",inner_var)\n",
    "outer_fun()"
   ]
  },
  {
   "cell_type": "markdown",
   "metadata": {},
   "source": [
    "# Program that demostrate using a local variable with same name as that of global"
   ]
  },
  {
   "cell_type": "code",
   "execution_count": 5,
   "metadata": {},
   "outputs": [
    {
     "name": "stdout",
     "output_type": "stream",
     "text": [
      "Welcome to Python Programming\n"
     ]
    },
    {
     "ename": "UnboundLocalError",
     "evalue": "local variable 'str' referenced before assignment",
     "output_type": "error",
     "traceback": [
      "\u001b[1;31m---------------------------------------------------------------------------\u001b[0m",
      "\u001b[1;31mUnboundLocalError\u001b[0m                         Traceback (most recent call last)",
      "\u001b[1;32m<ipython-input-5-f60e906431ac>\u001b[0m in \u001b[0;36m<module>\u001b[1;34m()\u001b[0m\n\u001b[0;32m      5\u001b[0m \u001b[0mstr\u001b[0m \u001b[1;33m=\u001b[0m \u001b[1;34m\"Welcome to Python Programming\"\u001b[0m\u001b[1;33m\u001b[0m\u001b[0m\n\u001b[0;32m      6\u001b[0m \u001b[0mprint\u001b[0m\u001b[1;33m(\u001b[0m\u001b[0mstr\u001b[0m\u001b[1;33m)\u001b[0m\u001b[1;33m\u001b[0m\u001b[0m\n\u001b[1;32m----> 7\u001b[1;33m \u001b[0mfoo\u001b[0m\u001b[1;33m(\u001b[0m\u001b[1;33m)\u001b[0m\u001b[1;33m\u001b[0m\u001b[0m\n\u001b[0m",
      "\u001b[1;32m<ipython-input-5-f60e906431ac>\u001b[0m in \u001b[0;36mfoo\u001b[1;34m()\u001b[0m\n\u001b[0;32m      1\u001b[0m \u001b[1;32mdef\u001b[0m \u001b[0mfoo\u001b[0m\u001b[1;33m(\u001b[0m\u001b[1;33m)\u001b[0m\u001b[1;33m:\u001b[0m\u001b[1;33m\u001b[0m\u001b[0m\n\u001b[1;32m----> 2\u001b[1;33m     \u001b[0mprint\u001b[0m\u001b[1;33m(\u001b[0m\u001b[0mstr\u001b[0m\u001b[1;33m)\u001b[0m \u001b[1;31m# global\u001b[0m\u001b[1;33m\u001b[0m\u001b[0m\n\u001b[0m\u001b[0;32m      3\u001b[0m     \u001b[0mstr\u001b[0m  \u001b[1;33m=\u001b[0m \u001b[1;34m\"Hello World\"\u001b[0m \u001b[1;31m# Local\u001b[0m\u001b[1;33m\u001b[0m\u001b[0m\n\u001b[0;32m      4\u001b[0m     \u001b[0mprint\u001b[0m\u001b[1;33m(\u001b[0m\u001b[0mstr\u001b[0m\u001b[1;33m)\u001b[0m\u001b[1;33m\u001b[0m\u001b[0m\n\u001b[0;32m      5\u001b[0m \u001b[0mstr\u001b[0m \u001b[1;33m=\u001b[0m \u001b[1;34m\"Welcome to Python Programming\"\u001b[0m\u001b[1;33m\u001b[0m\u001b[0m\n",
      "\u001b[1;31mUnboundLocalError\u001b[0m: local variable 'str' referenced before assignment"
     ]
    }
   ],
   "source": [
    "def foo():\n",
    "    print(str) # global \n",
    "    str  = \"Hello World\" # Local\n",
    "    print(str)\n",
    "str = \"Welcome to Python Programming\"\n",
    "print(str)\n",
    "foo()\n"
   ]
  },
  {
   "cell_type": "code",
   "execution_count": 6,
   "metadata": {},
   "outputs": [
    {
     "name": "stdout",
     "output_type": "stream",
     "text": [
      "Welcome to Python Programming\n",
      "Welcome to Python Programming\n",
      "Hello World\n"
     ]
    }
   ],
   "source": [
    "def foo():\n",
    "    global str\n",
    "    print(str) # global \n",
    "    str  = \"Hello World\" # Local\n",
    "    print(str)\n",
    "str = \"Welcome to Python Programming\"\n",
    "print(str)\n",
    "foo()"
   ]
  },
  {
   "cell_type": "markdown",
   "metadata": {},
   "source": [
    "## Program to Write a function without  a return statement and try to print its return value As mentioned earlier, such a function should return None"
   ]
  },
  {
   "cell_type": "code",
   "execution_count": 7,
   "metadata": {},
   "outputs": [
    {
     "name": "stdout",
     "output_type": "stream",
     "text": [
      "Hello World\n",
      "None\n",
      "Hello Again\n",
      "None\n"
     ]
    }
   ],
   "source": [
    "def display(str):\n",
    "    print(str)\n",
    "x = display(\"Hello World\")\n",
    "print(x)\n",
    "print(display(\"Hello Again\"))"
   ]
  },
  {
   "cell_type": "markdown",
   "metadata": {},
   "source": [
    "##  Program to write another function which return an integer to the caller\n"
   ]
  },
  {
   "cell_type": "code",
   "execution_count": 8,
   "metadata": {},
   "outputs": [
    {
     "name": "stdout",
     "output_type": "stream",
     "text": [
      "Cube of  10 = 1000\n"
     ]
    }
   ],
   "source": [
    "def cube(x):\n",
    "    return(x*x*x)\n",
    "num =10\n",
    "result  = cube(num)\n",
    "print(\"Cube of \",num,\"=\",result)"
   ]
  },
  {
   "cell_type": "markdown",
   "metadata": {},
   "source": [
    "# Program to demonstrate keyword arguments"
   ]
  },
  {
   "cell_type": "code",
   "execution_count": 2,
   "metadata": {},
   "outputs": [
    {
     "name": "stdout",
     "output_type": "stream",
     "text": [
      "The String is: Hello\n",
      "The Integer value is 1234\n",
      "The Float Value is 56789.045\n"
     ]
    }
   ],
   "source": [
    "def display(str,int_x,float_y):\n",
    "    print(\"The String is:\",str)\n",
    "    print(\"The Integer value is\",int_x)\n",
    "    print(\"The Float Value is\",float_y)\n",
    "    \n",
    "display(float_y=56789.045,str=\"Hello\",int_x=1234)"
   ]
  },
  {
   "cell_type": "markdown",
   "metadata": {},
   "source": [
    "# Program to demonstrate default argument"
   ]
  },
  {
   "cell_type": "code",
   "execution_count": 3,
   "metadata": {},
   "outputs": [
    {
     "ename": "SyntaxError",
     "evalue": "non-default argument follows default argument (<ipython-input-3-95a0784b115a>, line 1)",
     "output_type": "error",
     "traceback": [
      "\u001b[1;36m  File \u001b[1;32m\"<ipython-input-3-95a0784b115a>\"\u001b[1;36m, line \u001b[1;32m1\u001b[0m\n\u001b[1;33m    def display(name,course=\"BTech\",marks):\u001b[0m\n\u001b[1;37m               ^\u001b[0m\n\u001b[1;31mSyntaxError\u001b[0m\u001b[1;31m:\u001b[0m non-default argument follows default argument\n"
     ]
    }
   ],
   "source": [
    "def display(name,course=\"BTech\",marks):\n",
    "    print(\"Name:\"+name)\n",
    "    print(\"Course :\"+course)\n",
    "    print(\"Marks:\",marks)\n",
    "display(name=\"Amit\",90)"
   ]
  },
  {
   "cell_type": "markdown",
   "metadata": {},
   "source": [
    "# Variable-lenght Argument"
   ]
  },
  {
   "cell_type": "code",
   "execution_count": 6,
   "metadata": {},
   "outputs": [
    {
     "name": "stdout",
     "output_type": "stream",
     "text": [
      "\n",
      " Praveen Likes to read\n",
      "Deep Learning\n",
      "Andriod Programming\n",
      "\n",
      " Anvi Likes to read\n",
      "C\n",
      "DDA\n",
      "\n",
      " Krish Likes to read\n"
     ]
    }
   ],
   "source": [
    "def func(name,*fav_subject):\n",
    "    print(\"\\n\",name,\"Likes to read\")\n",
    "    for subject in fav_subject:\n",
    "        print(subject)\n",
    "func(\"Praveen\",\"Deep Learning\",\"Andriod Programming\")\n",
    "func(\"Anvi\",\"C\",\"DDA\")\n",
    "func(\"Krish\")"
   ]
  },
  {
   "cell_type": "markdown",
   "metadata": {},
   "source": [
    "# Lamda Function or Anonymous function\n",
    "- Lambda function or Anonymous Functions are so called because they are not declared as other functions using the def keyword. Rather they are created using the lambda keyword.\n",
    "- Lambda functions are throw-away function\n",
    "- lambda arguments : expression\n",
    "- lambda function can take any number of argument s\n",
    "- lambda function can return just one value in  the form of an expression\n",
    "- lambda function definition does not have an explicit return statement but it always contains an expression which returned .\n",
    "- They are a one-line version of a function and hence cannot contain multiple expression\n",
    "- They cannot access variable other than those in their parameter list\n",
    "- Lambda function cannot even access global variable\n",
    "- You can pass lambda function as arguments in other functions"
   ]
  },
  {
   "cell_type": "code",
   "execution_count": 6,
   "metadata": {},
   "outputs": [
    {
     "name": "stdout",
     "output_type": "stream",
     "text": [
      "Even number : []\n"
     ]
    }
   ],
   "source": [
    "# Even /Odd Number\n",
    "numbers=[11,12,34,56,75,22,33,78]\n",
    "#numbers=[None]\n",
    "def even(x):\n",
    "    return x%2==0\n",
    "    #return x\n",
    "even = list(filter(even,numbers))\n",
    "print(\"Even number :\",even)"
   ]
  },
  {
   "cell_type": "code",
   "execution_count": 15,
   "metadata": {},
   "outputs": [
    {
     "name": "stdout",
     "output_type": "stream",
     "text": [
      "Even number greater than 50 [60, 80]\n"
     ]
    }
   ],
   "source": [
    "# Even /Odd Number\n",
    "numbers=[11,20,31,40,51,60,71,80,91]\n",
    "evenn=list(filter(lambda x: x%2==0 and x>50,numbers))\n",
    "print(\"Even number greater than 50\",evenn)"
   ]
  },
  {
   "cell_type": "code",
   "execution_count": 8,
   "metadata": {},
   "outputs": [
    {
     "name": "stdout",
     "output_type": "stream",
     "text": [
      "Sum = 8\n"
     ]
    }
   ],
   "source": [
    "sum = lambda x,y : x+y\n",
    "print(\"Sum =\",sum(3,5))"
   ]
  },
  {
   "cell_type": "code",
   "execution_count": 1,
   "metadata": {},
   "outputs": [
    {
     "name": "stdout",
     "output_type": "stream",
     "text": [
      "Samller of two number = -3\n"
     ]
    }
   ],
   "source": [
    "\n",
    "def small(a,b):\n",
    "    if(a>b):\n",
    "        return a\n",
    "    else:\n",
    "        return b\n",
    "sum = lambda x,y :x+y\n",
    "diff  = lambda x,y : x-y\n",
    "print(\"Samller of two number =\",small(sum(-3,-2),diff(-1,2)))\n",
    "\n",
    "'''\n",
    "Equivalent lambda x,y :x+y\n",
    "def sum(x, y):\n",
    "    return x + y\n",
    "'''"
   ]
  },
  {
   "cell_type": "markdown",
   "metadata": {
    "collapsed": true,
    "jupyter": {
     "outputs_hidden": true
    }
   },
   "source": [
    "# Program to use a lambd function with an ordinary funtion"
   ]
  },
  {
   "cell_type": "code",
   "execution_count": 2,
   "metadata": {},
   "outputs": [
    {
     "name": "stdout",
     "output_type": "stream",
     "text": [
      "A = 100\n",
      "A After incrementing =\n",
      "<function increment.<locals>.<lambda> at 0x000001A2CB3AB3A0>\n"
     ]
    }
   ],
   "source": [
    "\n",
    "\n",
    "def increment(y):\n",
    "    return(lambda x:x+1)(y)  \n",
    "a =100\n",
    "print(\"A =\",a)\n",
    "print(\"A After incrementing =\")\n",
    "b = increment(a)\n",
    "print(b)\n",
    "'''\n",
    "#(lambda x: x + 1) is defined and immediately called with the argument y\n",
    "A lambda function is an anonymous function\n",
    "def temp(x):\n",
    "    return x + 1\n",
    "'''"
   ]
  },
  {
   "cell_type": "markdown",
   "metadata": {},
   "source": [
    "# Lambda function not assigned to any variable\n"
   ]
  },
  {
   "cell_type": "code",
   "execution_count": 3,
   "metadata": {},
   "outputs": [
    {
     "name": "stdout",
     "output_type": "stream",
     "text": [
      "18\n"
     ]
    }
   ],
   "source": [
    "print((lambda x:x*2)(9))  # 9 in pass fucntion argument"
   ]
  },
  {
   "cell_type": "markdown",
   "metadata": {},
   "source": [
    "# Program  that pass lambda function as an argument to a function "
   ]
  },
  {
   "cell_type": "code",
   "execution_count": 4,
   "metadata": {},
   "outputs": [
    {
     "name": "stdout",
     "output_type": "stream",
     "text": [
      "4\n",
      "6\n"
     ]
    }
   ],
   "source": [
    "def func(f,n):\n",
    "    print(f(n))\n",
    "twice = lambda x: x*2\n",
    "thrice = lambda x:x*3\n",
    "func(twice,2)\n",
    "func(thrice,2)\n",
    "\n",
    "    "
   ]
  },
  {
   "cell_type": "markdown",
   "metadata": {},
   "source": [
    "# WAP to swap two numbers"
   ]
  },
  {
   "cell_type": "code",
   "execution_count": 5,
   "metadata": {},
   "outputs": [
    {
     "name": "stdout",
     "output_type": "stream",
     "text": [
      "\n",
      " Enter the first  number 5\n",
      "\n",
      " Enter  the second number 6\n",
      "Before Swap swap:\n",
      "Frist Number : 5\n",
      "Second Number : 6\n",
      "After swap:\n",
      "Frist Number : 6\n",
      "Second Number : 5\n"
     ]
    }
   ],
   "source": [
    "def swap(a,b):\n",
    "    a,b = b,a\n",
    "    print(\"After swap:\")\n",
    "    print(\"Frist Number :\",a)\n",
    "    print(\"Second Number :\",b)\n",
    "a = input(\"\\n Enter the first  number \")\n",
    "b = input(\"\\n Enter  the second number \")\n",
    "print(\"Before Swap swap:\")\n",
    "print(\"Frist Number :\",a)\n",
    "print(\"Second Number :\",b)\n",
    "swap(a,b)\n"
   ]
  },
  {
   "cell_type": "markdown",
   "metadata": {},
   "source": [
    "# Assignment\n",
    "#  WAP to sum the series 1/1! + 4/2!+27/3! +...."
   ]
  },
  {
   "cell_type": "markdown",
   "metadata": {},
   "source": [
    "#  Recursive Function"
   ]
  },
  {
   "cell_type": "markdown",
   "metadata": {},
   "source": [
    "## Program to calcuate the factorial of number recursively"
   ]
  },
  {
   "cell_type": "code",
   "execution_count": 8,
   "metadata": {},
   "outputs": [
    {
     "name": "stdout",
     "output_type": "stream",
     "text": [
      "Enter the value of n6\n",
      "The factorial of 6 is 720\n"
     ]
    }
   ],
   "source": [
    "def fact(n):\n",
    "    if(n==1 or n==0):\n",
    "        return 1\n",
    "    else:\n",
    "        return (n*fact(n-1))\n",
    "n  = int(input(\"Enter the value of n\"))\n",
    "print(\"The factorial of\",n,\"is\",fact(n))"
   ]
  },
  {
   "cell_type": "markdown",
   "metadata": {},
   "source": [
    "# Program to  calculate GCD using recursive function"
   ]
  },
  {
   "cell_type": "code",
   "execution_count": 10,
   "metadata": {},
   "outputs": [
    {
     "name": "stdout",
     "output_type": "stream",
     "text": [
      "Enter the first number50\n",
      "Enter the second number10\n",
      "The GCD of numbe is 10\n"
     ]
    }
   ],
   "source": [
    "def GCD(x,y):\n",
    "    rem  = x%y\n",
    "    if(rem==0):\n",
    "        return y\n",
    "    else:\n",
    "        return GCD(y,rem)\n",
    "n = int(input(\"Enter the first number\"))\n",
    "m = int(input(\"Enter the second number\"))\n",
    "print(\"The GCD of numbe is\",GCD(n,m))\n"
   ]
  },
  {
   "cell_type": "markdown",
   "metadata": {},
   "source": [
    "# Assignment \n",
    "## WAP to calculate fibonacci series using recursion"
   ]
  },
  {
   "cell_type": "code",
   "execution_count": null,
   "metadata": {
    "collapsed": true,
    "jupyter": {
     "outputs_hidden": true
    }
   },
   "outputs": [],
   "source": []
  }
 ],
 "metadata": {
  "kernelspec": {
   "display_name": "Python [conda env:NTNU]",
   "language": "python",
   "name": "conda-env-NTNU-py"
  },
  "language_info": {
   "codemirror_mode": {
    "name": "ipython",
    "version": 3
   },
   "file_extension": ".py",
   "mimetype": "text/x-python",
   "name": "python",
   "nbconvert_exporter": "python",
   "pygments_lexer": "ipython3",
   "version": "3.8.16"
  }
 },
 "nbformat": 4,
 "nbformat_minor": 4
}
